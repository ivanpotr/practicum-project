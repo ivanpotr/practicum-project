{
 "cells": [
  {
   "cell_type": "markdown",
   "metadata": {},
   "source": [
    "# <center>Принятие решений в бизнесе</center>"
   ]
  },
  {
   "cell_type": "markdown",
   "metadata": {},
   "source": [
    "## Описание Проекта"
   ]
  },
  {
   "cell_type": "markdown",
   "metadata": {},
   "source": [
    "<b>Приоритизация гипотез и анализ A/B-теста</b><br>\n",
    "\n",
    "<b>Цель исследования</b><br>\n",
    "\n",
    "Вместе с отделом маркетинга вы подготовили список гипотез для увеличения выручки.<br>\n",
    "Приоритизируйте гипотезы, запустите A/B-тест и проанализируйте результаты.<br>\n",
    "\n",
    "<b>Ход исследования</b><br>\n",
    "\n",
    "Часть 1. Приоритизация гипотез<br>\n",
    "\n",
    "Примените фреймворк ICE для приоритизации гипотез. Отсортируйте их по убыванию приоритета.<br>\n",
    "Примените фреймворк RICE для приоритизации гипотез. Отсортируйте их по убыванию приоритета.<br>\n",
    "Укажите, как изменилась приоритизация гипотез при применении RICE вместо ICE. Объясните, почему так произошло.<br>\n",
    "\n",
    "Часть 2. Анализ A/B-теста<br>\n",
    "\n",
    "Постройте график кумулятивной выручки по группам. Сделайте выводы и предположения.<br>\n",
    "Постройте график кумулятивного среднего чека по группам. Сделайте выводы и предположения.<br>\n",
    "Постройте график относительного изменения кумулятивного среднего чека группы B к группе A. Сделайте выводы и предположения.<br>\n",
    "Постройте график кумулятивного среднего количества заказов по группам. Сделайте выводы и предположения.<br>\n",
    "Постройте график относительного изменения кумулятивного среднего количества заказов группы B к группе A. Сделайте выводы и предположения.<br>\n",
    "Постройте точечный график количества заказов по пользователям. Сделайте выводы и предположения.<br>\n",
    "Посчитайте 95-й и 99-й перцентили количества заказов на пользователя. Выберите границу для определения аномальных пользователей.<br>\n",
    "Постройте точечный график стоимостей заказов. Сделайте выводы и предположения.<br>\n",
    "Посчитайте 95-й и 99-й перцентили стоимости заказов. Выберите границу для определения аномальных заказов.<br>\n",
    "Посчитайте статистическую значимость различий в среднем количестве заказов между группами по «сырым» данным. Сделайте выводы и предположения.<br>\n",
    "Посчитайте статистическую значимость различий в среднем чеке заказа между группами по «сырым» данным. Сделайте выводы и предположения.<br>\n",
    "Посчитайте статистическую значимость различий в среднем количестве заказов между группами по «очищенным» данным. Сделайте выводы и предположения.<br>\n",
    "Посчитайте статистическую значимость различий в среднем чеке заказа между группами по «очищенным» данным. Сделайте выводы и предположения.<br>\n",
    "Примите решение по результатам теста и объясните его. Варианты решений: 1. Остановить тест, зафиксировать победу одной из групп. 2. Остановить тест, зафиксировать отсутствие различий между группами. 3. Продолжить тест.<br>\n",
    "\n",
    "\n"
   ]
  },
  {
   "cell_type": "markdown",
   "metadata": {},
   "source": [
    "## Описание данных"
   ]
  },
  {
   "cell_type": "markdown",
   "metadata": {},
   "source": [
    "<b>Данные для первой части</b><br>\n",
    "\n",
    "Файл `/datasets/hypothesis.csv` <br>\n",
    "\n",
    "`Hypothesis` — краткое описание гипотезы;<br>\n",
    "`Reach` — охват пользователей по 10-балльной шкале;<br>\n",
    "`Impact` — влияние на пользователей по 10-балльной шкале;<br>\n",
    "`Confidence` — уверенность в гипотезе по 10-балльной шкале;<br>\n",
    "`Efforts` — затраты ресурсов на проверку гипотезы по 10-балльной шкале. Чем больше значение Efforts, тем дороже проверка гипотезы.<br>\n",
    "\n",
    "\n",
    "<b>Данные для второй части</b><br>\n",
    "\n",
    "Файл `/datasets/orders.csv` <br>\n",
    "\n",
    "`transactionId` — идентификатор заказа;<br>\n",
    "`visitorId` — идентификатор пользователя, совершившего заказ;<br>\n",
    "`date` — дата, когда был совершён заказ;<br>\n",
    "`revenue` — выручка заказа;<br>\n",
    "`group` — группа A/B-теста, в которую попал заказ.<br>\n",
    "\n",
    "Файл `/datasets/visitors.csv`<br>\n",
    "\n",
    "`date` — дата;<br>\n",
    "`group` — группа A/B-теста; <br>\n",
    "`visitors` — количество пользователей в указанную дату в указанной группе A/B-теста<br>"
   ]
  },
  {
   "cell_type": "markdown",
   "metadata": {},
   "source": [
    "## Загрузите данные и подготовьте их к анализу"
   ]
  },
  {
   "cell_type": "code",
   "execution_count": 1,
   "metadata": {},
   "outputs": [],
   "source": [
    "#Иморт библиотек\n",
    "import pandas as pd\n",
    "import numpy as np\n",
    "import datetime as dt\n",
    "from matplotlib import pyplot as plt\n",
    "import seaborn as sns\n",
    "import warnings\n",
    "from scipy import stats as st\n",
    "warnings.filterwarnings('ignore')"
   ]
  },
  {
   "cell_type": "code",
   "execution_count": 2,
   "metadata": {},
   "outputs": [
    {
     "name": "stdout",
     "output_type": "stream",
     "text": [
      "Данные загружены\n"
     ]
    }
   ],
   "source": [
    "#Загрузка данных\n",
    "try:\n",
    "    hypothesis = pd.read_csv('https://code.s3.yandex.net/datasets/hypothesis.csv')\n",
    "    orders = pd.read_csv('https://code.s3.yandex.net/datasets/orders.csv')\n",
    "    visitors = pd.read_csv('https://code.s3.yandex.net/datasets/visitors.csv')\n",
    "    print('Данные загружены')\n",
    "except:\n",
    "        try:\n",
    "            hypothesis = pd.read_csv('/datasets/hypothesis.csv')\n",
    "            orders = pd.read_csv('/datasets/orders.csv')\n",
    "            visitors = pd.read_csv('/datasets/visitors.csv')\n",
    "            print('Данные загружены из локального источника')\n",
    "        except:\n",
    "            print('Данные не загружены')"
   ]
  },
  {
   "cell_type": "markdown",
   "metadata": {},
   "source": [
    "#### Обработка таблицы hypothesis"
   ]
  },
  {
   "cell_type": "code",
   "execution_count": 3,
   "metadata": {
    "scrolled": false
   },
   "outputs": [
    {
     "data": {
      "text/html": [
       "<div>\n",
       "<style scoped>\n",
       "    .dataframe tbody tr th:only-of-type {\n",
       "        vertical-align: middle;\n",
       "    }\n",
       "\n",
       "    .dataframe tbody tr th {\n",
       "        vertical-align: top;\n",
       "    }\n",
       "\n",
       "    .dataframe thead th {\n",
       "        text-align: right;\n",
       "    }\n",
       "</style>\n",
       "<table border=\"1\" class=\"dataframe\">\n",
       "  <thead>\n",
       "    <tr style=\"text-align: right;\">\n",
       "      <th></th>\n",
       "      <th>Hypothesis</th>\n",
       "      <th>Reach</th>\n",
       "      <th>Impact</th>\n",
       "      <th>Confidence</th>\n",
       "      <th>Efforts</th>\n",
       "    </tr>\n",
       "  </thead>\n",
       "  <tbody>\n",
       "    <tr>\n",
       "      <th>0</th>\n",
       "      <td>Добавить два новых канала привлечения трафика,...</td>\n",
       "      <td>3</td>\n",
       "      <td>10</td>\n",
       "      <td>8</td>\n",
       "      <td>6</td>\n",
       "    </tr>\n",
       "    <tr>\n",
       "      <th>1</th>\n",
       "      <td>Запустить собственную службу доставки, что сок...</td>\n",
       "      <td>2</td>\n",
       "      <td>5</td>\n",
       "      <td>4</td>\n",
       "      <td>10</td>\n",
       "    </tr>\n",
       "    <tr>\n",
       "      <th>2</th>\n",
       "      <td>Добавить блоки рекомендаций товаров на сайт ин...</td>\n",
       "      <td>8</td>\n",
       "      <td>3</td>\n",
       "      <td>7</td>\n",
       "      <td>3</td>\n",
       "    </tr>\n",
       "    <tr>\n",
       "      <th>3</th>\n",
       "      <td>Изменить структура категорий, что увеличит кон...</td>\n",
       "      <td>8</td>\n",
       "      <td>3</td>\n",
       "      <td>3</td>\n",
       "      <td>8</td>\n",
       "    </tr>\n",
       "    <tr>\n",
       "      <th>4</th>\n",
       "      <td>Изменить цвет фона главной страницы, чтобы уве...</td>\n",
       "      <td>3</td>\n",
       "      <td>1</td>\n",
       "      <td>1</td>\n",
       "      <td>1</td>\n",
       "    </tr>\n",
       "  </tbody>\n",
       "</table>\n",
       "</div>"
      ],
      "text/plain": [
       "                                          Hypothesis  Reach  Impact  \\\n",
       "0  Добавить два новых канала привлечения трафика,...      3      10   \n",
       "1  Запустить собственную службу доставки, что сок...      2       5   \n",
       "2  Добавить блоки рекомендаций товаров на сайт ин...      8       3   \n",
       "3  Изменить структура категорий, что увеличит кон...      8       3   \n",
       "4  Изменить цвет фона главной страницы, чтобы уве...      3       1   \n",
       "\n",
       "   Confidence  Efforts  \n",
       "0           8        6  \n",
       "1           4       10  \n",
       "2           7        3  \n",
       "3           3        8  \n",
       "4           1        1  "
      ]
     },
     "execution_count": 3,
     "metadata": {},
     "output_type": "execute_result"
    }
   ],
   "source": [
    "#Вывод первых пять строк\n",
    "hypothesis.head()"
   ]
  },
  {
   "cell_type": "code",
   "execution_count": 4,
   "metadata": {
    "scrolled": true
   },
   "outputs": [
    {
     "name": "stdout",
     "output_type": "stream",
     "text": [
      "<class 'pandas.core.frame.DataFrame'>\n",
      "RangeIndex: 9 entries, 0 to 8\n",
      "Data columns (total 5 columns):\n",
      " #   Column      Non-Null Count  Dtype \n",
      "---  ------      --------------  ----- \n",
      " 0   Hypothesis  9 non-null      object\n",
      " 1   Reach       9 non-null      int64 \n",
      " 2   Impact      9 non-null      int64 \n",
      " 3   Confidence  9 non-null      int64 \n",
      " 4   Efforts     9 non-null      int64 \n",
      "dtypes: int64(4), object(1)\n",
      "memory usage: 488.0+ bytes\n"
     ]
    }
   ],
   "source": [
    "#информация о датафрейме\n",
    "hypothesis.info()"
   ]
  },
  {
   "cell_type": "code",
   "execution_count": 5,
   "metadata": {},
   "outputs": [
    {
     "data": {
      "text/html": [
       "<style  type=\"text/css\" >\n",
       "#T_03cce_row0_col0,#T_03cce_row1_col0,#T_03cce_row2_col0,#T_03cce_row3_col0,#T_03cce_row4_col0{\n",
       "            background-color:  #fff5f0;\n",
       "            color:  #000000;\n",
       "        }</style><table id=\"T_03cce_\" ><thead>    <tr>        <th class=\"blank level0\" ></th>        <th class=\"col_heading level0 col0\" >0</th>    </tr></thead><tbody>\n",
       "                <tr>\n",
       "                        <th id=\"T_03cce_level0_row0\" class=\"row_heading level0 row0\" >Hypothesis</th>\n",
       "                        <td id=\"T_03cce_row0_col0\" class=\"data row0 col0\" >0.00%</td>\n",
       "            </tr>\n",
       "            <tr>\n",
       "                        <th id=\"T_03cce_level0_row1\" class=\"row_heading level0 row1\" >Reach</th>\n",
       "                        <td id=\"T_03cce_row1_col0\" class=\"data row1 col0\" >0.00%</td>\n",
       "            </tr>\n",
       "            <tr>\n",
       "                        <th id=\"T_03cce_level0_row2\" class=\"row_heading level0 row2\" >Impact</th>\n",
       "                        <td id=\"T_03cce_row2_col0\" class=\"data row2 col0\" >0.00%</td>\n",
       "            </tr>\n",
       "            <tr>\n",
       "                        <th id=\"T_03cce_level0_row3\" class=\"row_heading level0 row3\" >Confidence</th>\n",
       "                        <td id=\"T_03cce_row3_col0\" class=\"data row3 col0\" >0.00%</td>\n",
       "            </tr>\n",
       "            <tr>\n",
       "                        <th id=\"T_03cce_level0_row4\" class=\"row_heading level0 row4\" >Efforts</th>\n",
       "                        <td id=\"T_03cce_row4_col0\" class=\"data row4 col0\" >0.00%</td>\n",
       "            </tr>\n",
       "    </tbody></table>"
      ],
      "text/plain": [
       "<pandas.io.formats.style.Styler at 0x7fd26453af40>"
      ]
     },
     "execution_count": 5,
     "metadata": {},
     "output_type": "execute_result"
    }
   ],
   "source": [
    "#Поиск соотношения пропущенных значений в столбце\n",
    "pd.DataFrame(hypothesis.isna().mean()).style.background_gradient('Reds').format({0:'{:.2%}'})"
   ]
  },
  {
   "cell_type": "code",
   "execution_count": 6,
   "metadata": {},
   "outputs": [],
   "source": [
    "#Приведение к нижнему регистру название столбцов\n",
    "hypothesis.columns = hypothesis.columns.str.lower()"
   ]
  },
  {
   "cell_type": "code",
   "execution_count": 7,
   "metadata": {
    "scrolled": true
   },
   "outputs": [
    {
     "data": {
      "text/html": [
       "<div>\n",
       "<style scoped>\n",
       "    .dataframe tbody tr th:only-of-type {\n",
       "        vertical-align: middle;\n",
       "    }\n",
       "\n",
       "    .dataframe tbody tr th {\n",
       "        vertical-align: top;\n",
       "    }\n",
       "\n",
       "    .dataframe thead th {\n",
       "        text-align: right;\n",
       "    }\n",
       "</style>\n",
       "<table border=\"1\" class=\"dataframe\">\n",
       "  <thead>\n",
       "    <tr style=\"text-align: right;\">\n",
       "      <th></th>\n",
       "      <th>hypothesis</th>\n",
       "      <th>reach</th>\n",
       "      <th>impact</th>\n",
       "      <th>confidence</th>\n",
       "      <th>efforts</th>\n",
       "    </tr>\n",
       "  </thead>\n",
       "  <tbody>\n",
       "  </tbody>\n",
       "</table>\n",
       "</div>"
      ],
      "text/plain": [
       "Empty DataFrame\n",
       "Columns: [hypothesis, reach, impact, confidence, efforts]\n",
       "Index: []"
      ]
     },
     "execution_count": 7,
     "metadata": {},
     "output_type": "execute_result"
    }
   ],
   "source": [
    "#Вывод строк полных дубликатов\n",
    "hypothesis[hypothesis.duplicated(keep=False)]"
   ]
  },
  {
   "cell_type": "code",
   "execution_count": 8,
   "metadata": {
    "scrolled": true
   },
   "outputs": [
    {
     "data": {
      "text/html": [
       "<div>\n",
       "<style scoped>\n",
       "    .dataframe tbody tr th:only-of-type {\n",
       "        vertical-align: middle;\n",
       "    }\n",
       "\n",
       "    .dataframe tbody tr th {\n",
       "        vertical-align: top;\n",
       "    }\n",
       "\n",
       "    .dataframe thead th {\n",
       "        text-align: right;\n",
       "    }\n",
       "</style>\n",
       "<table border=\"1\" class=\"dataframe\">\n",
       "  <thead>\n",
       "    <tr style=\"text-align: right;\">\n",
       "      <th></th>\n",
       "      <th>hypothesis</th>\n",
       "    </tr>\n",
       "  </thead>\n",
       "  <tbody>\n",
       "    <tr>\n",
       "      <th>Добавить форму подписки на все основные страницы, чтобы собрать базу клиентов для email-рассылок</th>\n",
       "      <td>1</td>\n",
       "    </tr>\n",
       "    <tr>\n",
       "      <th>Добавить страницу отзывов клиентов о магазине, что позволит увеличить количество заказов</th>\n",
       "      <td>1</td>\n",
       "    </tr>\n",
       "    <tr>\n",
       "      <th>Изменить цвет фона главной страницы, чтобы увеличить вовлеченность пользователей</th>\n",
       "      <td>1</td>\n",
       "    </tr>\n",
       "    <tr>\n",
       "      <th>Изменить структура категорий, что увеличит конверсию, т.к. пользователи быстрее найдут нужный товар</th>\n",
       "      <td>1</td>\n",
       "    </tr>\n",
       "    <tr>\n",
       "      <th>Добавить блоки рекомендаций товаров на сайт интернет магазина, чтобы повысить конверсию и средний чек заказа</th>\n",
       "      <td>1</td>\n",
       "    </tr>\n",
       "    <tr>\n",
       "      <th>Запустить собственную службу доставки, что сократит срок доставки заказов</th>\n",
       "      <td>1</td>\n",
       "    </tr>\n",
       "    <tr>\n",
       "      <th>Добавить два новых канала привлечения трафика, что позволит привлекать на 30% больше пользователей</th>\n",
       "      <td>1</td>\n",
       "    </tr>\n",
       "    <tr>\n",
       "      <th>Показать на главной странице баннеры с актуальными акциями и распродажами, чтобы увеличить конверсию</th>\n",
       "      <td>1</td>\n",
       "    </tr>\n",
       "    <tr>\n",
       "      <th>Запустить акцию, дающую скидку на товар в день рождения</th>\n",
       "      <td>1</td>\n",
       "    </tr>\n",
       "  </tbody>\n",
       "</table>\n",
       "</div>"
      ],
      "text/plain": [
       "                                                    hypothesis\n",
       "Добавить форму подписки на все основные страниц...           1\n",
       "Добавить страницу отзывов клиентов о магазине, ...           1\n",
       "Изменить цвет фона главной страницы, чтобы увел...           1\n",
       "Изменить структура категорий, что увеличит конв...           1\n",
       "Добавить блоки рекомендаций товаров на сайт инт...           1\n",
       "Запустить собственную службу доставки, что сокр...           1\n",
       "Добавить два новых канала привлечения трафика, ...           1\n",
       "Показать на главной странице баннеры с актуальн...           1\n",
       "Запустить акцию, дающую скидку на товар в день ...           1"
      ]
     },
     "execution_count": 8,
     "metadata": {},
     "output_type": "execute_result"
    }
   ],
   "source": [
    "#Значения столбца hypothesis\n",
    "#pd.options.display.max_colwidth = 100\n",
    "hypothesis['hypothesis'].value_counts().to_frame()"
   ]
  },
  {
   "cell_type": "markdown",
   "metadata": {},
   "source": [
    "#### Обработка таблицы orders"
   ]
  },
  {
   "cell_type": "code",
   "execution_count": 9,
   "metadata": {},
   "outputs": [
    {
     "data": {
      "text/html": [
       "<div>\n",
       "<style scoped>\n",
       "    .dataframe tbody tr th:only-of-type {\n",
       "        vertical-align: middle;\n",
       "    }\n",
       "\n",
       "    .dataframe tbody tr th {\n",
       "        vertical-align: top;\n",
       "    }\n",
       "\n",
       "    .dataframe thead th {\n",
       "        text-align: right;\n",
       "    }\n",
       "</style>\n",
       "<table border=\"1\" class=\"dataframe\">\n",
       "  <thead>\n",
       "    <tr style=\"text-align: right;\">\n",
       "      <th></th>\n",
       "      <th>transactionId</th>\n",
       "      <th>visitorId</th>\n",
       "      <th>date</th>\n",
       "      <th>revenue</th>\n",
       "      <th>group</th>\n",
       "    </tr>\n",
       "  </thead>\n",
       "  <tbody>\n",
       "    <tr>\n",
       "      <th>0</th>\n",
       "      <td>3667963787</td>\n",
       "      <td>3312258926</td>\n",
       "      <td>2019-08-15</td>\n",
       "      <td>1650</td>\n",
       "      <td>B</td>\n",
       "    </tr>\n",
       "    <tr>\n",
       "      <th>1</th>\n",
       "      <td>2804400009</td>\n",
       "      <td>3642806036</td>\n",
       "      <td>2019-08-15</td>\n",
       "      <td>730</td>\n",
       "      <td>B</td>\n",
       "    </tr>\n",
       "    <tr>\n",
       "      <th>2</th>\n",
       "      <td>2961555356</td>\n",
       "      <td>4069496402</td>\n",
       "      <td>2019-08-15</td>\n",
       "      <td>400</td>\n",
       "      <td>A</td>\n",
       "    </tr>\n",
       "    <tr>\n",
       "      <th>3</th>\n",
       "      <td>3797467345</td>\n",
       "      <td>1196621759</td>\n",
       "      <td>2019-08-15</td>\n",
       "      <td>9759</td>\n",
       "      <td>B</td>\n",
       "    </tr>\n",
       "    <tr>\n",
       "      <th>4</th>\n",
       "      <td>2282983706</td>\n",
       "      <td>2322279887</td>\n",
       "      <td>2019-08-15</td>\n",
       "      <td>2308</td>\n",
       "      <td>B</td>\n",
       "    </tr>\n",
       "  </tbody>\n",
       "</table>\n",
       "</div>"
      ],
      "text/plain": [
       "   transactionId   visitorId        date  revenue group\n",
       "0     3667963787  3312258926  2019-08-15     1650     B\n",
       "1     2804400009  3642806036  2019-08-15      730     B\n",
       "2     2961555356  4069496402  2019-08-15      400     A\n",
       "3     3797467345  1196621759  2019-08-15     9759     B\n",
       "4     2282983706  2322279887  2019-08-15     2308     B"
      ]
     },
     "execution_count": 9,
     "metadata": {},
     "output_type": "execute_result"
    }
   ],
   "source": [
    "#Вывод первых пять строк\n",
    "orders.head()"
   ]
  },
  {
   "cell_type": "code",
   "execution_count": 10,
   "metadata": {
    "scrolled": true
   },
   "outputs": [
    {
     "name": "stdout",
     "output_type": "stream",
     "text": [
      "<class 'pandas.core.frame.DataFrame'>\n",
      "RangeIndex: 1197 entries, 0 to 1196\n",
      "Data columns (total 5 columns):\n",
      " #   Column         Non-Null Count  Dtype \n",
      "---  ------         --------------  ----- \n",
      " 0   transactionId  1197 non-null   int64 \n",
      " 1   visitorId      1197 non-null   int64 \n",
      " 2   date           1197 non-null   object\n",
      " 3   revenue        1197 non-null   int64 \n",
      " 4   group          1197 non-null   object\n",
      "dtypes: int64(3), object(2)\n",
      "memory usage: 46.9+ KB\n"
     ]
    }
   ],
   "source": [
    "#информация о датафрейме\n",
    "orders.info()"
   ]
  },
  {
   "cell_type": "code",
   "execution_count": 11,
   "metadata": {
    "scrolled": true
   },
   "outputs": [
    {
     "data": {
      "text/html": [
       "<style  type=\"text/css\" >\n",
       "#T_26d5c_row0_col0,#T_26d5c_row1_col0,#T_26d5c_row2_col0,#T_26d5c_row3_col0,#T_26d5c_row4_col0{\n",
       "            background-color:  #fff5f0;\n",
       "            color:  #000000;\n",
       "        }</style><table id=\"T_26d5c_\" ><thead>    <tr>        <th class=\"blank level0\" ></th>        <th class=\"col_heading level0 col0\" >0</th>    </tr></thead><tbody>\n",
       "                <tr>\n",
       "                        <th id=\"T_26d5c_level0_row0\" class=\"row_heading level0 row0\" >transactionId</th>\n",
       "                        <td id=\"T_26d5c_row0_col0\" class=\"data row0 col0\" >0.00%</td>\n",
       "            </tr>\n",
       "            <tr>\n",
       "                        <th id=\"T_26d5c_level0_row1\" class=\"row_heading level0 row1\" >visitorId</th>\n",
       "                        <td id=\"T_26d5c_row1_col0\" class=\"data row1 col0\" >0.00%</td>\n",
       "            </tr>\n",
       "            <tr>\n",
       "                        <th id=\"T_26d5c_level0_row2\" class=\"row_heading level0 row2\" >date</th>\n",
       "                        <td id=\"T_26d5c_row2_col0\" class=\"data row2 col0\" >0.00%</td>\n",
       "            </tr>\n",
       "            <tr>\n",
       "                        <th id=\"T_26d5c_level0_row3\" class=\"row_heading level0 row3\" >revenue</th>\n",
       "                        <td id=\"T_26d5c_row3_col0\" class=\"data row3 col0\" >0.00%</td>\n",
       "            </tr>\n",
       "            <tr>\n",
       "                        <th id=\"T_26d5c_level0_row4\" class=\"row_heading level0 row4\" >group</th>\n",
       "                        <td id=\"T_26d5c_row4_col0\" class=\"data row4 col0\" >0.00%</td>\n",
       "            </tr>\n",
       "    </tbody></table>"
      ],
      "text/plain": [
       "<pandas.io.formats.style.Styler at 0x7fd2643d8340>"
      ]
     },
     "execution_count": 11,
     "metadata": {},
     "output_type": "execute_result"
    }
   ],
   "source": [
    "#Поиск соотношения пропущенных значений в столбце\n",
    "pd.DataFrame(orders.isna().mean()).style.background_gradient('Reds').format({0:'{:.2%}'})"
   ]
  },
  {
   "cell_type": "code",
   "execution_count": 12,
   "metadata": {},
   "outputs": [],
   "source": [
    "#Приведение к нижнему регистру название столбцов\n",
    "orders.columns = orders.columns.str.lower()"
   ]
  },
  {
   "cell_type": "code",
   "execution_count": 13,
   "metadata": {},
   "outputs": [],
   "source": [
    "# Изменение тип данных\n",
    "orders['date'] = pd.to_datetime(orders['date'])"
   ]
  },
  {
   "cell_type": "code",
   "execution_count": 14,
   "metadata": {},
   "outputs": [
    {
     "data": {
      "text/html": [
       "<div>\n",
       "<style scoped>\n",
       "    .dataframe tbody tr th:only-of-type {\n",
       "        vertical-align: middle;\n",
       "    }\n",
       "\n",
       "    .dataframe tbody tr th {\n",
       "        vertical-align: top;\n",
       "    }\n",
       "\n",
       "    .dataframe thead th {\n",
       "        text-align: right;\n",
       "    }\n",
       "</style>\n",
       "<table border=\"1\" class=\"dataframe\">\n",
       "  <thead>\n",
       "    <tr style=\"text-align: right;\">\n",
       "      <th></th>\n",
       "      <th>transactionid</th>\n",
       "      <th>visitorid</th>\n",
       "      <th>date</th>\n",
       "      <th>revenue</th>\n",
       "      <th>group</th>\n",
       "    </tr>\n",
       "  </thead>\n",
       "  <tbody>\n",
       "  </tbody>\n",
       "</table>\n",
       "</div>"
      ],
      "text/plain": [
       "Empty DataFrame\n",
       "Columns: [transactionid, visitorid, date, revenue, group]\n",
       "Index: []"
      ]
     },
     "execution_count": 14,
     "metadata": {},
     "output_type": "execute_result"
    }
   ],
   "source": [
    "#Вывод строк полных дубликатов\n",
    "orders[orders.duplicated(keep=False)]"
   ]
  },
  {
   "cell_type": "code",
   "execution_count": 15,
   "metadata": {},
   "outputs": [
    {
     "data": {
      "text/plain": [
       "1658608862    1\n",
       "2211880073    1\n",
       "3913205113    1\n",
       "437656952     1\n",
       "3592105335    1\n",
       "             ..\n",
       "2872509092    1\n",
       "2013919907    1\n",
       "3154167297    1\n",
       "2960804513    1\n",
       "4281129020    1\n",
       "Name: transactionid, Length: 1197, dtype: int64"
      ]
     },
     "execution_count": 15,
     "metadata": {},
     "output_type": "execute_result"
    }
   ],
   "source": [
    "#Значения столбца transactionid\n",
    "orders['transactionid'].value_counts()"
   ]
  },
  {
   "cell_type": "code",
   "execution_count": 16,
   "metadata": {
    "scrolled": true
   },
   "outputs": [
    {
     "data": {
      "text/plain": [
       "4256040402    11\n",
       "2458001652    11\n",
       "2378935119     9\n",
       "2038680547     8\n",
       "199603092      5\n",
       "              ..\n",
       "2406916810     1\n",
       "1255412427     1\n",
       "3866069709     1\n",
       "54447517       1\n",
       "3013339133     1\n",
       "Name: visitorid, Length: 1031, dtype: int64"
      ]
     },
     "execution_count": 16,
     "metadata": {},
     "output_type": "execute_result"
    }
   ],
   "source": [
    "#Значения столбца visitorid\n",
    "orders['visitorid'].value_counts()"
   ]
  },
  {
   "cell_type": "code",
   "execution_count": 17,
   "metadata": {
    "scrolled": false
   },
   "outputs": [
    {
     "data": {
      "text/plain": [
       "count                    1197\n",
       "unique                     31\n",
       "top       2019-08-05 00:00:00\n",
       "freq                       48\n",
       "first     2019-08-01 00:00:00\n",
       "last      2019-08-31 00:00:00\n",
       "Name: date, dtype: object"
      ]
     },
     "execution_count": 17,
     "metadata": {},
     "output_type": "execute_result"
    }
   ],
   "source": [
    "#Значения столбца date\n",
    "orders['date'].describe()"
   ]
  },
  {
   "cell_type": "code",
   "execution_count": 18,
   "metadata": {
    "scrolled": true
   },
   "outputs": [
    {
     "data": {
      "text/plain": [
       "990       17\n",
       "890       13\n",
       "390       13\n",
       "1190      10\n",
       "400       10\n",
       "          ..\n",
       "6440       1\n",
       "45780      1\n",
       "725        1\n",
       "9800       1\n",
       "202740     1\n",
       "Name: revenue, Length: 713, dtype: int64"
      ]
     },
     "execution_count": 18,
     "metadata": {},
     "output_type": "execute_result"
    }
   ],
   "source": [
    "#Значения столбца revenue\n",
    "orders['revenue'].value_counts()"
   ]
  },
  {
   "cell_type": "code",
   "execution_count": 19,
   "metadata": {
    "scrolled": false
   },
   "outputs": [
    {
     "data": {
      "text/plain": [
       "B    640\n",
       "A    557\n",
       "Name: group, dtype: int64"
      ]
     },
     "execution_count": 19,
     "metadata": {},
     "output_type": "execute_result"
    }
   ],
   "source": [
    "#Значения столбца group\n",
    "orders['group'].value_counts()"
   ]
  },
  {
   "cell_type": "markdown",
   "metadata": {},
   "source": [
    "#### Обработка таблицы visitors"
   ]
  },
  {
   "cell_type": "code",
   "execution_count": 20,
   "metadata": {},
   "outputs": [
    {
     "data": {
      "text/html": [
       "<div>\n",
       "<style scoped>\n",
       "    .dataframe tbody tr th:only-of-type {\n",
       "        vertical-align: middle;\n",
       "    }\n",
       "\n",
       "    .dataframe tbody tr th {\n",
       "        vertical-align: top;\n",
       "    }\n",
       "\n",
       "    .dataframe thead th {\n",
       "        text-align: right;\n",
       "    }\n",
       "</style>\n",
       "<table border=\"1\" class=\"dataframe\">\n",
       "  <thead>\n",
       "    <tr style=\"text-align: right;\">\n",
       "      <th></th>\n",
       "      <th>date</th>\n",
       "      <th>group</th>\n",
       "      <th>visitors</th>\n",
       "    </tr>\n",
       "  </thead>\n",
       "  <tbody>\n",
       "    <tr>\n",
       "      <th>0</th>\n",
       "      <td>2019-08-01</td>\n",
       "      <td>A</td>\n",
       "      <td>719</td>\n",
       "    </tr>\n",
       "    <tr>\n",
       "      <th>1</th>\n",
       "      <td>2019-08-02</td>\n",
       "      <td>A</td>\n",
       "      <td>619</td>\n",
       "    </tr>\n",
       "    <tr>\n",
       "      <th>2</th>\n",
       "      <td>2019-08-03</td>\n",
       "      <td>A</td>\n",
       "      <td>507</td>\n",
       "    </tr>\n",
       "    <tr>\n",
       "      <th>3</th>\n",
       "      <td>2019-08-04</td>\n",
       "      <td>A</td>\n",
       "      <td>717</td>\n",
       "    </tr>\n",
       "    <tr>\n",
       "      <th>4</th>\n",
       "      <td>2019-08-05</td>\n",
       "      <td>A</td>\n",
       "      <td>756</td>\n",
       "    </tr>\n",
       "  </tbody>\n",
       "</table>\n",
       "</div>"
      ],
      "text/plain": [
       "         date group  visitors\n",
       "0  2019-08-01     A       719\n",
       "1  2019-08-02     A       619\n",
       "2  2019-08-03     A       507\n",
       "3  2019-08-04     A       717\n",
       "4  2019-08-05     A       756"
      ]
     },
     "execution_count": 20,
     "metadata": {},
     "output_type": "execute_result"
    }
   ],
   "source": [
    "#Вывод первых пять строк\n",
    "visitors.head()"
   ]
  },
  {
   "cell_type": "code",
   "execution_count": 21,
   "metadata": {
    "scrolled": true
   },
   "outputs": [
    {
     "name": "stdout",
     "output_type": "stream",
     "text": [
      "<class 'pandas.core.frame.DataFrame'>\n",
      "RangeIndex: 62 entries, 0 to 61\n",
      "Data columns (total 3 columns):\n",
      " #   Column    Non-Null Count  Dtype \n",
      "---  ------    --------------  ----- \n",
      " 0   date      62 non-null     object\n",
      " 1   group     62 non-null     object\n",
      " 2   visitors  62 non-null     int64 \n",
      "dtypes: int64(1), object(2)\n",
      "memory usage: 1.6+ KB\n"
     ]
    }
   ],
   "source": [
    "#информация о датафрейме\n",
    "visitors.info()"
   ]
  },
  {
   "cell_type": "code",
   "execution_count": 22,
   "metadata": {},
   "outputs": [
    {
     "data": {
      "text/html": [
       "<style  type=\"text/css\" >\n",
       "#T_bacbe_row0_col0,#T_bacbe_row1_col0,#T_bacbe_row2_col0{\n",
       "            background-color:  #fff5f0;\n",
       "            color:  #000000;\n",
       "        }</style><table id=\"T_bacbe_\" ><thead>    <tr>        <th class=\"blank level0\" ></th>        <th class=\"col_heading level0 col0\" >0</th>    </tr></thead><tbody>\n",
       "                <tr>\n",
       "                        <th id=\"T_bacbe_level0_row0\" class=\"row_heading level0 row0\" >date</th>\n",
       "                        <td id=\"T_bacbe_row0_col0\" class=\"data row0 col0\" >0.00%</td>\n",
       "            </tr>\n",
       "            <tr>\n",
       "                        <th id=\"T_bacbe_level0_row1\" class=\"row_heading level0 row1\" >group</th>\n",
       "                        <td id=\"T_bacbe_row1_col0\" class=\"data row1 col0\" >0.00%</td>\n",
       "            </tr>\n",
       "            <tr>\n",
       "                        <th id=\"T_bacbe_level0_row2\" class=\"row_heading level0 row2\" >visitors</th>\n",
       "                        <td id=\"T_bacbe_row2_col0\" class=\"data row2 col0\" >0.00%</td>\n",
       "            </tr>\n",
       "    </tbody></table>"
      ],
      "text/plain": [
       "<pandas.io.formats.style.Styler at 0x7fd26434f580>"
      ]
     },
     "execution_count": 22,
     "metadata": {},
     "output_type": "execute_result"
    }
   ],
   "source": [
    "#Поиск соотношения пропущенных значений в столбце\n",
    "pd.DataFrame(visitors.isna().mean()).style.background_gradient('Reds').format({0:'{:.2%}'})"
   ]
  },
  {
   "cell_type": "code",
   "execution_count": 23,
   "metadata": {},
   "outputs": [],
   "source": [
    "# Изменение тип данных\n",
    "visitors['date'] = pd.to_datetime(visitors['date'])"
   ]
  },
  {
   "cell_type": "code",
   "execution_count": 24,
   "metadata": {},
   "outputs": [
    {
     "data": {
      "text/html": [
       "<div>\n",
       "<style scoped>\n",
       "    .dataframe tbody tr th:only-of-type {\n",
       "        vertical-align: middle;\n",
       "    }\n",
       "\n",
       "    .dataframe tbody tr th {\n",
       "        vertical-align: top;\n",
       "    }\n",
       "\n",
       "    .dataframe thead th {\n",
       "        text-align: right;\n",
       "    }\n",
       "</style>\n",
       "<table border=\"1\" class=\"dataframe\">\n",
       "  <thead>\n",
       "    <tr style=\"text-align: right;\">\n",
       "      <th></th>\n",
       "      <th>date</th>\n",
       "      <th>group</th>\n",
       "      <th>visitors</th>\n",
       "    </tr>\n",
       "  </thead>\n",
       "  <tbody>\n",
       "  </tbody>\n",
       "</table>\n",
       "</div>"
      ],
      "text/plain": [
       "Empty DataFrame\n",
       "Columns: [date, group, visitors]\n",
       "Index: []"
      ]
     },
     "execution_count": 24,
     "metadata": {},
     "output_type": "execute_result"
    }
   ],
   "source": [
    "#Вывод строк полных дубликатов\n",
    "visitors[visitors.duplicated(keep=False)]"
   ]
  },
  {
   "cell_type": "code",
   "execution_count": 25,
   "metadata": {
    "scrolled": false
   },
   "outputs": [
    {
     "data": {
      "text/plain": [
       "count                      62\n",
       "unique                     31\n",
       "top       2019-08-27 00:00:00\n",
       "freq                        2\n",
       "first     2019-08-01 00:00:00\n",
       "last      2019-08-31 00:00:00\n",
       "Name: date, dtype: object"
      ]
     },
     "execution_count": 25,
     "metadata": {},
     "output_type": "execute_result"
    }
   ],
   "source": [
    "#Значения столбца date\n",
    "visitors['date'].describe()"
   ]
  },
  {
   "cell_type": "code",
   "execution_count": 26,
   "metadata": {
    "scrolled": false
   },
   "outputs": [
    {
     "data": {
      "text/plain": [
       "B    31\n",
       "A    31\n",
       "Name: group, dtype: int64"
      ]
     },
     "execution_count": 26,
     "metadata": {},
     "output_type": "execute_result"
    }
   ],
   "source": [
    "#Значения столбца group\n",
    "visitors['group'].value_counts()"
   ]
  },
  {
   "cell_type": "code",
   "execution_count": 27,
   "metadata": {},
   "outputs": [
    {
     "data": {
      "text/plain": [
       "610    2\n",
       "718    2\n",
       "654    2\n",
       "490    2\n",
       "609    1\n",
       "717    1\n",
       "719    1\n",
       "720    1\n",
       "721    1\n",
       "594    1\n",
       "722    1\n",
       "468    1\n",
       "595    1\n",
       "756    1\n",
       "735    1\n",
       "769    1\n",
       "711    1\n",
       "668    1\n",
       "487    1\n",
       "361    1\n",
       "746    1\n",
       "619    1\n",
       "748    1\n",
       "621    1\n",
       "369    1\n",
       "628    1\n",
       "709    1\n",
       "378    1\n",
       "507    1\n",
       "713    1\n",
       "581    1\n",
       "770    1\n",
       "413    1\n",
       "644    1\n",
       "646    1\n",
       "650    1\n",
       "395    1\n",
       "655    1\n",
       "737    1\n",
       "531    1\n",
       "502    1\n",
       "406    1\n",
       "667    1\n",
       "412    1\n",
       "543    1\n",
       "707    1\n",
       "544    1\n",
       "546    1\n",
       "676    1\n",
       "421    1\n",
       "617    1\n",
       "679    1\n",
       "560    1\n",
       "656    1\n",
       "699    1\n",
       "575    1\n",
       "577    1\n",
       "509    1\n",
       "Name: visitors, dtype: int64"
      ]
     },
     "execution_count": 27,
     "metadata": {},
     "output_type": "execute_result"
    }
   ],
   "source": [
    "#Значения столбца visitors\n",
    "visitors['visitors'].value_counts()"
   ]
  },
  {
   "cell_type": "markdown",
   "metadata": {},
   "source": [
    "### Вывод"
   ]
  },
  {
   "cell_type": "markdown",
   "metadata": {},
   "source": [
    "Дубликатов и пропущенных значений нету.<br>\n",
    "Название столбцов приведены к нижнему регистру.<br>\n",
    "Колонки с датами имеющие тип \"object\" преобразованы в \"datetime64\".<br>"
   ]
  },
  {
   "cell_type": "markdown",
   "metadata": {},
   "source": [
    "## Приоритезация гипотез"
   ]
  },
  {
   "cell_type": "markdown",
   "metadata": {},
   "source": [
    "### Примените фреймворк `ICE` для приоритизации гипотез. Отсортируйте их по убыванию приоритета."
   ]
  },
  {
   "cell_type": "code",
   "execution_count": 28,
   "metadata": {},
   "outputs": [
    {
     "data": {
      "text/html": [
       "<style  type=\"text/css\" >\n",
       "#T_c5b0d_row0_col1{\n",
       "            background-color:  #004529;\n",
       "            color:  #f1f1f1;\n",
       "        }#T_c5b0d_row1_col1{\n",
       "            background-color:  #12763d;\n",
       "            color:  #f1f1f1;\n",
       "        }#T_c5b0d_row2_col1{\n",
       "            background-color:  #369d54;\n",
       "            color:  #000000;\n",
       "        }#T_c5b0d_row3_col1{\n",
       "            background-color:  #89ce80;\n",
       "            color:  #000000;\n",
       "        }#T_c5b0d_row4_col1{\n",
       "            background-color:  #a4d98a;\n",
       "            color:  #000000;\n",
       "        }#T_c5b0d_row5_col1{\n",
       "            background-color:  #fbfdcf;\n",
       "            color:  #000000;\n",
       "        }#T_c5b0d_row6_col1{\n",
       "            background-color:  #feffde;\n",
       "            color:  #000000;\n",
       "        }#T_c5b0d_row7_col1{\n",
       "            background-color:  #feffe2;\n",
       "            color:  #000000;\n",
       "        }#T_c5b0d_row8_col1{\n",
       "            background-color:  #ffffe5;\n",
       "            color:  #000000;\n",
       "        }</style><table id=\"T_c5b0d_\" ><thead>    <tr>        <th class=\"blank level0\" ></th>        <th class=\"col_heading level0 col0\" >hypothesis</th>        <th class=\"col_heading level0 col1\" >ice</th>    </tr></thead><tbody>\n",
       "                <tr>\n",
       "                        <th id=\"T_c5b0d_level0_row0\" class=\"row_heading level0 row0\" >8</th>\n",
       "                        <td id=\"T_c5b0d_row0_col0\" class=\"data row0 col0\" >Запустить акцию, дающую скидку на товар в день рождения</td>\n",
       "                        <td id=\"T_c5b0d_row0_col1\" class=\"data row0 col1\" >16.20</td>\n",
       "            </tr>\n",
       "            <tr>\n",
       "                        <th id=\"T_c5b0d_level0_row1\" class=\"row_heading level0 row1\" >0</th>\n",
       "                        <td id=\"T_c5b0d_row1_col0\" class=\"data row1 col0\" >Добавить два новых канала привлечения трафика, что позволит привлекать на 30% больше пользователей</td>\n",
       "                        <td id=\"T_c5b0d_row1_col1\" class=\"data row1 col1\" >13.33</td>\n",
       "            </tr>\n",
       "            <tr>\n",
       "                        <th id=\"T_c5b0d_level0_row2\" class=\"row_heading level0 row2\" >7</th>\n",
       "                        <td id=\"T_c5b0d_row2_col0\" class=\"data row2 col0\" >Добавить форму подписки на все основные страницы, чтобы собрать базу клиентов для email-рассылок</td>\n",
       "                        <td id=\"T_c5b0d_row2_col1\" class=\"data row2 col1\" >11.20</td>\n",
       "            </tr>\n",
       "            <tr>\n",
       "                        <th id=\"T_c5b0d_level0_row3\" class=\"row_heading level0 row3\" >6</th>\n",
       "                        <td id=\"T_c5b0d_row3_col0\" class=\"data row3 col0\" >Показать на главной странице баннеры с актуальными акциями и распродажами, чтобы увеличить конверсию</td>\n",
       "                        <td id=\"T_c5b0d_row3_col1\" class=\"data row3 col1\" >8.00</td>\n",
       "            </tr>\n",
       "            <tr>\n",
       "                        <th id=\"T_c5b0d_level0_row4\" class=\"row_heading level0 row4\" >2</th>\n",
       "                        <td id=\"T_c5b0d_row4_col0\" class=\"data row4 col0\" >Добавить блоки рекомендаций товаров на сайт интернет магазина, чтобы повысить конверсию и средний чек заказа</td>\n",
       "                        <td id=\"T_c5b0d_row4_col1\" class=\"data row4 col1\" >7.00</td>\n",
       "            </tr>\n",
       "            <tr>\n",
       "                        <th id=\"T_c5b0d_level0_row5\" class=\"row_heading level0 row5\" >1</th>\n",
       "                        <td id=\"T_c5b0d_row5_col0\" class=\"data row5 col0\" >Запустить собственную службу доставки, что сократит срок доставки заказов</td>\n",
       "                        <td id=\"T_c5b0d_row5_col1\" class=\"data row5 col1\" >2.00</td>\n",
       "            </tr>\n",
       "            <tr>\n",
       "                        <th id=\"T_c5b0d_level0_row6\" class=\"row_heading level0 row6\" >5</th>\n",
       "                        <td id=\"T_c5b0d_row6_col0\" class=\"data row6 col0\" >Добавить страницу отзывов клиентов о магазине, что позволит увеличить количество заказов</td>\n",
       "                        <td id=\"T_c5b0d_row6_col1\" class=\"data row6 col1\" >1.33</td>\n",
       "            </tr>\n",
       "            <tr>\n",
       "                        <th id=\"T_c5b0d_level0_row7\" class=\"row_heading level0 row7\" >3</th>\n",
       "                        <td id=\"T_c5b0d_row7_col0\" class=\"data row7 col0\" >Изменить структура категорий, что увеличит конверсию, т.к. пользователи быстрее найдут нужный товар</td>\n",
       "                        <td id=\"T_c5b0d_row7_col1\" class=\"data row7 col1\" >1.12</td>\n",
       "            </tr>\n",
       "            <tr>\n",
       "                        <th id=\"T_c5b0d_level0_row8\" class=\"row_heading level0 row8\" >4</th>\n",
       "                        <td id=\"T_c5b0d_row8_col0\" class=\"data row8 col0\" >Изменить цвет фона главной страницы, чтобы увеличить вовлеченность пользователей</td>\n",
       "                        <td id=\"T_c5b0d_row8_col1\" class=\"data row8 col1\" >1.00</td>\n",
       "            </tr>\n",
       "    </tbody></table>"
      ],
      "text/plain": [
       "<pandas.io.formats.style.Styler at 0x7fd26434fb50>"
      ]
     },
     "execution_count": 28,
     "metadata": {},
     "output_type": "execute_result"
    }
   ],
   "source": [
    "hypothesis['ice'] = hypothesis.impact * hypothesis.confidence / hypothesis.efforts\n",
    "hypothesis.loc[:, ['hypothesis', 'ice']].sort_values(by='ice', ascending=False).style.format({'ice':'{:.2f}'})\\\n",
    ".background_gradient(cmap='YlGn', subset='ice')"
   ]
  },
  {
   "cell_type": "markdown",
   "metadata": {},
   "source": [
    "Наиболее перспективные гипотезы по ICE:<br>\n",
    "Запустить акцию, дающую скидку на товар в день рождения<br>\n",
    "Добавить два новых канала привлечения трафика, что позволит привлекать на 30% больше пользователей<br>\n",
    "Добавить форму подписки на все основные страницы, чтобы собрать базу клиентов для email-рассылок<br>\n",
    "Показать на главной странице баннеры с актуальными акциями и распродажами, чтобы увеличить конверсию<br>\n",
    "Добавить блоки рекомендаций товаров на сайт интернет магазина, чтобы повысить конверсию и средний чек заказа<br>"
   ]
  },
  {
   "cell_type": "markdown",
   "metadata": {},
   "source": [
    "### Примените фреймворк `RICE` для приоритизации гипотез. Отсортируйте их по убыванию приоритета."
   ]
  },
  {
   "cell_type": "code",
   "execution_count": 29,
   "metadata": {},
   "outputs": [
    {
     "data": {
      "text/html": [
       "<style  type=\"text/css\" >\n",
       "#T_9ce3c_row0_col1{\n",
       "            background-color:  #004529;\n",
       "            color:  #f1f1f1;\n",
       "        }#T_9ce3c_row1_col1{\n",
       "            background-color:  #7ec97b;\n",
       "            color:  #000000;\n",
       "        }#T_9ce3c_row2_col1,#T_9ce3c_row3_col1{\n",
       "            background-color:  #bae394;\n",
       "            color:  #000000;\n",
       "        }#T_9ce3c_row4_col1{\n",
       "            background-color:  #f7fcba;\n",
       "            color:  #000000;\n",
       "        }#T_9ce3c_row5_col1{\n",
       "            background-color:  #fbfed2;\n",
       "            color:  #000000;\n",
       "        }#T_9ce3c_row6_col1,#T_9ce3c_row7_col1{\n",
       "            background-color:  #feffe2;\n",
       "            color:  #000000;\n",
       "        }#T_9ce3c_row8_col1{\n",
       "            background-color:  #ffffe5;\n",
       "            color:  #000000;\n",
       "        }</style><table id=\"T_9ce3c_\" ><thead>    <tr>        <th class=\"blank level0\" ></th>        <th class=\"col_heading level0 col0\" >hypothesis</th>        <th class=\"col_heading level0 col1\" >rice</th>    </tr></thead><tbody>\n",
       "                <tr>\n",
       "                        <th id=\"T_9ce3c_level0_row0\" class=\"row_heading level0 row0\" >7</th>\n",
       "                        <td id=\"T_9ce3c_row0_col0\" class=\"data row0 col0\" >Добавить форму подписки на все основные страницы, чтобы собрать базу клиентов для email-рассылок</td>\n",
       "                        <td id=\"T_9ce3c_row0_col1\" class=\"data row0 col1\" >112.00</td>\n",
       "            </tr>\n",
       "            <tr>\n",
       "                        <th id=\"T_9ce3c_level0_row1\" class=\"row_heading level0 row1\" >2</th>\n",
       "                        <td id=\"T_9ce3c_row1_col0\" class=\"data row1 col0\" >Добавить блоки рекомендаций товаров на сайт интернет магазина, чтобы повысить конверсию и средний чек заказа</td>\n",
       "                        <td id=\"T_9ce3c_row1_col1\" class=\"data row1 col1\" >56.00</td>\n",
       "            </tr>\n",
       "            <tr>\n",
       "                        <th id=\"T_9ce3c_level0_row2\" class=\"row_heading level0 row2\" >0</th>\n",
       "                        <td id=\"T_9ce3c_row2_col0\" class=\"data row2 col0\" >Добавить два новых канала привлечения трафика, что позволит привлекать на 30% больше пользователей</td>\n",
       "                        <td id=\"T_9ce3c_row2_col1\" class=\"data row2 col1\" >40.00</td>\n",
       "            </tr>\n",
       "            <tr>\n",
       "                        <th id=\"T_9ce3c_level0_row3\" class=\"row_heading level0 row3\" >6</th>\n",
       "                        <td id=\"T_9ce3c_row3_col0\" class=\"data row3 col0\" >Показать на главной странице баннеры с актуальными акциями и распродажами, чтобы увеличить конверсию</td>\n",
       "                        <td id=\"T_9ce3c_row3_col1\" class=\"data row3 col1\" >40.00</td>\n",
       "            </tr>\n",
       "            <tr>\n",
       "                        <th id=\"T_9ce3c_level0_row4\" class=\"row_heading level0 row4\" >8</th>\n",
       "                        <td id=\"T_9ce3c_row4_col0\" class=\"data row4 col0\" >Запустить акцию, дающую скидку на товар в день рождения</td>\n",
       "                        <td id=\"T_9ce3c_row4_col1\" class=\"data row4 col1\" >16.20</td>\n",
       "            </tr>\n",
       "            <tr>\n",
       "                        <th id=\"T_9ce3c_level0_row5\" class=\"row_heading level0 row5\" >3</th>\n",
       "                        <td id=\"T_9ce3c_row5_col0\" class=\"data row5 col0\" >Изменить структура категорий, что увеличит конверсию, т.к. пользователи быстрее найдут нужный товар</td>\n",
       "                        <td id=\"T_9ce3c_row5_col1\" class=\"data row5 col1\" >9.00</td>\n",
       "            </tr>\n",
       "            <tr>\n",
       "                        <th id=\"T_9ce3c_level0_row6\" class=\"row_heading level0 row6\" >1</th>\n",
       "                        <td id=\"T_9ce3c_row6_col0\" class=\"data row6 col0\" >Запустить собственную службу доставки, что сократит срок доставки заказов</td>\n",
       "                        <td id=\"T_9ce3c_row6_col1\" class=\"data row6 col1\" >4.00</td>\n",
       "            </tr>\n",
       "            <tr>\n",
       "                        <th id=\"T_9ce3c_level0_row7\" class=\"row_heading level0 row7\" >5</th>\n",
       "                        <td id=\"T_9ce3c_row7_col0\" class=\"data row7 col0\" >Добавить страницу отзывов клиентов о магазине, что позволит увеличить количество заказов</td>\n",
       "                        <td id=\"T_9ce3c_row7_col1\" class=\"data row7 col1\" >4.00</td>\n",
       "            </tr>\n",
       "            <tr>\n",
       "                        <th id=\"T_9ce3c_level0_row8\" class=\"row_heading level0 row8\" >4</th>\n",
       "                        <td id=\"T_9ce3c_row8_col0\" class=\"data row8 col0\" >Изменить цвет фона главной страницы, чтобы увеличить вовлеченность пользователей</td>\n",
       "                        <td id=\"T_9ce3c_row8_col1\" class=\"data row8 col1\" >3.00</td>\n",
       "            </tr>\n",
       "    </tbody></table>"
      ],
      "text/plain": [
       "<pandas.io.formats.style.Styler at 0x7fd2e41d8340>"
      ]
     },
     "execution_count": 29,
     "metadata": {},
     "output_type": "execute_result"
    }
   ],
   "source": [
    "hypothesis['rice'] = hypothesis.reach * hypothesis.impact * hypothesis.confidence / hypothesis.efforts\n",
    "hypothesis.loc[:, ['hypothesis', 'rice']].sort_values(by='rice', ascending=False).style.format({'rice':'{:.2f}'})\\\n",
    ".background_gradient(cmap='YlGn', subset='rice')"
   ]
  },
  {
   "cell_type": "markdown",
   "metadata": {},
   "source": [
    "Наиболее перспективные гипотезы по RICE:<br>\n",
    "Добавить форму подписки на все основные страницы, чтобы собрать базу клиентов для email-рассылок<br>\n",
    "Добавить блоки рекомендаций товаров на сайт интернет магазина, чтобы повысить конверсию и средний чек заказа<br>\n",
    "Добавить два новых канала привлечения трафика, что позволит привлекать на 30% больше пользователей<br>\n",
    "Показать на главной странице баннеры с актуальными акциями и распродажами, чтобы увеличить конверсию<br>\n",
    "Запустить акцию, дающую скидку на товар в день рождения<br>"
   ]
  },
  {
   "cell_type": "markdown",
   "metadata": {},
   "source": [
    "### Укажите, как изменилась приоритизация гипотез при применении `RICE` вместо `ICE`. Объясните, почему так произошло."
   ]
  },
  {
   "cell_type": "markdown",
   "metadata": {},
   "source": [
    "Первые пять гипотез совпадает по `ICE` и по `RICE`, но в разной последовательности. <br>\n",
    "`RICE` включает в себя еще один параметр `Reach`, который повлиял на перестановку гипотез по степени приоритетности. <br>\n",
    "<br>\n",
    "Гипотеза \"Запустить акцию, дающую скидку на товар в день рождения\" опустилась на пятое место по RICE. Данная акция доступна пользователям раз в год, что в значительной мере уменьшает охват или даже становится совсем не заметным.\n",
    "\n",
    "Гипотеза \"Добавить форму подписки на все основные страницы, чтобы собрать базу клиентов для email-рассылок\" поднялась с третьего на первое место. Данная акция затрагивает большое количество пользователей."
   ]
  },
  {
   "cell_type": "markdown",
   "metadata": {},
   "source": [
    "### Вывод"
   ]
  },
  {
   "cell_type": "markdown",
   "metadata": {},
   "source": [
    "Для анализа A/B-теста лучше использовать гипотезы с наибольшем количеством набранных баллов по `Rice`.\n"
   ]
  },
  {
   "cell_type": "markdown",
   "metadata": {},
   "source": [
    "## Анализ A/B-теста"
   ]
  },
  {
   "cell_type": "markdown",
   "metadata": {},
   "source": [
    "#### Проверка размер групп в выборке"
   ]
  },
  {
   "cell_type": "code",
   "execution_count": 30,
   "metadata": {},
   "outputs": [
    {
     "name": "stdout",
     "output_type": "stream",
     "text": [
      "P-value:0.7301376549390499\n",
      "Вывод о различии сделать нельзя\n"
     ]
    }
   ],
   "source": [
    "purchasesA = len(orders[orders['group']=='A'])\n",
    "purchasesB = len(orders[orders['group']=='B'])\n",
    "\n",
    "results = st.mannwhitneyu(visitors[visitors['group']=='A']['visitors'], visitors[visitors['group']=='B']['visitors'])\n",
    "alpha = 0.05\n",
    "print(f'P-value:{results.pvalue}')\n",
    "if results.pvalue < alpha:\n",
    "    print('Разница статистически значима')\n",
    "else:\n",
    "    print('Вывод о различии сделать нельзя')"
   ]
  },
  {
   "cell_type": "markdown",
   "metadata": {},
   "source": [
    "#### Создания кумулятивных данных"
   ]
  },
  {
   "cell_type": "code",
   "execution_count": 31,
   "metadata": {},
   "outputs": [
    {
     "data": {
      "text/html": [
       "<div>\n",
       "<style scoped>\n",
       "    .dataframe tbody tr th:only-of-type {\n",
       "        vertical-align: middle;\n",
       "    }\n",
       "\n",
       "    .dataframe tbody tr th {\n",
       "        vertical-align: top;\n",
       "    }\n",
       "\n",
       "    .dataframe thead th {\n",
       "        text-align: right;\n",
       "    }\n",
       "</style>\n",
       "<table border=\"1\" class=\"dataframe\">\n",
       "  <thead>\n",
       "    <tr style=\"text-align: right;\">\n",
       "      <th></th>\n",
       "      <th>date</th>\n",
       "      <th>group</th>\n",
       "      <th>orders</th>\n",
       "      <th>buyers</th>\n",
       "      <th>revenue</th>\n",
       "      <th>visitors</th>\n",
       "    </tr>\n",
       "  </thead>\n",
       "  <tbody>\n",
       "    <tr>\n",
       "      <th>0</th>\n",
       "      <td>2019-08-01</td>\n",
       "      <td>A</td>\n",
       "      <td>24</td>\n",
       "      <td>20</td>\n",
       "      <td>148579</td>\n",
       "      <td>719</td>\n",
       "    </tr>\n",
       "    <tr>\n",
       "      <th>1</th>\n",
       "      <td>2019-08-01</td>\n",
       "      <td>B</td>\n",
       "      <td>21</td>\n",
       "      <td>20</td>\n",
       "      <td>101217</td>\n",
       "      <td>713</td>\n",
       "    </tr>\n",
       "    <tr>\n",
       "      <th>2</th>\n",
       "      <td>2019-08-02</td>\n",
       "      <td>A</td>\n",
       "      <td>44</td>\n",
       "      <td>38</td>\n",
       "      <td>242401</td>\n",
       "      <td>1338</td>\n",
       "    </tr>\n",
       "    <tr>\n",
       "      <th>3</th>\n",
       "      <td>2019-08-02</td>\n",
       "      <td>B</td>\n",
       "      <td>45</td>\n",
       "      <td>43</td>\n",
       "      <td>266748</td>\n",
       "      <td>1294</td>\n",
       "    </tr>\n",
       "    <tr>\n",
       "      <th>4</th>\n",
       "      <td>2019-08-03</td>\n",
       "      <td>A</td>\n",
       "      <td>68</td>\n",
       "      <td>62</td>\n",
       "      <td>354874</td>\n",
       "      <td>1845</td>\n",
       "    </tr>\n",
       "  </tbody>\n",
       "</table>\n",
       "</div>"
      ],
      "text/plain": [
       "        date group  orders  buyers  revenue  visitors\n",
       "0 2019-08-01     A      24      20   148579       719\n",
       "1 2019-08-01     B      21      20   101217       713\n",
       "2 2019-08-02     A      44      38   242401      1338\n",
       "3 2019-08-02     B      45      43   266748      1294\n",
       "4 2019-08-03     A      68      62   354874      1845"
      ]
     },
     "execution_count": 31,
     "metadata": {},
     "output_type": "execute_result"
    }
   ],
   "source": [
    "# создание датафрейма datesGroups с уникальными парами значений 'date' и 'group', таблицы orders; удаление дубликатов\n",
    "datesGroups = orders[['date', 'group']].drop_duplicates()\n",
    "\n",
    "\n",
    "ordersAggregated = datesGroups.apply(\n",
    "    lambda x: orders[\n",
    "        np.logical_and(\n",
    "            orders['date'] <= x['date'], orders['group'] == x['group']\n",
    "        )\n",
    "    ].agg(\n",
    "        {\n",
    "            'date': 'max', # дата\n",
    "            'group': 'max', # группа A/B-теста\n",
    "            'transactionid': 'nunique', # число уникальных заказов в группе теста по указанную дату включительно\n",
    "            'visitorid': 'nunique', # число уникальных пользователей, совершивших хотя бы 1 заказ в группе теста\n",
    "            'revenue': 'sum', # суммарная выручка заказов в группе теста по указанную дату включительно\n",
    "        }\n",
    "    ),\n",
    "    axis=1,\n",
    ").sort_values(by=['date', 'group']) # сортировка по столбцам 'date', 'group'\n",
    "\n",
    "\n",
    "visitorsAggregated = datesGroups.apply(\n",
    "    lambda x: visitors[\n",
    "        np.logical_and(\n",
    "            visitors['date'] <= x['date'], visitors['group'] == x['group']\n",
    "        )\n",
    "    ].agg({'date': 'max', 'group': 'max', 'visitors': 'sum'}),\n",
    "    axis=1,\n",
    ").sort_values(by=['date', 'group'])\n",
    "\n",
    "# определение переменной по колонкам 'date', 'group' методом merge()\n",
    "cumulativeData = ordersAggregated.merge(\n",
    "    visitorsAggregated, left_on=['date', 'group'], right_on=['date', 'group']\n",
    ")\n",
    "\n",
    "# присвоение столбцам cumulativeData названия\n",
    "cumulativeData.columns = [\n",
    "    'date',\n",
    "    'group',\n",
    "    'orders', # количество покупок \n",
    "    'buyers', # количество покупателей \n",
    "    'revenue', # выручка \n",
    "    'visitors', # количество посетителей\n",
    "]\n",
    "\n",
    "cumulativeData.head(5)"
   ]
  },
  {
   "cell_type": "markdown",
   "metadata": {},
   "source": [
    "#### Проверка пользователей"
   ]
  },
  {
   "cell_type": "code",
   "execution_count": 32,
   "metadata": {},
   "outputs": [
    {
     "data": {
      "text/plain": [
       "array([   8300375,  199603092,  232979603,  237748145,  276558944,\n",
       "        351125977,  393266494,  457167155,  471551937,  477780734,\n",
       "        818047933,  963407295, 1230306981, 1294878855, 1316129916,\n",
       "       1333886533, 1404934699, 1602967004, 1614305549, 1648269707,\n",
       "       1668030113, 1738359350, 1801183820, 1959144690, 2038680547,\n",
       "       2044997962, 2378935119, 2458001652, 2579882178, 2587333274,\n",
       "       2600415354, 2654030115, 2686716486, 2712142231, 2716752286,\n",
       "       2780786433, 2927087541, 2949041841, 2954449915, 3062433592,\n",
       "       3202540741, 3234906277, 3656415546, 3717692402, 3766097110,\n",
       "       3803269165, 3891541246, 3941795274, 3951559397, 3957174400,\n",
       "       3963646447, 3972127743, 3984495233, 4069496402, 4120364173,\n",
       "       4186807279, 4256040402, 4266935830])"
      ]
     },
     "execution_count": 32,
     "metadata": {},
     "output_type": "execute_result"
    }
   ],
   "source": [
    "# отбираем группы из данных с заказами \n",
    "users_a=orders.query('group == \"A\"') \n",
    "users_b=orders.query('group == \"B\"') \n",
    "  \n",
    "# пользователи, попавших в обе группы \n",
    "np.intersect1d(users_a['visitorid'], users_b['visitorid'])"
   ]
  },
  {
   "cell_type": "markdown",
   "metadata": {},
   "source": [
    "58 пользователей, которые присутствуют в обоих группах."
   ]
  },
  {
   "cell_type": "markdown",
   "metadata": {},
   "source": [
    "### Постройте график кумулятивной выручки по группам. Сделайте выводы и предположения."
   ]
  },
  {
   "cell_type": "code",
   "execution_count": 33,
   "metadata": {},
   "outputs": [
    {
     "data": {
      "image/png": "[encoded data removed]",
      "text/plain": [
       "<Figure size 1080x360 with 1 Axes>"
      ]
     },
     "metadata": {
      "needs_background": "light"
     },
     "output_type": "display_data"
    }
   ],
   "source": [
    "# переменная с данными о датах, выручке и числе заказов в группе А\n",
    "cumulativeRevenueA = cumulativeData[cumulativeData['group'] == 'A'][['date', 'revenue', 'orders']]\n",
    "\n",
    "# переменная с данными о датах, выручке и числе заказов в группе В\n",
    "cumulativeRevenueB = cumulativeData[cumulativeData['group'] == 'B'][['date', 'revenue', 'orders']]\n",
    "\n",
    "# график кумулятивной выручки по группам\n",
    "plt.figure(figsize=(15,5))\n",
    "plt.grid()\n",
    "\n",
    "# строим график выручки группы А\n",
    "plt.plot(cumulativeRevenueA['date'], cumulativeRevenueA['revenue'], label='A')\n",
    "\n",
    "# строим график выручки группы B\n",
    "plt.plot(cumulativeRevenueB['date'], cumulativeRevenueB['revenue'], label='B')\n",
    "\n",
    "plt.tick_params(axis='x', which='major', labelsize=12, width=12)\n",
    "plt.title('График кумулятивной выручки по дням и группам A/B-тестирования', fontsize=21)\n",
    "plt.xlabel('Дата', fontsize=17)\n",
    "plt.ylabel('Выручка', fontsize=17)\n",
    "plt.legend()\n",
    "plt.show()"
   ]
  },
  {
   "cell_type": "markdown",
   "metadata": {},
   "source": [
    "В течение всего периода выручка группы B лежит выше, чем у группы A. С 19 августа выручка у сегмента В резко подскочила вверх."
   ]
  },
  {
   "cell_type": "code",
   "execution_count": 34,
   "metadata": {},
   "outputs": [
    {
     "data": {
      "text/html": [
       "<div>\n",
       "<style scoped>\n",
       "    .dataframe tbody tr th:only-of-type {\n",
       "        vertical-align: middle;\n",
       "    }\n",
       "\n",
       "    .dataframe tbody tr th {\n",
       "        vertical-align: top;\n",
       "    }\n",
       "\n",
       "    .dataframe thead th {\n",
       "        text-align: right;\n",
       "    }\n",
       "</style>\n",
       "<table border=\"1\" class=\"dataframe\">\n",
       "  <thead>\n",
       "    <tr style=\"text-align: right;\">\n",
       "      <th></th>\n",
       "      <th>transactionid</th>\n",
       "      <th>visitorid</th>\n",
       "      <th>date</th>\n",
       "      <th>revenue</th>\n",
       "      <th>group</th>\n",
       "    </tr>\n",
       "  </thead>\n",
       "  <tbody>\n",
       "    <tr>\n",
       "      <th>425</th>\n",
       "      <td>590470918</td>\n",
       "      <td>1920142716</td>\n",
       "      <td>2019-08-19</td>\n",
       "      <td>1294500</td>\n",
       "      <td>B</td>\n",
       "    </tr>\n",
       "    <tr>\n",
       "      <th>530</th>\n",
       "      <td>3970235543</td>\n",
       "      <td>2912540959</td>\n",
       "      <td>2019-08-19</td>\n",
       "      <td>43990</td>\n",
       "      <td>A</td>\n",
       "    </tr>\n",
       "    <tr>\n",
       "      <th>527</th>\n",
       "      <td>1570513684</td>\n",
       "      <td>2837914161</td>\n",
       "      <td>2019-08-19</td>\n",
       "      <td>33405</td>\n",
       "      <td>B</td>\n",
       "    </tr>\n",
       "  </tbody>\n",
       "</table>\n",
       "</div>"
      ],
      "text/plain": [
       "     transactionid   visitorid       date  revenue group\n",
       "425      590470918  1920142716 2019-08-19  1294500     B\n",
       "530     3970235543  2912540959 2019-08-19    43990     A\n",
       "527     1570513684  2837914161 2019-08-19    33405     B"
      ]
     },
     "execution_count": 34,
     "metadata": {},
     "output_type": "execute_result"
    }
   ],
   "source": [
    "orders.query('date == \"2019-08-19\"').sort_values(by='revenue', ascending=False).head(3)"
   ]
  },
  {
   "cell_type": "markdown",
   "metadata": {},
   "source": [
    "19 августа был совершен один большой заказ."
   ]
  },
  {
   "cell_type": "markdown",
   "metadata": {},
   "source": [
    "### Постройте график кумулятивного среднего чека по группам. Сделайте выводы и предположения."
   ]
  },
  {
   "cell_type": "code",
   "execution_count": 35,
   "metadata": {},
   "outputs": [
    {
     "data": {
      "image/png": "[encoded data removed]",
      "text/plain": [
       "<Figure size 1080x360 with 1 Axes>"
      ]
     },
     "metadata": {
      "needs_background": "light"
     },
     "output_type": "display_data"
    }
   ],
   "source": [
    "#Построим графики среднего чека по группам — разделим кумулятивную выручку на кумулятивное число заказов:\n",
    "plt.figure(figsize=(15,5))\n",
    "plt.grid()\n",
    "\n",
    "# cтроим отношение средних чеков\n",
    "plt.plot(cumulativeRevenueA['date'], cumulativeRevenueA['revenue']/cumulativeRevenueA['orders'], label = 'A')\n",
    "# cтроим отношение средних чеков\n",
    "plt.plot(cumulativeRevenueB['date'], cumulativeRevenueB['revenue']/cumulativeRevenueB['orders'], label = 'B')\n",
    "\n",
    "plt.tick_params(axis='x', which='major', labelsize=12)\n",
    "plt.title('График кумулятивного среднего чека по дням и группам A/B-тестирования', fontsize=21)\n",
    "plt.xlabel('Дата', fontsize=17)\n",
    "plt.ylabel('Средний чек', fontsize=17)\n",
    "plt.legend()\n",
    "plt.show()"
   ]
  },
  {
   "cell_type": "markdown",
   "metadata": {},
   "source": [
    "Cредний чек в группе B, почти всё время был выше. С 19 августа средний чек группы В резко подскочила вверх. Скорее всего, были чрезмерно крупные заказы, которые могут влиять на результаты."
   ]
  },
  {
   "cell_type": "markdown",
   "metadata": {},
   "source": [
    "### Постройте график относительного изменения кумулятивного среднего чека группы B к группе A. Сделайте выводы и предположения."
   ]
  },
  {
   "cell_type": "code",
   "execution_count": 36,
   "metadata": {},
   "outputs": [
    {
     "data": {
      "image/png": "[encoded data removed]",
      "text/plain": [
       "<Figure size 1080x360 with 1 Axes>"
      ]
     },
     "metadata": {
      "needs_background": "light"
     },
     "output_type": "display_data"
    }
   ],
   "source": [
    "# собираем данные в одном датафрейме\n",
    "mergedCumulativeRevenue = cumulativeRevenueA.merge(\\\n",
    "cumulativeRevenueB, left_on='date', right_on='date', how='left', suffixes=['A', 'B'])\n",
    "\n",
    "# cтроим отношение средних чеков\n",
    "plt.figure(figsize=(15,5))\n",
    "plt.plot(mergedCumulativeRevenue['date'],\\\n",
    "        (mergedCumulativeRevenue['revenueB']/mergedCumulativeRevenue['ordersB'])\\\n",
    "         /(mergedCumulativeRevenue['revenueA']/mergedCumulativeRevenue['ordersA'])-1)\n",
    "\n",
    "\n",
    "plt.tick_params(axis='x', which='major', labelsize=12)\n",
    "# добавляем ось X\n",
    "plt.axhline(y=0, color='black', linestyle = '--')\n",
    "plt.title('График относительного изменения кумулятивного среднего чека группы B к группе A', fontsize=18)\n",
    "plt.xlabel('Дата', fontsize=17)\n",
    "plt.ylabel('Средний чек', fontsize=17)\n",
    "plt.show()"
   ]
  },
  {
   "cell_type": "markdown",
   "metadata": {},
   "source": [
    "Результаты резко менялись в несколько раз. В одну из дат были совершены аномальные заказы в группе В."
   ]
  },
  {
   "cell_type": "markdown",
   "metadata": {},
   "source": [
    "### Постройте график кумулятивного среднего количества заказов по группам. Сделайте выводы и предположения."
   ]
  },
  {
   "cell_type": "code",
   "execution_count": 37,
   "metadata": {},
   "outputs": [
    {
     "data": {
      "image/png": "[encoded data removed]",
      "text/plain": [
       "<Figure size 1080x360 with 1 Axes>"
      ]
     },
     "metadata": {
      "needs_background": "light"
     },
     "output_type": "display_data"
    }
   ],
   "source": [
    "# среднеие количество заказов по группам\n",
    "cumulativeData['avg_orders'] = cumulativeData['orders']/cumulativeData['visitors']\n",
    "\n",
    "# отделяем данные по группе A\n",
    "cumulativeDataA = cumulativeData[cumulativeData['group']=='A']\n",
    "\n",
    "# отделяем данные по группе B\n",
    "cumulativeDataB = cumulativeData[cumulativeData['group']=='B']\n",
    "\n",
    "\n",
    "#Построим график кумулятивного среднего количества заказов по группам\n",
    "plt.figure(figsize=(15,5))\n",
    "plt.grid()\n",
    "\n",
    "# cтроим отношение средних чеков\n",
    "plt.plot(cumulativeDataA['date'], cumulativeDataA['avg_orders'], label='A')\n",
    "plt.plot(cumulativeDataB['date'], cumulativeDataB['avg_orders'], label='B')\n",
    "\n",
    "plt.tick_params(axis='x', which='major', labelsize=12)\n",
    "plt.title('График кумулятивного среднего количества заказов по группам', fontsize=21)\n",
    "plt.xlabel('Дата', fontsize=17)\n",
    "plt.ylabel('Среднее кол-во заказов', fontsize=17)\n",
    "plt.legend()\n",
    "plt.show()"
   ]
  },
  {
   "cell_type": "markdown",
   "metadata": {},
   "source": [
    "Группа B показывает большие количества заказов на притяжение большего времени, чем группа A."
   ]
  },
  {
   "cell_type": "markdown",
   "metadata": {},
   "source": [
    "### Постройте график относительного изменения кумулятивного среднего количества заказов группы B к группе A. Сделайте выводы и предположения."
   ]
  },
  {
   "cell_type": "code",
   "execution_count": 38,
   "metadata": {},
   "outputs": [
    {
     "data": {
      "image/png": "[encoded data removed]",
      "text/plain": [
       "<Figure size 1080x360 with 1 Axes>"
      ]
     },
     "metadata": {
      "needs_background": "light"
     },
     "output_type": "display_data"
    }
   ],
   "source": [
    "# собираем данные в одном датафрейме\n",
    "mergedCumulativeAVG = cumulativeDataA[['date','avg_orders']].merge(cumulativeDataB[['date','avg_orders']],\\\n",
    "left_on='date', right_on='date', how='left', suffixes=['A', 'B'])\n",
    "\n",
    "# cтроим отношение средних чеков\n",
    "plt.figure(figsize=(15,5))\n",
    "plt.plot(mergedCumulativeAVG['date'],\\\n",
    "         mergedCumulativeAVG['avg_ordersB']/mergedCumulativeAVG['avg_ordersA']-1)\n",
    "\n",
    "\n",
    "plt.tick_params(axis='x', which='major', labelsize=12)\n",
    "# добавляем ось X\n",
    "plt.axhline(y=0, color='black', linestyle = '--')\n",
    "plt.title('График относительного изменения кумулятивного среднего количества заказов группы B к группе A', fontsize=15)\n",
    "plt.xlabel('Дата', fontsize=17)\n",
    "plt.ylabel('Среднее кол-во заказов', fontsize=17)\n",
    "plt.show()"
   ]
  },
  {
   "cell_type": "markdown",
   "metadata": {},
   "source": [
    "Прирост среднего количества заказов в группе B стабильно лучше, чем в группе A."
   ]
  },
  {
   "cell_type": "markdown",
   "metadata": {},
   "source": [
    "### Постройте точечный график количества заказов по пользователям. Сделайте выводы и предположения."
   ]
  },
  {
   "cell_type": "code",
   "execution_count": 39,
   "metadata": {},
   "outputs": [
    {
     "data": {
      "image/png": "[encoded data removed]",
      "text/plain": [
       "<Figure size 1080x360 with 1 Axes>"
      ]
     },
     "metadata": {
      "needs_background": "light"
     },
     "output_type": "display_data"
    }
   ],
   "source": [
    "ordersByUsers = (orders.groupby('visitorid', as_index=False).agg({'transactionid': pd.Series.nunique}))\n",
    "ordersByUsers.columns = ['visitorId', 'orders']\n",
    "\n",
    "plt.figure(figsize=(15,5))\n",
    "\n",
    "# серия из чисел от 0 до количества наблюдений в ordersByUsers\n",
    "x_values = pd.Series(range(0, len(ordersByUsers)))\n",
    "plt.scatter(x_values, ordersByUsers['orders'])\n",
    "\n",
    "plt.title('Точечный график количества заказов по пользователям', fontsize=15)\n",
    "plt.ylabel('Количество заказов', fontsize=17)\n",
    "plt.show()"
   ]
  },
  {
   "cell_type": "markdown",
   "metadata": {},
   "source": [
    "Большинство пользователей не совершает более 2 заказов. Есть несколько пользователей, которые делали заказов свыше 10."
   ]
  },
  {
   "cell_type": "markdown",
   "metadata": {},
   "source": [
    "### Посчитайте 95-й и 99-й перцентили количества заказов на пользователя. Выберите границу для определения аномальных пользователей."
   ]
  },
  {
   "cell_type": "code",
   "execution_count": 40,
   "metadata": {},
   "outputs": [
    {
     "name": "stdout",
     "output_type": "stream",
     "text": [
      "[2. 4.]\n"
     ]
    }
   ],
   "source": [
    "print(np.percentile(ordersByUsers['orders'], [95, 99]))"
   ]
  },
  {
   "cell_type": "markdown",
   "metadata": {},
   "source": [
    "Больше 2 заказов совершают только 5% пользователей. Граница для определения аномальных пользователей - более 2 заказов."
   ]
  },
  {
   "cell_type": "markdown",
   "metadata": {},
   "source": [
    "### Постройте точечный график стоимостей заказов. Сделайте выводы и предположения."
   ]
  },
  {
   "cell_type": "code",
   "execution_count": 41,
   "metadata": {},
   "outputs": [
    {
     "data": {
      "image/png": "[encoded data removed]",
      "text/plain": [
       "<Figure size 1080x360 with 1 Axes>"
      ]
     },
     "metadata": {
      "needs_background": "light"
     },
     "output_type": "display_data"
    }
   ],
   "source": [
    "plt.figure(figsize=(15,5))\n",
    "\n",
    "# серия из чисел от 0 до количества наблюдений в orders\n",
    "x_values = pd.Series(range(0, len(orders)))\n",
    "plt.scatter(x_values, orders['revenue'])\n",
    "\n",
    "plt.title('Точечный график стоимостей заказов', fontsize=15)\n",
    "plt.ylabel('Стоимость заказа', fontsize=17)\n",
    "plt.show()"
   ]
  },
  {
   "cell_type": "code",
   "execution_count": 42,
   "metadata": {},
   "outputs": [
    {
     "data": {
      "image/png": "[encoded data removed]",
      "text/plain": [
       "<Figure size 1080x360 with 1 Axes>"
      ]
     },
     "metadata": {
      "needs_background": "light"
     },
     "output_type": "display_data"
    }
   ],
   "source": [
    "# Заказы стоимостью меньше 100000\n",
    "orders_m100 = orders[orders['revenue']<=100000]['revenue']\n",
    "plt.figure(figsize=(15,5))\n",
    "\n",
    "# серия из чисел от 0 до количества наблюдений в orders_m100\n",
    "x_values = pd.Series(range(0, len(orders_m100)))\n",
    "plt.scatter(x_values, orders_m100)\n",
    "\n",
    "plt.title('Точечный график стоимостей заказов меньше 100000', fontsize=15)\n",
    "plt.ylabel('Стоимость заказа', fontsize=17)\n",
    "plt.show()"
   ]
  },
  {
   "cell_type": "markdown",
   "metadata": {},
   "source": [
    "Большая часть заказов на суммой меньше 30000."
   ]
  },
  {
   "cell_type": "markdown",
   "metadata": {},
   "source": [
    "### Посчитайте 95-й и 99-й перцентили стоимости заказов. Выберите границу для определения аномальных заказов."
   ]
  },
  {
   "cell_type": "code",
   "execution_count": 43,
   "metadata": {},
   "outputs": [
    {
     "name": "stdout",
     "output_type": "stream",
     "text": [
      "[28000.  58233.2]\n"
     ]
    }
   ],
   "source": [
    "print(np.percentile(orders['revenue'], [95, 99])) "
   ]
  },
  {
   "cell_type": "markdown",
   "metadata": {},
   "source": [
    "Всего лишь 5% заказов дороже 28000. Граница для определения аномальных заказов - менее 28000. "
   ]
  },
  {
   "cell_type": "markdown",
   "metadata": {},
   "source": [
    "### Посчитайте статистическую значимость различий в среднем количестве заказов между группами по «сырым» данным. Сделайте выводы и предположения."
   ]
  },
  {
   "cell_type": "markdown",
   "metadata": {},
   "source": [
    "Нулевая гипотеза: различий в среднем количестве заказов между группами нет.\n",
    "\n",
    "Альтернативная гипотеза: различия в среднем количестве заказов между группами есть."
   ]
  },
  {
   "cell_type": "code",
   "execution_count": 44,
   "metadata": {},
   "outputs": [],
   "source": [
    "#Начнём с подготовки данных.\n",
    "visitorsADaily = visitors[visitors['group'] == 'A'][['date', 'visitors']]\n",
    "visitorsADaily.columns = ['date', 'visitorsPerDateA']\n",
    "\n",
    "visitorsACummulative = visitorsADaily.apply(\n",
    "    lambda x: visitorsADaily[visitorsADaily['date'] <= x['date']].agg(\n",
    "        {'date': 'max', 'visitorsPerDateA': 'sum'}\n",
    "    ),\n",
    "    axis=1,\n",
    ")\n",
    "visitorsACummulative.columns = ['date', 'visitorsCummulativeA']\n",
    "\n",
    "visitorsBDaily = visitors[visitors['group'] == 'B'][['date', 'visitors']]\n",
    "visitorsBDaily.columns = ['date', 'visitorsPerDateB']\n",
    "\n",
    "visitorsBCummulative = visitorsBDaily.apply(\n",
    "    lambda x: visitorsBDaily[visitorsBDaily['date'] <= x['date']].agg(\n",
    "        {'date': 'max', 'visitorsPerDateB': 'sum'}\n",
    "    ),\n",
    "    axis=1,\n",
    ")\n",
    "visitorsBCummulative.columns = ['date', 'visitorsCummulativeB']\n",
    "\n",
    "ordersADaily = (\n",
    "    orders[orders['group'] == 'A'][['date', 'transactionid', 'visitorid', 'revenue']]\n",
    "    .groupby('date', as_index=False)\n",
    "    .agg({'transactionid': pd.Series.nunique, 'revenue': 'sum'})\n",
    ")\n",
    "ordersADaily.columns = ['date', 'ordersPerDateA', 'revenuePerDateA']\n",
    "\n",
    "ordersACummulative = ordersADaily.apply(\n",
    "    lambda x: ordersADaily[ordersADaily['date'] <= x['date']].agg(\n",
    "        {'date': 'max', 'ordersPerDateA': 'sum', 'revenuePerDateA': 'sum'}\n",
    "    ),\n",
    "    axis=1,\n",
    ").sort_values(by=['date'])\n",
    "ordersACummulative.columns = [\n",
    "    'date',\n",
    "    'ordersCummulativeA',\n",
    "    'revenueCummulativeA',\n",
    "]\n",
    "\n",
    "ordersBDaily = (\n",
    "    orders[orders['group'] == 'B'][['date', 'transactionid', 'visitorid', 'revenue']]\n",
    "    .groupby('date', as_index=False)\n",
    "    .agg({'transactionid': pd.Series.nunique, 'revenue': 'sum'})\n",
    ")\n",
    "ordersBDaily.columns = ['date', 'ordersPerDateB', 'revenuePerDateB']\n",
    "\n",
    "ordersBCummulative = ordersBDaily.apply(\n",
    "    lambda x: ordersBDaily[ordersBDaily['date'] <= x['date']].agg(\n",
    "        {'date': 'max', 'ordersPerDateB': 'sum', 'revenuePerDateB': 'sum'}\n",
    "    ),\n",
    "    axis=1,\n",
    ").sort_values(by=['date'])\n",
    "ordersBCummulative.columns = [\n",
    "    'date',\n",
    "    'ordersCummulativeB',\n",
    "    'revenueCummulativeB',\n",
    "]\n",
    "#собрали в одну таблицу\n",
    "data = (\n",
    "    ordersADaily.merge(\n",
    "        ordersBDaily, left_on='date', right_on='date', how='left'\n",
    "    )\n",
    "    .merge(ordersACummulative, left_on='date', right_on='date', how='left')\n",
    "    .merge(ordersBCummulative, left_on='date', right_on='date', how='left')\n",
    "    .merge(visitorsADaily, left_on='date', right_on='date', how='left')\n",
    "    .merge(visitorsBDaily, left_on='date', right_on='date', how='left')\n",
    "    .merge(visitorsACummulative, left_on='date', right_on='date', how='left')\n",
    "    .merge(visitorsBCummulative, left_on='date', right_on='date', how='left')\n",
    ")"
   ]
  },
  {
   "cell_type": "code",
   "execution_count": 45,
   "metadata": {},
   "outputs": [
    {
     "data": {
      "text/html": [
       "<div>\n",
       "<style scoped>\n",
       "    .dataframe tbody tr th:only-of-type {\n",
       "        vertical-align: middle;\n",
       "    }\n",
       "\n",
       "    .dataframe tbody tr th {\n",
       "        vertical-align: top;\n",
       "    }\n",
       "\n",
       "    .dataframe thead th {\n",
       "        text-align: right;\n",
       "    }\n",
       "</style>\n",
       "<table border=\"1\" class=\"dataframe\">\n",
       "  <thead>\n",
       "    <tr style=\"text-align: right;\">\n",
       "      <th></th>\n",
       "      <th>date</th>\n",
       "      <th>ordersPerDateA</th>\n",
       "      <th>revenuePerDateA</th>\n",
       "      <th>ordersPerDateB</th>\n",
       "      <th>revenuePerDateB</th>\n",
       "      <th>ordersCummulativeA</th>\n",
       "      <th>revenueCummulativeA</th>\n",
       "      <th>ordersCummulativeB</th>\n",
       "      <th>revenueCummulativeB</th>\n",
       "      <th>visitorsPerDateA</th>\n",
       "      <th>visitorsPerDateB</th>\n",
       "      <th>visitorsCummulativeA</th>\n",
       "      <th>visitorsCummulativeB</th>\n",
       "    </tr>\n",
       "  </thead>\n",
       "  <tbody>\n",
       "    <tr>\n",
       "      <th>0</th>\n",
       "      <td>2019-08-01</td>\n",
       "      <td>24</td>\n",
       "      <td>148579</td>\n",
       "      <td>21</td>\n",
       "      <td>101217</td>\n",
       "      <td>24</td>\n",
       "      <td>148579</td>\n",
       "      <td>21</td>\n",
       "      <td>101217</td>\n",
       "      <td>719</td>\n",
       "      <td>713</td>\n",
       "      <td>719</td>\n",
       "      <td>713</td>\n",
       "    </tr>\n",
       "    <tr>\n",
       "      <th>1</th>\n",
       "      <td>2019-08-02</td>\n",
       "      <td>20</td>\n",
       "      <td>93822</td>\n",
       "      <td>24</td>\n",
       "      <td>165531</td>\n",
       "      <td>44</td>\n",
       "      <td>242401</td>\n",
       "      <td>45</td>\n",
       "      <td>266748</td>\n",
       "      <td>619</td>\n",
       "      <td>581</td>\n",
       "      <td>1338</td>\n",
       "      <td>1294</td>\n",
       "    </tr>\n",
       "    <tr>\n",
       "      <th>2</th>\n",
       "      <td>2019-08-03</td>\n",
       "      <td>24</td>\n",
       "      <td>112473</td>\n",
       "      <td>16</td>\n",
       "      <td>114248</td>\n",
       "      <td>68</td>\n",
       "      <td>354874</td>\n",
       "      <td>61</td>\n",
       "      <td>380996</td>\n",
       "      <td>507</td>\n",
       "      <td>509</td>\n",
       "      <td>1845</td>\n",
       "      <td>1803</td>\n",
       "    </tr>\n",
       "    <tr>\n",
       "      <th>3</th>\n",
       "      <td>2019-08-04</td>\n",
       "      <td>16</td>\n",
       "      <td>70825</td>\n",
       "      <td>17</td>\n",
       "      <td>108571</td>\n",
       "      <td>84</td>\n",
       "      <td>425699</td>\n",
       "      <td>78</td>\n",
       "      <td>489567</td>\n",
       "      <td>717</td>\n",
       "      <td>770</td>\n",
       "      <td>2562</td>\n",
       "      <td>2573</td>\n",
       "    </tr>\n",
       "    <tr>\n",
       "      <th>4</th>\n",
       "      <td>2019-08-05</td>\n",
       "      <td>25</td>\n",
       "      <td>124218</td>\n",
       "      <td>23</td>\n",
       "      <td>92428</td>\n",
       "      <td>109</td>\n",
       "      <td>549917</td>\n",
       "      <td>101</td>\n",
       "      <td>581995</td>\n",
       "      <td>756</td>\n",
       "      <td>707</td>\n",
       "      <td>3318</td>\n",
       "      <td>3280</td>\n",
       "    </tr>\n",
       "  </tbody>\n",
       "</table>\n",
       "</div>"
      ],
      "text/plain": [
       "        date  ordersPerDateA  revenuePerDateA  ordersPerDateB  \\\n",
       "0 2019-08-01              24           148579              21   \n",
       "1 2019-08-02              20            93822              24   \n",
       "2 2019-08-03              24           112473              16   \n",
       "3 2019-08-04              16            70825              17   \n",
       "4 2019-08-05              25           124218              23   \n",
       "\n",
       "   revenuePerDateB  ordersCummulativeA  revenueCummulativeA  \\\n",
       "0           101217                  24               148579   \n",
       "1           165531                  44               242401   \n",
       "2           114248                  68               354874   \n",
       "3           108571                  84               425699   \n",
       "4            92428                 109               549917   \n",
       "\n",
       "   ordersCummulativeB  revenueCummulativeB  visitorsPerDateA  \\\n",
       "0                  21               101217               719   \n",
       "1                  45               266748               619   \n",
       "2                  61               380996               507   \n",
       "3                  78               489567               717   \n",
       "4                 101               581995               756   \n",
       "\n",
       "   visitorsPerDateB  visitorsCummulativeA  visitorsCummulativeB  \n",
       "0               713                   719                   713  \n",
       "1               581                  1338                  1294  \n",
       "2               509                  1845                  1803  \n",
       "3               770                  2562                  2573  \n",
       "4               707                  3318                  3280  "
      ]
     },
     "execution_count": 45,
     "metadata": {},
     "output_type": "execute_result"
    }
   ],
   "source": [
    "data.head(5)"
   ]
  },
  {
   "cell_type": "code",
   "execution_count": 46,
   "metadata": {},
   "outputs": [
    {
     "name": "stdout",
     "output_type": "stream",
     "text": [
      "alpha = 0.05\n",
      "p-value = 0.017\n",
      "Относительный показатель 'B' и 'A' = 0.138\n"
     ]
    }
   ],
   "source": [
    "ordersByUsersA = (\n",
    "    orders[orders['group'] == 'A']\\\n",
    "    .groupby('visitorid', as_index=False)\\\n",
    "    .agg({'transactionid': pd.Series.nunique})\\\n",
    ")\n",
    "ordersByUsersA.columns = ['userid', 'orders']\n",
    "\n",
    "ordersByUsersB = (\n",
    "    orders[orders['group'] == 'B']\\\n",
    "    .groupby('visitorid', as_index=False)\\\n",
    "    .agg({'transactionid': pd.Series.nunique})\\\n",
    ")\n",
    "ordersByUsersB.columns = ['userid', 'orders']\n",
    "sampleA = pd.concat([ordersByUsersA['orders'],pd.Series(0, index=np.arange(data['visitorsPerDateA'].\\\n",
    "                                                        sum() - len(ordersByUsersA['orders'])),name='orders')],axis=0)\n",
    "\n",
    "sampleB = pd.concat([ordersByUsersB['orders'],pd.Series(0, index=np.arange(data['visitorsPerDateB'].\\\n",
    "                                                        sum() - len(ordersByUsersB['orders'])),name='orders')],axis=0)\n",
    "\n",
    "print(\"alpha =\",0.05)\n",
    "print(\"p-value = {0:.3f}\".format(st.mannwhitneyu(sampleA, sampleB)[1]))\n",
    "print(\"Относительный показатель 'B' и 'A' = {0:.3f}\".format(sampleB.mean() / sampleA.mean() - 1))"
   ]
  },
  {
   "cell_type": "markdown",
   "metadata": {},
   "source": [
    "p-value (0.017) меньше 0.05. Значит, различия между группами есть. Относительный прирост равен 13,8%."
   ]
  },
  {
   "cell_type": "markdown",
   "metadata": {},
   "source": [
    "### Посчитайте статистическую значимость различий в среднем чеке заказа между группами по «сырым» данным. Сделайте выводы и предположения."
   ]
  },
  {
   "cell_type": "markdown",
   "metadata": {},
   "source": [
    "Нулевая гипотеза: различий в среднем чеке между группами нет.\n",
    "\n",
    "Альтернативная гипотеза: различия в среднем чеке между группами есть."
   ]
  },
  {
   "cell_type": "code",
   "execution_count": 47,
   "metadata": {},
   "outputs": [
    {
     "name": "stdout",
     "output_type": "stream",
     "text": [
      "alpha = 0.05\n",
      "p-value = 0.729\n",
      "Относительный показатель 'B' и 'A' = 0.259\n"
     ]
    }
   ],
   "source": [
    "print(\"alpha =\",0.05)\n",
    "print('p-value = {0:.3f}'.format(st.mannwhitneyu(orders[orders['group']=='A']['revenue'],\\\n",
    "                                                 orders[orders['group']=='B']['revenue'])[1]))\n",
    "print(\"Относительный показатель 'B' и 'A' = {0:.3f}\".format(orders[orders['group']=='B']['revenue']\\\n",
    "                       .mean()/orders[orders['group']=='A']['revenue'].mean()-1)) "
   ]
  },
  {
   "cell_type": "markdown",
   "metadata": {},
   "source": [
    "p-value (0.729) больше 0,05. Значит статистически значимых отличий в среднем чеке между группами нет. Относительное различие среднего чека между сегментами - 25,9%."
   ]
  },
  {
   "cell_type": "markdown",
   "metadata": {},
   "source": [
    "### Очистка данных"
   ]
  },
  {
   "cell_type": "code",
   "execution_count": 48,
   "metadata": {},
   "outputs": [],
   "source": [
    "# заказы меньше 2\n",
    "usersWithManyOrders = pd.concat(\n",
    "    [\n",
    "        ordersByUsersA[ordersByUsersA['orders'] > np.percentile(ordersByUsers['orders'], 95)]['userid'],\n",
    "        ordersByUsersB[ordersByUsersB['orders'] > np.percentile(ordersByUsers['orders'], 95)]['userid'],\n",
    "    ],\n",
    "    axis=0,\n",
    ")\n",
    "\n",
    "# стоимость меньше 280000\n",
    "usersWithExpensiveOrders = orders[orders['revenue'] > np.percentile(orders['revenue'], 95)]['visitorid']\n",
    "abnormalUsers = (\n",
    "    pd.concat([usersWithManyOrders, usersWithExpensiveOrders], axis=0)\n",
    "    .drop_duplicates()\n",
    "    .sort_values()\n",
    ")"
   ]
  },
  {
   "cell_type": "markdown",
   "metadata": {},
   "source": [
    "За аномальных пользователей были приняты те, кто совершил 3 заказа и более.<br>\n",
    "Аномальные заказы на сумму свыше 28000."
   ]
  },
  {
   "cell_type": "markdown",
   "metadata": {},
   "source": [
    "### Посчитайте статистическую значимость различий в среднем количестве заказов между группами по «очищенным» данным. Сделайте выводы и предположения."
   ]
  },
  {
   "cell_type": "markdown",
   "metadata": {},
   "source": [
    "Нулевая гипотеза: различий в среднем количестве заказов между группами нет.\n",
    "\n",
    "Альтернативная гипотеза: различия в среднем количестве заказов между группами есть."
   ]
  },
  {
   "cell_type": "code",
   "execution_count": 49,
   "metadata": {},
   "outputs": [
    {
     "name": "stdout",
     "output_type": "stream",
     "text": [
      "alpha = 0.05\n",
      "p-value = 0.013\n",
      "Относительный показатель 'B' и 'A' = 0.173\n"
     ]
    }
   ],
   "source": [
    "sampleAFiltered = pd.concat([ordersByUsersA[np.logical_not(ordersByUsersA['userid'].isin(abnormalUsers))]['orders'],\\\n",
    "pd.Series(0,index=np.arange(data['visitorsPerDateA'].sum() - len(ordersByUsersA['orders'])),name='orders',),],axis=0,)\n",
    "\n",
    "sampleBFiltered = pd.concat([ordersByUsersB[np.logical_not(ordersByUsersB['userid'].isin(abnormalUsers))]['orders'],\\\n",
    "pd.Series(0,index=np.arange(data['visitorsPerDateB'].sum() - len(ordersByUsersB['orders'])),name='orders',),],axis=0,)\n",
    "\n",
    "print(\"alpha =\",0.05)\n",
    "print('p-value = {0:.3f}'.format(st.mannwhitneyu(sampleAFiltered, sampleBFiltered)[1]))\n",
    "print(\"Относительный показатель 'B' и 'A' = {0:.3f}\".format(sampleBFiltered.mean()/sampleAFiltered.mean()-1)) "
   ]
  },
  {
   "cell_type": "markdown",
   "metadata": {},
   "source": [
    "p-value (0.013) меньше 0.05. Значит, различия между группами есть. Относительный прирост равен 17,3%, лучше, чем до \"очистки\" данных."
   ]
  },
  {
   "cell_type": "markdown",
   "metadata": {},
   "source": [
    "### Посчитайте статистическую значимость различий в среднем чеке заказа между группами по «очищенным» данным. Сделайте выводы и предположения."
   ]
  },
  {
   "cell_type": "markdown",
   "metadata": {},
   "source": [
    "Нулевая гипотеза: различий в среднем чеке между группами нет.\n",
    "\n",
    "Альтернативная гипотеза: различия в среднем чеке между группами есть."
   ]
  },
  {
   "cell_type": "code",
   "execution_count": 50,
   "metadata": {},
   "outputs": [
    {
     "name": "stdout",
     "output_type": "stream",
     "text": [
      "alpha = 0.05\n",
      "p-value = 0.738\n",
      "Относительный показатель 'B' и 'A' = -0.020\n"
     ]
    }
   ],
   "source": [
    "print(\"alpha =\",0.05)\n",
    "print('p-value = {0:.3f}'.format(st.mannwhitneyu(orders[np.logical_and(orders['group'] == 'A',\\\n",
    "np.logical_not(orders['visitorid'].isin(abnormalUsers)),)]['revenue'], orders[np.logical_and(\\\n",
    "orders['group'] == 'B', np.logical_not(orders['visitorid'].isin(abnormalUsers)),)]['revenue'],)[1]))\n",
    "\n",
    "print(\"Относительный показатель 'B' и 'A' = {0:.3f}\".format(orders[np.logical_and(orders['group'] == 'B',\\\n",
    "np.logical_not(orders['visitorid'].isin(abnormalUsers)),)]['revenue'].mean() / orders[np.logical_and(orders['group'] == 'A',\\\n",
    "np.logical_not(orders['visitorid'].isin(abnormalUsers)),)]['revenue'].mean() - 1))"
   ]
  },
  {
   "cell_type": "markdown",
   "metadata": {},
   "source": [
    "p-value (0.738) оказался примерно на том же уровне. Значит статистически значимых отличий в среднем чеке между группами нет.<br>\n",
    "Средний чек у группы В снизился , группа А стала превосходить В, но всего лишь на 2%.<br>"
   ]
  },
  {
   "cell_type": "markdown",
   "metadata": {},
   "source": [
    "### Примите решение по результатам теста и объясните его. "
   ]
  },
  {
   "cell_type": "markdown",
   "metadata": {},
   "source": [
    "Тест следует остановить и признать его успешным. По результатам : Группа В эффективнее группы А по количеству заказов, по средниму чеку они примерно равны."
   ]
  },
  {
   "cell_type": "markdown",
   "metadata": {},
   "source": [
    "### Вывод"
   ]
  },
  {
   "cell_type": "markdown",
   "metadata": {},
   "source": [
    "Расмотрели графики кумутативной выручки, среднего чека и количество заказов. <br>\n",
    "Так же графики изменения относительно группы B к группе A.<br>\n",
    "Рассчитали перцентили для количестово и стоимости заказов.<br>\n",
    "За аномальных пользователей были приняты те, кто совершил 3 заказа и более.<br>\n",
    "Аномальные заказы на сумму свыше 28000.<br>\n",
    "Посчитайте статистическую значимость. <br>\n",
    "<br>\n",
    "<b>Тест следует остановить и признать его успешным.<br>\n",
    "По результатам:<br>\n",
    "Группа В эффективнее группы А по количеству заказов, по средниму чеку они примерно равны.<b>"
   ]
  },
  {
   "cell_type": "markdown",
   "metadata": {},
   "source": [
    "## Выводы"
   ]
  },
  {
   "cell_type": "markdown",
   "metadata": {},
   "source": [
    "Подготовили данные к анализу:<br>\n",
    "Колонки с датами имеющие тип \"object\" преобразованы в \"datetime64\".<br>\n",
    "\n",
    "Для анализа A/B-теста лучше использовать гипотезы с наибольшем количеством набранных баллов по Rice.<br>\n",
    "\n",
    "Расмотрели графики кумутативной выручки, среднего чека и количество заказов.\n",
    "Рассчитали перцентили для количестово и стоимости заказов.\n",
    "За аномальных пользователей были приняты те, кто совершил 3 заказа и более.\n",
    "Аномальные заказы на сумму свыше 28000.\n",
    "Посчитайте статистическую значимость.\n",
    "\n",
    "<b>Тест следует остановить и признать его успешным.<b>"
   ]
  }
 ],
 "metadata": {
  "ExecuteTimeLog": [
   {
    "duration": 359,
    "start_time": "2022-11-20T20:15:33.284Z"
   },
   {
    "duration": 74,
    "start_time": "2022-11-20T20:15:34.331Z"
   },
   {
    "duration": 14,
    "start_time": "2022-11-20T20:16:03.024Z"
   },
   {
    "duration": 7,
    "start_time": "2022-11-20T20:16:07.159Z"
   },
   {
    "duration": 7,
    "start_time": "2022-11-20T20:16:08.424Z"
   },
   {
    "duration": 8,
    "start_time": "2022-11-20T20:16:34.535Z"
   },
   {
    "duration": 3,
    "start_time": "2022-11-21T06:07:42.557Z"
   },
   {
    "duration": 2,
    "start_time": "2022-11-21T06:08:39.535Z"
   },
   {
    "duration": 499,
    "start_time": "2022-11-21T07:05:03.447Z"
   },
   {
    "duration": 1057,
    "start_time": "2022-11-21T07:05:26.741Z"
   },
   {
    "duration": 562,
    "start_time": "2022-11-21T07:06:20.989Z"
   },
   {
    "duration": 71,
    "start_time": "2022-11-21T07:17:13.833Z"
   },
   {
    "duration": 137,
    "start_time": "2022-11-21T07:17:34.963Z"
   },
   {
    "duration": 13,
    "start_time": "2022-11-21T07:17:38.311Z"
   },
   {
    "duration": 13,
    "start_time": "2022-11-21T07:17:49.252Z"
   },
   {
    "duration": 13,
    "start_time": "2022-11-21T07:18:14.409Z"
   },
   {
    "duration": 74,
    "start_time": "2022-11-21T07:18:20.535Z"
   },
   {
    "duration": 5,
    "start_time": "2022-11-21T07:18:29.847Z"
   },
   {
    "duration": 4,
    "start_time": "2022-11-21T07:18:37.798Z"
   },
   {
    "duration": 9,
    "start_time": "2022-11-21T07:19:11.334Z"
   },
   {
    "duration": 7,
    "start_time": "2022-11-21T07:20:43.644Z"
   },
   {
    "duration": 9,
    "start_time": "2022-11-21T07:22:13.194Z"
   },
   {
    "duration": 3,
    "start_time": "2022-11-21T07:23:19.827Z"
   },
   {
    "duration": 3,
    "start_time": "2022-11-21T07:23:23.123Z"
   },
   {
    "duration": 12,
    "start_time": "2022-11-21T07:23:43.033Z"
   },
   {
    "duration": 13,
    "start_time": "2022-11-21T07:23:48.488Z"
   },
   {
    "duration": 3,
    "start_time": "2022-11-21T07:24:22.784Z"
   },
   {
    "duration": 3,
    "start_time": "2022-11-21T07:24:23.345Z"
   },
   {
    "duration": 7,
    "start_time": "2022-11-21T07:24:54.160Z"
   },
   {
    "duration": 9,
    "start_time": "2022-11-21T07:25:20.535Z"
   },
   {
    "duration": 10,
    "start_time": "2022-11-21T07:25:26.878Z"
   },
   {
    "duration": 12,
    "start_time": "2022-11-21T07:25:29.687Z"
   },
   {
    "duration": 3,
    "start_time": "2022-11-21T07:25:35.806Z"
   },
   {
    "duration": 3,
    "start_time": "2022-11-21T07:25:36.719Z"
   },
   {
    "duration": 6,
    "start_time": "2022-11-21T07:30:25.242Z"
   },
   {
    "duration": 9,
    "start_time": "2022-11-21T07:30:31.890Z"
   },
   {
    "duration": 11,
    "start_time": "2022-11-21T07:30:35.969Z"
   },
   {
    "duration": 8,
    "start_time": "2022-11-21T07:30:57.553Z"
   },
   {
    "duration": 17,
    "start_time": "2022-11-21T07:31:07.344Z"
   },
   {
    "duration": 8,
    "start_time": "2022-11-21T07:31:21.576Z"
   },
   {
    "duration": 7,
    "start_time": "2022-11-21T07:32:47.071Z"
   },
   {
    "duration": 6,
    "start_time": "2022-11-21T07:32:58.742Z"
   },
   {
    "duration": 789,
    "start_time": "2022-11-21T07:33:19.333Z"
   },
   {
    "duration": 22,
    "start_time": "2022-11-21T07:33:24.933Z"
   },
   {
    "duration": 7,
    "start_time": "2022-11-21T07:36:34.073Z"
   },
   {
    "duration": 5,
    "start_time": "2022-11-21T07:36:45.258Z"
   },
   {
    "duration": 8,
    "start_time": "2022-11-21T07:37:25.961Z"
   },
   {
    "duration": 10,
    "start_time": "2022-11-21T07:37:31.281Z"
   },
   {
    "duration": 12,
    "start_time": "2022-11-21T07:37:40.050Z"
   },
   {
    "duration": 4,
    "start_time": "2022-11-21T07:37:45.296Z"
   },
   {
    "duration": 5,
    "start_time": "2022-11-21T07:38:48.368Z"
   },
   {
    "duration": 9,
    "start_time": "2022-11-21T07:38:54.983Z"
   },
   {
    "duration": 9,
    "start_time": "2022-11-21T07:39:06.383Z"
   },
   {
    "duration": 7,
    "start_time": "2022-11-21T07:39:18.327Z"
   },
   {
    "duration": 929,
    "start_time": "2022-11-21T07:39:21.750Z"
   },
   {
    "duration": 8,
    "start_time": "2022-11-21T07:39:35.398Z"
   },
   {
    "duration": 7,
    "start_time": "2022-11-21T07:39:36.080Z"
   },
   {
    "duration": 6,
    "start_time": "2022-11-21T07:39:41.151Z"
   },
   {
    "duration": 6,
    "start_time": "2022-11-21T07:40:33.916Z"
   },
   {
    "duration": 1201,
    "start_time": "2022-11-21T07:41:37.479Z"
   },
   {
    "duration": 129,
    "start_time": "2022-11-21T07:41:38.682Z"
   },
   {
    "duration": 13,
    "start_time": "2022-11-21T07:41:38.812Z"
   },
   {
    "duration": 11,
    "start_time": "2022-11-21T07:41:38.827Z"
   },
   {
    "duration": 55,
    "start_time": "2022-11-21T07:41:38.840Z"
   },
   {
    "duration": 3,
    "start_time": "2022-11-21T07:41:38.898Z"
   },
   {
    "duration": 12,
    "start_time": "2022-11-21T07:41:38.903Z"
   },
   {
    "duration": 13,
    "start_time": "2022-11-21T07:41:38.916Z"
   },
   {
    "duration": 30,
    "start_time": "2022-11-21T07:41:38.930Z"
   },
   {
    "duration": 12,
    "start_time": "2022-11-21T07:41:38.962Z"
   },
   {
    "duration": 6,
    "start_time": "2022-11-21T07:41:38.976Z"
   },
   {
    "duration": 10,
    "start_time": "2022-11-21T07:41:38.984Z"
   },
   {
    "duration": 890,
    "start_time": "2022-11-21T07:41:38.996Z"
   },
   {
    "duration": 1,
    "start_time": "2022-11-21T07:41:39.888Z"
   },
   {
    "duration": 0,
    "start_time": "2022-11-21T07:41:39.890Z"
   },
   {
    "duration": 0,
    "start_time": "2022-11-21T07:41:39.892Z"
   },
   {
    "duration": 0,
    "start_time": "2022-11-21T07:41:39.893Z"
   },
   {
    "duration": 0,
    "start_time": "2022-11-21T07:41:39.894Z"
   },
   {
    "duration": 0,
    "start_time": "2022-11-21T07:41:39.895Z"
   },
   {
    "duration": 0,
    "start_time": "2022-11-21T07:41:39.896Z"
   },
   {
    "duration": 0,
    "start_time": "2022-11-21T07:41:39.897Z"
   },
   {
    "duration": 1,
    "start_time": "2022-11-21T07:41:39.898Z"
   },
   {
    "duration": 0,
    "start_time": "2022-11-21T07:41:39.899Z"
   },
   {
    "duration": 1,
    "start_time": "2022-11-21T07:41:39.900Z"
   },
   {
    "duration": 0,
    "start_time": "2022-11-21T07:41:39.901Z"
   },
   {
    "duration": 4,
    "start_time": "2022-11-21T07:43:03.561Z"
   },
   {
    "duration": 6,
    "start_time": "2022-11-21T07:43:04.697Z"
   },
   {
    "duration": 10,
    "start_time": "2022-11-21T07:43:05.426Z"
   },
   {
    "duration": 8,
    "start_time": "2022-11-21T07:43:10.091Z"
   },
   {
    "duration": 7,
    "start_time": "2022-11-21T07:43:11.217Z"
   },
   {
    "duration": 10,
    "start_time": "2022-11-21T07:43:11.921Z"
   },
   {
    "duration": 7,
    "start_time": "2022-11-21T07:43:12.457Z"
   },
   {
    "duration": 6,
    "start_time": "2022-11-21T07:43:14.057Z"
   },
   {
    "duration": 8,
    "start_time": "2022-11-21T07:43:16.201Z"
   },
   {
    "duration": 11,
    "start_time": "2022-11-21T07:43:19.105Z"
   },
   {
    "duration": 15,
    "start_time": "2022-11-21T07:43:20.610Z"
   },
   {
    "duration": 1182,
    "start_time": "2022-11-21T07:43:25.230Z"
   },
   {
    "duration": 141,
    "start_time": "2022-11-21T07:43:26.414Z"
   },
   {
    "duration": 13,
    "start_time": "2022-11-21T07:43:26.557Z"
   },
   {
    "duration": 33,
    "start_time": "2022-11-21T07:43:26.572Z"
   },
   {
    "duration": 80,
    "start_time": "2022-11-21T07:43:26.606Z"
   },
   {
    "duration": 4,
    "start_time": "2022-11-21T07:43:26.688Z"
   },
   {
    "duration": 28,
    "start_time": "2022-11-21T07:43:26.694Z"
   },
   {
    "duration": 18,
    "start_time": "2022-11-21T07:43:26.724Z"
   },
   {
    "duration": 24,
    "start_time": "2022-11-21T07:43:26.744Z"
   },
   {
    "duration": 28,
    "start_time": "2022-11-21T07:43:26.772Z"
   },
   {
    "duration": 5,
    "start_time": "2022-11-21T07:43:26.804Z"
   },
   {
    "duration": 23,
    "start_time": "2022-11-21T07:43:26.811Z"
   },
   {
    "duration": 43,
    "start_time": "2022-11-21T07:43:26.836Z"
   },
   {
    "duration": 18,
    "start_time": "2022-11-21T07:43:26.881Z"
   },
   {
    "duration": 18,
    "start_time": "2022-11-21T07:43:26.902Z"
   },
   {
    "duration": 43,
    "start_time": "2022-11-21T07:43:26.922Z"
   },
   {
    "duration": 19,
    "start_time": "2022-11-21T07:43:26.967Z"
   },
   {
    "duration": 33,
    "start_time": "2022-11-21T07:43:26.989Z"
   },
   {
    "duration": 18,
    "start_time": "2022-11-21T07:43:27.023Z"
   },
   {
    "duration": 34,
    "start_time": "2022-11-21T07:43:27.043Z"
   },
   {
    "duration": 16,
    "start_time": "2022-11-21T07:43:27.079Z"
   },
   {
    "duration": 34,
    "start_time": "2022-11-21T07:43:27.096Z"
   },
   {
    "duration": 34,
    "start_time": "2022-11-21T07:43:27.132Z"
   },
   {
    "duration": 35,
    "start_time": "2022-11-21T07:43:27.167Z"
   },
   {
    "duration": 33,
    "start_time": "2022-11-21T07:43:27.204Z"
   },
   {
    "duration": 35,
    "start_time": "2022-11-21T07:43:27.239Z"
   },
   {
    "duration": 11,
    "start_time": "2022-11-21T08:02:20.642Z"
   },
   {
    "duration": 9,
    "start_time": "2022-11-21T08:09:17.802Z"
   },
   {
    "duration": 49,
    "start_time": "2022-11-21T08:09:24.362Z"
   },
   {
    "duration": 8,
    "start_time": "2022-11-21T08:09:28.250Z"
   },
   {
    "duration": 11,
    "start_time": "2022-11-21T11:21:47.021Z"
   },
   {
    "duration": 11,
    "start_time": "2022-11-21T11:24:38.115Z"
   },
   {
    "duration": 108,
    "start_time": "2022-11-21T11:27:26.040Z"
   },
   {
    "duration": 13,
    "start_time": "2022-11-21T11:29:44.916Z"
   },
   {
    "duration": 12,
    "start_time": "2022-11-21T11:29:51.412Z"
   },
   {
    "duration": 11,
    "start_time": "2022-11-21T11:30:01.590Z"
   },
   {
    "duration": 17,
    "start_time": "2022-11-21T11:30:15.540Z"
   },
   {
    "duration": 9,
    "start_time": "2022-11-21T11:30:20.044Z"
   },
   {
    "duration": 9,
    "start_time": "2022-11-21T11:30:26.155Z"
   },
   {
    "duration": 9,
    "start_time": "2022-11-21T11:30:32.924Z"
   },
   {
    "duration": 9,
    "start_time": "2022-11-21T11:30:38.867Z"
   },
   {
    "duration": 9,
    "start_time": "2022-11-21T11:30:47.284Z"
   },
   {
    "duration": 10,
    "start_time": "2022-11-21T11:31:04.994Z"
   },
   {
    "duration": 49,
    "start_time": "2022-11-21T11:32:47.849Z"
   },
   {
    "duration": 22,
    "start_time": "2022-11-21T11:33:04.737Z"
   },
   {
    "duration": 13,
    "start_time": "2022-11-21T11:33:59.039Z"
   },
   {
    "duration": 21,
    "start_time": "2022-11-21T11:34:49.086Z"
   },
   {
    "duration": 14,
    "start_time": "2022-11-21T11:34:54.806Z"
   },
   {
    "duration": 30,
    "start_time": "2022-11-21T12:51:08.714Z"
   },
   {
    "duration": 39,
    "start_time": "2022-11-21T12:51:34.338Z"
   },
   {
    "duration": 28,
    "start_time": "2022-11-21T12:51:51.673Z"
   },
   {
    "duration": 28,
    "start_time": "2022-11-21T12:53:40.112Z"
   },
   {
    "duration": 292,
    "start_time": "2022-11-21T12:53:56.032Z"
   },
   {
    "duration": 8,
    "start_time": "2022-11-21T12:54:31.829Z"
   },
   {
    "duration": 6,
    "start_time": "2022-11-21T12:54:43.198Z"
   },
   {
    "duration": 6,
    "start_time": "2022-11-21T12:54:53.183Z"
   },
   {
    "duration": 285,
    "start_time": "2022-11-21T12:58:33.306Z"
   },
   {
    "duration": 33,
    "start_time": "2022-11-21T13:01:45.743Z"
   },
   {
    "duration": 325,
    "start_time": "2022-11-21T13:01:56.550Z"
   },
   {
    "duration": 290,
    "start_time": "2022-11-21T13:02:31.342Z"
   },
   {
    "duration": 281,
    "start_time": "2022-11-21T13:14:09.196Z"
   },
   {
    "duration": 9,
    "start_time": "2022-11-21T13:14:53.776Z"
   },
   {
    "duration": 6,
    "start_time": "2022-11-21T13:15:03.984Z"
   },
   {
    "duration": 7,
    "start_time": "2022-11-21T13:15:17.711Z"
   },
   {
    "duration": 294,
    "start_time": "2022-11-21T13:37:39.134Z"
   },
   {
    "duration": 13,
    "start_time": "2022-11-21T13:41:28.522Z"
   },
   {
    "duration": 4,
    "start_time": "2022-11-21T13:41:53.842Z"
   },
   {
    "duration": 11,
    "start_time": "2022-11-21T13:42:01.969Z"
   },
   {
    "duration": 9,
    "start_time": "2022-11-21T13:43:08.449Z"
   },
   {
    "duration": 7,
    "start_time": "2022-11-21T13:49:13.634Z"
   },
   {
    "duration": 6,
    "start_time": "2022-11-21T13:50:02.875Z"
   },
   {
    "duration": 5,
    "start_time": "2022-11-21T13:51:38.359Z"
   },
   {
    "duration": 12,
    "start_time": "2022-11-21T13:56:44.265Z"
   },
   {
    "duration": 10,
    "start_time": "2022-11-21T13:57:06.705Z"
   },
   {
    "duration": 13,
    "start_time": "2022-11-21T13:58:37.680Z"
   },
   {
    "duration": 10,
    "start_time": "2022-11-21T13:58:52.199Z"
   },
   {
    "duration": 1289,
    "start_time": "2022-11-21T14:07:13.981Z"
   },
   {
    "duration": 527,
    "start_time": "2022-11-21T14:07:15.273Z"
   },
   {
    "duration": 14,
    "start_time": "2022-11-21T14:07:15.802Z"
   },
   {
    "duration": 26,
    "start_time": "2022-11-21T14:07:15.819Z"
   },
   {
    "duration": 104,
    "start_time": "2022-11-21T14:07:15.847Z"
   },
   {
    "duration": 12,
    "start_time": "2022-11-21T14:07:15.954Z"
   },
   {
    "duration": 38,
    "start_time": "2022-11-21T14:07:15.968Z"
   },
   {
    "duration": 56,
    "start_time": "2022-11-21T14:07:16.008Z"
   },
   {
    "duration": 22,
    "start_time": "2022-11-21T14:07:16.066Z"
   },
   {
    "duration": 49,
    "start_time": "2022-11-21T14:07:16.091Z"
   },
   {
    "duration": 32,
    "start_time": "2022-11-21T14:07:16.142Z"
   },
   {
    "duration": 40,
    "start_time": "2022-11-21T14:07:16.176Z"
   },
   {
    "duration": 68,
    "start_time": "2022-11-21T14:07:16.218Z"
   },
   {
    "duration": 49,
    "start_time": "2022-11-21T14:07:16.287Z"
   },
   {
    "duration": 47,
    "start_time": "2022-11-21T14:07:16.338Z"
   },
   {
    "duration": 33,
    "start_time": "2022-11-21T14:07:16.387Z"
   },
   {
    "duration": 55,
    "start_time": "2022-11-21T14:07:16.421Z"
   },
   {
    "duration": 52,
    "start_time": "2022-11-21T14:07:16.478Z"
   },
   {
    "duration": 22,
    "start_time": "2022-11-21T14:07:16.532Z"
   },
   {
    "duration": 47,
    "start_time": "2022-11-21T14:07:16.556Z"
   },
   {
    "duration": 25,
    "start_time": "2022-11-21T14:07:16.605Z"
   },
   {
    "duration": 47,
    "start_time": "2022-11-21T14:07:16.631Z"
   },
   {
    "duration": 37,
    "start_time": "2022-11-21T14:07:16.680Z"
   },
   {
    "duration": 54,
    "start_time": "2022-11-21T14:07:16.719Z"
   },
   {
    "duration": 67,
    "start_time": "2022-11-21T14:07:16.775Z"
   },
   {
    "duration": 34,
    "start_time": "2022-11-21T14:07:16.845Z"
   },
   {
    "duration": 112,
    "start_time": "2022-11-21T14:07:16.881Z"
   },
   {
    "duration": 55,
    "start_time": "2022-11-21T14:07:16.998Z"
   },
   {
    "duration": 69,
    "start_time": "2022-11-21T14:07:17.055Z"
   },
   {
    "duration": 465,
    "start_time": "2022-11-21T14:07:17.127Z"
   },
   {
    "duration": 301,
    "start_time": "2022-11-21T14:07:40.093Z"
   },
   {
    "duration": 11,
    "start_time": "2022-11-21T14:13:20.415Z"
   },
   {
    "duration": 299,
    "start_time": "2022-11-21T14:13:39.381Z"
   },
   {
    "duration": 274,
    "start_time": "2022-11-21T14:13:41.139Z"
   },
   {
    "duration": 7,
    "start_time": "2022-11-21T14:13:43.973Z"
   },
   {
    "duration": 269,
    "start_time": "2022-11-21T14:13:56.046Z"
   },
   {
    "duration": 164,
    "start_time": "2022-11-21T14:14:45.069Z"
   },
   {
    "duration": 208,
    "start_time": "2022-11-21T14:17:16.433Z"
   },
   {
    "duration": 194,
    "start_time": "2022-11-21T14:17:30.618Z"
   },
   {
    "duration": 236,
    "start_time": "2022-11-21T14:18:34.834Z"
   },
   {
    "duration": 396,
    "start_time": "2022-11-21T14:18:53.224Z"
   },
   {
    "duration": 206,
    "start_time": "2022-11-21T14:19:12.264Z"
   },
   {
    "duration": 14,
    "start_time": "2022-11-21T14:19:39.535Z"
   },
   {
    "duration": 227,
    "start_time": "2022-11-21T14:20:05.806Z"
   },
   {
    "duration": 78,
    "start_time": "2022-11-21T14:20:19.550Z"
   },
   {
    "duration": 235,
    "start_time": "2022-11-21T14:20:27.359Z"
   },
   {
    "duration": 226,
    "start_time": "2022-11-21T14:20:47.126Z"
   },
   {
    "duration": 275,
    "start_time": "2022-11-21T14:21:01.445Z"
   },
   {
    "duration": 259,
    "start_time": "2022-11-21T14:22:23.932Z"
   },
   {
    "duration": 226,
    "start_time": "2022-11-21T14:22:33.077Z"
   },
   {
    "duration": 247,
    "start_time": "2022-11-21T14:24:17.531Z"
   },
   {
    "duration": 227,
    "start_time": "2022-11-21T14:25:50.465Z"
   },
   {
    "duration": 240,
    "start_time": "2022-11-21T14:25:56.304Z"
   },
   {
    "duration": 345,
    "start_time": "2022-11-21T14:26:02.616Z"
   },
   {
    "duration": 223,
    "start_time": "2022-11-21T14:26:12.216Z"
   },
   {
    "duration": 77,
    "start_time": "2022-11-21T14:26:22.983Z"
   },
   {
    "duration": 231,
    "start_time": "2022-11-21T14:26:31.967Z"
   },
   {
    "duration": 210,
    "start_time": "2022-11-21T14:26:42.680Z"
   },
   {
    "duration": 222,
    "start_time": "2022-11-21T14:26:59.278Z"
   },
   {
    "duration": 231,
    "start_time": "2022-11-21T14:27:04.927Z"
   },
   {
    "duration": 239,
    "start_time": "2022-11-21T14:27:43.718Z"
   },
   {
    "duration": 223,
    "start_time": "2022-11-21T14:28:21.413Z"
   },
   {
    "duration": 1524,
    "start_time": "2022-11-21T18:49:10.533Z"
   },
   {
    "duration": 152,
    "start_time": "2022-11-21T18:49:12.061Z"
   },
   {
    "duration": 14,
    "start_time": "2022-11-21T18:49:12.215Z"
   },
   {
    "duration": 15,
    "start_time": "2022-11-21T18:49:12.231Z"
   },
   {
    "duration": 60,
    "start_time": "2022-11-21T18:49:12.248Z"
   },
   {
    "duration": 4,
    "start_time": "2022-11-21T18:49:12.309Z"
   },
   {
    "duration": 17,
    "start_time": "2022-11-21T18:49:12.315Z"
   },
   {
    "duration": 24,
    "start_time": "2022-11-21T18:49:12.334Z"
   },
   {
    "duration": 22,
    "start_time": "2022-11-21T18:49:12.360Z"
   },
   {
    "duration": 25,
    "start_time": "2022-11-21T18:49:12.385Z"
   },
   {
    "duration": 6,
    "start_time": "2022-11-21T18:49:12.412Z"
   },
   {
    "duration": 12,
    "start_time": "2022-11-21T18:49:12.420Z"
   },
   {
    "duration": 21,
    "start_time": "2022-11-21T18:49:12.434Z"
   },
   {
    "duration": 24,
    "start_time": "2022-11-21T18:49:12.457Z"
   },
   {
    "duration": 20,
    "start_time": "2022-11-21T18:49:12.483Z"
   },
   {
    "duration": 25,
    "start_time": "2022-11-21T18:49:12.504Z"
   },
   {
    "duration": 11,
    "start_time": "2022-11-21T18:49:12.531Z"
   },
   {
    "duration": 15,
    "start_time": "2022-11-21T18:49:12.544Z"
   },
   {
    "duration": 12,
    "start_time": "2022-11-21T18:49:12.561Z"
   },
   {
    "duration": 16,
    "start_time": "2022-11-21T18:49:12.575Z"
   },
   {
    "duration": 15,
    "start_time": "2022-11-21T18:49:12.593Z"
   },
   {
    "duration": 8,
    "start_time": "2022-11-21T18:49:12.610Z"
   },
   {
    "duration": 33,
    "start_time": "2022-11-21T18:49:12.620Z"
   },
   {
    "duration": 21,
    "start_time": "2022-11-21T18:49:12.656Z"
   },
   {
    "duration": 9,
    "start_time": "2022-11-21T18:49:12.679Z"
   },
   {
    "duration": 8,
    "start_time": "2022-11-21T18:49:12.690Z"
   },
   {
    "duration": 22,
    "start_time": "2022-11-21T18:49:12.700Z"
   },
   {
    "duration": 30,
    "start_time": "2022-11-21T18:49:12.726Z"
   },
   {
    "duration": 15,
    "start_time": "2022-11-21T18:49:12.759Z"
   },
   {
    "duration": 366,
    "start_time": "2022-11-21T18:49:12.776Z"
   },
   {
    "duration": 383,
    "start_time": "2022-11-21T18:49:13.151Z"
   },
   {
    "duration": 20,
    "start_time": "2022-11-21T18:54:29.473Z"
   },
   {
    "duration": 18,
    "start_time": "2022-11-21T18:54:46.175Z"
   },
   {
    "duration": 12,
    "start_time": "2022-11-21T18:55:54.727Z"
   },
   {
    "duration": 15,
    "start_time": "2022-11-21T18:56:01.750Z"
   },
   {
    "duration": 15,
    "start_time": "2022-11-21T18:56:14.309Z"
   },
   {
    "duration": 15,
    "start_time": "2022-11-21T18:57:05.349Z"
   },
   {
    "duration": 17,
    "start_time": "2022-11-21T18:57:54.909Z"
   },
   {
    "duration": 12,
    "start_time": "2022-11-21T18:58:06.872Z"
   },
   {
    "duration": 246,
    "start_time": "2022-11-21T19:03:58.679Z"
   },
   {
    "duration": 260,
    "start_time": "2022-11-21T19:04:34.983Z"
   },
   {
    "duration": 229,
    "start_time": "2022-11-21T19:05:11.372Z"
   },
   {
    "duration": 6,
    "start_time": "2022-11-21T19:06:16.323Z"
   },
   {
    "duration": 21,
    "start_time": "2022-11-21T19:06:32.923Z"
   },
   {
    "duration": 18,
    "start_time": "2022-11-21T19:06:50.758Z"
   },
   {
    "duration": 6,
    "start_time": "2022-11-21T19:06:57.717Z"
   },
   {
    "duration": 11,
    "start_time": "2022-11-21T19:07:04.372Z"
   },
   {
    "duration": 12,
    "start_time": "2022-11-21T19:07:38.915Z"
   },
   {
    "duration": 10,
    "start_time": "2022-11-21T19:07:50.131Z"
   },
   {
    "duration": 32,
    "start_time": "2022-11-21T19:09:57.544Z"
   },
   {
    "duration": 10,
    "start_time": "2022-11-21T19:10:12.024Z"
   },
   {
    "duration": 365,
    "start_time": "2022-11-21T19:18:48.473Z"
   },
   {
    "duration": 336,
    "start_time": "2022-11-21T19:19:46.874Z"
   },
   {
    "duration": 1254,
    "start_time": "2022-11-21T19:20:11.657Z"
   },
   {
    "duration": 134,
    "start_time": "2022-11-21T19:20:12.913Z"
   },
   {
    "duration": 18,
    "start_time": "2022-11-21T19:20:13.048Z"
   },
   {
    "duration": 16,
    "start_time": "2022-11-21T19:20:13.069Z"
   },
   {
    "duration": 67,
    "start_time": "2022-11-21T19:20:13.086Z"
   },
   {
    "duration": 4,
    "start_time": "2022-11-21T19:20:13.155Z"
   },
   {
    "duration": 21,
    "start_time": "2022-11-21T19:20:13.162Z"
   },
   {
    "duration": 13,
    "start_time": "2022-11-21T19:20:13.185Z"
   },
   {
    "duration": 17,
    "start_time": "2022-11-21T19:20:13.200Z"
   },
   {
    "duration": 28,
    "start_time": "2022-11-21T19:20:13.220Z"
   },
   {
    "duration": 23,
    "start_time": "2022-11-21T19:20:13.250Z"
   },
   {
    "duration": 17,
    "start_time": "2022-11-21T19:20:13.275Z"
   },
   {
    "duration": 13,
    "start_time": "2022-11-21T19:20:13.294Z"
   },
   {
    "duration": 10,
    "start_time": "2022-11-21T19:20:13.309Z"
   },
   {
    "duration": 7,
    "start_time": "2022-11-21T19:20:13.320Z"
   },
   {
    "duration": 9,
    "start_time": "2022-11-21T19:20:13.329Z"
   },
   {
    "duration": 25,
    "start_time": "2022-11-21T19:20:13.340Z"
   },
   {
    "duration": 25,
    "start_time": "2022-11-21T19:20:13.367Z"
   },
   {
    "duration": 29,
    "start_time": "2022-11-21T19:20:13.394Z"
   },
   {
    "duration": 33,
    "start_time": "2022-11-21T19:20:13.425Z"
   },
   {
    "duration": 33,
    "start_time": "2022-11-21T19:20:13.460Z"
   },
   {
    "duration": 18,
    "start_time": "2022-11-21T19:20:13.495Z"
   },
   {
    "duration": 24,
    "start_time": "2022-11-21T19:20:13.514Z"
   },
   {
    "duration": 34,
    "start_time": "2022-11-21T19:20:13.539Z"
   },
   {
    "duration": 21,
    "start_time": "2022-11-21T19:20:13.576Z"
   },
   {
    "duration": 24,
    "start_time": "2022-11-21T19:20:13.598Z"
   },
   {
    "duration": 43,
    "start_time": "2022-11-21T19:20:13.624Z"
   },
   {
    "duration": 16,
    "start_time": "2022-11-21T19:20:13.673Z"
   },
   {
    "duration": 27,
    "start_time": "2022-11-21T19:20:13.691Z"
   },
   {
    "duration": 381,
    "start_time": "2022-11-21T19:20:13.720Z"
   },
   {
    "duration": 378,
    "start_time": "2022-11-21T19:20:14.102Z"
   },
   {
    "duration": 13,
    "start_time": "2022-11-21T19:20:14.482Z"
   },
   {
    "duration": 255,
    "start_time": "2022-11-21T19:20:14.496Z"
   },
   {
    "duration": 363,
    "start_time": "2022-11-21T19:20:14.754Z"
   },
   {
    "duration": 378,
    "start_time": "2022-11-21T19:20:45.927Z"
   },
   {
    "duration": 364,
    "start_time": "2022-11-21T19:21:58.245Z"
   },
   {
    "duration": 319,
    "start_time": "2022-11-21T19:22:25.502Z"
   },
   {
    "duration": 409,
    "start_time": "2022-11-21T19:22:32.997Z"
   },
   {
    "duration": 316,
    "start_time": "2022-11-21T19:22:45.269Z"
   },
   {
    "duration": 331,
    "start_time": "2022-11-21T19:23:12.276Z"
   },
   {
    "duration": 70,
    "start_time": "2022-11-21T19:26:14.750Z"
   },
   {
    "duration": 225,
    "start_time": "2022-11-21T19:28:32.223Z"
   },
   {
    "duration": 242,
    "start_time": "2022-11-21T19:30:12.327Z"
   },
   {
    "duration": 288,
    "start_time": "2022-11-21T19:36:15.808Z"
   },
   {
    "duration": 290,
    "start_time": "2022-11-21T19:41:34.844Z"
   },
   {
    "duration": 1510,
    "start_time": "2022-11-21T19:50:01.444Z"
   },
   {
    "duration": 299,
    "start_time": "2022-11-21T19:56:49.134Z"
   },
   {
    "duration": 264,
    "start_time": "2022-11-21T19:58:13.652Z"
   },
   {
    "duration": 16,
    "start_time": "2022-11-21T20:04:12.375Z"
   },
   {
    "duration": 1176,
    "start_time": "2022-11-21T20:04:46.574Z"
   },
   {
    "duration": 314,
    "start_time": "2022-11-21T20:06:43.899Z"
   },
   {
    "duration": 346,
    "start_time": "2022-11-21T20:07:04.884Z"
   },
   {
    "duration": 457,
    "start_time": "2022-11-21T20:07:11.956Z"
   },
   {
    "duration": 9,
    "start_time": "2022-11-21T20:09:56.000Z"
   },
   {
    "duration": 15,
    "start_time": "2022-11-21T20:10:16.600Z"
   },
   {
    "duration": 286,
    "start_time": "2022-11-21T20:10:38.144Z"
   },
   {
    "duration": 325,
    "start_time": "2022-11-21T20:10:47.240Z"
   },
   {
    "duration": 284,
    "start_time": "2022-11-21T20:10:53.120Z"
   },
   {
    "duration": 295,
    "start_time": "2022-11-21T20:12:04.230Z"
   },
   {
    "duration": 320,
    "start_time": "2022-11-21T20:12:36.406Z"
   },
   {
    "duration": 5,
    "start_time": "2022-11-21T20:15:48.634Z"
   },
   {
    "duration": 5,
    "start_time": "2022-11-21T20:16:34.949Z"
   },
   {
    "duration": 1195,
    "start_time": "2022-11-21T20:22:26.916Z"
   },
   {
    "duration": 165,
    "start_time": "2022-11-21T20:23:25.884Z"
   },
   {
    "duration": 233,
    "start_time": "2022-11-21T20:25:17.633Z"
   },
   {
    "duration": 173,
    "start_time": "2022-11-21T20:25:55.770Z"
   },
   {
    "duration": 177,
    "start_time": "2022-11-21T20:26:28.477Z"
   },
   {
    "duration": 180,
    "start_time": "2022-11-21T20:27:07.807Z"
   },
   {
    "duration": 864,
    "start_time": "2022-11-21T20:27:17.560Z"
   },
   {
    "duration": 190,
    "start_time": "2022-11-21T20:28:03.464Z"
   },
   {
    "duration": 161,
    "start_time": "2022-11-21T20:28:17.679Z"
   },
   {
    "duration": 274,
    "start_time": "2022-11-21T20:29:16.639Z"
   },
   {
    "duration": 167,
    "start_time": "2022-11-21T20:29:57.672Z"
   },
   {
    "duration": 5,
    "start_time": "2022-11-21T20:32:47.931Z"
   },
   {
    "duration": 184,
    "start_time": "2022-11-21T20:33:23.441Z"
   },
   {
    "duration": 5,
    "start_time": "2022-11-21T20:33:26.465Z"
   },
   {
    "duration": 106,
    "start_time": "2022-11-21T20:44:12.624Z"
   },
   {
    "duration": 139,
    "start_time": "2022-11-21T20:46:47.694Z"
   },
   {
    "duration": 192,
    "start_time": "2022-11-21T20:47:11.413Z"
   },
   {
    "duration": 229,
    "start_time": "2022-11-21T20:47:20.877Z"
   },
   {
    "duration": 11,
    "start_time": "2022-11-21T20:47:39.276Z"
   },
   {
    "duration": 21,
    "start_time": "2022-11-21T20:48:05.533Z"
   },
   {
    "duration": 25,
    "start_time": "2022-11-21T20:48:21.149Z"
   },
   {
    "duration": 24,
    "start_time": "2022-11-21T20:48:26.932Z"
   },
   {
    "duration": 21,
    "start_time": "2022-11-21T20:48:41.300Z"
   },
   {
    "duration": 114,
    "start_time": "2022-11-21T20:48:52.477Z"
   },
   {
    "duration": 212,
    "start_time": "2022-11-21T20:49:00.700Z"
   },
   {
    "duration": 208,
    "start_time": "2022-11-21T20:49:20.483Z"
   },
   {
    "duration": 206,
    "start_time": "2022-11-21T20:49:51.499Z"
   },
   {
    "duration": 181,
    "start_time": "2022-11-21T20:51:21.521Z"
   },
   {
    "duration": 13,
    "start_time": "2022-11-21T20:55:25.590Z"
   },
   {
    "duration": 13,
    "start_time": "2022-11-21T20:55:32.070Z"
   },
   {
    "duration": 11,
    "start_time": "2022-11-21T20:56:01.093Z"
   },
   {
    "duration": 12,
    "start_time": "2022-11-21T20:56:10.565Z"
   },
   {
    "duration": 13,
    "start_time": "2022-11-21T20:56:20.117Z"
   },
   {
    "duration": 74,
    "start_time": "2022-11-21T20:56:33.381Z"
   },
   {
    "duration": 15,
    "start_time": "2022-11-21T20:57:01.076Z"
   },
   {
    "duration": 16,
    "start_time": "2022-11-21T20:57:27.884Z"
   },
   {
    "duration": 14,
    "start_time": "2022-11-21T21:06:06.572Z"
   },
   {
    "duration": 11,
    "start_time": "2022-11-21T21:06:50.524Z"
   },
   {
    "duration": 11,
    "start_time": "2022-11-21T21:08:37.067Z"
   },
   {
    "duration": 8,
    "start_time": "2022-11-21T21:09:10.097Z"
   },
   {
    "duration": 1252,
    "start_time": "2022-11-21T21:09:23.977Z"
   },
   {
    "duration": 1156,
    "start_time": "2022-11-21T21:09:37.361Z"
   },
   {
    "duration": 19,
    "start_time": "2022-11-21T21:09:55.649Z"
   },
   {
    "duration": 31,
    "start_time": "2022-11-21T21:10:03.264Z"
   },
   {
    "duration": 73,
    "start_time": "2022-11-21T21:12:32.103Z"
   },
   {
    "duration": 34,
    "start_time": "2022-11-21T21:12:57.662Z"
   },
   {
    "duration": 8,
    "start_time": "2022-11-21T21:14:05.521Z"
   },
   {
    "duration": 43,
    "start_time": "2022-11-21T21:16:10.938Z"
   },
   {
    "duration": 30,
    "start_time": "2022-11-21T21:17:08.457Z"
   },
   {
    "duration": 10,
    "start_time": "2022-11-21T21:19:26.576Z"
   },
   {
    "duration": 30,
    "start_time": "2022-11-21T21:19:37.031Z"
   },
   {
    "duration": 1255,
    "start_time": "2022-11-21T21:22:25.589Z"
   },
   {
    "duration": 1158,
    "start_time": "2022-11-21T21:22:40.261Z"
   },
   {
    "duration": 20,
    "start_time": "2022-11-21T21:23:04.812Z"
   },
   {
    "duration": 1316,
    "start_time": "2022-11-21T21:44:51.038Z"
   },
   {
    "duration": 307,
    "start_time": "2022-11-21T21:44:52.360Z"
   },
   {
    "duration": 23,
    "start_time": "2022-11-21T21:44:52.674Z"
   },
   {
    "duration": 16,
    "start_time": "2022-11-21T21:44:52.700Z"
   },
   {
    "duration": 77,
    "start_time": "2022-11-21T21:44:52.718Z"
   },
   {
    "duration": 8,
    "start_time": "2022-11-21T21:44:52.796Z"
   },
   {
    "duration": 11,
    "start_time": "2022-11-21T21:44:52.806Z"
   },
   {
    "duration": 13,
    "start_time": "2022-11-21T21:44:52.819Z"
   },
   {
    "duration": 60,
    "start_time": "2022-11-21T21:44:52.834Z"
   },
   {
    "duration": 16,
    "start_time": "2022-11-21T21:44:52.898Z"
   },
   {
    "duration": 5,
    "start_time": "2022-11-21T21:44:52.917Z"
   },
   {
    "duration": 11,
    "start_time": "2022-11-21T21:44:52.925Z"
   },
   {
    "duration": 58,
    "start_time": "2022-11-21T21:44:52.938Z"
   },
   {
    "duration": 8,
    "start_time": "2022-11-21T21:44:52.998Z"
   },
   {
    "duration": 9,
    "start_time": "2022-11-21T21:44:53.008Z"
   },
   {
    "duration": 13,
    "start_time": "2022-11-21T21:44:53.019Z"
   },
   {
    "duration": 9,
    "start_time": "2022-11-21T21:44:53.034Z"
   },
   {
    "duration": 17,
    "start_time": "2022-11-21T21:44:53.045Z"
   },
   {
    "duration": 33,
    "start_time": "2022-11-21T21:44:53.069Z"
   },
   {
    "duration": 11,
    "start_time": "2022-11-21T21:44:53.104Z"
   },
   {
    "duration": 17,
    "start_time": "2022-11-21T21:44:53.117Z"
   },
   {
    "duration": 12,
    "start_time": "2022-11-21T21:44:53.136Z"
   },
   {
    "duration": 54,
    "start_time": "2022-11-21T21:44:53.152Z"
   },
   {
    "duration": 15,
    "start_time": "2022-11-21T21:44:53.208Z"
   },
   {
    "duration": 16,
    "start_time": "2022-11-21T21:44:53.225Z"
   },
   {
    "duration": 31,
    "start_time": "2022-11-21T21:44:53.245Z"
   },
   {
    "duration": 43,
    "start_time": "2022-11-21T21:44:53.277Z"
   },
   {
    "duration": 15,
    "start_time": "2022-11-21T21:44:53.324Z"
   },
   {
    "duration": 18,
    "start_time": "2022-11-21T21:44:53.341Z"
   },
   {
    "duration": 368,
    "start_time": "2022-11-21T21:44:53.364Z"
   },
   {
    "duration": 462,
    "start_time": "2022-11-21T21:44:53.734Z"
   },
   {
    "duration": 14,
    "start_time": "2022-11-21T21:44:54.198Z"
   },
   {
    "duration": 280,
    "start_time": "2022-11-21T21:44:54.215Z"
   },
   {
    "duration": 337,
    "start_time": "2022-11-21T21:44:54.497Z"
   },
   {
    "duration": 372,
    "start_time": "2022-11-21T21:44:54.837Z"
   },
   {
    "duration": 407,
    "start_time": "2022-11-21T21:44:55.211Z"
   },
   {
    "duration": 338,
    "start_time": "2022-11-21T21:44:55.620Z"
   },
   {
    "duration": 13,
    "start_time": "2022-11-21T21:44:55.960Z"
   },
   {
    "duration": 282,
    "start_time": "2022-11-21T21:44:55.975Z"
   },
   {
    "duration": 209,
    "start_time": "2022-11-21T21:44:56.259Z"
   },
   {
    "duration": 10,
    "start_time": "2022-11-21T21:44:56.473Z"
   },
   {
    "duration": 257,
    "start_time": "2022-11-21T21:44:56.485Z"
   },
   {
    "duration": 17,
    "start_time": "2022-11-21T21:44:56.745Z"
   },
   {
    "duration": 119,
    "start_time": "2022-11-21T21:44:56.764Z"
   },
   {
    "duration": 0,
    "start_time": "2022-11-21T21:44:56.889Z"
   },
   {
    "duration": 0,
    "start_time": "2022-11-21T21:44:56.890Z"
   },
   {
    "duration": 0,
    "start_time": "2022-11-21T21:44:56.892Z"
   },
   {
    "duration": 0,
    "start_time": "2022-11-21T21:44:56.898Z"
   },
   {
    "duration": 1175,
    "start_time": "2022-11-21T21:53:01.288Z"
   },
   {
    "duration": 259,
    "start_time": "2022-11-21T21:53:02.465Z"
   },
   {
    "duration": 10,
    "start_time": "2022-11-21T21:53:02.725Z"
   },
   {
    "duration": 12,
    "start_time": "2022-11-21T21:53:02.737Z"
   },
   {
    "duration": 67,
    "start_time": "2022-11-21T21:53:02.750Z"
   },
   {
    "duration": 2,
    "start_time": "2022-11-21T21:53:02.819Z"
   },
   {
    "duration": 43,
    "start_time": "2022-11-21T21:53:02.823Z"
   },
   {
    "duration": 46,
    "start_time": "2022-11-21T21:53:02.867Z"
   },
   {
    "duration": 56,
    "start_time": "2022-11-21T21:53:02.914Z"
   },
   {
    "duration": 53,
    "start_time": "2022-11-21T21:53:02.972Z"
   },
   {
    "duration": 77,
    "start_time": "2022-11-21T21:53:03.027Z"
   },
   {
    "duration": 39,
    "start_time": "2022-11-21T21:53:03.105Z"
   },
   {
    "duration": 76,
    "start_time": "2022-11-21T21:53:03.146Z"
   },
   {
    "duration": 54,
    "start_time": "2022-11-21T21:53:03.223Z"
   },
   {
    "duration": 19,
    "start_time": "2022-11-21T21:53:03.278Z"
   },
   {
    "duration": 33,
    "start_time": "2022-11-21T21:53:03.298Z"
   },
   {
    "duration": 30,
    "start_time": "2022-11-21T21:53:03.333Z"
   },
   {
    "duration": 15,
    "start_time": "2022-11-21T21:53:03.364Z"
   },
   {
    "duration": 23,
    "start_time": "2022-11-21T21:53:03.381Z"
   },
   {
    "duration": 25,
    "start_time": "2022-11-21T21:53:03.406Z"
   },
   {
    "duration": 34,
    "start_time": "2022-11-21T21:53:03.433Z"
   },
   {
    "duration": 31,
    "start_time": "2022-11-21T21:53:03.469Z"
   },
   {
    "duration": 30,
    "start_time": "2022-11-21T21:53:03.501Z"
   },
   {
    "duration": 33,
    "start_time": "2022-11-21T21:53:03.533Z"
   },
   {
    "duration": 17,
    "start_time": "2022-11-21T21:53:03.567Z"
   },
   {
    "duration": 37,
    "start_time": "2022-11-21T21:53:03.585Z"
   },
   {
    "duration": 18,
    "start_time": "2022-11-21T21:53:03.623Z"
   },
   {
    "duration": 26,
    "start_time": "2022-11-21T21:53:03.644Z"
   },
   {
    "duration": 42,
    "start_time": "2022-11-21T21:53:03.671Z"
   },
   {
    "duration": 318,
    "start_time": "2022-11-21T21:53:03.715Z"
   },
   {
    "duration": 278,
    "start_time": "2022-11-21T21:53:04.034Z"
   },
   {
    "duration": 11,
    "start_time": "2022-11-21T21:53:04.313Z"
   },
   {
    "duration": 204,
    "start_time": "2022-11-21T21:53:04.326Z"
   },
   {
    "duration": 376,
    "start_time": "2022-11-21T21:53:04.531Z"
   },
   {
    "duration": 268,
    "start_time": "2022-11-21T21:53:04.909Z"
   },
   {
    "duration": 311,
    "start_time": "2022-11-21T21:53:05.178Z"
   },
   {
    "duration": 320,
    "start_time": "2022-11-21T21:53:05.490Z"
   },
   {
    "duration": 3,
    "start_time": "2022-11-21T21:53:05.812Z"
   },
   {
    "duration": 144,
    "start_time": "2022-11-21T21:53:05.817Z"
   },
   {
    "duration": 149,
    "start_time": "2022-11-21T21:53:05.963Z"
   },
   {
    "duration": 4,
    "start_time": "2022-11-21T21:53:06.113Z"
   },
   {
    "duration": 224,
    "start_time": "2022-11-21T21:53:06.118Z"
   },
   {
    "duration": 9,
    "start_time": "2022-11-21T21:53:06.344Z"
   },
   {
    "duration": 53,
    "start_time": "2022-11-21T21:53:06.354Z"
   },
   {
    "duration": 0,
    "start_time": "2022-11-21T21:53:06.408Z"
   },
   {
    "duration": 0,
    "start_time": "2022-11-21T21:53:06.409Z"
   },
   {
    "duration": 0,
    "start_time": "2022-11-21T21:53:06.411Z"
   },
   {
    "duration": 0,
    "start_time": "2022-11-21T21:53:06.412Z"
   },
   {
    "duration": 176,
    "start_time": "2022-11-21T22:04:17.858Z"
   },
   {
    "duration": 14,
    "start_time": "2022-11-21T22:04:54.784Z"
   },
   {
    "duration": 8,
    "start_time": "2022-11-21T22:04:56.033Z"
   },
   {
    "duration": 30,
    "start_time": "2022-11-21T22:04:56.602Z"
   },
   {
    "duration": 15,
    "start_time": "2022-11-21T22:04:57.145Z"
   },
   {
    "duration": 46,
    "start_time": "2022-11-22T06:32:05.920Z"
   },
   {
    "duration": 1432,
    "start_time": "2022-11-22T06:32:18.291Z"
   },
   {
    "duration": 283,
    "start_time": "2022-11-22T06:32:19.725Z"
   },
   {
    "duration": 3,
    "start_time": "2022-11-22T06:32:20.010Z"
   },
   {
    "duration": 22,
    "start_time": "2022-11-22T06:32:20.015Z"
   },
   {
    "duration": 64,
    "start_time": "2022-11-22T06:32:20.038Z"
   },
   {
    "duration": 2,
    "start_time": "2022-11-22T06:32:20.104Z"
   },
   {
    "duration": 20,
    "start_time": "2022-11-22T06:32:20.108Z"
   },
   {
    "duration": 8,
    "start_time": "2022-11-22T06:32:20.129Z"
   },
   {
    "duration": 28,
    "start_time": "2022-11-22T06:32:20.139Z"
   },
   {
    "duration": 14,
    "start_time": "2022-11-22T06:32:20.170Z"
   },
   {
    "duration": 9,
    "start_time": "2022-11-22T06:32:20.185Z"
   },
   {
    "duration": 12,
    "start_time": "2022-11-22T06:32:20.196Z"
   },
   {
    "duration": 12,
    "start_time": "2022-11-22T06:32:20.210Z"
   },
   {
    "duration": 6,
    "start_time": "2022-11-22T06:32:20.224Z"
   },
   {
    "duration": 7,
    "start_time": "2022-11-22T06:32:20.232Z"
   },
   {
    "duration": 12,
    "start_time": "2022-11-22T06:32:20.241Z"
   },
   {
    "duration": 8,
    "start_time": "2022-11-22T06:32:20.255Z"
   },
   {
    "duration": 11,
    "start_time": "2022-11-22T06:32:20.265Z"
   },
   {
    "duration": 30,
    "start_time": "2022-11-22T06:32:20.277Z"
   },
   {
    "duration": 13,
    "start_time": "2022-11-22T06:32:20.309Z"
   },
   {
    "duration": 17,
    "start_time": "2022-11-22T06:32:20.323Z"
   },
   {
    "duration": 9,
    "start_time": "2022-11-22T06:32:20.342Z"
   },
   {
    "duration": 10,
    "start_time": "2022-11-22T06:32:20.352Z"
   },
   {
    "duration": 9,
    "start_time": "2022-11-22T06:32:20.363Z"
   },
   {
    "duration": 8,
    "start_time": "2022-11-22T06:32:20.373Z"
   },
   {
    "duration": 21,
    "start_time": "2022-11-22T06:32:20.383Z"
   },
   {
    "duration": 13,
    "start_time": "2022-11-22T06:32:20.406Z"
   },
   {
    "duration": 13,
    "start_time": "2022-11-22T06:32:20.423Z"
   },
   {
    "duration": 12,
    "start_time": "2022-11-22T06:32:20.437Z"
   },
   {
    "duration": 313,
    "start_time": "2022-11-22T06:32:20.451Z"
   },
   {
    "duration": 311,
    "start_time": "2022-11-22T06:32:20.765Z"
   },
   {
    "duration": 11,
    "start_time": "2022-11-22T06:32:21.078Z"
   },
   {
    "duration": 234,
    "start_time": "2022-11-22T06:32:21.090Z"
   },
   {
    "duration": 352,
    "start_time": "2022-11-22T06:32:21.325Z"
   },
   {
    "duration": 237,
    "start_time": "2022-11-22T06:32:21.678Z"
   },
   {
    "duration": 311,
    "start_time": "2022-11-22T06:32:21.917Z"
   },
   {
    "duration": 346,
    "start_time": "2022-11-22T06:32:22.230Z"
   },
   {
    "duration": 6,
    "start_time": "2022-11-22T06:32:22.578Z"
   },
   {
    "duration": 185,
    "start_time": "2022-11-22T06:32:22.585Z"
   },
   {
    "duration": 158,
    "start_time": "2022-11-22T06:32:22.772Z"
   },
   {
    "duration": 4,
    "start_time": "2022-11-22T06:32:22.932Z"
   },
   {
    "duration": 229,
    "start_time": "2022-11-22T06:32:22.938Z"
   },
   {
    "duration": 10,
    "start_time": "2022-11-22T06:32:23.169Z"
   },
   {
    "duration": 168,
    "start_time": "2022-11-22T06:32:23.182Z"
   },
   {
    "duration": 10,
    "start_time": "2022-11-22T06:32:23.352Z"
   },
   {
    "duration": 8,
    "start_time": "2022-11-22T06:32:23.363Z"
   },
   {
    "duration": 42,
    "start_time": "2022-11-22T06:32:23.373Z"
   },
   {
    "duration": 13,
    "start_time": "2022-11-22T06:32:23.417Z"
   },
   {
    "duration": 12,
    "start_time": "2022-11-22T06:33:24.827Z"
   },
   {
    "duration": 9,
    "start_time": "2022-11-22T06:33:43.987Z"
   },
   {
    "duration": 11,
    "start_time": "2022-11-22T06:33:49.966Z"
   },
   {
    "duration": 10,
    "start_time": "2022-11-22T06:33:55.147Z"
   },
   {
    "duration": 10,
    "start_time": "2022-11-22T06:34:03.139Z"
   },
   {
    "duration": 10,
    "start_time": "2022-11-22T06:34:09.995Z"
   },
   {
    "duration": 11,
    "start_time": "2022-11-22T06:34:14.187Z"
   },
   {
    "duration": 9,
    "start_time": "2022-11-22T06:34:20.610Z"
   },
   {
    "duration": 9,
    "start_time": "2022-11-22T06:34:33.851Z"
   },
   {
    "duration": 5,
    "start_time": "2022-11-22T06:35:48.305Z"
   },
   {
    "duration": 101,
    "start_time": "2022-11-22T06:36:40.664Z"
   },
   {
    "duration": 8,
    "start_time": "2022-11-22T06:38:06.968Z"
   },
   {
    "duration": 72,
    "start_time": "2022-11-22T06:39:19.701Z"
   },
   {
    "duration": 74,
    "start_time": "2022-11-22T06:39:27.053Z"
   },
   {
    "duration": 8,
    "start_time": "2022-11-22T06:39:38.692Z"
   },
   {
    "duration": 12,
    "start_time": "2022-11-22T06:39:48.077Z"
   },
   {
    "duration": 10,
    "start_time": "2022-11-22T06:39:58.379Z"
   },
   {
    "duration": 5,
    "start_time": "2022-11-22T06:40:04.147Z"
   },
   {
    "duration": 8,
    "start_time": "2022-11-22T06:40:29.443Z"
   },
   {
    "duration": 8,
    "start_time": "2022-11-22T06:40:43.693Z"
   },
   {
    "duration": 9,
    "start_time": "2022-11-22T06:40:50.267Z"
   },
   {
    "duration": 11,
    "start_time": "2022-11-22T06:40:54.114Z"
   },
   {
    "duration": 24,
    "start_time": "2022-11-22T06:41:06.925Z"
   },
   {
    "duration": 9,
    "start_time": "2022-11-22T06:41:17.861Z"
   },
   {
    "duration": 5,
    "start_time": "2022-11-22T06:41:51.233Z"
   },
   {
    "duration": 2,
    "start_time": "2022-11-22T06:42:16.033Z"
   },
   {
    "duration": 4,
    "start_time": "2022-11-22T06:42:22.898Z"
   },
   {
    "duration": 5,
    "start_time": "2022-11-22T06:42:29.625Z"
   },
   {
    "duration": 6,
    "start_time": "2022-11-22T06:42:37.074Z"
   },
   {
    "duration": 12,
    "start_time": "2022-11-22T06:42:41.872Z"
   },
   {
    "duration": 5,
    "start_time": "2022-11-22T06:42:46.104Z"
   },
   {
    "duration": 10,
    "start_time": "2022-11-22T06:42:58.714Z"
   },
   {
    "duration": 5,
    "start_time": "2022-11-22T06:43:39.679Z"
   },
   {
    "duration": 1189,
    "start_time": "2022-11-22T06:44:53.926Z"
   },
   {
    "duration": 352,
    "start_time": "2022-11-22T06:44:55.117Z"
   },
   {
    "duration": 11,
    "start_time": "2022-11-22T06:44:55.470Z"
   },
   {
    "duration": 1272,
    "start_time": "2022-11-22T06:44:55.483Z"
   },
   {
    "duration": 0,
    "start_time": "2022-11-22T06:44:56.758Z"
   },
   {
    "duration": 0,
    "start_time": "2022-11-22T06:44:56.759Z"
   },
   {
    "duration": 0,
    "start_time": "2022-11-22T06:44:56.760Z"
   },
   {
    "duration": 0,
    "start_time": "2022-11-22T06:44:56.761Z"
   },
   {
    "duration": 0,
    "start_time": "2022-11-22T06:44:56.761Z"
   },
   {
    "duration": 0,
    "start_time": "2022-11-22T06:44:56.762Z"
   },
   {
    "duration": 0,
    "start_time": "2022-11-22T06:44:56.763Z"
   },
   {
    "duration": 0,
    "start_time": "2022-11-22T06:44:56.764Z"
   },
   {
    "duration": 0,
    "start_time": "2022-11-22T06:44:56.765Z"
   },
   {
    "duration": 0,
    "start_time": "2022-11-22T06:44:56.765Z"
   },
   {
    "duration": 0,
    "start_time": "2022-11-22T06:44:56.766Z"
   },
   {
    "duration": 0,
    "start_time": "2022-11-22T06:44:56.767Z"
   },
   {
    "duration": 0,
    "start_time": "2022-11-22T06:44:56.768Z"
   },
   {
    "duration": 0,
    "start_time": "2022-11-22T06:44:56.769Z"
   },
   {
    "duration": 0,
    "start_time": "2022-11-22T06:44:56.770Z"
   },
   {
    "duration": 0,
    "start_time": "2022-11-22T06:44:56.771Z"
   },
   {
    "duration": 0,
    "start_time": "2022-11-22T06:44:56.772Z"
   },
   {
    "duration": 0,
    "start_time": "2022-11-22T06:44:56.773Z"
   },
   {
    "duration": 0,
    "start_time": "2022-11-22T06:44:56.774Z"
   },
   {
    "duration": 0,
    "start_time": "2022-11-22T06:44:56.775Z"
   },
   {
    "duration": 0,
    "start_time": "2022-11-22T06:44:56.776Z"
   },
   {
    "duration": 0,
    "start_time": "2022-11-22T06:44:56.777Z"
   },
   {
    "duration": 0,
    "start_time": "2022-11-22T06:44:56.778Z"
   },
   {
    "duration": 0,
    "start_time": "2022-11-22T06:44:56.779Z"
   },
   {
    "duration": 0,
    "start_time": "2022-11-22T06:44:56.780Z"
   },
   {
    "duration": 0,
    "start_time": "2022-11-22T06:44:56.781Z"
   },
   {
    "duration": 0,
    "start_time": "2022-11-22T06:44:56.782Z"
   },
   {
    "duration": 0,
    "start_time": "2022-11-22T06:44:56.783Z"
   },
   {
    "duration": 0,
    "start_time": "2022-11-22T06:44:56.784Z"
   },
   {
    "duration": 0,
    "start_time": "2022-11-22T06:44:56.785Z"
   },
   {
    "duration": 0,
    "start_time": "2022-11-22T06:44:56.786Z"
   },
   {
    "duration": 0,
    "start_time": "2022-11-22T06:44:56.786Z"
   },
   {
    "duration": 0,
    "start_time": "2022-11-22T06:44:56.787Z"
   },
   {
    "duration": 0,
    "start_time": "2022-11-22T06:44:56.789Z"
   },
   {
    "duration": 0,
    "start_time": "2022-11-22T06:44:56.790Z"
   },
   {
    "duration": 0,
    "start_time": "2022-11-22T06:44:56.791Z"
   },
   {
    "duration": 0,
    "start_time": "2022-11-22T06:44:56.792Z"
   },
   {
    "duration": 0,
    "start_time": "2022-11-22T06:44:56.804Z"
   },
   {
    "duration": 0,
    "start_time": "2022-11-22T06:44:56.806Z"
   },
   {
    "duration": 0,
    "start_time": "2022-11-22T06:44:56.807Z"
   },
   {
    "duration": 0,
    "start_time": "2022-11-22T06:44:56.808Z"
   },
   {
    "duration": 0,
    "start_time": "2022-11-22T06:44:56.809Z"
   },
   {
    "duration": 0,
    "start_time": "2022-11-22T06:44:56.811Z"
   },
   {
    "duration": 0,
    "start_time": "2022-11-22T06:44:56.812Z"
   },
   {
    "duration": 0,
    "start_time": "2022-11-22T06:44:56.813Z"
   },
   {
    "duration": 1259,
    "start_time": "2022-11-22T06:49:56.889Z"
   },
   {
    "duration": 1197,
    "start_time": "2022-11-22T06:50:07.541Z"
   },
   {
    "duration": 275,
    "start_time": "2022-11-22T06:50:08.740Z"
   },
   {
    "duration": 12,
    "start_time": "2022-11-22T06:50:09.016Z"
   },
   {
    "duration": 17,
    "start_time": "2022-11-22T06:50:09.029Z"
   },
   {
    "duration": 51,
    "start_time": "2022-11-22T06:50:09.048Z"
   },
   {
    "duration": 3,
    "start_time": "2022-11-22T06:50:09.105Z"
   },
   {
    "duration": 11,
    "start_time": "2022-11-22T06:50:09.110Z"
   },
   {
    "duration": 28,
    "start_time": "2022-11-22T06:50:09.123Z"
   },
   {
    "duration": 24,
    "start_time": "2022-11-22T06:50:09.153Z"
   },
   {
    "duration": 27,
    "start_time": "2022-11-22T06:50:09.178Z"
   },
   {
    "duration": 40,
    "start_time": "2022-11-22T06:50:09.207Z"
   },
   {
    "duration": 17,
    "start_time": "2022-11-22T06:50:09.249Z"
   },
   {
    "duration": 30,
    "start_time": "2022-11-22T06:50:09.268Z"
   },
   {
    "duration": 18,
    "start_time": "2022-11-22T06:50:09.302Z"
   },
   {
    "duration": 13,
    "start_time": "2022-11-22T06:50:09.322Z"
   },
   {
    "duration": 13,
    "start_time": "2022-11-22T06:50:09.336Z"
   },
   {
    "duration": 19,
    "start_time": "2022-11-22T06:50:09.351Z"
   },
   {
    "duration": 10,
    "start_time": "2022-11-22T06:50:09.372Z"
   },
   {
    "duration": 5,
    "start_time": "2022-11-22T06:50:09.383Z"
   },
   {
    "duration": 12,
    "start_time": "2022-11-22T06:50:09.390Z"
   },
   {
    "duration": 21,
    "start_time": "2022-11-22T06:50:09.403Z"
   },
   {
    "duration": 74,
    "start_time": "2022-11-22T06:50:09.426Z"
   },
   {
    "duration": 10,
    "start_time": "2022-11-22T06:50:09.502Z"
   },
   {
    "duration": 13,
    "start_time": "2022-11-22T06:50:09.514Z"
   },
   {
    "duration": 52,
    "start_time": "2022-11-22T06:50:09.528Z"
   },
   {
    "duration": 18,
    "start_time": "2022-11-22T06:50:09.582Z"
   },
   {
    "duration": 15,
    "start_time": "2022-11-22T06:50:09.602Z"
   },
   {
    "duration": 25,
    "start_time": "2022-11-22T06:50:09.619Z"
   },
   {
    "duration": 37,
    "start_time": "2022-11-22T06:50:09.646Z"
   },
   {
    "duration": 14,
    "start_time": "2022-11-22T06:50:09.685Z"
   },
   {
    "duration": 290,
    "start_time": "2022-11-22T06:50:09.700Z"
   },
   {
    "duration": 313,
    "start_time": "2022-11-22T06:50:09.992Z"
   },
   {
    "duration": 12,
    "start_time": "2022-11-22T06:50:10.306Z"
   },
   {
    "duration": 224,
    "start_time": "2022-11-22T06:50:10.320Z"
   },
   {
    "duration": 287,
    "start_time": "2022-11-22T06:50:10.545Z"
   },
   {
    "duration": 234,
    "start_time": "2022-11-22T06:50:10.833Z"
   },
   {
    "duration": 325,
    "start_time": "2022-11-22T06:50:11.069Z"
   },
   {
    "duration": 263,
    "start_time": "2022-11-22T06:50:11.395Z"
   },
   {
    "duration": 4,
    "start_time": "2022-11-22T06:50:11.660Z"
   },
   {
    "duration": 255,
    "start_time": "2022-11-22T06:50:11.666Z"
   },
   {
    "duration": 155,
    "start_time": "2022-11-22T06:50:11.924Z"
   },
   {
    "duration": 4,
    "start_time": "2022-11-22T06:50:12.081Z"
   },
   {
    "duration": 235,
    "start_time": "2022-11-22T06:50:12.086Z"
   },
   {
    "duration": 10,
    "start_time": "2022-11-22T06:50:12.322Z"
   },
   {
    "duration": 165,
    "start_time": "2022-11-22T06:50:12.334Z"
   },
   {
    "duration": 10,
    "start_time": "2022-11-22T06:50:12.504Z"
   },
   {
    "duration": 8,
    "start_time": "2022-11-22T06:50:12.516Z"
   },
   {
    "duration": 60,
    "start_time": "2022-11-22T06:50:12.526Z"
   },
   {
    "duration": 13,
    "start_time": "2022-11-22T06:50:12.588Z"
   },
   {
    "duration": 4,
    "start_time": "2022-11-22T06:50:36.895Z"
   },
   {
    "duration": 4,
    "start_time": "2022-11-22T06:50:43.256Z"
   },
   {
    "duration": 7,
    "start_time": "2022-11-22T06:50:55.910Z"
   },
   {
    "duration": 8,
    "start_time": "2022-11-22T06:53:17.811Z"
   },
   {
    "duration": 22,
    "start_time": "2022-11-22T07:03:03.553Z"
   },
   {
    "duration": 1275,
    "start_time": "2022-11-22T07:24:43.888Z"
   },
   {
    "duration": 8,
    "start_time": "2022-11-22T07:24:52.239Z"
   },
   {
    "duration": 13,
    "start_time": "2022-11-22T07:25:02.167Z"
   },
   {
    "duration": 12,
    "start_time": "2022-11-22T07:29:50.973Z"
   },
   {
    "duration": 238,
    "start_time": "2022-11-22T07:31:25.186Z"
   },
   {
    "duration": 10,
    "start_time": "2022-11-22T07:31:43.488Z"
   },
   {
    "duration": 9,
    "start_time": "2022-11-22T07:38:14.409Z"
   },
   {
    "duration": 10,
    "start_time": "2022-11-22T07:38:18.091Z"
   },
   {
    "duration": 9,
    "start_time": "2022-11-22T07:38:56.619Z"
   },
   {
    "duration": 13,
    "start_time": "2022-11-22T08:15:34.286Z"
   },
   {
    "duration": 9,
    "start_time": "2022-11-22T08:15:41.374Z"
   },
   {
    "duration": 249,
    "start_time": "2022-11-22T08:59:24.117Z"
   },
   {
    "duration": 255,
    "start_time": "2022-11-22T08:59:50.493Z"
   },
   {
    "duration": 330,
    "start_time": "2022-11-22T09:00:14.325Z"
   },
   {
    "duration": 312,
    "start_time": "2022-11-22T09:00:44.121Z"
   },
   {
    "duration": 326,
    "start_time": "2022-11-22T09:00:59.651Z"
   },
   {
    "duration": 5,
    "start_time": "2022-11-22T09:33:16.932Z"
   },
   {
    "duration": 4,
    "start_time": "2022-11-22T09:33:23.778Z"
   },
   {
    "duration": 5,
    "start_time": "2022-11-22T09:34:10.792Z"
   },
   {
    "duration": 11,
    "start_time": "2022-11-22T09:34:20.088Z"
   },
   {
    "duration": 6,
    "start_time": "2022-11-22T09:34:28.232Z"
   },
   {
    "duration": 8,
    "start_time": "2022-11-22T09:34:53.270Z"
   },
   {
    "duration": 77,
    "start_time": "2022-11-22T09:35:00.150Z"
   },
   {
    "duration": 9,
    "start_time": "2022-11-22T09:35:07.033Z"
   },
   {
    "duration": 4,
    "start_time": "2022-11-22T09:35:16.421Z"
   },
   {
    "duration": 24,
    "start_time": "2022-11-22T09:35:53.594Z"
   },
   {
    "duration": 14,
    "start_time": "2022-11-22T09:36:43.847Z"
   },
   {
    "duration": 24,
    "start_time": "2022-11-22T09:37:00.709Z"
   },
   {
    "duration": 9,
    "start_time": "2022-11-22T09:37:06.974Z"
   },
   {
    "duration": 5,
    "start_time": "2022-11-22T09:37:10.197Z"
   },
   {
    "duration": 10,
    "start_time": "2022-11-22T09:37:51.333Z"
   },
   {
    "duration": 1217,
    "start_time": "2022-11-22T09:39:03.001Z"
   },
   {
    "duration": 218,
    "start_time": "2022-11-22T09:39:04.220Z"
   },
   {
    "duration": 11,
    "start_time": "2022-11-22T09:39:04.439Z"
   },
   {
    "duration": 11,
    "start_time": "2022-11-22T09:39:04.452Z"
   },
   {
    "duration": 67,
    "start_time": "2022-11-22T09:39:04.464Z"
   },
   {
    "duration": 3,
    "start_time": "2022-11-22T09:39:04.532Z"
   },
   {
    "duration": 17,
    "start_time": "2022-11-22T09:39:04.537Z"
   },
   {
    "duration": 18,
    "start_time": "2022-11-22T09:39:04.556Z"
   },
   {
    "duration": 17,
    "start_time": "2022-11-22T09:39:04.576Z"
   },
   {
    "duration": 41,
    "start_time": "2022-11-22T09:39:04.596Z"
   },
   {
    "duration": 13,
    "start_time": "2022-11-22T09:39:04.638Z"
   },
   {
    "duration": 9,
    "start_time": "2022-11-22T09:39:04.653Z"
   },
   {
    "duration": 10,
    "start_time": "2022-11-22T09:39:04.664Z"
   },
   {
    "duration": 16,
    "start_time": "2022-11-22T09:39:04.676Z"
   },
   {
    "duration": 8,
    "start_time": "2022-11-22T09:39:04.694Z"
   },
   {
    "duration": 23,
    "start_time": "2022-11-22T09:39:04.706Z"
   },
   {
    "duration": 21,
    "start_time": "2022-11-22T09:39:04.731Z"
   },
   {
    "duration": 6,
    "start_time": "2022-11-22T09:39:04.753Z"
   },
   {
    "duration": 10,
    "start_time": "2022-11-22T09:39:04.761Z"
   },
   {
    "duration": 9,
    "start_time": "2022-11-22T09:39:04.773Z"
   },
   {
    "duration": 14,
    "start_time": "2022-11-22T09:39:04.784Z"
   },
   {
    "duration": 33,
    "start_time": "2022-11-22T09:39:04.800Z"
   },
   {
    "duration": 8,
    "start_time": "2022-11-22T09:39:04.835Z"
   },
   {
    "duration": 18,
    "start_time": "2022-11-22T09:39:04.845Z"
   },
   {
    "duration": 14,
    "start_time": "2022-11-22T09:39:04.864Z"
   },
   {
    "duration": 12,
    "start_time": "2022-11-22T09:39:04.879Z"
   },
   {
    "duration": 10,
    "start_time": "2022-11-22T09:39:04.893Z"
   },
   {
    "duration": 39,
    "start_time": "2022-11-22T09:39:04.906Z"
   },
   {
    "duration": 22,
    "start_time": "2022-11-22T09:39:04.947Z"
   },
   {
    "duration": 13,
    "start_time": "2022-11-22T09:39:04.971Z"
   },
   {
    "duration": 301,
    "start_time": "2022-11-22T09:39:04.986Z"
   },
   {
    "duration": 27,
    "start_time": "2022-11-22T09:39:05.289Z"
   },
   {
    "duration": 322,
    "start_time": "2022-11-22T09:39:05.321Z"
   },
   {
    "duration": 11,
    "start_time": "2022-11-22T09:39:05.644Z"
   },
   {
    "duration": 251,
    "start_time": "2022-11-22T09:39:05.657Z"
   },
   {
    "duration": 342,
    "start_time": "2022-11-22T09:39:05.916Z"
   },
   {
    "duration": 317,
    "start_time": "2022-11-22T09:39:06.260Z"
   },
   {
    "duration": 367,
    "start_time": "2022-11-22T09:39:06.579Z"
   },
   {
    "duration": 317,
    "start_time": "2022-11-22T09:39:06.947Z"
   },
   {
    "duration": 5,
    "start_time": "2022-11-22T09:39:07.266Z"
   },
   {
    "duration": 290,
    "start_time": "2022-11-22T09:39:07.272Z"
   },
   {
    "duration": 202,
    "start_time": "2022-11-22T09:39:07.564Z"
   },
   {
    "duration": 5,
    "start_time": "2022-11-22T09:39:07.768Z"
   },
   {
    "duration": 255,
    "start_time": "2022-11-22T09:39:07.775Z"
   },
   {
    "duration": 13,
    "start_time": "2022-11-22T09:39:08.033Z"
   },
   {
    "duration": 206,
    "start_time": "2022-11-22T09:39:08.048Z"
   },
   {
    "duration": 13,
    "start_time": "2022-11-22T09:39:08.256Z"
   },
   {
    "duration": 126,
    "start_time": "2022-11-22T09:39:08.271Z"
   },
   {
    "duration": 0,
    "start_time": "2022-11-22T09:39:08.399Z"
   },
   {
    "duration": 0,
    "start_time": "2022-11-22T09:39:08.400Z"
   },
   {
    "duration": 11,
    "start_time": "2022-11-22T09:39:50.270Z"
   },
   {
    "duration": 1226,
    "start_time": "2022-11-22T09:39:58.400Z"
   },
   {
    "duration": 145,
    "start_time": "2022-11-22T09:39:59.629Z"
   },
   {
    "duration": 13,
    "start_time": "2022-11-22T09:39:59.777Z"
   },
   {
    "duration": 35,
    "start_time": "2022-11-22T09:39:59.792Z"
   },
   {
    "duration": 59,
    "start_time": "2022-11-22T09:39:59.829Z"
   },
   {
    "duration": 3,
    "start_time": "2022-11-22T09:39:59.890Z"
   },
   {
    "duration": 23,
    "start_time": "2022-11-22T09:39:59.896Z"
   },
   {
    "duration": 17,
    "start_time": "2022-11-22T09:39:59.926Z"
   },
   {
    "duration": 10,
    "start_time": "2022-11-22T09:39:59.945Z"
   },
   {
    "duration": 15,
    "start_time": "2022-11-22T09:39:59.958Z"
   },
   {
    "duration": 26,
    "start_time": "2022-11-22T09:39:59.976Z"
   },
   {
    "duration": 39,
    "start_time": "2022-11-22T09:40:00.004Z"
   },
   {
    "duration": 18,
    "start_time": "2022-11-22T09:40:00.045Z"
   },
   {
    "duration": 47,
    "start_time": "2022-11-22T09:40:00.065Z"
   },
   {
    "duration": 56,
    "start_time": "2022-11-22T09:40:00.114Z"
   },
   {
    "duration": 27,
    "start_time": "2022-11-22T09:40:00.172Z"
   },
   {
    "duration": 46,
    "start_time": "2022-11-22T09:40:00.201Z"
   },
   {
    "duration": 21,
    "start_time": "2022-11-22T09:40:00.249Z"
   },
   {
    "duration": 17,
    "start_time": "2022-11-22T09:40:00.272Z"
   },
   {
    "duration": 53,
    "start_time": "2022-11-22T09:40:00.290Z"
   },
   {
    "duration": 26,
    "start_time": "2022-11-22T09:40:00.345Z"
   },
   {
    "duration": 41,
    "start_time": "2022-11-22T09:40:00.373Z"
   },
   {
    "duration": 20,
    "start_time": "2022-11-22T09:40:00.420Z"
   },
   {
    "duration": 34,
    "start_time": "2022-11-22T09:40:00.443Z"
   },
   {
    "duration": 74,
    "start_time": "2022-11-22T09:40:00.479Z"
   },
   {
    "duration": 42,
    "start_time": "2022-11-22T09:40:00.555Z"
   },
   {
    "duration": 53,
    "start_time": "2022-11-22T09:40:00.598Z"
   },
   {
    "duration": 35,
    "start_time": "2022-11-22T09:40:00.654Z"
   },
   {
    "duration": 83,
    "start_time": "2022-11-22T09:40:00.691Z"
   },
   {
    "duration": 11,
    "start_time": "2022-11-22T09:40:00.776Z"
   },
   {
    "duration": 382,
    "start_time": "2022-11-22T09:40:00.789Z"
   },
   {
    "duration": 10,
    "start_time": "2022-11-22T09:40:01.173Z"
   },
   {
    "duration": 381,
    "start_time": "2022-11-22T09:40:01.185Z"
   },
   {
    "duration": 13,
    "start_time": "2022-11-22T09:40:01.569Z"
   },
   {
    "duration": 273,
    "start_time": "2022-11-22T09:40:01.583Z"
   },
   {
    "duration": 399,
    "start_time": "2022-11-22T09:40:01.858Z"
   },
   {
    "duration": 307,
    "start_time": "2022-11-22T09:40:02.259Z"
   },
   {
    "duration": 323,
    "start_time": "2022-11-22T09:40:02.568Z"
   },
   {
    "duration": 346,
    "start_time": "2022-11-22T09:40:02.893Z"
   },
   {
    "duration": 4,
    "start_time": "2022-11-22T09:40:03.241Z"
   },
   {
    "duration": 301,
    "start_time": "2022-11-22T09:40:03.247Z"
   },
   {
    "duration": 195,
    "start_time": "2022-11-22T09:40:03.551Z"
   },
   {
    "duration": 5,
    "start_time": "2022-11-22T09:40:03.749Z"
   },
   {
    "duration": 248,
    "start_time": "2022-11-22T09:40:03.756Z"
   },
   {
    "duration": 14,
    "start_time": "2022-11-22T09:40:04.009Z"
   },
   {
    "duration": 241,
    "start_time": "2022-11-22T09:40:04.025Z"
   },
   {
    "duration": 12,
    "start_time": "2022-11-22T09:40:04.268Z"
   },
   {
    "duration": 24,
    "start_time": "2022-11-22T09:40:04.282Z"
   },
   {
    "duration": 49,
    "start_time": "2022-11-22T09:40:04.307Z"
   },
   {
    "duration": 16,
    "start_time": "2022-11-22T09:40:04.358Z"
   },
   {
    "duration": 56,
    "start_time": "2022-11-30T20:45:34.300Z"
   },
   {
    "duration": 1200,
    "start_time": "2023-02-21T20:34:43.303Z"
   },
   {
    "duration": 208,
    "start_time": "2023-02-21T20:34:44.505Z"
   },
   {
    "duration": 16,
    "start_time": "2023-02-21T20:34:44.715Z"
   },
   {
    "duration": 10,
    "start_time": "2023-02-21T20:34:44.733Z"
   },
   {
    "duration": 70,
    "start_time": "2023-02-21T20:34:44.745Z"
   },
   {
    "duration": 4,
    "start_time": "2023-02-21T20:34:44.816Z"
   },
   {
    "duration": 10,
    "start_time": "2023-02-21T20:34:44.821Z"
   },
   {
    "duration": 8,
    "start_time": "2023-02-21T20:34:44.833Z"
   },
   {
    "duration": 10,
    "start_time": "2023-02-21T20:34:44.843Z"
   },
   {
    "duration": 11,
    "start_time": "2023-02-21T20:34:44.855Z"
   },
   {
    "duration": 42,
    "start_time": "2023-02-21T20:34:44.868Z"
   },
   {
    "duration": 3,
    "start_time": "2023-02-21T20:34:44.912Z"
   },
   {
    "duration": 7,
    "start_time": "2023-02-21T20:34:44.916Z"
   },
   {
    "duration": 11,
    "start_time": "2023-02-21T20:34:44.925Z"
   },
   {
    "duration": 5,
    "start_time": "2023-02-21T20:34:44.938Z"
   },
   {
    "duration": 7,
    "start_time": "2023-02-21T20:34:44.944Z"
   },
   {
    "duration": 8,
    "start_time": "2023-02-21T20:34:44.953Z"
   },
   {
    "duration": 44,
    "start_time": "2023-02-21T20:34:44.962Z"
   },
   {
    "duration": 38,
    "start_time": "2023-02-21T20:34:45.008Z"
   },
   {
    "duration": 9,
    "start_time": "2023-02-21T20:34:45.048Z"
   },
   {
    "duration": 12,
    "start_time": "2023-02-21T20:34:45.059Z"
   },
   {
    "duration": 19,
    "start_time": "2023-02-21T20:34:45.073Z"
   },
   {
    "duration": 4,
    "start_time": "2023-02-21T20:34:45.095Z"
   },
   {
    "duration": 9,
    "start_time": "2023-02-21T20:34:45.101Z"
   },
   {
    "duration": 13,
    "start_time": "2023-02-21T20:34:45.112Z"
   },
   {
    "duration": 12,
    "start_time": "2023-02-21T20:34:45.127Z"
   },
   {
    "duration": 9,
    "start_time": "2023-02-21T20:34:45.141Z"
   },
   {
    "duration": 14,
    "start_time": "2023-02-21T20:34:45.154Z"
   },
   {
    "duration": 15,
    "start_time": "2023-02-21T20:34:45.170Z"
   },
   {
    "duration": 11,
    "start_time": "2023-02-21T20:34:45.203Z"
   },
   {
    "duration": 307,
    "start_time": "2023-02-21T20:34:45.216Z"
   },
   {
    "duration": 10,
    "start_time": "2023-02-21T20:34:45.525Z"
   },
   {
    "duration": 310,
    "start_time": "2023-02-21T20:34:45.537Z"
   },
   {
    "duration": 11,
    "start_time": "2023-02-21T20:34:45.849Z"
   },
   {
    "duration": 227,
    "start_time": "2023-02-21T20:34:45.862Z"
   },
   {
    "duration": 331,
    "start_time": "2023-02-21T20:34:46.091Z"
   },
   {
    "duration": 283,
    "start_time": "2023-02-21T20:34:46.424Z"
   },
   {
    "duration": 337,
    "start_time": "2023-02-21T20:34:46.709Z"
   },
   {
    "duration": 258,
    "start_time": "2023-02-21T20:34:47.048Z"
   },
   {
    "duration": 4,
    "start_time": "2023-02-21T20:34:47.307Z"
   },
   {
    "duration": 227,
    "start_time": "2023-02-21T20:34:47.313Z"
   },
   {
    "duration": 151,
    "start_time": "2023-02-21T20:34:47.542Z"
   },
   {
    "duration": 11,
    "start_time": "2023-02-21T20:34:47.695Z"
   },
   {
    "duration": 236,
    "start_time": "2023-02-21T20:34:47.708Z"
   },
   {
    "duration": 10,
    "start_time": "2023-02-21T20:34:47.945Z"
   },
   {
    "duration": 165,
    "start_time": "2023-02-21T20:34:47.957Z"
   },
   {
    "duration": 11,
    "start_time": "2023-02-21T20:34:48.124Z"
   },
   {
    "duration": 9,
    "start_time": "2023-02-21T20:34:48.136Z"
   },
   {
    "duration": 28,
    "start_time": "2023-02-21T20:34:48.146Z"
   },
   {
    "duration": 41,
    "start_time": "2023-02-21T20:34:48.177Z"
   },
   {
    "duration": 1131,
    "start_time": "2023-06-08T09:10:42.311Z"
   },
   {
    "duration": 414,
    "start_time": "2023-06-08T09:10:43.443Z"
   },
   {
    "duration": 13,
    "start_time": "2023-06-08T09:10:43.859Z"
   },
   {
    "duration": 11,
    "start_time": "2023-06-08T09:10:43.875Z"
   },
   {
    "duration": 78,
    "start_time": "2023-06-08T09:10:43.887Z"
   },
   {
    "duration": 3,
    "start_time": "2023-06-08T09:10:43.967Z"
   },
   {
    "duration": 9,
    "start_time": "2023-06-08T09:10:43.972Z"
   },
   {
    "duration": 11,
    "start_time": "2023-06-08T09:10:43.983Z"
   },
   {
    "duration": 8,
    "start_time": "2023-06-08T09:10:43.995Z"
   },
   {
    "duration": 48,
    "start_time": "2023-06-08T09:10:44.006Z"
   },
   {
    "duration": 20,
    "start_time": "2023-06-08T09:10:44.056Z"
   },
   {
    "duration": 4,
    "start_time": "2023-06-08T09:10:44.078Z"
   },
   {
    "duration": 8,
    "start_time": "2023-06-08T09:10:44.084Z"
   },
   {
    "duration": 19,
    "start_time": "2023-06-08T09:10:44.096Z"
   },
   {
    "duration": 41,
    "start_time": "2023-06-08T09:10:44.117Z"
   },
   {
    "duration": 7,
    "start_time": "2023-06-08T09:10:44.161Z"
   },
   {
    "duration": 11,
    "start_time": "2023-06-08T09:10:44.170Z"
   },
   {
    "duration": 12,
    "start_time": "2023-06-08T09:10:44.184Z"
   },
   {
    "duration": 16,
    "start_time": "2023-06-08T09:10:44.198Z"
   },
   {
    "duration": 51,
    "start_time": "2023-06-08T09:10:44.216Z"
   },
   {
    "duration": 21,
    "start_time": "2023-06-08T09:10:44.269Z"
   },
   {
    "duration": 21,
    "start_time": "2023-06-08T09:10:44.292Z"
   },
   {
    "duration": 8,
    "start_time": "2023-06-08T09:10:44.315Z"
   },
   {
    "duration": 11,
    "start_time": "2023-06-08T09:10:44.325Z"
   },
   {
    "duration": 11,
    "start_time": "2023-06-08T09:10:44.351Z"
   },
   {
    "duration": 11,
    "start_time": "2023-06-08T09:10:44.364Z"
   },
   {
    "duration": 16,
    "start_time": "2023-06-08T09:10:44.377Z"
   },
   {
    "duration": 18,
    "start_time": "2023-06-08T09:10:44.397Z"
   },
   {
    "duration": 45,
    "start_time": "2023-06-08T09:10:44.417Z"
   },
   {
    "duration": 11,
    "start_time": "2023-06-08T09:10:44.464Z"
   },
   {
    "duration": 326,
    "start_time": "2023-06-08T09:10:44.477Z"
   },
   {
    "duration": 10,
    "start_time": "2023-06-08T09:10:44.805Z"
   },
   {
    "duration": 330,
    "start_time": "2023-06-08T09:10:44.816Z"
   },
   {
    "duration": 12,
    "start_time": "2023-06-08T09:10:45.150Z"
   },
   {
    "duration": 261,
    "start_time": "2023-06-08T09:10:45.164Z"
   },
   {
    "duration": 348,
    "start_time": "2023-06-08T09:10:45.427Z"
   },
   {
    "duration": 264,
    "start_time": "2023-06-08T09:10:45.777Z"
   },
   {
    "duration": 335,
    "start_time": "2023-06-08T09:10:46.050Z"
   },
   {
    "duration": 295,
    "start_time": "2023-06-08T09:10:46.388Z"
   },
   {
    "duration": 4,
    "start_time": "2023-06-08T09:10:46.685Z"
   },
   {
    "duration": 262,
    "start_time": "2023-06-08T09:10:46.690Z"
   },
   {
    "duration": 180,
    "start_time": "2023-06-08T09:10:46.953Z"
   },
   {
    "duration": 4,
    "start_time": "2023-06-08T09:10:47.134Z"
   },
   {
    "duration": 253,
    "start_time": "2023-06-08T09:10:47.150Z"
   },
   {
    "duration": 10,
    "start_time": "2023-06-08T09:10:47.405Z"
   },
   {
    "duration": 180,
    "start_time": "2023-06-08T09:10:47.417Z"
   },
   {
    "duration": 12,
    "start_time": "2023-06-08T09:10:47.599Z"
   },
   {
    "duration": 8,
    "start_time": "2023-06-08T09:10:47.613Z"
   },
   {
    "duration": 50,
    "start_time": "2023-06-08T09:10:47.623Z"
   },
   {
    "duration": 16,
    "start_time": "2023-06-08T09:10:47.675Z"
   }
  ],
  "kernelspec": {
   "display_name": "Python 3 (ipykernel)",
   "language": "python",
   "name": "python3"
  },
  "language_info": {
   "codemirror_mode": {
    "name": "ipython",
    "version": 3
   },
   "file_extension": ".py",
   "mimetype": "text/x-python",
   "name": "python",
   "nbconvert_exporter": "python",
   "pygments_lexer": "ipython3",
   "version": "3.9.5"
  },
  "toc": {
   "base_numbering": "1",
   "nav_menu": {},
   "number_sections": false,
   "sideBar": true,
   "skip_h1_title": true,
   "title_cell": "Table of Contents",
   "title_sidebar": "Contents",
   "toc_cell": false,
   "toc_position": {
    "height": "calc(100% - 180px)",
    "left": "10px",
    "top": "150px",
    "width": "587.188px"
   },
   "toc_section_display": true,
   "toc_window_display": true
  }
 },
 "nbformat": 4,
 "nbformat_minor": 2
}
