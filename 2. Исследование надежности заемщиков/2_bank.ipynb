{
 "cells": [
  {
   "cell_type": "markdown",
   "id": "de4205ad",
   "metadata": {
    "deletable": false,
    "editable": false,
    "id": "c81daeeb"
   },
   "source": [
    "# Исследование надежности заемщиков\n"
   ]
  },
  {
   "cell_type": "markdown",
   "id": "2c58d771",
   "metadata": {
    "deletable": false,
    "editable": false,
    "id": "827c20bf"
   },
   "source": [
    "Во второй части проекта вы выполните шаги 3 и 4. Их вручную проверит ревьюер.\n",
    "Чтобы вам не пришлось писать код заново для шагов 1 и 2, мы добавили авторские решения в ячейки с кодом. \n",
    "\n"
   ]
  },
  {
   "cell_type": "markdown",
   "id": "453de7cf",
   "metadata": {
    "deletable": false,
    "editable": false,
    "id": "744d7639"
   },
   "source": [
    "## Откройте таблицу и изучите общую информацию о данных"
   ]
  },
  {
   "cell_type": "markdown",
   "id": "7addd0e8",
   "metadata": {
    "deletable": false,
    "editable": false,
    "id": "e7a14c31"
   },
   "source": [
    "**Задание 1. Импортируйте библиотеку pandas. Считайте данные из csv-файла в датафрейм и сохраните в переменную `data`. Путь к файлу:**\n",
    "\n",
    "`/datasets/data.csv`"
   ]
  },
  {
   "cell_type": "code",
   "execution_count": 1,
   "id": "1d15ed3a",
   "metadata": {
    "deletable": false,
    "id": "7bcf75c9"
   },
   "outputs": [],
   "source": [
    "import pandas as pd\n",
    "\n",
    "try:\n",
    "    data = pd.read_csv('/datasets/data.csv')\n",
    "except:\n",
    "    data = pd.read_csv('https://code.s3.yandex.net/datasets/data.csv')"
   ]
  },
  {
   "cell_type": "markdown",
   "id": "74a6dc7c",
   "metadata": {
    "deletable": false,
    "editable": false,
    "id": "b8038fe3"
   },
   "source": [
    "**Задание 2. Выведите первые 20 строчек датафрейма `data` на экран.**"
   ]
  },
  {
   "cell_type": "code",
   "execution_count": 2,
   "id": "bb344409",
   "metadata": {
    "deletable": false,
    "id": "2a7cab99",
    "outputId": "1a8f3ef2-d323-4ec2-ddf7-89670b5944c4"
   },
   "outputs": [
    {
     "data": {
      "text/html": [
       "<div>\n",
       "<style scoped>\n",
       "    .dataframe tbody tr th:only-of-type {\n",
       "        vertical-align: middle;\n",
       "    }\n",
       "\n",
       "    .dataframe tbody tr th {\n",
       "        vertical-align: top;\n",
       "    }\n",
       "\n",
       "    .dataframe thead th {\n",
       "        text-align: right;\n",
       "    }\n",
       "</style>\n",
       "<table border=\"1\" class=\"dataframe\">\n",
       "  <thead>\n",
       "    <tr style=\"text-align: right;\">\n",
       "      <th></th>\n",
       "      <th>children</th>\n",
       "      <th>days_employed</th>\n",
       "      <th>dob_years</th>\n",
       "      <th>education</th>\n",
       "      <th>education_id</th>\n",
       "      <th>family_status</th>\n",
       "      <th>family_status_id</th>\n",
       "      <th>gender</th>\n",
       "      <th>income_type</th>\n",
       "      <th>debt</th>\n",
       "      <th>total_income</th>\n",
       "      <th>purpose</th>\n",
       "    </tr>\n",
       "  </thead>\n",
       "  <tbody>\n",
       "    <tr>\n",
       "      <th>0</th>\n",
       "      <td>1</td>\n",
       "      <td>-8437.673028</td>\n",
       "      <td>42</td>\n",
       "      <td>высшее</td>\n",
       "      <td>0</td>\n",
       "      <td>женат / замужем</td>\n",
       "      <td>0</td>\n",
       "      <td>F</td>\n",
       "      <td>сотрудник</td>\n",
       "      <td>0</td>\n",
       "      <td>253875.639453</td>\n",
       "      <td>покупка жилья</td>\n",
       "    </tr>\n",
       "    <tr>\n",
       "      <th>1</th>\n",
       "      <td>1</td>\n",
       "      <td>-4024.803754</td>\n",
       "      <td>36</td>\n",
       "      <td>среднее</td>\n",
       "      <td>1</td>\n",
       "      <td>женат / замужем</td>\n",
       "      <td>0</td>\n",
       "      <td>F</td>\n",
       "      <td>сотрудник</td>\n",
       "      <td>0</td>\n",
       "      <td>112080.014102</td>\n",
       "      <td>приобретение автомобиля</td>\n",
       "    </tr>\n",
       "    <tr>\n",
       "      <th>2</th>\n",
       "      <td>0</td>\n",
       "      <td>-5623.422610</td>\n",
       "      <td>33</td>\n",
       "      <td>Среднее</td>\n",
       "      <td>1</td>\n",
       "      <td>женат / замужем</td>\n",
       "      <td>0</td>\n",
       "      <td>M</td>\n",
       "      <td>сотрудник</td>\n",
       "      <td>0</td>\n",
       "      <td>145885.952297</td>\n",
       "      <td>покупка жилья</td>\n",
       "    </tr>\n",
       "    <tr>\n",
       "      <th>3</th>\n",
       "      <td>3</td>\n",
       "      <td>-4124.747207</td>\n",
       "      <td>32</td>\n",
       "      <td>среднее</td>\n",
       "      <td>1</td>\n",
       "      <td>женат / замужем</td>\n",
       "      <td>0</td>\n",
       "      <td>M</td>\n",
       "      <td>сотрудник</td>\n",
       "      <td>0</td>\n",
       "      <td>267628.550329</td>\n",
       "      <td>дополнительное образование</td>\n",
       "    </tr>\n",
       "    <tr>\n",
       "      <th>4</th>\n",
       "      <td>0</td>\n",
       "      <td>340266.072047</td>\n",
       "      <td>53</td>\n",
       "      <td>среднее</td>\n",
       "      <td>1</td>\n",
       "      <td>гражданский брак</td>\n",
       "      <td>1</td>\n",
       "      <td>F</td>\n",
       "      <td>пенсионер</td>\n",
       "      <td>0</td>\n",
       "      <td>158616.077870</td>\n",
       "      <td>сыграть свадьбу</td>\n",
       "    </tr>\n",
       "    <tr>\n",
       "      <th>5</th>\n",
       "      <td>0</td>\n",
       "      <td>-926.185831</td>\n",
       "      <td>27</td>\n",
       "      <td>высшее</td>\n",
       "      <td>0</td>\n",
       "      <td>гражданский брак</td>\n",
       "      <td>1</td>\n",
       "      <td>M</td>\n",
       "      <td>компаньон</td>\n",
       "      <td>0</td>\n",
       "      <td>255763.565419</td>\n",
       "      <td>покупка жилья</td>\n",
       "    </tr>\n",
       "    <tr>\n",
       "      <th>6</th>\n",
       "      <td>0</td>\n",
       "      <td>-2879.202052</td>\n",
       "      <td>43</td>\n",
       "      <td>высшее</td>\n",
       "      <td>0</td>\n",
       "      <td>женат / замужем</td>\n",
       "      <td>0</td>\n",
       "      <td>F</td>\n",
       "      <td>компаньон</td>\n",
       "      <td>0</td>\n",
       "      <td>240525.971920</td>\n",
       "      <td>операции с жильем</td>\n",
       "    </tr>\n",
       "    <tr>\n",
       "      <th>7</th>\n",
       "      <td>0</td>\n",
       "      <td>-152.779569</td>\n",
       "      <td>50</td>\n",
       "      <td>СРЕДНЕЕ</td>\n",
       "      <td>1</td>\n",
       "      <td>женат / замужем</td>\n",
       "      <td>0</td>\n",
       "      <td>M</td>\n",
       "      <td>сотрудник</td>\n",
       "      <td>0</td>\n",
       "      <td>135823.934197</td>\n",
       "      <td>образование</td>\n",
       "    </tr>\n",
       "    <tr>\n",
       "      <th>8</th>\n",
       "      <td>2</td>\n",
       "      <td>-6929.865299</td>\n",
       "      <td>35</td>\n",
       "      <td>ВЫСШЕЕ</td>\n",
       "      <td>0</td>\n",
       "      <td>гражданский брак</td>\n",
       "      <td>1</td>\n",
       "      <td>F</td>\n",
       "      <td>сотрудник</td>\n",
       "      <td>0</td>\n",
       "      <td>95856.832424</td>\n",
       "      <td>на проведение свадьбы</td>\n",
       "    </tr>\n",
       "    <tr>\n",
       "      <th>9</th>\n",
       "      <td>0</td>\n",
       "      <td>-2188.756445</td>\n",
       "      <td>41</td>\n",
       "      <td>среднее</td>\n",
       "      <td>1</td>\n",
       "      <td>женат / замужем</td>\n",
       "      <td>0</td>\n",
       "      <td>M</td>\n",
       "      <td>сотрудник</td>\n",
       "      <td>0</td>\n",
       "      <td>144425.938277</td>\n",
       "      <td>покупка жилья для семьи</td>\n",
       "    </tr>\n",
       "    <tr>\n",
       "      <th>10</th>\n",
       "      <td>2</td>\n",
       "      <td>-4171.483647</td>\n",
       "      <td>36</td>\n",
       "      <td>высшее</td>\n",
       "      <td>0</td>\n",
       "      <td>женат / замужем</td>\n",
       "      <td>0</td>\n",
       "      <td>M</td>\n",
       "      <td>компаньон</td>\n",
       "      <td>0</td>\n",
       "      <td>113943.491460</td>\n",
       "      <td>покупка недвижимости</td>\n",
       "    </tr>\n",
       "    <tr>\n",
       "      <th>11</th>\n",
       "      <td>0</td>\n",
       "      <td>-792.701887</td>\n",
       "      <td>40</td>\n",
       "      <td>среднее</td>\n",
       "      <td>1</td>\n",
       "      <td>женат / замужем</td>\n",
       "      <td>0</td>\n",
       "      <td>F</td>\n",
       "      <td>сотрудник</td>\n",
       "      <td>0</td>\n",
       "      <td>77069.234271</td>\n",
       "      <td>покупка коммерческой недвижимости</td>\n",
       "    </tr>\n",
       "    <tr>\n",
       "      <th>12</th>\n",
       "      <td>0</td>\n",
       "      <td>NaN</td>\n",
       "      <td>65</td>\n",
       "      <td>среднее</td>\n",
       "      <td>1</td>\n",
       "      <td>гражданский брак</td>\n",
       "      <td>1</td>\n",
       "      <td>M</td>\n",
       "      <td>пенсионер</td>\n",
       "      <td>0</td>\n",
       "      <td>NaN</td>\n",
       "      <td>сыграть свадьбу</td>\n",
       "    </tr>\n",
       "    <tr>\n",
       "      <th>13</th>\n",
       "      <td>0</td>\n",
       "      <td>-1846.641941</td>\n",
       "      <td>54</td>\n",
       "      <td>неоконченное высшее</td>\n",
       "      <td>2</td>\n",
       "      <td>женат / замужем</td>\n",
       "      <td>0</td>\n",
       "      <td>F</td>\n",
       "      <td>сотрудник</td>\n",
       "      <td>0</td>\n",
       "      <td>130458.228857</td>\n",
       "      <td>приобретение автомобиля</td>\n",
       "    </tr>\n",
       "    <tr>\n",
       "      <th>14</th>\n",
       "      <td>0</td>\n",
       "      <td>-1844.956182</td>\n",
       "      <td>56</td>\n",
       "      <td>высшее</td>\n",
       "      <td>0</td>\n",
       "      <td>гражданский брак</td>\n",
       "      <td>1</td>\n",
       "      <td>F</td>\n",
       "      <td>компаньон</td>\n",
       "      <td>1</td>\n",
       "      <td>165127.911772</td>\n",
       "      <td>покупка жилой недвижимости</td>\n",
       "    </tr>\n",
       "    <tr>\n",
       "      <th>15</th>\n",
       "      <td>1</td>\n",
       "      <td>-972.364419</td>\n",
       "      <td>26</td>\n",
       "      <td>среднее</td>\n",
       "      <td>1</td>\n",
       "      <td>женат / замужем</td>\n",
       "      <td>0</td>\n",
       "      <td>F</td>\n",
       "      <td>сотрудник</td>\n",
       "      <td>0</td>\n",
       "      <td>116820.904450</td>\n",
       "      <td>строительство собственной недвижимости</td>\n",
       "    </tr>\n",
       "    <tr>\n",
       "      <th>16</th>\n",
       "      <td>0</td>\n",
       "      <td>-1719.934226</td>\n",
       "      <td>35</td>\n",
       "      <td>среднее</td>\n",
       "      <td>1</td>\n",
       "      <td>женат / замужем</td>\n",
       "      <td>0</td>\n",
       "      <td>F</td>\n",
       "      <td>сотрудник</td>\n",
       "      <td>0</td>\n",
       "      <td>289202.704229</td>\n",
       "      <td>недвижимость</td>\n",
       "    </tr>\n",
       "    <tr>\n",
       "      <th>17</th>\n",
       "      <td>0</td>\n",
       "      <td>-2369.999720</td>\n",
       "      <td>33</td>\n",
       "      <td>высшее</td>\n",
       "      <td>0</td>\n",
       "      <td>гражданский брак</td>\n",
       "      <td>1</td>\n",
       "      <td>M</td>\n",
       "      <td>сотрудник</td>\n",
       "      <td>0</td>\n",
       "      <td>90410.586745</td>\n",
       "      <td>строительство недвижимости</td>\n",
       "    </tr>\n",
       "    <tr>\n",
       "      <th>18</th>\n",
       "      <td>0</td>\n",
       "      <td>400281.136913</td>\n",
       "      <td>53</td>\n",
       "      <td>среднее</td>\n",
       "      <td>1</td>\n",
       "      <td>вдовец / вдова</td>\n",
       "      <td>2</td>\n",
       "      <td>F</td>\n",
       "      <td>пенсионер</td>\n",
       "      <td>0</td>\n",
       "      <td>56823.777243</td>\n",
       "      <td>на покупку подержанного автомобиля</td>\n",
       "    </tr>\n",
       "    <tr>\n",
       "      <th>19</th>\n",
       "      <td>0</td>\n",
       "      <td>-10038.818549</td>\n",
       "      <td>48</td>\n",
       "      <td>СРЕДНЕЕ</td>\n",
       "      <td>1</td>\n",
       "      <td>в разводе</td>\n",
       "      <td>3</td>\n",
       "      <td>F</td>\n",
       "      <td>сотрудник</td>\n",
       "      <td>0</td>\n",
       "      <td>242831.107982</td>\n",
       "      <td>на покупку своего автомобиля</td>\n",
       "    </tr>\n",
       "  </tbody>\n",
       "</table>\n",
       "</div>"
      ],
      "text/plain": [
       "    children  days_employed  dob_years            education  education_id  \\\n",
       "0          1   -8437.673028         42               высшее             0   \n",
       "1          1   -4024.803754         36              среднее             1   \n",
       "2          0   -5623.422610         33              Среднее             1   \n",
       "3          3   -4124.747207         32              среднее             1   \n",
       "4          0  340266.072047         53              среднее             1   \n",
       "5          0    -926.185831         27               высшее             0   \n",
       "6          0   -2879.202052         43               высшее             0   \n",
       "7          0    -152.779569         50              СРЕДНЕЕ             1   \n",
       "8          2   -6929.865299         35               ВЫСШЕЕ             0   \n",
       "9          0   -2188.756445         41              среднее             1   \n",
       "10         2   -4171.483647         36               высшее             0   \n",
       "11         0    -792.701887         40              среднее             1   \n",
       "12         0            NaN         65              среднее             1   \n",
       "13         0   -1846.641941         54  неоконченное высшее             2   \n",
       "14         0   -1844.956182         56               высшее             0   \n",
       "15         1    -972.364419         26              среднее             1   \n",
       "16         0   -1719.934226         35              среднее             1   \n",
       "17         0   -2369.999720         33               высшее             0   \n",
       "18         0  400281.136913         53              среднее             1   \n",
       "19         0  -10038.818549         48              СРЕДНЕЕ             1   \n",
       "\n",
       "       family_status  family_status_id gender income_type  debt  \\\n",
       "0    женат / замужем                 0      F   сотрудник     0   \n",
       "1    женат / замужем                 0      F   сотрудник     0   \n",
       "2    женат / замужем                 0      M   сотрудник     0   \n",
       "3    женат / замужем                 0      M   сотрудник     0   \n",
       "4   гражданский брак                 1      F   пенсионер     0   \n",
       "5   гражданский брак                 1      M   компаньон     0   \n",
       "6    женат / замужем                 0      F   компаньон     0   \n",
       "7    женат / замужем                 0      M   сотрудник     0   \n",
       "8   гражданский брак                 1      F   сотрудник     0   \n",
       "9    женат / замужем                 0      M   сотрудник     0   \n",
       "10   женат / замужем                 0      M   компаньон     0   \n",
       "11   женат / замужем                 0      F   сотрудник     0   \n",
       "12  гражданский брак                 1      M   пенсионер     0   \n",
       "13   женат / замужем                 0      F   сотрудник     0   \n",
       "14  гражданский брак                 1      F   компаньон     1   \n",
       "15   женат / замужем                 0      F   сотрудник     0   \n",
       "16   женат / замужем                 0      F   сотрудник     0   \n",
       "17  гражданский брак                 1      M   сотрудник     0   \n",
       "18    вдовец / вдова                 2      F   пенсионер     0   \n",
       "19         в разводе                 3      F   сотрудник     0   \n",
       "\n",
       "     total_income                                 purpose  \n",
       "0   253875.639453                           покупка жилья  \n",
       "1   112080.014102                 приобретение автомобиля  \n",
       "2   145885.952297                           покупка жилья  \n",
       "3   267628.550329              дополнительное образование  \n",
       "4   158616.077870                         сыграть свадьбу  \n",
       "5   255763.565419                           покупка жилья  \n",
       "6   240525.971920                       операции с жильем  \n",
       "7   135823.934197                             образование  \n",
       "8    95856.832424                   на проведение свадьбы  \n",
       "9   144425.938277                 покупка жилья для семьи  \n",
       "10  113943.491460                    покупка недвижимости  \n",
       "11   77069.234271       покупка коммерческой недвижимости  \n",
       "12            NaN                         сыграть свадьбу  \n",
       "13  130458.228857                 приобретение автомобиля  \n",
       "14  165127.911772              покупка жилой недвижимости  \n",
       "15  116820.904450  строительство собственной недвижимости  \n",
       "16  289202.704229                            недвижимость  \n",
       "17   90410.586745              строительство недвижимости  \n",
       "18   56823.777243      на покупку подержанного автомобиля  \n",
       "19  242831.107982            на покупку своего автомобиля  "
      ]
     },
     "execution_count": 2,
     "metadata": {},
     "output_type": "execute_result"
    }
   ],
   "source": [
    "data.head(20)"
   ]
  },
  {
   "cell_type": "markdown",
   "id": "9973ed92",
   "metadata": {
    "deletable": false,
    "editable": false,
    "id": "1c12e233"
   },
   "source": [
    "**Задание 3. Выведите основную информацию о датафрейме с помощью метода `info()`.**"
   ]
  },
  {
   "cell_type": "code",
   "execution_count": 3,
   "id": "410147f5",
   "metadata": {
    "deletable": false,
    "id": "2b757bca",
    "outputId": "15376089-8dad-46c9-b520-c05248d43158"
   },
   "outputs": [
    {
     "name": "stdout",
     "output_type": "stream",
     "text": [
      "<class 'pandas.core.frame.DataFrame'>\n",
      "RangeIndex: 21525 entries, 0 to 21524\n",
      "Data columns (total 12 columns):\n",
      " #   Column            Non-Null Count  Dtype  \n",
      "---  ------            --------------  -----  \n",
      " 0   children          21525 non-null  int64  \n",
      " 1   days_employed     19351 non-null  float64\n",
      " 2   dob_years         21525 non-null  int64  \n",
      " 3   education         21525 non-null  object \n",
      " 4   education_id      21525 non-null  int64  \n",
      " 5   family_status     21525 non-null  object \n",
      " 6   family_status_id  21525 non-null  int64  \n",
      " 7   gender            21525 non-null  object \n",
      " 8   income_type       21525 non-null  object \n",
      " 9   debt              21525 non-null  int64  \n",
      " 10  total_income      19351 non-null  float64\n",
      " 11  purpose           21525 non-null  object \n",
      "dtypes: float64(2), int64(5), object(5)\n",
      "memory usage: 2.0+ MB\n"
     ]
    }
   ],
   "source": [
    "data.info()"
   ]
  },
  {
   "cell_type": "markdown",
   "id": "d42d0f27",
   "metadata": {
    "deletable": false,
    "editable": false,
    "id": "333ec665"
   },
   "source": [
    "## Предобработка данных"
   ]
  },
  {
   "cell_type": "markdown",
   "id": "370a2894",
   "metadata": {
    "deletable": false,
    "editable": false,
    "id": "02d92d53"
   },
   "source": [
    "### Удаление пропусков"
   ]
  },
  {
   "cell_type": "markdown",
   "id": "b82bc824",
   "metadata": {
    "deletable": false,
    "editable": false,
    "id": "cd84967c"
   },
   "source": [
    "**Задание 4. Выведите количество пропущенных значений для каждого столбца. Используйте комбинацию двух методов.**"
   ]
  },
  {
   "cell_type": "code",
   "execution_count": 4,
   "id": "d0331991",
   "metadata": {
    "deletable": false,
    "id": "7f9b2309",
    "outputId": "81f4d817-781c-465c-ed15-91ce4446810d"
   },
   "outputs": [
    {
     "data": {
      "text/plain": [
       "children               0\n",
       "days_employed       2174\n",
       "dob_years              0\n",
       "education              0\n",
       "education_id           0\n",
       "family_status          0\n",
       "family_status_id       0\n",
       "gender                 0\n",
       "income_type            0\n",
       "debt                   0\n",
       "total_income        2174\n",
       "purpose                0\n",
       "dtype: int64"
      ]
     },
     "execution_count": 4,
     "metadata": {},
     "output_type": "execute_result"
    }
   ],
   "source": [
    "data.isna().sum()"
   ]
  },
  {
   "cell_type": "markdown",
   "id": "0f2d180f",
   "metadata": {
    "deletable": false,
    "editable": false,
    "id": "db86e27b"
   },
   "source": [
    "**Задание 5. В двух столбцах есть пропущенные значения. Один из них — `days_employed`. Пропуски в этом столбце вы обработаете на следующем этапе. Другой столбец с пропущенными значениями — `total_income` — хранит данные о доходах. На сумму дохода сильнее всего влияет тип занятости, поэтому заполнить пропуски в этом столбце нужно медианным значением по каждому типу из столбца `income_type`. Например, у человека с типом занятости `сотрудник` пропуск в столбце `total_income` должен быть заполнен медианным доходом среди всех записей с тем же типом.**"
   ]
  },
  {
   "cell_type": "code",
   "execution_count": 5,
   "id": "6b577b52",
   "metadata": {
    "deletable": false,
    "id": "42006a93"
   },
   "outputs": [],
   "source": [
    "for t in data['income_type'].unique():\n",
    "    data.loc[(data['income_type'] == t) & (data['total_income'].isna()), 'total_income'] = \\\n",
    "    data.loc[(data['income_type'] == t), 'total_income'].median()"
   ]
  },
  {
   "cell_type": "markdown",
   "id": "1dfa9789",
   "metadata": {
    "deletable": false,
    "editable": false,
    "id": "89da5ece"
   },
   "source": [
    "### Обработка аномальных значений"
   ]
  },
  {
   "cell_type": "markdown",
   "id": "7ad2406c",
   "metadata": {
    "deletable": false,
    "editable": false,
    "id": "57964554"
   },
   "source": [
    "**Задание 6. В данных могут встречаться артефакты (аномалии) — значения, которые не отражают действительность и появились по какой-то ошибке. таким артефактом будет отрицательное количество дней трудового стажа в столбце `days_employed`. Для реальных данных это нормально. Обработайте значения в этом столбце: замените все отрицательные значения положительными с помощью метода `abs()`.**"
   ]
  },
  {
   "cell_type": "code",
   "execution_count": 6,
   "id": "5218c20b",
   "metadata": {
    "deletable": false,
    "id": "f6f055bf"
   },
   "outputs": [],
   "source": [
    "data['days_employed'] = data['days_employed'].abs()"
   ]
  },
  {
   "cell_type": "markdown",
   "id": "15c2c56b",
   "metadata": {
    "deletable": false,
    "editable": false,
    "id": "6107dd2f"
   },
   "source": [
    "**Задание 7. Для каждого типа занятости выведите медианное значение трудового стажа `days_employed` в днях.**"
   ]
  },
  {
   "cell_type": "code",
   "execution_count": 7,
   "id": "0d99f882",
   "metadata": {
    "deletable": false,
    "id": "85a5faf6",
    "outputId": "801ef80e-522b-4668-f34e-565af7432bcf"
   },
   "outputs": [
    {
     "data": {
      "text/plain": [
       "income_type\n",
       "безработный        366413.652744\n",
       "в декрете            3296.759962\n",
       "госслужащий          2689.368353\n",
       "компаньон            1547.382223\n",
       "пенсионер          365213.306266\n",
       "предприниматель       520.848083\n",
       "сотрудник            1574.202821\n",
       "студент               578.751554\n",
       "Name: days_employed, dtype: float64"
      ]
     },
     "execution_count": 7,
     "metadata": {},
     "output_type": "execute_result"
    }
   ],
   "source": [
    "data.groupby('income_type')['days_employed'].agg('median')"
   ]
  },
  {
   "cell_type": "markdown",
   "id": "59ea7d7a",
   "metadata": {
    "deletable": false,
    "editable": false,
    "id": "38d1a030"
   },
   "source": [
    "У двух типов (безработные и пенсионеры) получатся аномально большие значения. Исправить такие значения сложно, поэтому оставьте их как есть. Тем более этот столбец не понадобится вам для исследования."
   ]
  },
  {
   "cell_type": "markdown",
   "id": "d4134d8e",
   "metadata": {
    "deletable": false,
    "editable": false,
    "id": "d8a9f147"
   },
   "source": [
    "**Задание 8. Выведите перечень уникальных значений столбца `children`.**"
   ]
  },
  {
   "cell_type": "code",
   "execution_count": 8,
   "id": "274688b3",
   "metadata": {
    "deletable": false,
    "id": "ef5056eb",
    "outputId": "6975b15c-7f95-4697-d16d-a0c79b657b03"
   },
   "outputs": [
    {
     "data": {
      "text/plain": [
       "array([ 1,  0,  3,  2, -1,  4, 20,  5])"
      ]
     },
     "execution_count": 8,
     "metadata": {},
     "output_type": "execute_result"
    }
   ],
   "source": [
    "data['children'].unique()"
   ]
  },
  {
   "cell_type": "markdown",
   "id": "abf656a7",
   "metadata": {
    "deletable": false,
    "editable": false,
    "id": "40b9ebf2"
   },
   "source": [
    "**Задание 9. В столбце `children` есть два аномальных значения. Удалите строки, в которых встречаются такие аномальные значения из датафрейма `data`.**"
   ]
  },
  {
   "cell_type": "code",
   "execution_count": 9,
   "id": "379040c2",
   "metadata": {
    "deletable": false,
    "id": "3ff9801d"
   },
   "outputs": [],
   "source": [
    "data = data[(data['children'] != -1) & (data['children'] != 20)]"
   ]
  },
  {
   "cell_type": "markdown",
   "id": "01949186",
   "metadata": {
    "deletable": false,
    "editable": false,
    "id": "bbc4d0ce"
   },
   "source": [
    "**Задание 10. Ещё раз выведите перечень уникальных значений столбца `children`, чтобы убедиться, что артефакты удалены.**"
   ]
  },
  {
   "cell_type": "code",
   "execution_count": 10,
   "id": "d8be1189",
   "metadata": {
    "deletable": false,
    "id": "ad4fa8b7",
    "outputId": "b2097101-d49d-44d9-901b-32a65c9463d1"
   },
   "outputs": [
    {
     "data": {
      "text/plain": [
       "array([1, 0, 3, 2, 4, 5])"
      ]
     },
     "execution_count": 10,
     "metadata": {},
     "output_type": "execute_result"
    }
   ],
   "source": [
    "data['children'].unique()"
   ]
  },
  {
   "cell_type": "markdown",
   "id": "a644b9bd",
   "metadata": {
    "deletable": false,
    "editable": false,
    "id": "75440b63"
   },
   "source": [
    "### Удаление пропусков (продолжение)"
   ]
  },
  {
   "cell_type": "markdown",
   "id": "900985c3",
   "metadata": {
    "deletable": false,
    "editable": false,
    "id": "f4ea573f"
   },
   "source": [
    "**Задание 11. Заполните пропуски в столбце `days_employed` медианными значениями по каждого типа занятости `income_type`.**"
   ]
  },
  {
   "cell_type": "code",
   "execution_count": 11,
   "id": "09fe4e07",
   "metadata": {
    "deletable": false,
    "id": "af6b1a7e"
   },
   "outputs": [],
   "source": [
    "for t in data['income_type'].unique():\n",
    "    data.loc[(data['income_type'] == t) & (data['days_employed'].isna()), 'days_employed'] = \\\n",
    "    data.loc[(data['income_type'] == t), 'days_employed'].median()"
   ]
  },
  {
   "cell_type": "markdown",
   "id": "be288062",
   "metadata": {
    "deletable": false,
    "editable": false,
    "id": "2753f40d"
   },
   "source": [
    "**Задание 12. Убедитесь, что все пропуски заполнены. Проверьте себя и ещё раз выведите количество пропущенных значений для каждого столбца с помощью двух методов.**"
   ]
  },
  {
   "cell_type": "code",
   "execution_count": 12,
   "id": "6609dfda",
   "metadata": {
    "deletable": false,
    "id": "55f78bc2",
    "outputId": "8da1e4e1-358e-4e87-98c9-f261bce0a7b2"
   },
   "outputs": [
    {
     "data": {
      "text/plain": [
       "children            0\n",
       "days_employed       0\n",
       "dob_years           0\n",
       "education           0\n",
       "education_id        0\n",
       "family_status       0\n",
       "family_status_id    0\n",
       "gender              0\n",
       "income_type         0\n",
       "debt                0\n",
       "total_income        0\n",
       "purpose             0\n",
       "dtype: int64"
      ]
     },
     "execution_count": 12,
     "metadata": {},
     "output_type": "execute_result"
    }
   ],
   "source": [
    "data.isna().sum()"
   ]
  },
  {
   "cell_type": "markdown",
   "id": "a85eaa40",
   "metadata": {
    "deletable": false,
    "editable": false,
    "id": "ddc81e43"
   },
   "source": [
    "### Изменение типов данных"
   ]
  },
  {
   "cell_type": "markdown",
   "id": "099d02a3",
   "metadata": {
    "deletable": false,
    "editable": false,
    "id": "42d19d24"
   },
   "source": [
    "**Задание 13. Замените вещественный тип данных в столбце `total_income` на целочисленный с помощью метода `astype()`.**"
   ]
  },
  {
   "cell_type": "code",
   "execution_count": 13,
   "id": "9c1e97ae",
   "metadata": {
    "deletable": false,
    "id": "920b65ad"
   },
   "outputs": [],
   "source": [
    "data['total_income'] = data['total_income'].astype(int)"
   ]
  },
  {
   "cell_type": "markdown",
   "id": "547c882f",
   "metadata": {
    "deletable": false,
    "editable": false,
    "id": "80c420ba"
   },
   "source": [
    "### Обработка дубликатов"
   ]
  },
  {
   "cell_type": "markdown",
   "id": "1381e5db",
   "metadata": {
    "deletable": false,
    "editable": false
   },
   "source": [
    "**Задание 14. Обработайте неявные дубликаты в столбце `education`. В этом столбце есть одни и те же значения, но записанные по-разному: с использованием заглавных и строчных букв. Приведите их к нижнему регистру. Проверьте остальные столбцы.**"
   ]
  },
  {
   "cell_type": "code",
   "execution_count": 14,
   "id": "f6c2f0bd",
   "metadata": {
    "deletable": false
   },
   "outputs": [],
   "source": [
    "data['education'] = data['education'].str.lower()"
   ]
  },
  {
   "cell_type": "markdown",
   "id": "38801ca0",
   "metadata": {
    "deletable": false,
    "editable": false,
    "id": "dc587695"
   },
   "source": [
    "**Задание 15. Выведите на экран количество строк-дубликатов в данных. Если такие строки присутствуют, удалите их.**"
   ]
  },
  {
   "cell_type": "code",
   "execution_count": 15,
   "id": "3b2b7fff",
   "metadata": {
    "deletable": false,
    "id": "3ee445e4",
    "outputId": "9684deba-1934-42d1-99e1-cda61740f822"
   },
   "outputs": [
    {
     "data": {
      "text/plain": [
       "71"
      ]
     },
     "execution_count": 15,
     "metadata": {},
     "output_type": "execute_result"
    }
   ],
   "source": [
    "data.duplicated().sum()"
   ]
  },
  {
   "cell_type": "code",
   "execution_count": 16,
   "id": "66226887",
   "metadata": {
    "deletable": false,
    "id": "8575fe05"
   },
   "outputs": [],
   "source": [
    "data = data.drop_duplicates()"
   ]
  },
  {
   "cell_type": "markdown",
   "id": "13b3d22f",
   "metadata": {
    "deletable": false,
    "editable": false,
    "id": "9904cf55"
   },
   "source": [
    "### Категоризация данных"
   ]
  },
  {
   "cell_type": "markdown",
   "id": "ba38ed2c",
   "metadata": {
    "deletable": false,
    "editable": false,
    "id": "72fcc8a2"
   },
   "source": [
    "**Задание 16. На основании диапазонов, указанных ниже, создайте в датафрейме `data` столбец `total_income_category` с категориями:**\n",
    "\n",
    "- 0–30000 — `'E'`;\n",
    "- 30001–50000 — `'D'`;\n",
    "- 50001–200000 — `'C'`;\n",
    "- 200001–1000000 — `'B'`;\n",
    "- 1000001 и выше — `'A'`.\n",
    "\n",
    "\n",
    "**Например, кредитополучателю с доходом 25000 нужно назначить категорию `'E'`, а клиенту, получающему 235000, — `'B'`. Используйте собственную функцию с именем `categorize_income()` и метод `apply()`.**"
   ]
  },
  {
   "cell_type": "code",
   "execution_count": 17,
   "id": "75942a0a",
   "metadata": {
    "deletable": false,
    "id": "e1771346"
   },
   "outputs": [],
   "source": [
    "def categorize_income(income):\n",
    "    try:\n",
    "        if 0 <= income <= 30000:\n",
    "            return 'E'\n",
    "        elif 30001 <= income <= 50000:\n",
    "            return 'D'\n",
    "        elif 50001 <= income <= 200000:\n",
    "            return 'C'\n",
    "        elif 200001 <= income <= 1000000:\n",
    "            return 'B'\n",
    "        elif income >= 1000001:\n",
    "            return 'A'\n",
    "    except:\n",
    "        pass"
   ]
  },
  {
   "cell_type": "code",
   "execution_count": 18,
   "id": "19b417b1",
   "metadata": {
    "deletable": false,
    "id": "d5f3586d"
   },
   "outputs": [],
   "source": [
    "data['total_income_category'] = data['total_income'].apply(categorize_income)"
   ]
  },
  {
   "cell_type": "markdown",
   "id": "d2e495f2",
   "metadata": {
    "deletable": false,
    "editable": false,
    "id": "dde49b5c"
   },
   "source": [
    "**Задание 17. Выведите на экран перечень уникальных целей взятия кредита из столбца `purpose`.**"
   ]
  },
  {
   "cell_type": "code",
   "execution_count": 19,
   "id": "2bda269b",
   "metadata": {
    "deletable": false,
    "id": "f67ce9b3",
    "outputId": "673c12d9-7d7e-4ae0-9812-c622c89dd244"
   },
   "outputs": [
    {
     "data": {
      "text/plain": [
       "array(['покупка жилья', 'приобретение автомобиля',\n",
       "       'дополнительное образование', 'сыграть свадьбу',\n",
       "       'операции с жильем', 'образование', 'на проведение свадьбы',\n",
       "       'покупка жилья для семьи', 'покупка недвижимости',\n",
       "       'покупка коммерческой недвижимости', 'покупка жилой недвижимости',\n",
       "       'строительство собственной недвижимости', 'недвижимость',\n",
       "       'строительство недвижимости', 'на покупку подержанного автомобиля',\n",
       "       'на покупку своего автомобиля',\n",
       "       'операции с коммерческой недвижимостью',\n",
       "       'строительство жилой недвижимости', 'жилье',\n",
       "       'операции со своей недвижимостью', 'автомобили',\n",
       "       'заняться образованием', 'сделка с подержанным автомобилем',\n",
       "       'получение образования', 'автомобиль', 'свадьба',\n",
       "       'получение дополнительного образования', 'покупка своего жилья',\n",
       "       'операции с недвижимостью', 'получение высшего образования',\n",
       "       'свой автомобиль', 'сделка с автомобилем',\n",
       "       'профильное образование', 'высшее образование',\n",
       "       'покупка жилья для сдачи', 'на покупку автомобиля', 'ремонт жилью',\n",
       "       'заняться высшим образованием'], dtype=object)"
      ]
     },
     "execution_count": 19,
     "metadata": {},
     "output_type": "execute_result"
    }
   ],
   "source": [
    "data['purpose'].unique()"
   ]
  },
  {
   "cell_type": "markdown",
   "id": "c4a5dcce",
   "metadata": {
    "deletable": false,
    "editable": false,
    "id": "85d0aef0"
   },
   "source": [
    "**Задание 18. Создайте функцию, которая на основании данных из столбца `purpose` сформирует новый столбец `purpose_category`, в который войдут следующие категории:**\n",
    "\n",
    "- `'операции с автомобилем'`,\n",
    "- `'операции с недвижимостью'`,\n",
    "- `'проведение свадьбы'`,\n",
    "- `'получение образования'`.\n",
    "\n",
    "**Например, если в столбце `purpose` находится подстрока `'на покупку автомобиля'`, то в столбце `purpose_category` должна появиться строка `'операции с автомобилем'`.**\n",
    "\n",
    "**Используйте собственную функцию с именем `categorize_purpose()` и метод `apply()`. Изучите данные в столбце `purpose` и определите, какие подстроки помогут вам правильно определить категорию.**"
   ]
  },
  {
   "cell_type": "code",
   "execution_count": 20,
   "id": "7290ebe7",
   "metadata": {
    "deletable": false,
    "id": "e149fab4"
   },
   "outputs": [],
   "source": [
    "def categorize_purpose(row):\n",
    "    try:\n",
    "        if 'автом' in row:\n",
    "            return 'операции с автомобилем'\n",
    "        elif 'жил' in row or 'недвиж' in row:\n",
    "            return 'операции с недвижимостью'\n",
    "        elif 'свад' in row:\n",
    "            return 'проведение свадьбы'\n",
    "        elif 'образов' in row:\n",
    "            return 'получение образования'\n",
    "    except:\n",
    "        return 'нет категории'"
   ]
  },
  {
   "cell_type": "code",
   "execution_count": 21,
   "id": "abf87882",
   "metadata": {
    "deletable": false,
    "id": "bf36e69b"
   },
   "outputs": [],
   "source": [
    "data['purpose_category'] = data['purpose'].apply(categorize_purpose)"
   ]
  },
  {
   "cell_type": "markdown",
   "id": "de93b284",
   "metadata": {
    "deletable": false,
    "editable": false,
    "id": "09b242bf"
   },
   "source": [
    "### Шаг 3. Исследуйте данные и ответьте на вопросы"
   ]
  },
  {
   "cell_type": "markdown",
   "id": "12810841",
   "metadata": {
    "deletable": false,
    "editable": false,
    "id": "c5d66278"
   },
   "source": [
    "#### 3.1 Есть ли зависимость между количеством детей и возвратом кредита в срок?"
   ]
  },
  {
   "cell_type": "markdown",
   "id": "7139743e",
   "metadata": {},
   "source": [
    "#### 3.1.1 Расчет зависимости (Код)"
   ]
  },
  {
   "cell_type": "code",
   "execution_count": 22,
   "id": "34aeb4db",
   "metadata": {
    "deletable": false,
    "id": "2cacfc4a"
   },
   "outputs": [
    {
     "data": {
      "text/html": [
       "<div>\n",
       "<style scoped>\n",
       "    .dataframe tbody tr th:only-of-type {\n",
       "        vertical-align: middle;\n",
       "    }\n",
       "\n",
       "    .dataframe tbody tr th {\n",
       "        vertical-align: top;\n",
       "    }\n",
       "\n",
       "    .dataframe thead th {\n",
       "        text-align: right;\n",
       "    }\n",
       "</style>\n",
       "<table border=\"1\" class=\"dataframe\">\n",
       "  <thead>\n",
       "    <tr style=\"text-align: right;\">\n",
       "      <th></th>\n",
       "      <th>children_count</th>\n",
       "      <th>children_sum</th>\n",
       "      <th>relation</th>\n",
       "    </tr>\n",
       "    <tr>\n",
       "      <th>children</th>\n",
       "      <th></th>\n",
       "      <th></th>\n",
       "      <th></th>\n",
       "    </tr>\n",
       "  </thead>\n",
       "  <tbody>\n",
       "    <tr>\n",
       "      <th>4</th>\n",
       "      <td>41</td>\n",
       "      <td>4</td>\n",
       "      <td>9.76%</td>\n",
       "    </tr>\n",
       "    <tr>\n",
       "      <th>2</th>\n",
       "      <td>2052</td>\n",
       "      <td>194</td>\n",
       "      <td>9.45%</td>\n",
       "    </tr>\n",
       "    <tr>\n",
       "      <th>1</th>\n",
       "      <td>4808</td>\n",
       "      <td>444</td>\n",
       "      <td>9.23%</td>\n",
       "    </tr>\n",
       "    <tr>\n",
       "      <th>3</th>\n",
       "      <td>330</td>\n",
       "      <td>27</td>\n",
       "      <td>8.18%</td>\n",
       "    </tr>\n",
       "    <tr>\n",
       "      <th>0</th>\n",
       "      <td>14091</td>\n",
       "      <td>1063</td>\n",
       "      <td>7.54%</td>\n",
       "    </tr>\n",
       "    <tr>\n",
       "      <th>5</th>\n",
       "      <td>9</td>\n",
       "      <td>0</td>\n",
       "      <td>0.00%</td>\n",
       "    </tr>\n",
       "  </tbody>\n",
       "</table>\n",
       "</div>"
      ],
      "text/plain": [
       "          children_count  children_sum relation\n",
       "children                                       \n",
       "4                     41             4    9.76%\n",
       "2                   2052           194    9.45%\n",
       "1                   4808           444    9.23%\n",
       "3                    330            27    8.18%\n",
       "0                  14091          1063    7.54%\n",
       "5                      9             0    0.00%"
      ]
     },
     "execution_count": 22,
     "metadata": {},
     "output_type": "execute_result"
    }
   ],
   "source": [
    "#Создание нового Data Frame\n",
    "debt_children = pd.DataFrame()\n",
    "# Количество клиентов в кажой группе по количеству детей\n",
    "debt_children['children_count'] = data.groupby('children')['debt'].count()\n",
    "# Количество кредитов c задолжностью в кажой группе по количеству детей\n",
    "debt_children['children_sum'] = data.groupby('children')['debt'].sum()\n",
    "# Отношение количество выплаченных кредитов без задолжностей на количество клинетов\n",
    "debt_children['relation'] = (debt_children['children_sum'] / debt_children['children_count'])\n",
    "# Перевод столбца relation в проценты\n",
    "debt_children['relation']  = debt_children['relation'].apply(lambda x: format(x, '.2%'))\n",
    "# Вывод полученного Data Frame\n",
    "debt_children.sort_values('relation', ascending = False)"
   ]
  },
  {
   "cell_type": "markdown",
   "id": "b4aa6615",
   "metadata": {},
   "source": [
    "#### 3.1.2 Вывод:"
   ]
  },
  {
   "cell_type": "markdown",
   "id": "2763fd08",
   "metadata": {
    "deletable": false,
    "id": "3a6b99ec"
   },
   "source": [
    "При большем количестве детей у клиента увеличивается процент просроченных кредитов. Клиенты с тремя и питью детьми лучше платят, возможно это связно с не достаточным количество данных, так как количество детей у нас в стране в среднем один или два."
   ]
  },
  {
   "cell_type": "markdown",
   "id": "9a90a4a5",
   "metadata": {
    "deletable": false,
    "editable": false,
    "id": "97be82ca"
   },
   "source": [
    "#### 3.2 Есть ли зависимость между семейным положением и возвратом кредита в срок?"
   ]
  },
  {
   "cell_type": "markdown",
   "id": "029f5116",
   "metadata": {},
   "source": [
    "#### 3.2.1 Расчет зависимости (Код)"
   ]
  },
  {
   "cell_type": "code",
   "execution_count": 23,
   "id": "4f393832",
   "metadata": {
    "deletable": false,
    "id": "dc3f7ee8"
   },
   "outputs": [
    {
     "data": {
      "text/html": [
       "<div>\n",
       "<style scoped>\n",
       "    .dataframe tbody tr th:only-of-type {\n",
       "        vertical-align: middle;\n",
       "    }\n",
       "\n",
       "    .dataframe tbody tr th {\n",
       "        vertical-align: top;\n",
       "    }\n",
       "\n",
       "    .dataframe thead th {\n",
       "        text-align: right;\n",
       "    }\n",
       "</style>\n",
       "<table border=\"1\" class=\"dataframe\">\n",
       "  <thead>\n",
       "    <tr style=\"text-align: right;\">\n",
       "      <th></th>\n",
       "      <th>family_status_count</th>\n",
       "      <th>family_status_sum</th>\n",
       "      <th>relation</th>\n",
       "    </tr>\n",
       "    <tr>\n",
       "      <th>family_status</th>\n",
       "      <th></th>\n",
       "      <th></th>\n",
       "      <th></th>\n",
       "    </tr>\n",
       "  </thead>\n",
       "  <tbody>\n",
       "    <tr>\n",
       "      <th>Не женат / не замужем</th>\n",
       "      <td>2796</td>\n",
       "      <td>273</td>\n",
       "      <td>9.76%</td>\n",
       "    </tr>\n",
       "    <tr>\n",
       "      <th>гражданский брак</th>\n",
       "      <td>4134</td>\n",
       "      <td>385</td>\n",
       "      <td>9.31%</td>\n",
       "    </tr>\n",
       "    <tr>\n",
       "      <th>женат / замужем</th>\n",
       "      <td>12261</td>\n",
       "      <td>927</td>\n",
       "      <td>7.56%</td>\n",
       "    </tr>\n",
       "    <tr>\n",
       "      <th>в разводе</th>\n",
       "      <td>1189</td>\n",
       "      <td>84</td>\n",
       "      <td>7.06%</td>\n",
       "    </tr>\n",
       "    <tr>\n",
       "      <th>вдовец / вдова</th>\n",
       "      <td>951</td>\n",
       "      <td>63</td>\n",
       "      <td>6.62%</td>\n",
       "    </tr>\n",
       "  </tbody>\n",
       "</table>\n",
       "</div>"
      ],
      "text/plain": [
       "                       family_status_count  family_status_sum relation\n",
       "family_status                                                         \n",
       "Не женат / не замужем                 2796                273    9.76%\n",
       "гражданский брак                      4134                385    9.31%\n",
       "женат / замужем                      12261                927    7.56%\n",
       "в разводе                             1189                 84    7.06%\n",
       "вдовец / вдова                         951                 63    6.62%"
      ]
     },
     "execution_count": 23,
     "metadata": {},
     "output_type": "execute_result"
    }
   ],
   "source": [
    "#Создание нового Data Frame\n",
    "debt_family_status = pd.DataFrame()\n",
    "# Количество клинетов в кажой группе с разным семейным положением\n",
    "debt_family_status['family_status_count'] = data.groupby('family_status')['debt'].count()\n",
    "# Количество кредитов c задолжностью в кажой группе с разным семейным положением\n",
    "debt_family_status['family_status_sum'] = data.groupby('family_status')['debt'].sum()\n",
    "# Отношение количество выплаченных кредитов без задолжностей на количество клинетов\n",
    "debt_family_status['relation'] = (debt_family_status['family_status_sum'] / debt_family_status['family_status_count'])\n",
    "# Перевод столбца relation в проценты\n",
    "debt_family_status['relation']  = debt_family_status['relation'].apply(lambda x: format(x, '.2%'))\n",
    "# Вывод полученного Data Frame\n",
    "debt_family_status.sort_values('relation', ascending = False)"
   ]
  },
  {
   "cell_type": "markdown",
   "id": "f7c72574",
   "metadata": {},
   "source": [
    "#### 3.2.2 Вывод:"
   ]
  },
  {
   "cell_type": "markdown",
   "id": "4df9c523",
   "metadata": {
    "deletable": false,
    "id": "1cef7837"
   },
   "source": [
    "Клиенты, побывавшие в официальном браке, лучше платят по кредитам, чем люди, не состоящие в официальном браке."
   ]
  },
  {
   "cell_type": "markdown",
   "id": "c5951914",
   "metadata": {
    "deletable": false,
    "editable": false,
    "id": "1e8b2fca"
   },
   "source": [
    "#### 3.3 Есть ли зависимость между уровнем дохода и возвратом кредита в срок?"
   ]
  },
  {
   "cell_type": "markdown",
   "id": "3f5d9bb7",
   "metadata": {},
   "source": [
    "#### 3.3.1 Расчет зависимости (Код)"
   ]
  },
  {
   "cell_type": "code",
   "execution_count": 24,
   "id": "719412a6",
   "metadata": {
    "deletable": false,
    "id": "cd7e3720"
   },
   "outputs": [
    {
     "data": {
      "text/html": [
       "<div>\n",
       "<style scoped>\n",
       "    .dataframe tbody tr th:only-of-type {\n",
       "        vertical-align: middle;\n",
       "    }\n",
       "\n",
       "    .dataframe tbody tr th {\n",
       "        vertical-align: top;\n",
       "    }\n",
       "\n",
       "    .dataframe thead th {\n",
       "        text-align: right;\n",
       "    }\n",
       "</style>\n",
       "<table border=\"1\" class=\"dataframe\">\n",
       "  <thead>\n",
       "    <tr style=\"text-align: right;\">\n",
       "      <th></th>\n",
       "      <th>income_status_count</th>\n",
       "      <th>imcome_status_sum</th>\n",
       "      <th>relation</th>\n",
       "    </tr>\n",
       "    <tr>\n",
       "      <th>total_income_category</th>\n",
       "      <th></th>\n",
       "      <th></th>\n",
       "      <th></th>\n",
       "    </tr>\n",
       "  </thead>\n",
       "  <tbody>\n",
       "    <tr>\n",
       "      <th>A</th>\n",
       "      <td>25</td>\n",
       "      <td>2</td>\n",
       "      <td>8.00%</td>\n",
       "    </tr>\n",
       "    <tr>\n",
       "      <th>B</th>\n",
       "      <td>5014</td>\n",
       "      <td>354</td>\n",
       "      <td>7.06%</td>\n",
       "    </tr>\n",
       "    <tr>\n",
       "      <th>C</th>\n",
       "      <td>15921</td>\n",
       "      <td>1353</td>\n",
       "      <td>8.50%</td>\n",
       "    </tr>\n",
       "    <tr>\n",
       "      <th>D</th>\n",
       "      <td>349</td>\n",
       "      <td>21</td>\n",
       "      <td>6.02%</td>\n",
       "    </tr>\n",
       "    <tr>\n",
       "      <th>E</th>\n",
       "      <td>22</td>\n",
       "      <td>2</td>\n",
       "      <td>9.09%</td>\n",
       "    </tr>\n",
       "  </tbody>\n",
       "</table>\n",
       "</div>"
      ],
      "text/plain": [
       "                       income_status_count  imcome_status_sum relation\n",
       "total_income_category                                                 \n",
       "A                                       25                  2    8.00%\n",
       "B                                     5014                354    7.06%\n",
       "C                                    15921               1353    8.50%\n",
       "D                                      349                 21    6.02%\n",
       "E                                       22                  2    9.09%"
      ]
     },
     "execution_count": 24,
     "metadata": {},
     "output_type": "execute_result"
    }
   ],
   "source": [
    "#Создание нового Data Frame\n",
    "debt_income = pd.DataFrame()\n",
    "# Используем ранее созданн столбец total_income_category (групировка по уровню дохода)\n",
    "# Количество клинетов в кажой группе по уровню дохода\n",
    "debt_income['income_status_count'] = data.groupby('total_income_category')['debt'].count()\n",
    "# Количество кредитов c задолжностью в кажой группе по уровню дохода\n",
    "debt_income['imcome_status_sum'] = data.groupby('total_income_category')['debt'].sum()\n",
    "# Отношение количество выплаченных кредитов без задолжностей на количество клинетов\n",
    "debt_income['relation'] = (debt_income['imcome_status_sum'] / debt_income['income_status_count'])\n",
    "# Перевод столбца relation в проценты\n",
    "debt_income['relation']  = debt_income['relation'].apply(lambda x: format(x, '.2%'))\n",
    "# Вывод полученного Data Frame\n",
    "debt_income.sort_values('total_income_category', ascending = True)"
   ]
  },
  {
   "cell_type": "markdown",
   "id": "7946d978",
   "metadata": {},
   "source": [
    "#### 3.3.2 Вывод:"
   ]
  },
  {
   "cell_type": "markdown",
   "id": "14871b02",
   "metadata": {
    "deletable": false,
    "id": "e8593def"
   },
   "source": [
    "Клиенты из категории С (доход от 50000 до 200000) имеют худший показатель по выплате кредита в срок.\n",
    "Количество клиентов категории D и E недостаточно для анализа. Скорее всего им часто не одобряют кредит.\n",
    "Клиенты с наименьшем доходом хуже возвращают кредит."
   ]
  },
  {
   "cell_type": "markdown",
   "id": "085d7b8e",
   "metadata": {
    "deletable": false,
    "editable": false,
    "id": "99ecbd1f"
   },
   "source": [
    "#### 3.4 Как разные цели кредита влияют на его возврат в срок?"
   ]
  },
  {
   "cell_type": "markdown",
   "id": "bd0875ba",
   "metadata": {},
   "source": [
    "#### 3.4.1 Расчет зависимости (Код)"
   ]
  },
  {
   "cell_type": "code",
   "execution_count": 25,
   "id": "c7eaac09",
   "metadata": {
    "deletable": false,
    "id": "2b687290"
   },
   "outputs": [
    {
     "data": {
      "text/html": [
       "<div>\n",
       "<style scoped>\n",
       "    .dataframe tbody tr th:only-of-type {\n",
       "        vertical-align: middle;\n",
       "    }\n",
       "\n",
       "    .dataframe tbody tr th {\n",
       "        vertical-align: top;\n",
       "    }\n",
       "\n",
       "    .dataframe thead th {\n",
       "        text-align: right;\n",
       "    }\n",
       "</style>\n",
       "<table border=\"1\" class=\"dataframe\">\n",
       "  <thead>\n",
       "    <tr style=\"text-align: right;\">\n",
       "      <th></th>\n",
       "      <th>porpuse_status_count</th>\n",
       "      <th>porpuse_status_sum</th>\n",
       "      <th>relation</th>\n",
       "    </tr>\n",
       "    <tr>\n",
       "      <th>purpose_category</th>\n",
       "      <th></th>\n",
       "      <th></th>\n",
       "      <th></th>\n",
       "    </tr>\n",
       "  </thead>\n",
       "  <tbody>\n",
       "    <tr>\n",
       "      <th>операции с автомобилем</th>\n",
       "      <td>4279</td>\n",
       "      <td>400</td>\n",
       "      <td>9.35%</td>\n",
       "    </tr>\n",
       "    <tr>\n",
       "      <th>получение образования</th>\n",
       "      <td>3988</td>\n",
       "      <td>369</td>\n",
       "      <td>9.25%</td>\n",
       "    </tr>\n",
       "    <tr>\n",
       "      <th>проведение свадьбы</th>\n",
       "      <td>2313</td>\n",
       "      <td>183</td>\n",
       "      <td>7.91%</td>\n",
       "    </tr>\n",
       "    <tr>\n",
       "      <th>операции с недвижимостью</th>\n",
       "      <td>10751</td>\n",
       "      <td>780</td>\n",
       "      <td>7.26%</td>\n",
       "    </tr>\n",
       "  </tbody>\n",
       "</table>\n",
       "</div>"
      ],
      "text/plain": [
       "                          porpuse_status_count  porpuse_status_sum relation\n",
       "purpose_category                                                           \n",
       "операции с автомобилем                    4279                 400    9.35%\n",
       "получение образования                     3988                 369    9.25%\n",
       "проведение свадьбы                        2313                 183    7.91%\n",
       "операции с недвижимостью                 10751                 780    7.26%"
      ]
     },
     "execution_count": 25,
     "metadata": {},
     "output_type": "execute_result"
    }
   ],
   "source": [
    "#Создание нового Data Frame\n",
    "debt_purpose = pd.DataFrame()\n",
    "# Используем ранее созданн столбец purpose_category (групировка по цели кредита)\n",
    "# Количество клинетов в кажой группе по цели кредита\n",
    "debt_purpose['porpuse_status_count'] = data.groupby('purpose_category')['debt'].count()\n",
    "# Количество кредитов c задолжностью в кажой группе по цели кредита\n",
    "debt_purpose['porpuse_status_sum'] = data.groupby('purpose_category')['debt'].sum()\n",
    "# Отношение количество выплаченных кредитов без задолжностей на количество клинетов\n",
    "debt_purpose['relation'] = (debt_purpose['porpuse_status_sum'] / debt_purpose['porpuse_status_count'])\n",
    "# Перевод столбца relation в проценты\n",
    "debt_purpose['relation']  = debt_purpose['relation'].apply(lambda x: format(x, '.2%'))\n",
    "# Вывод полученного Data Frame\n",
    "debt_purpose.sort_values('relation', ascending = False)"
   ]
  },
  {
   "cell_type": "markdown",
   "id": "7ffed04b",
   "metadata": {},
   "source": [
    "#### 3.4.2 Вывод:"
   ]
  },
  {
   "cell_type": "markdown",
   "id": "c56698fe",
   "metadata": {
    "deletable": false,
    "id": "b4bb2ce6"
   },
   "source": [
    "Клиенты бравшие кредиты на операции с недвижимостью чаще возвращают его, потому что большинство кредитов дают под залог этой недвижимости. Кредиты на операции с автомобилями и образование хуже возвращают."
   ]
  },
  {
   "cell_type": "markdown",
   "id": "4fbd97f2",
   "metadata": {
    "deletable": false,
    "editable": false,
    "id": "09c3ac4c"
   },
   "source": [
    "#### 3.5 Приведите возможные причины появления пропусков в исходных данных."
   ]
  },
  {
   "cell_type": "markdown",
   "id": "e5ba6a90",
   "metadata": {
    "deletable": false,
    "id": "9da2ceda"
   },
   "source": [
    "Есть две категории ошибок в данных, в том числе и пропусков.\n",
    "Человеческий фактор, когда человек не заполняет поле. Например, при регистрации, если поле не обязательное для заполнения есть большая вероятность, что человек его не заполнит.\n",
    "Технологический фактор, техническая ошибка при копировании, смене формата/типа, выгрузки/загрузки, считывании и даже присчитывании данных. "
   ]
  },
  {
   "cell_type": "markdown",
   "id": "d59201ce",
   "metadata": {
    "deletable": false,
    "editable": false,
    "id": "7b0487d6"
   },
   "source": [
    "#### 3.6 Объясните, почему заполнить пропуски медианным значением — лучшее решение для количественных переменных."
   ]
  },
  {
   "cell_type": "markdown",
   "id": "778bdabf",
   "metadata": {
    "deletable": false,
    "id": "7ecf2b8e"
   },
   "source": [
    "Среднее значение некорректно характеризует данные, когда некоторые значения сильно выделяются среди большинства."
   ]
  },
  {
   "cell_type": "markdown",
   "id": "349070b5",
   "metadata": {
    "deletable": false,
    "editable": false,
    "id": "6db5255a"
   },
   "source": [
    "### Шаг 4: общий вывод."
   ]
  },
  {
   "cell_type": "markdown",
   "id": "4f3d59d1",
   "metadata": {
    "deletable": false,
    "id": "bad65432"
   },
   "source": [
    "Кредиты на операцию с недвижимостью чаще возвращают в срок. \n",
    "Клиенты с высоким уровнем дохода или когда-то состоявшем в официальном браке выплачивают кредит вовремя. \n",
    "Количество детей влияет на возврат кредита."
   ]
  }
 ],
 "metadata": {
  "ExecuteTimeLog": [
   {
    "duration": 515,
    "start_time": "2022-08-11T18:50:57.437Z"
   },
   {
    "duration": 26,
    "start_time": "2022-08-11T18:50:57.954Z"
   },
   {
    "duration": 34,
    "start_time": "2022-08-11T18:50:57.982Z"
   },
   {
    "duration": 39,
    "start_time": "2022-08-11T18:50:58.019Z"
   },
   {
    "duration": 63,
    "start_time": "2022-08-11T18:50:58.060Z"
   },
   {
    "duration": 4,
    "start_time": "2022-08-11T18:50:58.124Z"
   },
   {
    "duration": 17,
    "start_time": "2022-08-11T18:50:58.129Z"
   },
   {
    "duration": 4,
    "start_time": "2022-08-11T18:50:58.148Z"
   },
   {
    "duration": 10,
    "start_time": "2022-08-11T18:50:58.154Z"
   },
   {
    "duration": 9,
    "start_time": "2022-08-11T18:50:58.195Z"
   },
   {
    "duration": 45,
    "start_time": "2022-08-11T18:50:58.206Z"
   },
   {
    "duration": 10,
    "start_time": "2022-08-11T18:50:58.253Z"
   },
   {
    "duration": 8,
    "start_time": "2022-08-11T18:50:58.265Z"
   },
   {
    "duration": 37,
    "start_time": "2022-08-11T18:50:58.274Z"
   },
   {
    "duration": 24,
    "start_time": "2022-08-11T18:50:58.313Z"
   },
   {
    "duration": 18,
    "start_time": "2022-08-11T18:50:58.339Z"
   },
   {
    "duration": 4,
    "start_time": "2022-08-11T18:50:58.359Z"
   },
   {
    "duration": 48,
    "start_time": "2022-08-11T18:50:58.364Z"
   },
   {
    "duration": 6,
    "start_time": "2022-08-11T18:50:58.415Z"
   },
   {
    "duration": 11,
    "start_time": "2022-08-11T18:50:58.423Z"
   },
   {
    "duration": 21,
    "start_time": "2022-08-11T18:50:58.437Z"
   },
   {
    "duration": 8,
    "start_time": "2022-08-11T18:50:58.460Z"
   },
   {
    "duration": 8,
    "start_time": "2022-08-11T18:50:58.470Z"
   },
   {
    "duration": 16,
    "start_time": "2022-08-11T18:50:58.480Z"
   },
   {
    "duration": 17,
    "start_time": "2022-08-11T18:50:58.502Z"
   },
   {
    "duration": 499,
    "start_time": "2022-08-12T06:01:46.204Z"
   },
   {
    "duration": 24,
    "start_time": "2022-08-12T06:01:46.706Z"
   },
   {
    "duration": 27,
    "start_time": "2022-08-12T06:01:46.732Z"
   },
   {
    "duration": 11,
    "start_time": "2022-08-12T06:01:46.761Z"
   },
   {
    "duration": 48,
    "start_time": "2022-08-12T06:01:46.774Z"
   },
   {
    "duration": 5,
    "start_time": "2022-08-12T06:01:46.824Z"
   },
   {
    "duration": 12,
    "start_time": "2022-08-12T06:01:46.830Z"
   },
   {
    "duration": 15,
    "start_time": "2022-08-12T06:01:46.843Z"
   },
   {
    "duration": 18,
    "start_time": "2022-08-12T06:01:46.859Z"
   },
   {
    "duration": 15,
    "start_time": "2022-08-12T06:01:46.880Z"
   },
   {
    "duration": 44,
    "start_time": "2022-08-12T06:01:46.898Z"
   },
   {
    "duration": 10,
    "start_time": "2022-08-12T06:01:46.944Z"
   },
   {
    "duration": 17,
    "start_time": "2022-08-12T06:01:46.956Z"
   },
   {
    "duration": 17,
    "start_time": "2022-08-12T06:01:46.975Z"
   },
   {
    "duration": 24,
    "start_time": "2022-08-12T06:01:46.994Z"
   },
   {
    "duration": 18,
    "start_time": "2022-08-12T06:01:47.020Z"
   },
   {
    "duration": 3,
    "start_time": "2022-08-12T06:01:47.041Z"
   },
   {
    "duration": 13,
    "start_time": "2022-08-12T06:01:47.046Z"
   },
   {
    "duration": 9,
    "start_time": "2022-08-12T06:01:47.060Z"
   },
   {
    "duration": 8,
    "start_time": "2022-08-12T06:01:47.092Z"
   },
   {
    "duration": 14,
    "start_time": "2022-08-12T06:01:47.101Z"
   },
   {
    "duration": 7,
    "start_time": "2022-08-12T06:01:47.117Z"
   },
   {
    "duration": 8,
    "start_time": "2022-08-12T06:01:47.125Z"
   },
   {
    "duration": 5,
    "start_time": "2022-08-12T06:01:47.134Z"
   },
   {
    "duration": 8,
    "start_time": "2022-08-12T06:01:47.140Z"
   },
   {
    "duration": 6,
    "start_time": "2022-08-12T06:05:57.440Z"
   },
   {
    "duration": 66,
    "start_time": "2022-08-12T06:11:28.595Z"
   },
   {
    "duration": 77,
    "start_time": "2022-08-12T06:11:51.187Z"
   },
   {
    "duration": 6,
    "start_time": "2022-08-12T06:12:02.762Z"
   },
   {
    "duration": 1369,
    "start_time": "2022-08-12T06:13:05.271Z"
   },
   {
    "duration": 13,
    "start_time": "2022-08-12T06:14:59.939Z"
   },
   {
    "duration": 11,
    "start_time": "2022-08-12T06:15:05.259Z"
   },
   {
    "duration": 24,
    "start_time": "2022-08-12T06:15:31.454Z"
   },
   {
    "duration": 11,
    "start_time": "2022-08-12T06:15:57.470Z"
   },
   {
    "duration": 15,
    "start_time": "2022-08-12T06:16:08.043Z"
   },
   {
    "duration": 13,
    "start_time": "2022-08-12T06:16:23.157Z"
   },
   {
    "duration": 12,
    "start_time": "2022-08-12T06:16:46.051Z"
   },
   {
    "duration": 23,
    "start_time": "2022-08-12T06:29:31.095Z"
   },
   {
    "duration": 30,
    "start_time": "2022-08-12T06:29:34.907Z"
   },
   {
    "duration": 1474,
    "start_time": "2022-08-12T06:30:00.739Z"
   },
   {
    "duration": 24,
    "start_time": "2022-08-12T06:30:25.677Z"
   },
   {
    "duration": 13,
    "start_time": "2022-08-12T06:30:36.278Z"
   },
   {
    "duration": 41,
    "start_time": "2022-08-12T06:30:41.798Z"
   },
   {
    "duration": 12,
    "start_time": "2022-08-12T06:30:49.869Z"
   },
   {
    "duration": 13,
    "start_time": "2022-08-12T06:32:02.605Z"
   },
   {
    "duration": 12,
    "start_time": "2022-08-12T06:32:34.407Z"
   },
   {
    "duration": 13,
    "start_time": "2022-08-12T06:39:18.698Z"
   },
   {
    "duration": 14,
    "start_time": "2022-08-12T06:41:03.866Z"
   },
   {
    "duration": 15,
    "start_time": "2022-08-12T06:41:19.585Z"
   },
   {
    "duration": 19,
    "start_time": "2022-08-12T06:42:08.968Z"
   },
   {
    "duration": 17,
    "start_time": "2022-08-12T06:44:37.338Z"
   },
   {
    "duration": 20,
    "start_time": "2022-08-12T06:45:03.949Z"
   },
   {
    "duration": 18,
    "start_time": "2022-08-12T06:45:48.243Z"
   },
   {
    "duration": 17,
    "start_time": "2022-08-12T06:46:11.147Z"
   },
   {
    "duration": 18,
    "start_time": "2022-08-12T06:46:15.187Z"
   },
   {
    "duration": 20,
    "start_time": "2022-08-12T06:49:07.560Z"
   },
   {
    "duration": 8,
    "start_time": "2022-08-12T07:09:26.103Z"
   },
   {
    "duration": 13,
    "start_time": "2022-08-12T07:09:38.727Z"
   },
   {
    "duration": 9,
    "start_time": "2022-08-12T07:10:07.535Z"
   },
   {
    "duration": 15,
    "start_time": "2022-08-12T07:10:23.535Z"
   },
   {
    "duration": 36,
    "start_time": "2022-08-12T07:11:04.326Z"
   },
   {
    "duration": 39,
    "start_time": "2022-08-12T07:11:33.446Z"
   },
   {
    "duration": 16,
    "start_time": "2022-08-12T07:16:55.000Z"
   },
   {
    "duration": 14,
    "start_time": "2022-08-12T07:19:11.452Z"
   },
   {
    "duration": 14,
    "start_time": "2022-08-12T07:19:35.500Z"
   },
   {
    "duration": 15,
    "start_time": "2022-08-12T07:19:41.875Z"
   },
   {
    "duration": 14,
    "start_time": "2022-08-12T07:20:10.723Z"
   },
   {
    "duration": 15,
    "start_time": "2022-08-12T07:20:21.059Z"
   },
   {
    "duration": 141,
    "start_time": "2022-08-12T07:21:52.650Z"
   },
   {
    "duration": 114,
    "start_time": "2022-08-12T07:25:41.357Z"
   },
   {
    "duration": 14,
    "start_time": "2022-08-12T07:25:46.757Z"
   },
   {
    "duration": 14,
    "start_time": "2022-08-12T07:26:10.596Z"
   },
   {
    "duration": 16,
    "start_time": "2022-08-12T07:26:41.980Z"
   },
   {
    "duration": 15,
    "start_time": "2022-08-12T07:28:26.850Z"
   },
   {
    "duration": 15,
    "start_time": "2022-08-12T07:28:48.620Z"
   },
   {
    "duration": 14,
    "start_time": "2022-08-12T07:28:58.714Z"
   },
   {
    "duration": 14,
    "start_time": "2022-08-12T07:30:57.208Z"
   },
   {
    "duration": 14,
    "start_time": "2022-08-12T07:31:15.703Z"
   },
   {
    "duration": 2,
    "start_time": "2022-08-12T07:50:33.650Z"
   },
   {
    "duration": 2,
    "start_time": "2022-08-12T07:50:39.775Z"
   },
   {
    "duration": 2,
    "start_time": "2022-08-12T07:50:48.071Z"
   },
   {
    "duration": 16,
    "start_time": "2022-08-12T07:53:47.564Z"
   },
   {
    "duration": 20,
    "start_time": "2022-08-12T08:47:34.985Z"
   },
   {
    "duration": 474,
    "start_time": "2022-08-12T09:01:43.439Z"
   },
   {
    "duration": 23,
    "start_time": "2022-08-12T09:01:43.916Z"
   },
   {
    "duration": 29,
    "start_time": "2022-08-12T09:01:43.941Z"
   },
   {
    "duration": 23,
    "start_time": "2022-08-12T09:01:43.973Z"
   },
   {
    "duration": 46,
    "start_time": "2022-08-12T09:01:43.998Z"
   },
   {
    "duration": 3,
    "start_time": "2022-08-12T09:01:44.046Z"
   },
   {
    "duration": 14,
    "start_time": "2022-08-12T09:01:44.051Z"
   },
   {
    "duration": 26,
    "start_time": "2022-08-12T09:01:44.067Z"
   },
   {
    "duration": 8,
    "start_time": "2022-08-12T09:01:44.095Z"
   },
   {
    "duration": 6,
    "start_time": "2022-08-12T09:01:44.106Z"
   },
   {
    "duration": 40,
    "start_time": "2022-08-12T09:01:44.114Z"
   },
   {
    "duration": 38,
    "start_time": "2022-08-12T09:01:44.155Z"
   },
   {
    "duration": 3,
    "start_time": "2022-08-12T09:01:44.195Z"
   },
   {
    "duration": 15,
    "start_time": "2022-08-12T09:01:44.200Z"
   },
   {
    "duration": 24,
    "start_time": "2022-08-12T09:01:44.218Z"
   },
   {
    "duration": 19,
    "start_time": "2022-08-12T09:01:44.243Z"
   },
   {
    "duration": 29,
    "start_time": "2022-08-12T09:01:44.264Z"
   },
   {
    "duration": 16,
    "start_time": "2022-08-12T09:01:44.295Z"
   },
   {
    "duration": 10,
    "start_time": "2022-08-12T09:01:44.313Z"
   },
   {
    "duration": 4,
    "start_time": "2022-08-12T09:01:44.325Z"
   },
   {
    "duration": 15,
    "start_time": "2022-08-12T09:01:44.331Z"
   },
   {
    "duration": 17,
    "start_time": "2022-08-12T09:01:44.348Z"
   },
   {
    "duration": 39,
    "start_time": "2022-08-12T09:01:44.367Z"
   },
   {
    "duration": 8,
    "start_time": "2022-08-12T09:01:44.408Z"
   },
   {
    "duration": 9,
    "start_time": "2022-08-12T09:01:44.417Z"
   },
   {
    "duration": 7,
    "start_time": "2022-08-12T09:12:04.461Z"
   },
   {
    "duration": 9,
    "start_time": "2022-08-12T09:12:14.828Z"
   },
   {
    "duration": 1731,
    "start_time": "2022-08-12T09:15:20.403Z"
   },
   {
    "duration": 15,
    "start_time": "2022-08-12T09:15:45.867Z"
   },
   {
    "duration": 18,
    "start_time": "2022-08-12T09:16:10.604Z"
   },
   {
    "duration": 13,
    "start_time": "2022-08-12T09:16:28.050Z"
   },
   {
    "duration": 17,
    "start_time": "2022-08-12T09:17:27.425Z"
   },
   {
    "duration": 22,
    "start_time": "2022-08-12T09:17:39.056Z"
   },
   {
    "duration": 19,
    "start_time": "2022-08-12T09:17:58.856Z"
   },
   {
    "duration": 15,
    "start_time": "2022-08-12T09:18:17.352Z"
   },
   {
    "duration": 1477,
    "start_time": "2022-08-12T09:18:57.318Z"
   },
   {
    "duration": 23,
    "start_time": "2022-08-12T09:19:16.375Z"
   },
   {
    "duration": 25,
    "start_time": "2022-08-12T09:19:27.622Z"
   },
   {
    "duration": 25,
    "start_time": "2022-08-12T09:19:37.246Z"
   },
   {
    "duration": 17,
    "start_time": "2022-08-12T09:22:06.555Z"
   },
   {
    "duration": 20,
    "start_time": "2022-08-12T09:22:25.232Z"
   },
   {
    "duration": 17,
    "start_time": "2022-08-12T09:22:30.032Z"
   },
   {
    "duration": 18,
    "start_time": "2022-08-12T09:22:40.156Z"
   },
   {
    "duration": 17,
    "start_time": "2022-08-12T09:24:26.145Z"
   },
   {
    "duration": 488,
    "start_time": "2022-08-12T09:40:26.853Z"
   },
   {
    "duration": 25,
    "start_time": "2022-08-12T09:40:27.344Z"
   },
   {
    "duration": 29,
    "start_time": "2022-08-12T09:40:27.371Z"
   },
   {
    "duration": 11,
    "start_time": "2022-08-12T09:40:27.403Z"
   },
   {
    "duration": 50,
    "start_time": "2022-08-12T09:40:27.415Z"
   },
   {
    "duration": 4,
    "start_time": "2022-08-12T09:40:27.467Z"
   },
   {
    "duration": 25,
    "start_time": "2022-08-12T09:40:27.473Z"
   },
   {
    "duration": 18,
    "start_time": "2022-08-12T09:40:27.500Z"
   },
   {
    "duration": 22,
    "start_time": "2022-08-12T09:40:27.519Z"
   },
   {
    "duration": 27,
    "start_time": "2022-08-12T09:40:27.545Z"
   },
   {
    "duration": 56,
    "start_time": "2022-08-12T09:40:27.575Z"
   },
   {
    "duration": 12,
    "start_time": "2022-08-12T09:40:27.633Z"
   },
   {
    "duration": 21,
    "start_time": "2022-08-12T09:40:27.647Z"
   },
   {
    "duration": 32,
    "start_time": "2022-08-12T09:40:27.670Z"
   },
   {
    "duration": 33,
    "start_time": "2022-08-12T09:40:27.704Z"
   },
   {
    "duration": 19,
    "start_time": "2022-08-12T09:40:27.739Z"
   },
   {
    "duration": 4,
    "start_time": "2022-08-12T09:40:27.760Z"
   },
   {
    "duration": 21,
    "start_time": "2022-08-12T09:40:27.766Z"
   },
   {
    "duration": 20,
    "start_time": "2022-08-12T09:40:27.789Z"
   },
   {
    "duration": 5,
    "start_time": "2022-08-12T09:40:27.811Z"
   },
   {
    "duration": 32,
    "start_time": "2022-08-12T09:40:27.818Z"
   },
   {
    "duration": 22,
    "start_time": "2022-08-12T09:40:27.852Z"
   },
   {
    "duration": 34,
    "start_time": "2022-08-12T09:40:27.875Z"
   },
   {
    "duration": 34,
    "start_time": "2022-08-12T09:40:27.910Z"
   },
   {
    "duration": 19,
    "start_time": "2022-08-12T09:40:27.946Z"
   },
   {
    "duration": 492,
    "start_time": "2022-08-12T09:41:53.628Z"
   },
   {
    "duration": 25,
    "start_time": "2022-08-12T09:41:54.122Z"
   },
   {
    "duration": 17,
    "start_time": "2022-08-12T09:41:54.149Z"
   },
   {
    "duration": 25,
    "start_time": "2022-08-12T09:41:54.168Z"
   },
   {
    "duration": 45,
    "start_time": "2022-08-12T09:41:54.194Z"
   },
   {
    "duration": 4,
    "start_time": "2022-08-12T09:41:54.241Z"
   },
   {
    "duration": 15,
    "start_time": "2022-08-12T09:41:54.247Z"
   },
   {
    "duration": 12,
    "start_time": "2022-08-12T09:41:54.264Z"
   },
   {
    "duration": 9,
    "start_time": "2022-08-12T09:41:54.292Z"
   },
   {
    "duration": 5,
    "start_time": "2022-08-12T09:41:54.303Z"
   },
   {
    "duration": 38,
    "start_time": "2022-08-12T09:41:54.309Z"
   },
   {
    "duration": 45,
    "start_time": "2022-08-12T09:41:54.349Z"
   },
   {
    "duration": 5,
    "start_time": "2022-08-12T09:41:54.395Z"
   },
   {
    "duration": 17,
    "start_time": "2022-08-12T09:41:54.402Z"
   },
   {
    "duration": 21,
    "start_time": "2022-08-12T09:41:54.421Z"
   },
   {
    "duration": 20,
    "start_time": "2022-08-12T09:41:54.444Z"
   },
   {
    "duration": 27,
    "start_time": "2022-08-12T09:41:54.466Z"
   },
   {
    "duration": 15,
    "start_time": "2022-08-12T09:41:54.495Z"
   },
   {
    "duration": 9,
    "start_time": "2022-08-12T09:41:54.512Z"
   },
   {
    "duration": 5,
    "start_time": "2022-08-12T09:41:54.523Z"
   },
   {
    "duration": 13,
    "start_time": "2022-08-12T09:41:54.530Z"
   },
   {
    "duration": 17,
    "start_time": "2022-08-12T09:41:54.545Z"
   },
   {
    "duration": 45,
    "start_time": "2022-08-12T09:41:54.564Z"
   },
   {
    "duration": 18,
    "start_time": "2022-08-12T09:41:54.611Z"
   },
   {
    "duration": 3,
    "start_time": "2022-08-12T09:41:54.631Z"
   },
   {
    "duration": 82,
    "start_time": "2022-08-12T09:43:20.910Z"
   },
   {
    "duration": 18,
    "start_time": "2022-08-12T09:43:35.839Z"
   },
   {
    "duration": 18,
    "start_time": "2022-08-12T09:43:46.478Z"
   },
   {
    "duration": 22,
    "start_time": "2022-08-12T09:46:58.907Z"
   },
   {
    "duration": 584,
    "start_time": "2022-08-12T09:49:52.990Z"
   },
   {
    "duration": 25,
    "start_time": "2022-08-12T09:49:53.576Z"
   },
   {
    "duration": 17,
    "start_time": "2022-08-12T09:49:53.603Z"
   },
   {
    "duration": 11,
    "start_time": "2022-08-12T09:49:53.622Z"
   },
   {
    "duration": 67,
    "start_time": "2022-08-12T09:49:53.635Z"
   },
   {
    "duration": 4,
    "start_time": "2022-08-12T09:49:53.704Z"
   },
   {
    "duration": 14,
    "start_time": "2022-08-12T09:49:53.709Z"
   },
   {
    "duration": 9,
    "start_time": "2022-08-12T09:49:53.724Z"
   },
   {
    "duration": 11,
    "start_time": "2022-08-12T09:49:53.734Z"
   },
   {
    "duration": 4,
    "start_time": "2022-08-12T09:49:53.749Z"
   },
   {
    "duration": 71,
    "start_time": "2022-08-12T09:49:53.755Z"
   },
   {
    "duration": 12,
    "start_time": "2022-08-12T09:49:53.827Z"
   },
   {
    "duration": 6,
    "start_time": "2022-08-12T09:49:53.840Z"
   },
   {
    "duration": 20,
    "start_time": "2022-08-12T09:49:53.848Z"
   },
   {
    "duration": 54,
    "start_time": "2022-08-12T09:49:53.870Z"
   },
   {
    "duration": 20,
    "start_time": "2022-08-12T09:49:53.926Z"
   },
   {
    "duration": 5,
    "start_time": "2022-08-12T09:49:53.948Z"
   },
   {
    "duration": 32,
    "start_time": "2022-08-12T09:49:53.955Z"
   },
   {
    "duration": 9,
    "start_time": "2022-08-12T09:49:53.989Z"
   },
   {
    "duration": 10,
    "start_time": "2022-08-12T09:49:54.000Z"
   },
   {
    "duration": 18,
    "start_time": "2022-08-12T09:49:54.012Z"
   },
   {
    "duration": 21,
    "start_time": "2022-08-12T09:49:54.033Z"
   },
   {
    "duration": 44,
    "start_time": "2022-08-12T09:49:54.056Z"
   },
   {
    "duration": 27,
    "start_time": "2022-08-12T09:49:54.102Z"
   },
   {
    "duration": 20,
    "start_time": "2022-08-12T09:49:54.131Z"
   },
   {
    "duration": 494,
    "start_time": "2022-08-12T11:10:56.523Z"
   },
   {
    "duration": 23,
    "start_time": "2022-08-12T11:10:57.019Z"
   },
   {
    "duration": 16,
    "start_time": "2022-08-12T11:10:57.044Z"
   },
   {
    "duration": 29,
    "start_time": "2022-08-12T11:10:57.063Z"
   },
   {
    "duration": 37,
    "start_time": "2022-08-12T11:10:57.094Z"
   },
   {
    "duration": 4,
    "start_time": "2022-08-12T11:10:57.133Z"
   },
   {
    "duration": 19,
    "start_time": "2022-08-12T11:10:57.139Z"
   },
   {
    "duration": 7,
    "start_time": "2022-08-12T11:10:57.160Z"
   },
   {
    "duration": 29,
    "start_time": "2022-08-12T11:10:57.169Z"
   },
   {
    "duration": 4,
    "start_time": "2022-08-12T11:10:57.201Z"
   },
   {
    "duration": 40,
    "start_time": "2022-08-12T11:10:57.207Z"
   },
   {
    "duration": 10,
    "start_time": "2022-08-12T11:10:57.249Z"
   },
   {
    "duration": 5,
    "start_time": "2022-08-12T11:10:57.261Z"
   },
   {
    "duration": 33,
    "start_time": "2022-08-12T11:10:57.267Z"
   },
   {
    "duration": 21,
    "start_time": "2022-08-12T11:10:57.302Z"
   },
   {
    "duration": 19,
    "start_time": "2022-08-12T11:10:57.324Z"
   },
   {
    "duration": 4,
    "start_time": "2022-08-12T11:10:57.344Z"
   },
   {
    "duration": 18,
    "start_time": "2022-08-12T11:10:57.350Z"
   },
   {
    "duration": 24,
    "start_time": "2022-08-12T11:10:57.370Z"
   },
   {
    "duration": 4,
    "start_time": "2022-08-12T11:10:57.396Z"
   },
   {
    "duration": 13,
    "start_time": "2022-08-12T11:10:57.401Z"
   },
   {
    "duration": 20,
    "start_time": "2022-08-12T11:10:57.416Z"
   },
   {
    "duration": 18,
    "start_time": "2022-08-12T11:10:57.438Z"
   },
   {
    "duration": 43,
    "start_time": "2022-08-12T11:10:57.457Z"
   },
   {
    "duration": 18,
    "start_time": "2022-08-12T11:10:57.502Z"
   },
   {
    "duration": 507,
    "start_time": "2022-08-12T11:41:22.284Z"
   },
   {
    "duration": 24,
    "start_time": "2022-08-12T11:41:22.793Z"
   },
   {
    "duration": 41,
    "start_time": "2022-08-12T11:41:22.818Z"
   },
   {
    "duration": 21,
    "start_time": "2022-08-12T11:41:22.861Z"
   },
   {
    "duration": 37,
    "start_time": "2022-08-12T11:41:22.884Z"
   },
   {
    "duration": 4,
    "start_time": "2022-08-12T11:41:22.923Z"
   },
   {
    "duration": 17,
    "start_time": "2022-08-12T11:41:22.928Z"
   },
   {
    "duration": 7,
    "start_time": "2022-08-12T11:41:22.947Z"
   },
   {
    "duration": 12,
    "start_time": "2022-08-12T11:41:22.955Z"
   },
   {
    "duration": 4,
    "start_time": "2022-08-12T11:41:22.970Z"
   },
   {
    "duration": 49,
    "start_time": "2022-08-12T11:41:22.976Z"
   },
   {
    "duration": 13,
    "start_time": "2022-08-12T11:41:23.028Z"
   },
   {
    "duration": 11,
    "start_time": "2022-08-12T11:41:23.042Z"
   },
   {
    "duration": 17,
    "start_time": "2022-08-12T11:41:23.055Z"
   },
   {
    "duration": 37,
    "start_time": "2022-08-12T11:41:23.074Z"
   },
   {
    "duration": 20,
    "start_time": "2022-08-12T11:41:23.113Z"
   },
   {
    "duration": 5,
    "start_time": "2022-08-12T11:41:23.135Z"
   },
   {
    "duration": 19,
    "start_time": "2022-08-12T11:41:23.142Z"
   },
   {
    "duration": 29,
    "start_time": "2022-08-12T11:41:23.163Z"
   },
   {
    "duration": 4,
    "start_time": "2022-08-12T11:41:23.193Z"
   },
   {
    "duration": 17,
    "start_time": "2022-08-12T11:41:23.199Z"
   },
   {
    "duration": 22,
    "start_time": "2022-08-12T11:41:23.218Z"
   },
   {
    "duration": 52,
    "start_time": "2022-08-12T11:41:23.242Z"
   },
   {
    "duration": 18,
    "start_time": "2022-08-12T11:41:23.296Z"
   },
   {
    "duration": 22,
    "start_time": "2022-08-12T11:41:23.315Z"
   },
   {
    "duration": 507,
    "start_time": "2022-08-12T12:31:31.721Z"
   },
   {
    "duration": 22,
    "start_time": "2022-08-12T12:31:32.230Z"
   },
   {
    "duration": 16,
    "start_time": "2022-08-12T12:31:32.254Z"
   },
   {
    "duration": 24,
    "start_time": "2022-08-12T12:31:32.272Z"
   },
   {
    "duration": 36,
    "start_time": "2022-08-12T12:31:32.298Z"
   },
   {
    "duration": 4,
    "start_time": "2022-08-12T12:31:32.336Z"
   },
   {
    "duration": 15,
    "start_time": "2022-08-12T12:31:32.342Z"
   },
   {
    "duration": 10,
    "start_time": "2022-08-12T12:31:32.358Z"
   },
   {
    "duration": 8,
    "start_time": "2022-08-12T12:31:32.370Z"
   },
   {
    "duration": 8,
    "start_time": "2022-08-12T12:31:32.381Z"
   },
   {
    "duration": 40,
    "start_time": "2022-08-12T12:31:32.390Z"
   },
   {
    "duration": 10,
    "start_time": "2022-08-12T12:31:32.432Z"
   },
   {
    "duration": 24,
    "start_time": "2022-08-12T12:31:32.444Z"
   },
   {
    "duration": 13,
    "start_time": "2022-08-12T12:31:32.470Z"
   },
   {
    "duration": 30,
    "start_time": "2022-08-12T12:31:32.485Z"
   },
   {
    "duration": 19,
    "start_time": "2022-08-12T12:31:32.516Z"
   },
   {
    "duration": 3,
    "start_time": "2022-08-12T12:31:32.537Z"
   },
   {
    "duration": 41,
    "start_time": "2022-08-12T12:31:32.542Z"
   },
   {
    "duration": 13,
    "start_time": "2022-08-12T12:31:32.585Z"
   },
   {
    "duration": 8,
    "start_time": "2022-08-12T12:31:32.599Z"
   },
   {
    "duration": 14,
    "start_time": "2022-08-12T12:31:32.610Z"
   },
   {
    "duration": 17,
    "start_time": "2022-08-12T12:31:32.627Z"
   },
   {
    "duration": 35,
    "start_time": "2022-08-12T12:31:32.645Z"
   },
   {
    "duration": 18,
    "start_time": "2022-08-12T12:31:32.681Z"
   },
   {
    "duration": 19,
    "start_time": "2022-08-12T12:31:32.701Z"
   },
   {
    "duration": 448,
    "start_time": "2022-08-13T08:55:22.494Z"
   },
   {
    "duration": 18,
    "start_time": "2022-08-13T08:55:22.943Z"
   },
   {
    "duration": 12,
    "start_time": "2022-08-13T08:55:22.962Z"
   },
   {
    "duration": 7,
    "start_time": "2022-08-13T08:55:22.976Z"
   },
   {
    "duration": 28,
    "start_time": "2022-08-13T08:55:22.998Z"
   },
   {
    "duration": 3,
    "start_time": "2022-08-13T08:55:23.027Z"
   },
   {
    "duration": 10,
    "start_time": "2022-08-13T08:55:23.031Z"
   },
   {
    "duration": 3,
    "start_time": "2022-08-13T08:55:23.042Z"
   },
   {
    "duration": 6,
    "start_time": "2022-08-13T08:55:23.046Z"
   },
   {
    "duration": 3,
    "start_time": "2022-08-13T08:55:23.056Z"
   },
   {
    "duration": 56,
    "start_time": "2022-08-13T08:55:23.061Z"
   },
   {
    "duration": 8,
    "start_time": "2022-08-13T08:55:23.118Z"
   },
   {
    "duration": 3,
    "start_time": "2022-08-13T08:55:23.127Z"
   },
   {
    "duration": 10,
    "start_time": "2022-08-13T08:55:23.131Z"
   },
   {
    "duration": 17,
    "start_time": "2022-08-13T08:55:23.143Z"
   },
   {
    "duration": 13,
    "start_time": "2022-08-13T08:55:23.161Z"
   },
   {
    "duration": 24,
    "start_time": "2022-08-13T08:55:23.175Z"
   },
   {
    "duration": 20,
    "start_time": "2022-08-13T08:55:23.200Z"
   },
   {
    "duration": 5,
    "start_time": "2022-08-13T08:55:23.221Z"
   },
   {
    "duration": 3,
    "start_time": "2022-08-13T08:55:23.227Z"
   },
   {
    "duration": 9,
    "start_time": "2022-08-13T08:55:23.231Z"
   },
   {
    "duration": 12,
    "start_time": "2022-08-13T08:55:23.241Z"
   },
   {
    "duration": 13,
    "start_time": "2022-08-13T08:55:23.255Z"
   },
   {
    "duration": 30,
    "start_time": "2022-08-13T08:55:23.269Z"
   },
   {
    "duration": 14,
    "start_time": "2022-08-13T08:55:23.300Z"
   }
  ],
  "colab": {
   "name": "dpp_template_part2.ipynb",
   "provenance": []
  },
  "kernelspec": {
   "display_name": "Python 3 (ipykernel)",
   "language": "python",
   "name": "python3"
  },
  "language_info": {
   "codemirror_mode": {
    "name": "ipython",
    "version": 3
   },
   "file_extension": ".py",
   "mimetype": "text/x-python",
   "name": "python",
   "nbconvert_exporter": "python",
   "pygments_lexer": "ipython3",
   "version": "3.9.5"
  },
  "toc": {
   "base_numbering": 1,
   "nav_menu": {},
   "number_sections": false,
   "sideBar": true,
   "skip_h1_title": true,
   "title_cell": "Table of Contents",
   "title_sidebar": "Contents",
   "toc_cell": false,
   "toc_position": {
    "height": "calc(100% - 180px)",
    "left": "10px",
    "top": "150px",
    "width": "496.391px"
   },
   "toc_section_display": true,
   "toc_window_display": false
  }
 },
 "nbformat": 4,
 "nbformat_minor": 5
}
