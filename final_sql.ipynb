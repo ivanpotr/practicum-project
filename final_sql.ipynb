{
 "cells": [
  {
   "cell_type": "markdown",
   "metadata": {},
   "source": [
    "## Описание проекта"
   ]
  },
  {
   "cell_type": "markdown",
   "metadata": {},
   "source": [
    "Коронавирус застал мир врасплох, изменив привычный порядок вещей. В свободное время жители городов больше не выходят на улицу, не посещают кафе и торговые центры. Зато стало больше времени для книг. Это заметили стартаперы — и бросились создавать приложения для тех, кто любит читать.\n",
    "\n",
    "Ваша компания решила быть на волне и купила крупный сервис для чтения книг по подписке. Ваша первая задача как аналитика — проанализировать базу данных.\n",
    "В ней — информация о книгах, издательствах, авторах, а также пользовательские обзоры книг. Эти данные помогут сформулировать ценностное предложение для нового продукта.\n",
    "\n",
    "<b>Задания:</b>\n",
    "\n",
    "- Посчитайте, сколько книг вышло после 1 января 2000 года;\n",
    "- Для каждой книги посчитайте количество обзоров и среднюю оценку;\n",
    "- Определите издательство, которое выпустило наибольшее число книг толще 50 страниц — так вы исключите из анализа брошюры;\n",
    "- Определите автора с самой высокой средней оценкой книг — учитывайте только книги с 50 и более оценками;\n",
    "- Посчитайте среднее количество обзоров от пользователей, которые поставили больше 50 оценок."
   ]
  },
  {
   "cell_type": "markdown",
   "metadata": {},
   "source": [
    "## Описание данных"
   ]
  },
  {
   "cell_type": "markdown",
   "metadata": {},
   "source": [
    "<b>Таблица `books`</b>\n",
    "\n",
    "Содержит данные о книгах:\n",
    "\n",
    "- `book_id` — идентификатор книги;\n",
    "- `author_id` — идентификатор автора;\n",
    "- `title` — название книги;\n",
    "- `num_pages` — количество страниц;\n",
    "- `publication_date` — дата публикации книги;\n",
    "- `publisher_id` — идентификатор издателя.\n",
    "\n",
    "<b>Таблица `authors`</b>\n",
    "\n",
    "Содержит данные об авторах:\n",
    "\n",
    "- `author_id` — идентификатор автора;\n",
    "- `author` — имя автора.\n",
    "\n",
    "<b>Таблица `publishers`</b>\n",
    "\n",
    "Содержит данные об издательствах:\n",
    "\n",
    "- `publisher_id` — идентификатор издательства;\n",
    "- `publisher` — название издательства;\n",
    "\n",
    "<b>Таблица `ratings`</b>\n",
    "\n",
    "Содержит данные о пользовательских оценках книг:\n",
    "\n",
    "- `rating_id` — идентификатор оценки;\n",
    "- `book_id` — идентификатор книги;\n",
    "- `username` — имя пользователя, оставившего оценку;\n",
    "- `rating` — оценка книги.\n",
    "\n",
    "<b>Таблица `reviews`</b>\n",
    "\n",
    "Содержит данные о пользовательских обзорах на книги:\n",
    "\n",
    "- `review_id` — идентификатор обзора;\n",
    "- `book_id` — идентификатор книги;\n",
    "- `username` — имя пользователя, написавшего обзор;\n",
    "- `text` — текст обзора."
   ]
  },
  {
   "cell_type": "markdown",
   "metadata": {},
   "source": [
    "## Загрузка и обзор данных"
   ]
  },
  {
   "cell_type": "code",
   "execution_count": 1,
   "metadata": {},
   "outputs": [],
   "source": [
    "#Иморт библиотек\n",
    "import pandas as pd\n",
    "from sqlalchemy import create_engine "
   ]
  },
  {
   "cell_type": "code",
   "execution_count": 2,
   "metadata": {},
   "outputs": [
    {
     "name": "stdout",
     "output_type": "stream",
     "text": [
      "Данные загружены\n"
     ]
    }
   ],
   "source": [
    "try:\n",
    "    # устанавливаем параметры\n",
    "    db_config = {'user': 'praktikum_student', # имя пользователя\n",
    "             'pwd': 'Sdf4$2;d-d30pp', # пароль\n",
    "             'host': 'rc1b-wcoijxj3yxfsf3fs.mdb.yandexcloud.net',\n",
    "             'port': 6432, # порт подключения\n",
    "             'db': 'data-analyst-final-project-db'} # название базы данных\n",
    "\n",
    "    connection_string = 'postgresql://{}:{}@{}:{}/{}'.format(db_config['user'],\n",
    "                                                         db_config['pwd'],\n",
    "                                                         db_config['host'],\n",
    "                                                         db_config['port'],\n",
    "                                                         db_config['db'])\n",
    "    # сохраняем коннектор\n",
    "    engine = create_engine(connection_string, connect_args={'sslmode':'require'}) \n",
    "    print('Данные загружены')\n",
    "except:\n",
    "    print('Данные не загружены')"
   ]
  },
  {
   "cell_type": "code",
   "execution_count": 3,
   "metadata": {},
   "outputs": [],
   "source": [
    "#Функцию для выполнения запроса\n",
    "def select(query):\n",
    "    return pd.io.sql.read_sql(query, con = engine)"
   ]
  },
  {
   "cell_type": "code",
   "execution_count": 4,
   "metadata": {},
   "outputs": [
    {
     "data": {
      "text/html": [
       "<div>\n",
       "<style scoped>\n",
       "    .dataframe tbody tr th:only-of-type {\n",
       "        vertical-align: middle;\n",
       "    }\n",
       "\n",
       "    .dataframe tbody tr th {\n",
       "        vertical-align: top;\n",
       "    }\n",
       "\n",
       "    .dataframe thead th {\n",
       "        text-align: right;\n",
       "    }\n",
       "</style>\n",
       "<table border=\"1\" class=\"dataframe\">\n",
       "  <thead>\n",
       "    <tr style=\"text-align: right;\">\n",
       "      <th></th>\n",
       "      <th>book_id</th>\n",
       "      <th>author_id</th>\n",
       "      <th>title</th>\n",
       "      <th>num_pages</th>\n",
       "      <th>publication_date</th>\n",
       "      <th>publisher_id</th>\n",
       "    </tr>\n",
       "  </thead>\n",
       "  <tbody>\n",
       "    <tr>\n",
       "      <th>0</th>\n",
       "      <td>1</td>\n",
       "      <td>546</td>\n",
       "      <td>'Salem's Lot</td>\n",
       "      <td>594</td>\n",
       "      <td>2005-11-01</td>\n",
       "      <td>93</td>\n",
       "    </tr>\n",
       "    <tr>\n",
       "      <th>1</th>\n",
       "      <td>2</td>\n",
       "      <td>465</td>\n",
       "      <td>1 000 Places to See Before You Die</td>\n",
       "      <td>992</td>\n",
       "      <td>2003-05-22</td>\n",
       "      <td>336</td>\n",
       "    </tr>\n",
       "    <tr>\n",
       "      <th>2</th>\n",
       "      <td>3</td>\n",
       "      <td>407</td>\n",
       "      <td>13 Little Blue Envelopes (Little Blue Envelope...</td>\n",
       "      <td>322</td>\n",
       "      <td>2010-12-21</td>\n",
       "      <td>135</td>\n",
       "    </tr>\n",
       "    <tr>\n",
       "      <th>3</th>\n",
       "      <td>4</td>\n",
       "      <td>82</td>\n",
       "      <td>1491: New Revelations of the Americas Before C...</td>\n",
       "      <td>541</td>\n",
       "      <td>2006-10-10</td>\n",
       "      <td>309</td>\n",
       "    </tr>\n",
       "    <tr>\n",
       "      <th>4</th>\n",
       "      <td>5</td>\n",
       "      <td>125</td>\n",
       "      <td>1776</td>\n",
       "      <td>386</td>\n",
       "      <td>2006-07-04</td>\n",
       "      <td>268</td>\n",
       "    </tr>\n",
       "  </tbody>\n",
       "</table>\n",
       "</div>"
      ],
      "text/plain": [
       "   book_id  author_id                                              title  \\\n",
       "0        1        546                                       'Salem's Lot   \n",
       "1        2        465                 1 000 Places to See Before You Die   \n",
       "2        3        407  13 Little Blue Envelopes (Little Blue Envelope...   \n",
       "3        4         82  1491: New Revelations of the Americas Before C...   \n",
       "4        5        125                                               1776   \n",
       "\n",
       "   num_pages publication_date  publisher_id  \n",
       "0        594       2005-11-01            93  \n",
       "1        992       2003-05-22           336  \n",
       "2        322       2010-12-21           135  \n",
       "3        541       2006-10-10           309  \n",
       "4        386       2006-07-04           268  "
      ]
     },
     "execution_count": 4,
     "metadata": {},
     "output_type": "execute_result"
    }
   ],
   "source": [
    "#Загрузка данных из таблицы\n",
    "books = '''\n",
    "SELECT * \n",
    "FROM books\n",
    "'''\n",
    "#Первые пять строк датафрейма\n",
    "select(books).head()"
   ]
  },
  {
   "cell_type": "code",
   "execution_count": 5,
   "metadata": {},
   "outputs": [
    {
     "name": "stdout",
     "output_type": "stream",
     "text": [
      "<class 'pandas.core.frame.DataFrame'>\n",
      "RangeIndex: 1000 entries, 0 to 999\n",
      "Data columns (total 6 columns):\n",
      " #   Column            Non-Null Count  Dtype \n",
      "---  ------            --------------  ----- \n",
      " 0   book_id           1000 non-null   int64 \n",
      " 1   author_id         1000 non-null   int64 \n",
      " 2   title             1000 non-null   object\n",
      " 3   num_pages         1000 non-null   int64 \n",
      " 4   publication_date  1000 non-null   object\n",
      " 5   publisher_id      1000 non-null   int64 \n",
      "dtypes: int64(4), object(2)\n",
      "memory usage: 47.0+ KB\n"
     ]
    }
   ],
   "source": [
    "#информация о датафрейме\n",
    "select(books).info()"
   ]
  },
  {
   "cell_type": "code",
   "execution_count": 6,
   "metadata": {},
   "outputs": [
    {
     "data": {
      "text/html": [
       "<div>\n",
       "<style scoped>\n",
       "    .dataframe tbody tr th:only-of-type {\n",
       "        vertical-align: middle;\n",
       "    }\n",
       "\n",
       "    .dataframe tbody tr th {\n",
       "        vertical-align: top;\n",
       "    }\n",
       "\n",
       "    .dataframe thead th {\n",
       "        text-align: right;\n",
       "    }\n",
       "</style>\n",
       "<table border=\"1\" class=\"dataframe\">\n",
       "  <thead>\n",
       "    <tr style=\"text-align: right;\">\n",
       "      <th></th>\n",
       "      <th>author_id</th>\n",
       "      <th>author</th>\n",
       "    </tr>\n",
       "  </thead>\n",
       "  <tbody>\n",
       "    <tr>\n",
       "      <th>0</th>\n",
       "      <td>1</td>\n",
       "      <td>A.S. Byatt</td>\n",
       "    </tr>\n",
       "    <tr>\n",
       "      <th>1</th>\n",
       "      <td>2</td>\n",
       "      <td>Aesop/Laura Harris/Laura Gibbs</td>\n",
       "    </tr>\n",
       "    <tr>\n",
       "      <th>2</th>\n",
       "      <td>3</td>\n",
       "      <td>Agatha Christie</td>\n",
       "    </tr>\n",
       "    <tr>\n",
       "      <th>3</th>\n",
       "      <td>4</td>\n",
       "      <td>Alan Brennert</td>\n",
       "    </tr>\n",
       "    <tr>\n",
       "      <th>4</th>\n",
       "      <td>5</td>\n",
       "      <td>Alan Moore/David   Lloyd</td>\n",
       "    </tr>\n",
       "  </tbody>\n",
       "</table>\n",
       "</div>"
      ],
      "text/plain": [
       "   author_id                          author\n",
       "0          1                      A.S. Byatt\n",
       "1          2  Aesop/Laura Harris/Laura Gibbs\n",
       "2          3                 Agatha Christie\n",
       "3          4                   Alan Brennert\n",
       "4          5        Alan Moore/David   Lloyd"
      ]
     },
     "execution_count": 6,
     "metadata": {},
     "output_type": "execute_result"
    }
   ],
   "source": [
    "#Загрузка данных из таблицы\n",
    "authors = '''\n",
    "SELECT * \n",
    "FROM authors\n",
    "'''\n",
    "#Первые пять строк датафрейма\n",
    "select(authors).head()"
   ]
  },
  {
   "cell_type": "code",
   "execution_count": 7,
   "metadata": {},
   "outputs": [
    {
     "name": "stdout",
     "output_type": "stream",
     "text": [
      "<class 'pandas.core.frame.DataFrame'>\n",
      "RangeIndex: 636 entries, 0 to 635\n",
      "Data columns (total 2 columns):\n",
      " #   Column     Non-Null Count  Dtype \n",
      "---  ------     --------------  ----- \n",
      " 0   author_id  636 non-null    int64 \n",
      " 1   author     636 non-null    object\n",
      "dtypes: int64(1), object(1)\n",
      "memory usage: 10.1+ KB\n"
     ]
    }
   ],
   "source": [
    "#информация о датафрейме\n",
    "select(authors).info()"
   ]
  },
  {
   "cell_type": "code",
   "execution_count": 8,
   "metadata": {},
   "outputs": [
    {
     "data": {
      "text/html": [
       "<div>\n",
       "<style scoped>\n",
       "    .dataframe tbody tr th:only-of-type {\n",
       "        vertical-align: middle;\n",
       "    }\n",
       "\n",
       "    .dataframe tbody tr th {\n",
       "        vertical-align: top;\n",
       "    }\n",
       "\n",
       "    .dataframe thead th {\n",
       "        text-align: right;\n",
       "    }\n",
       "</style>\n",
       "<table border=\"1\" class=\"dataframe\">\n",
       "  <thead>\n",
       "    <tr style=\"text-align: right;\">\n",
       "      <th></th>\n",
       "      <th>author_id</th>\n",
       "      <th>author</th>\n",
       "    </tr>\n",
       "  </thead>\n",
       "  <tbody>\n",
       "    <tr>\n",
       "      <th>0</th>\n",
       "      <td>1</td>\n",
       "      <td>A.S. Byatt</td>\n",
       "    </tr>\n",
       "    <tr>\n",
       "      <th>1</th>\n",
       "      <td>2</td>\n",
       "      <td>Aesop/Laura Harris/Laura Gibbs</td>\n",
       "    </tr>\n",
       "    <tr>\n",
       "      <th>2</th>\n",
       "      <td>3</td>\n",
       "      <td>Agatha Christie</td>\n",
       "    </tr>\n",
       "    <tr>\n",
       "      <th>3</th>\n",
       "      <td>4</td>\n",
       "      <td>Alan Brennert</td>\n",
       "    </tr>\n",
       "    <tr>\n",
       "      <th>4</th>\n",
       "      <td>5</td>\n",
       "      <td>Alan Moore/David   Lloyd</td>\n",
       "    </tr>\n",
       "  </tbody>\n",
       "</table>\n",
       "</div>"
      ],
      "text/plain": [
       "   author_id                          author\n",
       "0          1                      A.S. Byatt\n",
       "1          2  Aesop/Laura Harris/Laura Gibbs\n",
       "2          3                 Agatha Christie\n",
       "3          4                   Alan Brennert\n",
       "4          5        Alan Moore/David   Lloyd"
      ]
     },
     "execution_count": 8,
     "metadata": {},
     "output_type": "execute_result"
    }
   ],
   "source": [
    "#Загрузка данных из таблицы\n",
    "publishers = '''\n",
    "SELECT * \n",
    "FROM authors\n",
    "'''\n",
    "#Первые пять строк датафрейма\n",
    "select(publishers).head()"
   ]
  },
  {
   "cell_type": "code",
   "execution_count": 9,
   "metadata": {},
   "outputs": [
    {
     "name": "stdout",
     "output_type": "stream",
     "text": [
      "<class 'pandas.core.frame.DataFrame'>\n",
      "RangeIndex: 636 entries, 0 to 635\n",
      "Data columns (total 2 columns):\n",
      " #   Column     Non-Null Count  Dtype \n",
      "---  ------     --------------  ----- \n",
      " 0   author_id  636 non-null    int64 \n",
      " 1   author     636 non-null    object\n",
      "dtypes: int64(1), object(1)\n",
      "memory usage: 10.1+ KB\n"
     ]
    }
   ],
   "source": [
    "#информация о датафрейме\n",
    "select(publishers).info()"
   ]
  },
  {
   "cell_type": "code",
   "execution_count": 10,
   "metadata": {},
   "outputs": [
    {
     "data": {
      "text/html": [
       "<div>\n",
       "<style scoped>\n",
       "    .dataframe tbody tr th:only-of-type {\n",
       "        vertical-align: middle;\n",
       "    }\n",
       "\n",
       "    .dataframe tbody tr th {\n",
       "        vertical-align: top;\n",
       "    }\n",
       "\n",
       "    .dataframe thead th {\n",
       "        text-align: right;\n",
       "    }\n",
       "</style>\n",
       "<table border=\"1\" class=\"dataframe\">\n",
       "  <thead>\n",
       "    <tr style=\"text-align: right;\">\n",
       "      <th></th>\n",
       "      <th>author_id</th>\n",
       "      <th>author</th>\n",
       "    </tr>\n",
       "  </thead>\n",
       "  <tbody>\n",
       "    <tr>\n",
       "      <th>0</th>\n",
       "      <td>1</td>\n",
       "      <td>A.S. Byatt</td>\n",
       "    </tr>\n",
       "    <tr>\n",
       "      <th>1</th>\n",
       "      <td>2</td>\n",
       "      <td>Aesop/Laura Harris/Laura Gibbs</td>\n",
       "    </tr>\n",
       "    <tr>\n",
       "      <th>2</th>\n",
       "      <td>3</td>\n",
       "      <td>Agatha Christie</td>\n",
       "    </tr>\n",
       "    <tr>\n",
       "      <th>3</th>\n",
       "      <td>4</td>\n",
       "      <td>Alan Brennert</td>\n",
       "    </tr>\n",
       "    <tr>\n",
       "      <th>4</th>\n",
       "      <td>5</td>\n",
       "      <td>Alan Moore/David   Lloyd</td>\n",
       "    </tr>\n",
       "  </tbody>\n",
       "</table>\n",
       "</div>"
      ],
      "text/plain": [
       "   author_id                          author\n",
       "0          1                      A.S. Byatt\n",
       "1          2  Aesop/Laura Harris/Laura Gibbs\n",
       "2          3                 Agatha Christie\n",
       "3          4                   Alan Brennert\n",
       "4          5        Alan Moore/David   Lloyd"
      ]
     },
     "execution_count": 10,
     "metadata": {},
     "output_type": "execute_result"
    }
   ],
   "source": [
    "#Загрузка данных из таблицы\n",
    "ratings = '''\n",
    "SELECT * \n",
    "FROM authors\n",
    "'''\n",
    "#Первые пять строк датафрейма\n",
    "select(ratings).head()"
   ]
  },
  {
   "cell_type": "code",
   "execution_count": 11,
   "metadata": {},
   "outputs": [
    {
     "name": "stdout",
     "output_type": "stream",
     "text": [
      "<class 'pandas.core.frame.DataFrame'>\n",
      "RangeIndex: 636 entries, 0 to 635\n",
      "Data columns (total 2 columns):\n",
      " #   Column     Non-Null Count  Dtype \n",
      "---  ------     --------------  ----- \n",
      " 0   author_id  636 non-null    int64 \n",
      " 1   author     636 non-null    object\n",
      "dtypes: int64(1), object(1)\n",
      "memory usage: 10.1+ KB\n"
     ]
    }
   ],
   "source": [
    "#информация о датафрейме\n",
    "select(ratings).info()"
   ]
  },
  {
   "cell_type": "code",
   "execution_count": 12,
   "metadata": {},
   "outputs": [
    {
     "data": {
      "text/html": [
       "<div>\n",
       "<style scoped>\n",
       "    .dataframe tbody tr th:only-of-type {\n",
       "        vertical-align: middle;\n",
       "    }\n",
       "\n",
       "    .dataframe tbody tr th {\n",
       "        vertical-align: top;\n",
       "    }\n",
       "\n",
       "    .dataframe thead th {\n",
       "        text-align: right;\n",
       "    }\n",
       "</style>\n",
       "<table border=\"1\" class=\"dataframe\">\n",
       "  <thead>\n",
       "    <tr style=\"text-align: right;\">\n",
       "      <th></th>\n",
       "      <th>author_id</th>\n",
       "      <th>author</th>\n",
       "    </tr>\n",
       "  </thead>\n",
       "  <tbody>\n",
       "    <tr>\n",
       "      <th>0</th>\n",
       "      <td>1</td>\n",
       "      <td>A.S. Byatt</td>\n",
       "    </tr>\n",
       "    <tr>\n",
       "      <th>1</th>\n",
       "      <td>2</td>\n",
       "      <td>Aesop/Laura Harris/Laura Gibbs</td>\n",
       "    </tr>\n",
       "    <tr>\n",
       "      <th>2</th>\n",
       "      <td>3</td>\n",
       "      <td>Agatha Christie</td>\n",
       "    </tr>\n",
       "    <tr>\n",
       "      <th>3</th>\n",
       "      <td>4</td>\n",
       "      <td>Alan Brennert</td>\n",
       "    </tr>\n",
       "    <tr>\n",
       "      <th>4</th>\n",
       "      <td>5</td>\n",
       "      <td>Alan Moore/David   Lloyd</td>\n",
       "    </tr>\n",
       "  </tbody>\n",
       "</table>\n",
       "</div>"
      ],
      "text/plain": [
       "   author_id                          author\n",
       "0          1                      A.S. Byatt\n",
       "1          2  Aesop/Laura Harris/Laura Gibbs\n",
       "2          3                 Agatha Christie\n",
       "3          4                   Alan Brennert\n",
       "4          5        Alan Moore/David   Lloyd"
      ]
     },
     "execution_count": 12,
     "metadata": {},
     "output_type": "execute_result"
    }
   ],
   "source": [
    "#Загрузка данных из таблицы\n",
    "reviews = '''\n",
    "SELECT * \n",
    "FROM authors\n",
    "'''\n",
    "#Первые пять строк датафрейма\n",
    "select(reviews).head()"
   ]
  },
  {
   "cell_type": "code",
   "execution_count": 13,
   "metadata": {},
   "outputs": [
    {
     "name": "stdout",
     "output_type": "stream",
     "text": [
      "<class 'pandas.core.frame.DataFrame'>\n",
      "RangeIndex: 636 entries, 0 to 635\n",
      "Data columns (total 2 columns):\n",
      " #   Column     Non-Null Count  Dtype \n",
      "---  ------     --------------  ----- \n",
      " 0   author_id  636 non-null    int64 \n",
      " 1   author     636 non-null    object\n",
      "dtypes: int64(1), object(1)\n",
      "memory usage: 10.1+ KB\n"
     ]
    }
   ],
   "source": [
    "#информация о датафрейме\n",
    "select(reviews).info()"
   ]
  },
  {
   "cell_type": "markdown",
   "metadata": {},
   "source": [
    "### Вывод"
   ]
  },
  {
   "cell_type": "markdown",
   "metadata": {},
   "source": [
    "Данные достаточно чистые, пропуски отсутвуют."
   ]
  },
  {
   "cell_type": "markdown",
   "metadata": {},
   "source": [
    "## Решение задач"
   ]
  },
  {
   "cell_type": "markdown",
   "metadata": {},
   "source": [
    "### Посчитать, сколько книг вышло после 1 января 2000 года"
   ]
  },
  {
   "cell_type": "code",
   "execution_count": 14,
   "metadata": {},
   "outputs": [
    {
     "data": {
      "text/html": [
       "<div>\n",
       "<style scoped>\n",
       "    .dataframe tbody tr th:only-of-type {\n",
       "        vertical-align: middle;\n",
       "    }\n",
       "\n",
       "    .dataframe tbody tr th {\n",
       "        vertical-align: top;\n",
       "    }\n",
       "\n",
       "    .dataframe thead th {\n",
       "        text-align: right;\n",
       "    }\n",
       "</style>\n",
       "<table border=\"1\" class=\"dataframe\">\n",
       "  <thead>\n",
       "    <tr style=\"text-align: right;\">\n",
       "      <th></th>\n",
       "      <th>count</th>\n",
       "    </tr>\n",
       "  </thead>\n",
       "  <tbody>\n",
       "    <tr>\n",
       "      <th>0</th>\n",
       "      <td>819</td>\n",
       "    </tr>\n",
       "  </tbody>\n",
       "</table>\n",
       "</div>"
      ],
      "text/plain": [
       "   count\n",
       "0    819"
      ]
     },
     "execution_count": 14,
     "metadata": {},
     "output_type": "execute_result"
    }
   ],
   "source": [
    "count_book = ''' \n",
    "SELECT COUNT(*)\n",
    "FROM books\n",
    "WHERE publication_date::date > '01-01-2000'\n",
    "'''\n",
    "\n",
    "select(count_book)"
   ]
  },
  {
   "cell_type": "markdown",
   "metadata": {},
   "source": [
    "После 1 января 2000 года вышла 819 книг."
   ]
  },
  {
   "cell_type": "markdown",
   "metadata": {},
   "source": [
    "### Для каждой книги посчитать количество обзоров и среднюю оценку"
   ]
  },
  {
   "cell_type": "code",
   "execution_count": 15,
   "metadata": {},
   "outputs": [
    {
     "data": {
      "text/html": [
       "<div>\n",
       "<style scoped>\n",
       "    .dataframe tbody tr th:only-of-type {\n",
       "        vertical-align: middle;\n",
       "    }\n",
       "\n",
       "    .dataframe tbody tr th {\n",
       "        vertical-align: top;\n",
       "    }\n",
       "\n",
       "    .dataframe thead th {\n",
       "        text-align: right;\n",
       "    }\n",
       "</style>\n",
       "<table border=\"1\" class=\"dataframe\">\n",
       "  <thead>\n",
       "    <tr style=\"text-align: right;\">\n",
       "      <th></th>\n",
       "      <th>book_id</th>\n",
       "      <th>title</th>\n",
       "      <th>cnt</th>\n",
       "      <th>rating</th>\n",
       "    </tr>\n",
       "  </thead>\n",
       "  <tbody>\n",
       "    <tr>\n",
       "      <th>0</th>\n",
       "      <td>303</td>\n",
       "      <td>Harvesting the Heart</td>\n",
       "      <td>2</td>\n",
       "      <td>1.5</td>\n",
       "    </tr>\n",
       "    <tr>\n",
       "      <th>1</th>\n",
       "      <td>371</td>\n",
       "      <td>Junky</td>\n",
       "      <td>2</td>\n",
       "      <td>2.0</td>\n",
       "    </tr>\n",
       "    <tr>\n",
       "      <th>2</th>\n",
       "      <td>202</td>\n",
       "      <td>Drowning Ruth</td>\n",
       "      <td>3</td>\n",
       "      <td>2.0</td>\n",
       "    </tr>\n",
       "    <tr>\n",
       "      <th>3</th>\n",
       "      <td>316</td>\n",
       "      <td>His Excellency: George Washington</td>\n",
       "      <td>2</td>\n",
       "      <td>2.0</td>\n",
       "    </tr>\n",
       "    <tr>\n",
       "      <th>4</th>\n",
       "      <td>794</td>\n",
       "      <td>The Mermaid Chair</td>\n",
       "      <td>3</td>\n",
       "      <td>2.3</td>\n",
       "    </tr>\n",
       "    <tr>\n",
       "      <th>...</th>\n",
       "      <td>...</td>\n",
       "      <td>...</td>\n",
       "      <td>...</td>\n",
       "      <td>...</td>\n",
       "    </tr>\n",
       "    <tr>\n",
       "      <th>995</th>\n",
       "      <td>444</td>\n",
       "      <td>Moneyball: The Art of Winning an Unfair Game</td>\n",
       "      <td>3</td>\n",
       "      <td>5.0</td>\n",
       "    </tr>\n",
       "    <tr>\n",
       "      <th>996</th>\n",
       "      <td>169</td>\n",
       "      <td>Crucial Conversations: Tools for Talking When ...</td>\n",
       "      <td>2</td>\n",
       "      <td>5.0</td>\n",
       "    </tr>\n",
       "    <tr>\n",
       "      <th>997</th>\n",
       "      <td>642</td>\n",
       "      <td>The Big Bad Wolf  (Alex Cross  #9)</td>\n",
       "      <td>2</td>\n",
       "      <td>5.0</td>\n",
       "    </tr>\n",
       "    <tr>\n",
       "      <th>998</th>\n",
       "      <td>732</td>\n",
       "      <td>The Ghost Map: The Story of London's Most Terr...</td>\n",
       "      <td>2</td>\n",
       "      <td>5.0</td>\n",
       "    </tr>\n",
       "    <tr>\n",
       "      <th>999</th>\n",
       "      <td>182</td>\n",
       "      <td>Dead Souls</td>\n",
       "      <td>2</td>\n",
       "      <td>5.0</td>\n",
       "    </tr>\n",
       "  </tbody>\n",
       "</table>\n",
       "<p>1000 rows × 4 columns</p>\n",
       "</div>"
      ],
      "text/plain": [
       "     book_id                                              title  cnt  rating\n",
       "0        303                               Harvesting the Heart    2     1.5\n",
       "1        371                                              Junky    2     2.0\n",
       "2        202                                      Drowning Ruth    3     2.0\n",
       "3        316                  His Excellency: George Washington    2     2.0\n",
       "4        794                                  The Mermaid Chair    3     2.3\n",
       "..       ...                                                ...  ...     ...\n",
       "995      444       Moneyball: The Art of Winning an Unfair Game    3     5.0\n",
       "996      169  Crucial Conversations: Tools for Talking When ...    2     5.0\n",
       "997      642                 The Big Bad Wolf  (Alex Cross  #9)    2     5.0\n",
       "998      732  The Ghost Map: The Story of London's Most Terr...    2     5.0\n",
       "999      182                                         Dead Souls    2     5.0\n",
       "\n",
       "[1000 rows x 4 columns]"
      ]
     },
     "execution_count": 15,
     "metadata": {},
     "output_type": "execute_result"
    }
   ],
   "source": [
    "ratings = '''\n",
    "SELECT books.book_id, \n",
    "       title,  \n",
    "       COUNT(DISTINCT review_id) as cnt,\n",
    "       ROUND(AVG(rating), 1) as rating\n",
    "FROM books \n",
    "LEFT JOIN ratings ON books.book_id = ratings.book_id\n",
    "LEFT JOIN reviews ON books.book_id = reviews.book_id\n",
    "GROUP BY books.book_id\n",
    "ORDER BY rating\n",
    "'''\n",
    "\n",
    "select(ratings)"
   ]
  },
  {
   "cell_type": "code",
   "execution_count": 16,
   "metadata": {},
   "outputs": [
    {
     "data": {
      "text/html": [
       "<div>\n",
       "<style scoped>\n",
       "    .dataframe tbody tr th:only-of-type {\n",
       "        vertical-align: middle;\n",
       "    }\n",
       "\n",
       "    .dataframe tbody tr th {\n",
       "        vertical-align: top;\n",
       "    }\n",
       "\n",
       "    .dataframe thead th {\n",
       "        text-align: right;\n",
       "    }\n",
       "</style>\n",
       "<table border=\"1\" class=\"dataframe\">\n",
       "  <thead>\n",
       "    <tr style=\"text-align: right;\">\n",
       "      <th></th>\n",
       "      <th>book_id</th>\n",
       "      <th>title</th>\n",
       "      <th>cnt</th>\n",
       "      <th>rating</th>\n",
       "    </tr>\n",
       "  </thead>\n",
       "  <tbody>\n",
       "    <tr>\n",
       "      <th>0</th>\n",
       "      <td>83</td>\n",
       "      <td>Anne Rice's The Vampire Lestat: A Graphic Novel</td>\n",
       "      <td>0</td>\n",
       "      <td>3.7</td>\n",
       "    </tr>\n",
       "    <tr>\n",
       "      <th>1</th>\n",
       "      <td>672</td>\n",
       "      <td>The Cat in the Hat and Other Dr. Seuss Favorites</td>\n",
       "      <td>0</td>\n",
       "      <td>5.0</td>\n",
       "    </tr>\n",
       "    <tr>\n",
       "      <th>2</th>\n",
       "      <td>221</td>\n",
       "      <td>Essential Tales and Poems</td>\n",
       "      <td>0</td>\n",
       "      <td>4.0</td>\n",
       "    </tr>\n",
       "    <tr>\n",
       "      <th>3</th>\n",
       "      <td>808</td>\n",
       "      <td>The Natural Way to Draw</td>\n",
       "      <td>0</td>\n",
       "      <td>3.0</td>\n",
       "    </tr>\n",
       "    <tr>\n",
       "      <th>4</th>\n",
       "      <td>191</td>\n",
       "      <td>Disney's Beauty and the Beast (A Little Golden...</td>\n",
       "      <td>0</td>\n",
       "      <td>4.0</td>\n",
       "    </tr>\n",
       "    <tr>\n",
       "      <th>...</th>\n",
       "      <td>...</td>\n",
       "      <td>...</td>\n",
       "      <td>...</td>\n",
       "      <td>...</td>\n",
       "    </tr>\n",
       "    <tr>\n",
       "      <th>995</th>\n",
       "      <td>733</td>\n",
       "      <td>The Giver (The Giver  #1)</td>\n",
       "      <td>6</td>\n",
       "      <td>3.8</td>\n",
       "    </tr>\n",
       "    <tr>\n",
       "      <th>996</th>\n",
       "      <td>854</td>\n",
       "      <td>The Road</td>\n",
       "      <td>6</td>\n",
       "      <td>3.8</td>\n",
       "    </tr>\n",
       "    <tr>\n",
       "      <th>997</th>\n",
       "      <td>695</td>\n",
       "      <td>The Curious Incident of the Dog in the Night-Time</td>\n",
       "      <td>6</td>\n",
       "      <td>4.1</td>\n",
       "    </tr>\n",
       "    <tr>\n",
       "      <th>998</th>\n",
       "      <td>696</td>\n",
       "      <td>The Da Vinci Code (Robert Langdon  #2)</td>\n",
       "      <td>6</td>\n",
       "      <td>3.8</td>\n",
       "    </tr>\n",
       "    <tr>\n",
       "      <th>999</th>\n",
       "      <td>948</td>\n",
       "      <td>Twilight (Twilight  #1)</td>\n",
       "      <td>7</td>\n",
       "      <td>3.7</td>\n",
       "    </tr>\n",
       "  </tbody>\n",
       "</table>\n",
       "<p>1000 rows × 4 columns</p>\n",
       "</div>"
      ],
      "text/plain": [
       "     book_id                                              title  cnt  rating\n",
       "0         83    Anne Rice's The Vampire Lestat: A Graphic Novel    0     3.7\n",
       "1        672   The Cat in the Hat and Other Dr. Seuss Favorites    0     5.0\n",
       "2        221                          Essential Tales and Poems    0     4.0\n",
       "3        808                            The Natural Way to Draw    0     3.0\n",
       "4        191  Disney's Beauty and the Beast (A Little Golden...    0     4.0\n",
       "..       ...                                                ...  ...     ...\n",
       "995      733                          The Giver (The Giver  #1)    6     3.8\n",
       "996      854                                           The Road    6     3.8\n",
       "997      695  The Curious Incident of the Dog in the Night-Time    6     4.1\n",
       "998      696             The Da Vinci Code (Robert Langdon  #2)    6     3.8\n",
       "999      948                            Twilight (Twilight  #1)    7     3.7\n",
       "\n",
       "[1000 rows x 4 columns]"
      ]
     },
     "execution_count": 16,
     "metadata": {},
     "output_type": "execute_result"
    }
   ],
   "source": [
    "ratings = '''\n",
    "SELECT books.book_id, \n",
    "       title,  \n",
    "       COUNT(DISTINCT review_id) as cnt,\n",
    "       ROUND(AVG(rating), 1) as rating\n",
    "FROM books \n",
    "LEFT JOIN ratings ON books.book_id = ratings.book_id\n",
    "LEFT JOIN reviews ON books.book_id = reviews.book_id\n",
    "GROUP BY books.book_id\n",
    "ORDER BY cnt\n",
    "'''\n",
    "\n",
    "select(ratings)"
   ]
  },
  {
   "cell_type": "markdown",
   "metadata": {},
   "source": [
    "Максимальный рейтинг - 5, минимальный средний рейтинг - 1.5.<br>\n",
    "Максимальное количество - 7, минимальное - 0."
   ]
  },
  {
   "cell_type": "markdown",
   "metadata": {},
   "source": [
    "### Определите издательство, которое выпустило наибольшее число книг толще 50 страниц — так вы исключите из анализа брошюры"
   ]
  },
  {
   "cell_type": "code",
   "execution_count": 17,
   "metadata": {},
   "outputs": [
    {
     "data": {
      "text/html": [
       "<div>\n",
       "<style scoped>\n",
       "    .dataframe tbody tr th:only-of-type {\n",
       "        vertical-align: middle;\n",
       "    }\n",
       "\n",
       "    .dataframe tbody tr th {\n",
       "        vertical-align: top;\n",
       "    }\n",
       "\n",
       "    .dataframe thead th {\n",
       "        text-align: right;\n",
       "    }\n",
       "</style>\n",
       "<table border=\"1\" class=\"dataframe\">\n",
       "  <thead>\n",
       "    <tr style=\"text-align: right;\">\n",
       "      <th></th>\n",
       "      <th>publisher</th>\n",
       "      <th>books_cnt</th>\n",
       "    </tr>\n",
       "  </thead>\n",
       "  <tbody>\n",
       "    <tr>\n",
       "      <th>0</th>\n",
       "      <td>Penguin Books</td>\n",
       "      <td>42</td>\n",
       "    </tr>\n",
       "  </tbody>\n",
       "</table>\n",
       "</div>"
      ],
      "text/plain": [
       "       publisher  books_cnt\n",
       "0  Penguin Books         42"
      ]
     },
     "execution_count": 17,
     "metadata": {},
     "output_type": "execute_result"
    }
   ],
   "source": [
    "pub_books = '''\n",
    "SELECT subquery_B.publisher,\n",
    "       subquery_A.books_cnt\n",
    "FROM (SELECT publisher_id AS publisher_id,\n",
    "             COUNT(book_id) AS books_cnt\n",
    "      FROM books\n",
    "      WHERE num_pages > 50\n",
    "      GROUP BY publisher_id\n",
    "      ORDER BY books_cnt DESC\n",
    "      LIMIT 1) AS subquery_A\n",
    "\n",
    "LEFT JOIN (SELECT publisher AS publisher,\n",
    "           publisher_id AS publisher_id\n",
    "           FROM publishers) AS subquery_B ON subquery_A.publisher_id = subquery_B.publisher_id\n",
    "'''\n",
    "\n",
    "select(pub_books)"
   ]
  },
  {
   "cell_type": "markdown",
   "metadata": {},
   "source": [
    "Издательство, которое выпустило наибольшее число книг толще 50 страниц - Penguin Books (42 книги)."
   ]
  },
  {
   "cell_type": "markdown",
   "metadata": {},
   "source": [
    "### Определите автора с самой высокой средней оценкой книг — учитывайте только книги с 50 и более оценками"
   ]
  },
  {
   "cell_type": "code",
   "execution_count": 18,
   "metadata": {},
   "outputs": [
    {
     "data": {
      "text/html": [
       "<div>\n",
       "<style scoped>\n",
       "    .dataframe tbody tr th:only-of-type {\n",
       "        vertical-align: middle;\n",
       "    }\n",
       "\n",
       "    .dataframe tbody tr th {\n",
       "        vertical-align: top;\n",
       "    }\n",
       "\n",
       "    .dataframe thead th {\n",
       "        text-align: right;\n",
       "    }\n",
       "</style>\n",
       "<table border=\"1\" class=\"dataframe\">\n",
       "  <thead>\n",
       "    <tr style=\"text-align: right;\">\n",
       "      <th></th>\n",
       "      <th>author</th>\n",
       "      <th>avg_rating</th>\n",
       "    </tr>\n",
       "  </thead>\n",
       "  <tbody>\n",
       "    <tr>\n",
       "      <th>0</th>\n",
       "      <td>J.K. Rowling/Mary GrandPré</td>\n",
       "      <td>4.28</td>\n",
       "    </tr>\n",
       "  </tbody>\n",
       "</table>\n",
       "</div>"
      ],
      "text/plain": [
       "                       author  avg_rating\n",
       "0  J.K. Rowling/Mary GrandPré        4.28"
      ]
     },
     "execution_count": 18,
     "metadata": {},
     "output_type": "execute_result"
    }
   ],
   "source": [
    "ratings_author = '''\n",
    "WITH\n",
    "i AS (SELECT authors.author,\n",
    "            books.book_id,\n",
    "            AVG(ratings.rating) AS avg_rating\n",
    "      FROM authors\n",
    "      FULL JOIN books ON books.author_id = authors.author_id\n",
    "      FULL JOIN ratings ON ratings.book_id = books.book_id\n",
    "      GROUP BY author,\n",
    "              books.book_id\n",
    "      HAVING COUNT (ratings.rating) >= 50)\n",
    "\n",
    "SELECT i.author,\n",
    "       ROUND(AVG(i.avg_rating),2) AS avg_rating\n",
    "FROM  i\n",
    "GROUP BY author\n",
    "ORDER BY avg_rating DESC\n",
    "LIMIT 1\n",
    "'''\n",
    "\n",
    "select(ratings_author)"
   ]
  },
  {
   "cell_type": "markdown",
   "metadata": {},
   "source": [
    "Автор с самой высокой средней оценкой книг - J.K. Rowling/Mary GrandPré\t(рейтинг 4.28)."
   ]
  },
  {
   "cell_type": "markdown",
   "metadata": {},
   "source": [
    "### Посчитайте среднее количество обзоров от пользователей, которые поставили больше 50 оценок"
   ]
  },
  {
   "cell_type": "code",
   "execution_count": 19,
   "metadata": {},
   "outputs": [
    {
     "data": {
      "text/html": [
       "<div>\n",
       "<style scoped>\n",
       "    .dataframe tbody tr th:only-of-type {\n",
       "        vertical-align: middle;\n",
       "    }\n",
       "\n",
       "    .dataframe tbody tr th {\n",
       "        vertical-align: top;\n",
       "    }\n",
       "\n",
       "    .dataframe thead th {\n",
       "        text-align: right;\n",
       "    }\n",
       "</style>\n",
       "<table border=\"1\" class=\"dataframe\">\n",
       "  <thead>\n",
       "    <tr style=\"text-align: right;\">\n",
       "      <th></th>\n",
       "      <th>avg_reviews</th>\n",
       "    </tr>\n",
       "  </thead>\n",
       "  <tbody>\n",
       "    <tr>\n",
       "      <th>0</th>\n",
       "      <td>24.0</td>\n",
       "    </tr>\n",
       "  </tbody>\n",
       "</table>\n",
       "</div>"
      ],
      "text/plain": [
       "   avg_reviews\n",
       "0         24.0"
      ]
     },
     "execution_count": 19,
     "metadata": {},
     "output_type": "execute_result"
    }
   ],
   "source": [
    "avg_reviews = '''\n",
    "WITH\n",
    "i AS (SELECT COUNT(reviews.review_id) AS reviews_count\n",
    "             FROM reviews\n",
    "             WHERE username IN (SELECT username\n",
    "                                FROM ratings\n",
    "                                GROUP BY username\n",
    "                                HAVING COUNT(rating_id) > 50)\n",
    "             GROUP BY username)\n",
    "             \n",
    "SELECT ROUND(AVG(i.reviews_count), 0) AS avg_reviews\n",
    "       FROM i\n",
    "'''\n",
    "\n",
    "select(avg_reviews)"
   ]
  },
  {
   "cell_type": "markdown",
   "metadata": {},
   "source": [
    "Cреднее количество обзоров от пользователей, которые поставили больше 50 оценок - 24."
   ]
  },
  {
   "cell_type": "markdown",
   "metadata": {},
   "source": [
    "## Выводы"
   ]
  },
  {
   "cell_type": "markdown",
   "metadata": {},
   "source": [
    "После 1 января 2000 года вышло 819 книг.\n",
    "\n",
    "Максимальный рейтинг - 5, минимальный средний рейтинг - 1.5.<br>\n",
    "Максимальное количество - 7, минимальное - 0.\n",
    "\n",
    "Издательство, которое выпустило наибольшее число книг толще 50 страниц - Penguin Books (42 книги).\n",
    "\n",
    "Автор с самой высокой средней оценкой книг - J.K. Rowling/Mary GrandPré (рейтинг 4.28).\n",
    "\n",
    "Cреднее количество обзоров от пользователей, которые поставили больше 50 оценок - 24."
   ]
  }
 ],
 "metadata": {
  "ExecuteTimeLog": [
   {
    "duration": 510,
    "start_time": "2023-03-02T14:29:24.350Z"
   },
   {
    "duration": 8507,
    "start_time": "2023-03-02T14:30:17.658Z"
   },
   {
    "duration": 3,
    "start_time": "2023-03-02T14:31:26.254Z"
   },
   {
    "duration": 376,
    "start_time": "2023-03-02T14:31:41.366Z"
   },
   {
    "duration": 99,
    "start_time": "2023-03-02T14:32:22.793Z"
   },
   {
    "duration": 98,
    "start_time": "2023-03-02T14:32:32.082Z"
   },
   {
    "duration": 99,
    "start_time": "2023-03-02T14:32:36.826Z"
   },
   {
    "duration": 91,
    "start_time": "2023-03-02T14:33:13.238Z"
   },
   {
    "duration": 87,
    "start_time": "2023-03-02T14:33:16.130Z"
   },
   {
    "duration": 86,
    "start_time": "2023-03-02T14:33:34.102Z"
   },
   {
    "duration": 87,
    "start_time": "2023-03-02T14:33:39.433Z"
   },
   {
    "duration": 84,
    "start_time": "2023-03-02T14:34:14.239Z"
   },
   {
    "duration": 88,
    "start_time": "2023-03-02T14:34:19.806Z"
   },
   {
    "duration": 86,
    "start_time": "2023-03-02T14:34:40.230Z"
   },
   {
    "duration": 85,
    "start_time": "2023-03-02T14:34:44.677Z"
   },
   {
    "duration": 86,
    "start_time": "2023-03-02T14:34:50.797Z"
   },
   {
    "duration": 502,
    "start_time": "2023-03-02T14:37:34.787Z"
   },
   {
    "duration": 8444,
    "start_time": "2023-03-02T14:37:35.291Z"
   },
   {
    "duration": 3,
    "start_time": "2023-03-02T14:37:43.737Z"
   },
   {
    "duration": 296,
    "start_time": "2023-03-02T14:37:43.743Z"
   },
   {
    "duration": 90,
    "start_time": "2023-03-02T14:37:44.041Z"
   },
   {
    "duration": 77,
    "start_time": "2023-03-02T14:37:44.133Z"
   },
   {
    "duration": 77,
    "start_time": "2023-03-02T14:37:44.211Z"
   },
   {
    "duration": 75,
    "start_time": "2023-03-02T14:37:44.290Z"
   },
   {
    "duration": 77,
    "start_time": "2023-03-02T14:37:44.367Z"
   },
   {
    "duration": 76,
    "start_time": "2023-03-02T14:37:44.446Z"
   },
   {
    "duration": 77,
    "start_time": "2023-03-02T14:37:44.523Z"
   },
   {
    "duration": 75,
    "start_time": "2023-03-02T14:37:44.602Z"
   },
   {
    "duration": 76,
    "start_time": "2023-03-02T14:37:44.678Z"
   },
   {
    "duration": 541,
    "start_time": "2023-03-02T14:38:45.540Z"
   },
   {
    "duration": 7991,
    "start_time": "2023-03-02T14:38:46.084Z"
   },
   {
    "duration": 3,
    "start_time": "2023-03-02T14:38:54.077Z"
   },
   {
    "duration": 299,
    "start_time": "2023-03-02T14:38:54.082Z"
   },
   {
    "duration": 92,
    "start_time": "2023-03-02T14:38:54.384Z"
   },
   {
    "duration": 77,
    "start_time": "2023-03-02T14:38:54.478Z"
   },
   {
    "duration": 78,
    "start_time": "2023-03-02T14:38:54.557Z"
   },
   {
    "duration": 79,
    "start_time": "2023-03-02T14:38:54.637Z"
   },
   {
    "duration": 77,
    "start_time": "2023-03-02T14:38:54.718Z"
   },
   {
    "duration": 76,
    "start_time": "2023-03-02T14:38:54.797Z"
   },
   {
    "duration": 79,
    "start_time": "2023-03-02T14:38:54.875Z"
   },
   {
    "duration": 77,
    "start_time": "2023-03-02T14:38:54.956Z"
   },
   {
    "duration": 79,
    "start_time": "2023-03-02T14:38:55.035Z"
   },
   {
    "duration": 75,
    "start_time": "2023-03-02T14:43:17.909Z"
   },
   {
    "duration": 147,
    "start_time": "2023-03-02T14:43:31.372Z"
   },
   {
    "duration": 77,
    "start_time": "2023-03-02T14:43:50.884Z"
   },
   {
    "duration": 7,
    "start_time": "2023-03-02T14:44:08.075Z"
   },
   {
    "duration": 75,
    "start_time": "2023-03-02T14:44:21.165Z"
   },
   {
    "duration": 75,
    "start_time": "2023-03-02T14:45:36.176Z"
   },
   {
    "duration": 75,
    "start_time": "2023-03-02T14:46:17.753Z"
   },
   {
    "duration": 118,
    "start_time": "2023-03-02T14:47:26.854Z"
   },
   {
    "duration": 174,
    "start_time": "2023-03-02T14:48:35.972Z"
   },
   {
    "duration": 111,
    "start_time": "2023-03-02T14:48:57.212Z"
   },
   {
    "duration": 117,
    "start_time": "2023-03-02T14:49:11.012Z"
   },
   {
    "duration": 115,
    "start_time": "2023-03-02T14:49:16.162Z"
   },
   {
    "duration": 115,
    "start_time": "2023-03-02T14:50:53.384Z"
   },
   {
    "duration": 112,
    "start_time": "2023-03-02T14:51:36.753Z"
   },
   {
    "duration": 112,
    "start_time": "2023-03-02T14:51:44.238Z"
   },
   {
    "duration": 79,
    "start_time": "2023-03-02T14:53:42.180Z"
   },
   {
    "duration": 77,
    "start_time": "2023-03-02T14:53:59.604Z"
   },
   {
    "duration": 76,
    "start_time": "2023-03-02T14:55:53.737Z"
   },
   {
    "duration": 80,
    "start_time": "2023-03-02T14:55:57.672Z"
   },
   {
    "duration": 80,
    "start_time": "2023-03-02T14:56:17.072Z"
   },
   {
    "duration": 81,
    "start_time": "2023-03-02T14:58:06.302Z"
   },
   {
    "duration": 88,
    "start_time": "2023-03-02T14:58:20.496Z"
   },
   {
    "duration": 575,
    "start_time": "2023-03-02T15:01:16.130Z"
   },
   {
    "duration": 8533,
    "start_time": "2023-03-02T15:01:16.708Z"
   },
   {
    "duration": 3,
    "start_time": "2023-03-02T15:01:25.243Z"
   },
   {
    "duration": 305,
    "start_time": "2023-03-02T15:01:25.248Z"
   },
   {
    "duration": 100,
    "start_time": "2023-03-02T15:01:25.554Z"
   },
   {
    "duration": 76,
    "start_time": "2023-03-02T15:01:25.656Z"
   },
   {
    "duration": 78,
    "start_time": "2023-03-02T15:01:25.734Z"
   },
   {
    "duration": 76,
    "start_time": "2023-03-02T15:01:25.813Z"
   },
   {
    "duration": 79,
    "start_time": "2023-03-02T15:01:25.891Z"
   },
   {
    "duration": 78,
    "start_time": "2023-03-02T15:01:25.972Z"
   },
   {
    "duration": 79,
    "start_time": "2023-03-02T15:01:26.052Z"
   },
   {
    "duration": 78,
    "start_time": "2023-03-02T15:01:26.133Z"
   },
   {
    "duration": 83,
    "start_time": "2023-03-02T15:01:26.213Z"
   },
   {
    "duration": 79,
    "start_time": "2023-03-02T15:01:26.298Z"
   },
   {
    "duration": 93,
    "start_time": "2023-03-02T15:01:26.379Z"
   },
   {
    "duration": 93,
    "start_time": "2023-03-02T15:01:26.473Z"
   },
   {
    "duration": 76,
    "start_time": "2023-03-02T15:01:26.568Z"
   },
   {
    "duration": 80,
    "start_time": "2023-03-02T15:01:26.645Z"
   },
   {
    "duration": 78,
    "start_time": "2023-03-02T15:01:26.727Z"
   },
   {
    "duration": 602,
    "start_time": "2023-05-24T07:00:45.401Z"
   },
   {
    "duration": 16150,
    "start_time": "2023-05-24T07:00:46.787Z"
   },
   {
    "duration": 3,
    "start_time": "2023-05-24T07:01:02.939Z"
   },
   {
    "duration": 359,
    "start_time": "2023-05-24T07:01:08.714Z"
   },
   {
    "duration": 116,
    "start_time": "2023-05-24T07:01:11.312Z"
   },
   {
    "duration": 105,
    "start_time": "2023-05-24T07:01:12.197Z"
   },
   {
    "duration": 113,
    "start_time": "2023-05-24T07:01:13.025Z"
   },
   {
    "duration": 119,
    "start_time": "2023-05-24T07:01:13.712Z"
   },
   {
    "duration": 111,
    "start_time": "2023-05-24T07:01:14.493Z"
   },
   {
    "duration": 100,
    "start_time": "2023-05-24T07:01:15.121Z"
   },
   {
    "duration": 114,
    "start_time": "2023-05-24T07:01:15.866Z"
   },
   {
    "duration": 103,
    "start_time": "2023-05-24T07:01:16.598Z"
   },
   {
    "duration": 119,
    "start_time": "2023-05-24T07:01:18.024Z"
   },
   {
    "duration": 106,
    "start_time": "2023-05-24T07:01:22.753Z"
   },
   {
    "duration": 167,
    "start_time": "2023-05-24T07:01:29.269Z"
   },
   {
    "duration": 150,
    "start_time": "2023-05-24T07:01:31.670Z"
   },
   {
    "duration": 81,
    "start_time": "2023-05-24T07:01:37.399Z"
   },
   {
    "duration": 89,
    "start_time": "2023-05-24T07:01:42.366Z"
   },
   {
    "duration": 95,
    "start_time": "2023-05-24T07:01:48.799Z"
   },
   {
    "duration": 83,
    "start_time": "2023-05-24T07:03:38.166Z"
   },
   {
    "duration": 618,
    "start_time": "2023-05-24T07:09:47.261Z"
   },
   {
    "duration": 19009,
    "start_time": "2023-05-24T07:09:47.882Z"
   },
   {
    "duration": 3,
    "start_time": "2023-05-24T07:10:06.894Z"
   },
   {
    "duration": 341,
    "start_time": "2023-05-24T07:10:06.899Z"
   },
   {
    "duration": 93,
    "start_time": "2023-05-24T07:10:07.243Z"
   },
   {
    "duration": 83,
    "start_time": "2023-05-24T07:10:07.338Z"
   },
   {
    "duration": 84,
    "start_time": "2023-05-24T07:10:07.423Z"
   },
   {
    "duration": 82,
    "start_time": "2023-05-24T07:10:07.510Z"
   },
   {
    "duration": 85,
    "start_time": "2023-05-24T07:10:07.594Z"
   },
   {
    "duration": 83,
    "start_time": "2023-05-24T07:10:07.681Z"
   },
   {
    "duration": 81,
    "start_time": "2023-05-24T07:10:07.766Z"
   },
   {
    "duration": 84,
    "start_time": "2023-05-24T07:10:07.850Z"
   },
   {
    "duration": 81,
    "start_time": "2023-05-24T07:10:07.936Z"
   },
   {
    "duration": 76,
    "start_time": "2023-05-24T07:10:08.020Z"
   },
   {
    "duration": 98,
    "start_time": "2023-05-24T07:10:08.098Z"
   },
   {
    "duration": 95,
    "start_time": "2023-05-24T07:10:08.198Z"
   },
   {
    "duration": 78,
    "start_time": "2023-05-24T07:10:08.296Z"
   },
   {
    "duration": 85,
    "start_time": "2023-05-24T07:10:08.377Z"
   },
   {
    "duration": 83,
    "start_time": "2023-05-24T07:10:08.465Z"
   }
  ],
  "kernelspec": {
   "display_name": "Python 3 (ipykernel)",
   "language": "python",
   "name": "python3"
  },
  "language_info": {
   "codemirror_mode": {
    "name": "ipython",
    "version": 3
   },
   "file_extension": ".py",
   "mimetype": "text/x-python",
   "name": "python",
   "nbconvert_exporter": "python",
   "pygments_lexer": "ipython3",
   "version": "3.9.5"
  },
  "toc": {
   "base_numbering": 1,
   "nav_menu": {},
   "number_sections": false,
   "sideBar": true,
   "skip_h1_title": true,
   "title_cell": "Table of Contents",
   "title_sidebar": "Contents",
   "toc_cell": false,
   "toc_position": {
    "height": "calc(100% - 180px)",
    "left": "10px",
    "top": "150px",
    "width": "165px"
   },
   "toc_section_display": true,
   "toc_window_display": true
  }
 },
 "nbformat": 4,
 "nbformat_minor": 2
}
