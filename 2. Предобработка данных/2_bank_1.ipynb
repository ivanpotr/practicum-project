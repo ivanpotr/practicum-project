{
 "cells": [
  {
   "cell_type": "markdown",
   "id": "7ceaad6c",
   "metadata": {
    "deletable": false,
    "editable": false,
    "id": "c81daeeb"
   },
   "source": [
    "# Исследование надежности заемщиков"
   ]
  },
  {
   "cell_type": "markdown",
   "id": "f1a9352f",
   "metadata": {
    "deletable": false,
    "editable": false,
    "id": "-G3EJWzf62s6"
   },
   "source": [
    "Это первая часть проекта, она будет проверена автоматически. Вторую часть проверит ревьюер. "
   ]
  },
  {
   "cell_type": "markdown",
   "id": "c27372bd",
   "metadata": {
    "deletable": false,
    "editable": false,
    "id": "744d7639"
   },
   "source": [
    "## Откройте таблицу и изучите общую информацию о данных"
   ]
  },
  {
   "cell_type": "markdown",
   "id": "c4b0a04a",
   "metadata": {
    "deletable": false,
    "editable": false,
    "id": "e7a14c31",
    "tags": [
     "start_task"
    ]
   },
   "source": [
    "**Задание 1. Импортируйте библиотеку pandas. Считайте данные из csv-файла в датафрейм и сохраните в переменную `data`. Путь к файлу:**\n",
    "\n",
    "`/datasets/data.csv`"
   ]
  },
  {
   "cell_type": "code",
   "execution_count": 1,
   "id": "00ddac28",
   "metadata": {
    "id": "7bcf75c9"
   },
   "outputs": [],
   "source": [
    "# импортируйте библиотеку pandas\n",
    "import pandas as pd"
   ]
  },
  {
   "cell_type": "code",
   "execution_count": 2,
   "id": "66cacdce",
   "metadata": {
    "id": "4d240ee2"
   },
   "outputs": [],
   "source": [
    "# прочитайте csv-файл\n",
    "data = pd.read_csv('/datasets/data.csv')"
   ]
  },
  {
   "cell_type": "markdown",
   "id": "d40840ba",
   "metadata": {
    "deletable": false,
    "editable": false,
    "id": "b8038fe3",
    "tags": [
     "start_task"
    ]
   },
   "source": [
    "**Задание 2. Выведите первые 20 строчек датафрейма `data` на экран.**"
   ]
  },
  {
   "cell_type": "code",
   "execution_count": 3,
   "id": "fe250a78",
   "metadata": {
    "id": "2a7cab99"
   },
   "outputs": [
    {
     "data": {
      "text/html": [
       "<div>\n",
       "<style scoped>\n",
       "    .dataframe tbody tr th:only-of-type {\n",
       "        vertical-align: middle;\n",
       "    }\n",
       "\n",
       "    .dataframe tbody tr th {\n",
       "        vertical-align: top;\n",
       "    }\n",
       "\n",
       "    .dataframe thead th {\n",
       "        text-align: right;\n",
       "    }\n",
       "</style>\n",
       "<table border=\"1\" class=\"dataframe\">\n",
       "  <thead>\n",
       "    <tr style=\"text-align: right;\">\n",
       "      <th></th>\n",
       "      <th>children</th>\n",
       "      <th>days_employed</th>\n",
       "      <th>dob_years</th>\n",
       "      <th>education</th>\n",
       "      <th>education_id</th>\n",
       "      <th>family_status</th>\n",
       "      <th>family_status_id</th>\n",
       "      <th>gender</th>\n",
       "      <th>income_type</th>\n",
       "      <th>debt</th>\n",
       "      <th>total_income</th>\n",
       "      <th>purpose</th>\n",
       "    </tr>\n",
       "  </thead>\n",
       "  <tbody>\n",
       "    <tr>\n",
       "      <th>0</th>\n",
       "      <td>1</td>\n",
       "      <td>-8437.673028</td>\n",
       "      <td>42</td>\n",
       "      <td>высшее</td>\n",
       "      <td>0</td>\n",
       "      <td>женат / замужем</td>\n",
       "      <td>0</td>\n",
       "      <td>F</td>\n",
       "      <td>сотрудник</td>\n",
       "      <td>0</td>\n",
       "      <td>253875.639453</td>\n",
       "      <td>покупка жилья</td>\n",
       "    </tr>\n",
       "    <tr>\n",
       "      <th>1</th>\n",
       "      <td>1</td>\n",
       "      <td>-4024.803754</td>\n",
       "      <td>36</td>\n",
       "      <td>среднее</td>\n",
       "      <td>1</td>\n",
       "      <td>женат / замужем</td>\n",
       "      <td>0</td>\n",
       "      <td>F</td>\n",
       "      <td>сотрудник</td>\n",
       "      <td>0</td>\n",
       "      <td>112080.014102</td>\n",
       "      <td>приобретение автомобиля</td>\n",
       "    </tr>\n",
       "    <tr>\n",
       "      <th>2</th>\n",
       "      <td>0</td>\n",
       "      <td>-5623.422610</td>\n",
       "      <td>33</td>\n",
       "      <td>Среднее</td>\n",
       "      <td>1</td>\n",
       "      <td>женат / замужем</td>\n",
       "      <td>0</td>\n",
       "      <td>M</td>\n",
       "      <td>сотрудник</td>\n",
       "      <td>0</td>\n",
       "      <td>145885.952297</td>\n",
       "      <td>покупка жилья</td>\n",
       "    </tr>\n",
       "    <tr>\n",
       "      <th>3</th>\n",
       "      <td>3</td>\n",
       "      <td>-4124.747207</td>\n",
       "      <td>32</td>\n",
       "      <td>среднее</td>\n",
       "      <td>1</td>\n",
       "      <td>женат / замужем</td>\n",
       "      <td>0</td>\n",
       "      <td>M</td>\n",
       "      <td>сотрудник</td>\n",
       "      <td>0</td>\n",
       "      <td>267628.550329</td>\n",
       "      <td>дополнительное образование</td>\n",
       "    </tr>\n",
       "    <tr>\n",
       "      <th>4</th>\n",
       "      <td>0</td>\n",
       "      <td>340266.072047</td>\n",
       "      <td>53</td>\n",
       "      <td>среднее</td>\n",
       "      <td>1</td>\n",
       "      <td>гражданский брак</td>\n",
       "      <td>1</td>\n",
       "      <td>F</td>\n",
       "      <td>пенсионер</td>\n",
       "      <td>0</td>\n",
       "      <td>158616.077870</td>\n",
       "      <td>сыграть свадьбу</td>\n",
       "    </tr>\n",
       "    <tr>\n",
       "      <th>5</th>\n",
       "      <td>0</td>\n",
       "      <td>-926.185831</td>\n",
       "      <td>27</td>\n",
       "      <td>высшее</td>\n",
       "      <td>0</td>\n",
       "      <td>гражданский брак</td>\n",
       "      <td>1</td>\n",
       "      <td>M</td>\n",
       "      <td>компаньон</td>\n",
       "      <td>0</td>\n",
       "      <td>255763.565419</td>\n",
       "      <td>покупка жилья</td>\n",
       "    </tr>\n",
       "    <tr>\n",
       "      <th>6</th>\n",
       "      <td>0</td>\n",
       "      <td>-2879.202052</td>\n",
       "      <td>43</td>\n",
       "      <td>высшее</td>\n",
       "      <td>0</td>\n",
       "      <td>женат / замужем</td>\n",
       "      <td>0</td>\n",
       "      <td>F</td>\n",
       "      <td>компаньон</td>\n",
       "      <td>0</td>\n",
       "      <td>240525.971920</td>\n",
       "      <td>операции с жильем</td>\n",
       "    </tr>\n",
       "    <tr>\n",
       "      <th>7</th>\n",
       "      <td>0</td>\n",
       "      <td>-152.779569</td>\n",
       "      <td>50</td>\n",
       "      <td>СРЕДНЕЕ</td>\n",
       "      <td>1</td>\n",
       "      <td>женат / замужем</td>\n",
       "      <td>0</td>\n",
       "      <td>M</td>\n",
       "      <td>сотрудник</td>\n",
       "      <td>0</td>\n",
       "      <td>135823.934197</td>\n",
       "      <td>образование</td>\n",
       "    </tr>\n",
       "    <tr>\n",
       "      <th>8</th>\n",
       "      <td>2</td>\n",
       "      <td>-6929.865299</td>\n",
       "      <td>35</td>\n",
       "      <td>ВЫСШЕЕ</td>\n",
       "      <td>0</td>\n",
       "      <td>гражданский брак</td>\n",
       "      <td>1</td>\n",
       "      <td>F</td>\n",
       "      <td>сотрудник</td>\n",
       "      <td>0</td>\n",
       "      <td>95856.832424</td>\n",
       "      <td>на проведение свадьбы</td>\n",
       "    </tr>\n",
       "    <tr>\n",
       "      <th>9</th>\n",
       "      <td>0</td>\n",
       "      <td>-2188.756445</td>\n",
       "      <td>41</td>\n",
       "      <td>среднее</td>\n",
       "      <td>1</td>\n",
       "      <td>женат / замужем</td>\n",
       "      <td>0</td>\n",
       "      <td>M</td>\n",
       "      <td>сотрудник</td>\n",
       "      <td>0</td>\n",
       "      <td>144425.938277</td>\n",
       "      <td>покупка жилья для семьи</td>\n",
       "    </tr>\n",
       "    <tr>\n",
       "      <th>10</th>\n",
       "      <td>2</td>\n",
       "      <td>-4171.483647</td>\n",
       "      <td>36</td>\n",
       "      <td>высшее</td>\n",
       "      <td>0</td>\n",
       "      <td>женат / замужем</td>\n",
       "      <td>0</td>\n",
       "      <td>M</td>\n",
       "      <td>компаньон</td>\n",
       "      <td>0</td>\n",
       "      <td>113943.491460</td>\n",
       "      <td>покупка недвижимости</td>\n",
       "    </tr>\n",
       "    <tr>\n",
       "      <th>11</th>\n",
       "      <td>0</td>\n",
       "      <td>-792.701887</td>\n",
       "      <td>40</td>\n",
       "      <td>среднее</td>\n",
       "      <td>1</td>\n",
       "      <td>женат / замужем</td>\n",
       "      <td>0</td>\n",
       "      <td>F</td>\n",
       "      <td>сотрудник</td>\n",
       "      <td>0</td>\n",
       "      <td>77069.234271</td>\n",
       "      <td>покупка коммерческой недвижимости</td>\n",
       "    </tr>\n",
       "    <tr>\n",
       "      <th>12</th>\n",
       "      <td>0</td>\n",
       "      <td>NaN</td>\n",
       "      <td>65</td>\n",
       "      <td>среднее</td>\n",
       "      <td>1</td>\n",
       "      <td>гражданский брак</td>\n",
       "      <td>1</td>\n",
       "      <td>M</td>\n",
       "      <td>пенсионер</td>\n",
       "      <td>0</td>\n",
       "      <td>NaN</td>\n",
       "      <td>сыграть свадьбу</td>\n",
       "    </tr>\n",
       "    <tr>\n",
       "      <th>13</th>\n",
       "      <td>0</td>\n",
       "      <td>-1846.641941</td>\n",
       "      <td>54</td>\n",
       "      <td>неоконченное высшее</td>\n",
       "      <td>2</td>\n",
       "      <td>женат / замужем</td>\n",
       "      <td>0</td>\n",
       "      <td>F</td>\n",
       "      <td>сотрудник</td>\n",
       "      <td>0</td>\n",
       "      <td>130458.228857</td>\n",
       "      <td>приобретение автомобиля</td>\n",
       "    </tr>\n",
       "    <tr>\n",
       "      <th>14</th>\n",
       "      <td>0</td>\n",
       "      <td>-1844.956182</td>\n",
       "      <td>56</td>\n",
       "      <td>высшее</td>\n",
       "      <td>0</td>\n",
       "      <td>гражданский брак</td>\n",
       "      <td>1</td>\n",
       "      <td>F</td>\n",
       "      <td>компаньон</td>\n",
       "      <td>1</td>\n",
       "      <td>165127.911772</td>\n",
       "      <td>покупка жилой недвижимости</td>\n",
       "    </tr>\n",
       "    <tr>\n",
       "      <th>15</th>\n",
       "      <td>1</td>\n",
       "      <td>-972.364419</td>\n",
       "      <td>26</td>\n",
       "      <td>среднее</td>\n",
       "      <td>1</td>\n",
       "      <td>женат / замужем</td>\n",
       "      <td>0</td>\n",
       "      <td>F</td>\n",
       "      <td>сотрудник</td>\n",
       "      <td>0</td>\n",
       "      <td>116820.904450</td>\n",
       "      <td>строительство собственной недвижимости</td>\n",
       "    </tr>\n",
       "    <tr>\n",
       "      <th>16</th>\n",
       "      <td>0</td>\n",
       "      <td>-1719.934226</td>\n",
       "      <td>35</td>\n",
       "      <td>среднее</td>\n",
       "      <td>1</td>\n",
       "      <td>женат / замужем</td>\n",
       "      <td>0</td>\n",
       "      <td>F</td>\n",
       "      <td>сотрудник</td>\n",
       "      <td>0</td>\n",
       "      <td>289202.704229</td>\n",
       "      <td>недвижимость</td>\n",
       "    </tr>\n",
       "    <tr>\n",
       "      <th>17</th>\n",
       "      <td>0</td>\n",
       "      <td>-2369.999720</td>\n",
       "      <td>33</td>\n",
       "      <td>высшее</td>\n",
       "      <td>0</td>\n",
       "      <td>гражданский брак</td>\n",
       "      <td>1</td>\n",
       "      <td>M</td>\n",
       "      <td>сотрудник</td>\n",
       "      <td>0</td>\n",
       "      <td>90410.586745</td>\n",
       "      <td>строительство недвижимости</td>\n",
       "    </tr>\n",
       "    <tr>\n",
       "      <th>18</th>\n",
       "      <td>0</td>\n",
       "      <td>400281.136913</td>\n",
       "      <td>53</td>\n",
       "      <td>среднее</td>\n",
       "      <td>1</td>\n",
       "      <td>вдовец / вдова</td>\n",
       "      <td>2</td>\n",
       "      <td>F</td>\n",
       "      <td>пенсионер</td>\n",
       "      <td>0</td>\n",
       "      <td>56823.777243</td>\n",
       "      <td>на покупку подержанного автомобиля</td>\n",
       "    </tr>\n",
       "    <tr>\n",
       "      <th>19</th>\n",
       "      <td>0</td>\n",
       "      <td>-10038.818549</td>\n",
       "      <td>48</td>\n",
       "      <td>СРЕДНЕЕ</td>\n",
       "      <td>1</td>\n",
       "      <td>в разводе</td>\n",
       "      <td>3</td>\n",
       "      <td>F</td>\n",
       "      <td>сотрудник</td>\n",
       "      <td>0</td>\n",
       "      <td>242831.107982</td>\n",
       "      <td>на покупку своего автомобиля</td>\n",
       "    </tr>\n",
       "  </tbody>\n",
       "</table>\n",
       "</div>"
      ],
      "text/plain": [
       "    children  days_employed  dob_years            education  education_id  \\\n",
       "0          1   -8437.673028         42               высшее             0   \n",
       "1          1   -4024.803754         36              среднее             1   \n",
       "2          0   -5623.422610         33              Среднее             1   \n",
       "3          3   -4124.747207         32              среднее             1   \n",
       "4          0  340266.072047         53              среднее             1   \n",
       "5          0    -926.185831         27               высшее             0   \n",
       "6          0   -2879.202052         43               высшее             0   \n",
       "7          0    -152.779569         50              СРЕДНЕЕ             1   \n",
       "8          2   -6929.865299         35               ВЫСШЕЕ             0   \n",
       "9          0   -2188.756445         41              среднее             1   \n",
       "10         2   -4171.483647         36               высшее             0   \n",
       "11         0    -792.701887         40              среднее             1   \n",
       "12         0            NaN         65              среднее             1   \n",
       "13         0   -1846.641941         54  неоконченное высшее             2   \n",
       "14         0   -1844.956182         56               высшее             0   \n",
       "15         1    -972.364419         26              среднее             1   \n",
       "16         0   -1719.934226         35              среднее             1   \n",
       "17         0   -2369.999720         33               высшее             0   \n",
       "18         0  400281.136913         53              среднее             1   \n",
       "19         0  -10038.818549         48              СРЕДНЕЕ             1   \n",
       "\n",
       "       family_status  family_status_id gender income_type  debt  \\\n",
       "0    женат / замужем                 0      F   сотрудник     0   \n",
       "1    женат / замужем                 0      F   сотрудник     0   \n",
       "2    женат / замужем                 0      M   сотрудник     0   \n",
       "3    женат / замужем                 0      M   сотрудник     0   \n",
       "4   гражданский брак                 1      F   пенсионер     0   \n",
       "5   гражданский брак                 1      M   компаньон     0   \n",
       "6    женат / замужем                 0      F   компаньон     0   \n",
       "7    женат / замужем                 0      M   сотрудник     0   \n",
       "8   гражданский брак                 1      F   сотрудник     0   \n",
       "9    женат / замужем                 0      M   сотрудник     0   \n",
       "10   женат / замужем                 0      M   компаньон     0   \n",
       "11   женат / замужем                 0      F   сотрудник     0   \n",
       "12  гражданский брак                 1      M   пенсионер     0   \n",
       "13   женат / замужем                 0      F   сотрудник     0   \n",
       "14  гражданский брак                 1      F   компаньон     1   \n",
       "15   женат / замужем                 0      F   сотрудник     0   \n",
       "16   женат / замужем                 0      F   сотрудник     0   \n",
       "17  гражданский брак                 1      M   сотрудник     0   \n",
       "18    вдовец / вдова                 2      F   пенсионер     0   \n",
       "19         в разводе                 3      F   сотрудник     0   \n",
       "\n",
       "     total_income                                 purpose  \n",
       "0   253875.639453                           покупка жилья  \n",
       "1   112080.014102                 приобретение автомобиля  \n",
       "2   145885.952297                           покупка жилья  \n",
       "3   267628.550329              дополнительное образование  \n",
       "4   158616.077870                         сыграть свадьбу  \n",
       "5   255763.565419                           покупка жилья  \n",
       "6   240525.971920                       операции с жильем  \n",
       "7   135823.934197                             образование  \n",
       "8    95856.832424                   на проведение свадьбы  \n",
       "9   144425.938277                 покупка жилья для семьи  \n",
       "10  113943.491460                    покупка недвижимости  \n",
       "11   77069.234271       покупка коммерческой недвижимости  \n",
       "12            NaN                         сыграть свадьбу  \n",
       "13  130458.228857                 приобретение автомобиля  \n",
       "14  165127.911772              покупка жилой недвижимости  \n",
       "15  116820.904450  строительство собственной недвижимости  \n",
       "16  289202.704229                            недвижимость  \n",
       "17   90410.586745              строительство недвижимости  \n",
       "18   56823.777243      на покупку подержанного автомобиля  \n",
       "19  242831.107982            на покупку своего автомобиля  "
      ]
     },
     "execution_count": 3,
     "metadata": {},
     "output_type": "execute_result"
    }
   ],
   "source": [
    "# ваш код здесь\n",
    "data.head(20)"
   ]
  },
  {
   "cell_type": "markdown",
   "id": "ad17ae43",
   "metadata": {
    "deletable": false,
    "editable": false,
    "id": "1c12e233",
    "tags": [
     "start_task"
    ]
   },
   "source": [
    "**Задание 3. Выведите основную информацию о датафрейме с помощью метода `info()`.**"
   ]
  },
  {
   "cell_type": "code",
   "execution_count": 4,
   "id": "ec402037",
   "metadata": {
    "id": "2b757bca"
   },
   "outputs": [
    {
     "name": "stdout",
     "output_type": "stream",
     "text": [
      "<class 'pandas.core.frame.DataFrame'>\n",
      "RangeIndex: 21525 entries, 0 to 21524\n",
      "Data columns (total 12 columns):\n",
      " #   Column            Non-Null Count  Dtype  \n",
      "---  ------            --------------  -----  \n",
      " 0   children          21525 non-null  int64  \n",
      " 1   days_employed     19351 non-null  float64\n",
      " 2   dob_years         21525 non-null  int64  \n",
      " 3   education         21525 non-null  object \n",
      " 4   education_id      21525 non-null  int64  \n",
      " 5   family_status     21525 non-null  object \n",
      " 6   family_status_id  21525 non-null  int64  \n",
      " 7   gender            21525 non-null  object \n",
      " 8   income_type       21525 non-null  object \n",
      " 9   debt              21525 non-null  int64  \n",
      " 10  total_income      19351 non-null  float64\n",
      " 11  purpose           21525 non-null  object \n",
      "dtypes: float64(2), int64(5), object(5)\n",
      "memory usage: 2.0+ MB\n"
     ]
    }
   ],
   "source": [
    "# ваш код здесь\n",
    "data.info()"
   ]
  },
  {
   "cell_type": "markdown",
   "id": "2ffc6280",
   "metadata": {
    "deletable": false,
    "editable": false,
    "id": "333ec665"
   },
   "source": [
    "## Предобработка данных"
   ]
  },
  {
   "cell_type": "markdown",
   "id": "134c60e3",
   "metadata": {
    "deletable": false,
    "editable": false,
    "id": "02d92d53"
   },
   "source": [
    "### Удаление пропусков"
   ]
  },
  {
   "cell_type": "markdown",
   "id": "3408113f",
   "metadata": {
    "deletable": false,
    "editable": false,
    "id": "cd84967c",
    "tags": [
     "start_task"
    ]
   },
   "source": [
    "**Задание 4. Выведите количество пропущенных значений для каждого столбца. Используйте комбинацию двух методов.**"
   ]
  },
  {
   "cell_type": "code",
   "execution_count": 5,
   "id": "a22c791c",
   "metadata": {
    "id": "7f9b2309"
   },
   "outputs": [
    {
     "data": {
      "text/plain": [
       "children               0\n",
       "days_employed       2174\n",
       "dob_years              0\n",
       "education              0\n",
       "education_id           0\n",
       "family_status          0\n",
       "family_status_id       0\n",
       "gender                 0\n",
       "income_type            0\n",
       "debt                   0\n",
       "total_income        2174\n",
       "purpose                0\n",
       "dtype: int64"
      ]
     },
     "execution_count": 5,
     "metadata": {},
     "output_type": "execute_result"
    }
   ],
   "source": [
    "# ваш код здесь\n",
    "data.isna().sum()"
   ]
  },
  {
   "cell_type": "markdown",
   "id": "c2d19791",
   "metadata": {
    "deletable": false,
    "editable": false,
    "id": "db86e27b",
    "tags": [
     "start_task"
    ]
   },
   "source": [
    "**Задание 5. В двух столбцах есть пропущенные значения. Один из них — `days_employed`. Пропуски в этом столбце вы обработаете на следующем этапе. Другой столбец с пропущенными значениями — `total_income` — хранит данные о доходах. На сумму дохода сильнее всего влияет тип занятости, поэтому заполнить пропуски в этом столбце нужно медианным значением по каждому типу из столбца `income_type`. Например, у человека с типом занятости `сотрудник` пропуск в столбце `total_income` должен быть заполнен медианным доходом среди всех записей с тем же типом.**"
   ]
  },
  {
   "cell_type": "code",
   "execution_count": 6,
   "id": "8531cf8b",
   "metadata": {
    "id": "42006a93"
   },
   "outputs": [],
   "source": [
    "income_median = data.groupby('income_type')['total_income'].transform('median')\n",
    "data['total_income'] = data['total_income'].fillna(value=income_median)"
   ]
  },
  {
   "cell_type": "markdown",
   "id": "0f4d1053",
   "metadata": {
    "deletable": false,
    "editable": false,
    "id": "89da5ece"
   },
   "source": [
    "### Обработка аномальных значений"
   ]
  },
  {
   "cell_type": "markdown",
   "id": "07165752",
   "metadata": {
    "deletable": false,
    "editable": false,
    "id": "57964554",
    "tags": [
     "start_task"
    ]
   },
   "source": [
    "**Задание 6. В данных могут встречаться артефакты (аномалии) — значения, которые не отражают действительность и появились по какой-то ошибке. Таким артефактом будет отрицательное количество дней трудового стажа в столбце `days_employed`. Для реальных данных это нормально. Обработайте значения в этом столбце: замените все отрицательные значения положительными с помощью метода `abs()`.**"
   ]
  },
  {
   "cell_type": "code",
   "execution_count": 7,
   "id": "d35f8c43",
   "metadata": {
    "id": "f6f055bf"
   },
   "outputs": [],
   "source": [
    "# ваш код здесь\n",
    "data['days_employed'] = data['days_employed'].abs()"
   ]
  },
  {
   "cell_type": "markdown",
   "id": "0e3aa271",
   "metadata": {
    "deletable": false,
    "editable": false,
    "id": "6107dd2f",
    "tags": [
     "start_task"
    ]
   },
   "source": [
    "**Задание 7. Для каждого типа занятости выведите медианное значение трудового стажа `days_employed` в днях.**"
   ]
  },
  {
   "cell_type": "code",
   "execution_count": 8,
   "id": "5f598abe",
   "metadata": {
    "id": "85a5faf6"
   },
   "outputs": [
    {
     "data": {
      "text/plain": [
       "income_type\n",
       "безработный        366413.652744\n",
       "в декрете            3296.759962\n",
       "госслужащий          2689.368353\n",
       "компаньон            1547.382223\n",
       "пенсионер          365213.306266\n",
       "предприниматель       520.848083\n",
       "сотрудник            1574.202821\n",
       "студент               578.751554\n",
       "Name: days_employed, dtype: float64"
      ]
     },
     "execution_count": 8,
     "metadata": {},
     "output_type": "execute_result"
    }
   ],
   "source": [
    "# ваш код здесь\n",
    "data.groupby('income_type')['days_employed'].median()"
   ]
  },
  {
   "cell_type": "markdown",
   "id": "5c09d923",
   "metadata": {
    "deletable": false,
    "editable": false,
    "id": "38d1a030"
   },
   "source": [
    "У двух типов (безработные и пенсионеры) получатся аномально большие значения. Исправить такие значения сложно, поэтому оставьте их как есть. Тем более этот столбец не понадобится вам для исследования."
   ]
  },
  {
   "cell_type": "markdown",
   "id": "ccf73786",
   "metadata": {
    "deletable": false,
    "editable": false,
    "id": "d8a9f147",
    "tags": [
     "start_task"
    ]
   },
   "source": [
    "**Задание 8. Выведите перечень уникальных значений столбца `children`.**"
   ]
  },
  {
   "cell_type": "code",
   "execution_count": 9,
   "id": "97523550",
   "metadata": {
    "id": "ef5056eb"
   },
   "outputs": [
    {
     "data": {
      "text/plain": [
       "array([ 1,  0,  3,  2, -1,  4, 20,  5])"
      ]
     },
     "execution_count": 9,
     "metadata": {},
     "output_type": "execute_result"
    }
   ],
   "source": [
    "# ваш код здесь\n",
    "data['children'].unique()"
   ]
  },
  {
   "cell_type": "markdown",
   "id": "65520880",
   "metadata": {
    "deletable": false,
    "editable": false,
    "id": "40b9ebf2",
    "tags": [
     "start_task"
    ]
   },
   "source": [
    "**Задание 9. В столбце `children` есть два аномальных значения. Удалите строки, в которых встречаются такие аномальные значения из датафрейма `data`.**"
   ]
  },
  {
   "cell_type": "code",
   "execution_count": 10,
   "id": "c86261b2",
   "metadata": {
    "id": "3ff9801d"
   },
   "outputs": [],
   "source": [
    "# ваш код здесь\n",
    "\n",
    "data.loc[data['children'] == -1,'children'] = None        \n",
    "data.loc[data['children'] == 20,'children'] = None\n",
    "#data['children'] = data['children'].dropna(anamal_1.index, axis = 0).reset_index\n",
    "#data['children'] = data['children'].drop(anamal_2.index, axis = 0).reset_index\n",
    "\n",
    "data = data.dropna(subset = ['children']).reset_index(drop=True)\n",
    "data['children'] = data['children'].astype('int')"
   ]
  },
  {
   "cell_type": "markdown",
   "id": "7dd396a0",
   "metadata": {
    "deletable": false,
    "editable": false,
    "id": "bbc4d0ce",
    "tags": [
     "start_task"
    ]
   },
   "source": [
    "**Задание 10. Ещё раз выведите перечень уникальных значений столбца `children`, чтобы убедиться, что артефакты удалены.**"
   ]
  },
  {
   "cell_type": "code",
   "execution_count": 11,
   "id": "38d21b25",
   "metadata": {
    "id": "ad4fa8b7"
   },
   "outputs": [
    {
     "data": {
      "text/plain": [
       "array([1, 0, 3, 2, 4, 5])"
      ]
     },
     "execution_count": 11,
     "metadata": {},
     "output_type": "execute_result"
    }
   ],
   "source": [
    "# ваш код здесь\n",
    "data['children'].unique()"
   ]
  },
  {
   "cell_type": "markdown",
   "id": "59d74199",
   "metadata": {
    "deletable": false,
    "editable": false,
    "id": "75440b63"
   },
   "source": [
    "### Удаление пропусков (продолжение)"
   ]
  },
  {
   "cell_type": "markdown",
   "id": "39462e32",
   "metadata": {
    "deletable": false,
    "editable": false,
    "id": "f4ea573f",
    "tags": [
     "start_task"
    ]
   },
   "source": [
    "**Задание 11. Заполните пропуски в столбце `days_employed` медианными значениями по каждому типу занятости `income_type`.**"
   ]
  },
  {
   "cell_type": "code",
   "execution_count": 12,
   "id": "67f68ca3",
   "metadata": {
    "id": "af6b1a7e"
   },
   "outputs": [],
   "source": [
    "# ваш код здесь\n",
    "income_median = data.groupby('income_type')['days_employed'].transform('median')\n",
    "data['days_employed'] = data['days_employed'].fillna(value=income_median)"
   ]
  },
  {
   "cell_type": "markdown",
   "id": "17c91107",
   "metadata": {
    "deletable": false,
    "editable": false,
    "id": "2753f40d",
    "tags": [
     "start_task"
    ]
   },
   "source": [
    "**Задание 12. Убедитесь, что все пропуски заполнены. Проверьте себя и ещё раз выведите количество пропущенных значений для каждого столбца с помощью двух методов.**"
   ]
  },
  {
   "cell_type": "code",
   "execution_count": 13,
   "id": "c033ff05",
   "metadata": {
    "id": "55f78bc2"
   },
   "outputs": [
    {
     "data": {
      "text/plain": [
       "children            0\n",
       "days_employed       0\n",
       "dob_years           0\n",
       "education           0\n",
       "education_id        0\n",
       "family_status       0\n",
       "family_status_id    0\n",
       "gender              0\n",
       "income_type         0\n",
       "debt                0\n",
       "total_income        0\n",
       "purpose             0\n",
       "dtype: int64"
      ]
     },
     "execution_count": 13,
     "metadata": {},
     "output_type": "execute_result"
    }
   ],
   "source": [
    "# ваш код здесь\n",
    "data.isna().sum()"
   ]
  },
  {
   "cell_type": "markdown",
   "id": "8755d23c",
   "metadata": {
    "deletable": false,
    "editable": false,
    "id": "ddc81e43"
   },
   "source": [
    "### Изменение типов данных"
   ]
  },
  {
   "cell_type": "markdown",
   "id": "4eac2d37",
   "metadata": {
    "deletable": false,
    "editable": false,
    "id": "42d19d24",
    "tags": [
     "start_task"
    ]
   },
   "source": [
    "**Задание 13. Замените вещественный тип данных в столбце `total_income` на целочисленный с помощью метода `astype()`.**"
   ]
  },
  {
   "cell_type": "code",
   "execution_count": 14,
   "id": "132d33ca",
   "metadata": {
    "id": "920b65ad"
   },
   "outputs": [],
   "source": [
    "# ваш код здесь\n",
    "data['total_income'] = data['total_income'].astype('int')"
   ]
  },
  {
   "cell_type": "markdown",
   "id": "bdc7cb6b",
   "metadata": {
    "deletable": false,
    "editable": false,
    "id": "80c420ba"
   },
   "source": [
    "### Обработка дубликатов"
   ]
  },
  {
   "cell_type": "markdown",
   "id": "2588c744",
   "metadata": {
    "deletable": false,
    "editable": false,
    "tags": [
     "start_task"
    ]
   },
   "source": [
    "**Задание 14. Обработайте неявные дубликаты в столбце `education`. В этом столбце есть одни и те же значения, но записанные по-разному: с использованием заглавных и строчных букв. Приведите их к нижнему регистру. Проверьте остальные столбцы.**"
   ]
  },
  {
   "cell_type": "code",
   "execution_count": 15,
   "id": "3dad2af1",
   "metadata": {},
   "outputs": [],
   "source": [
    "# ваш код здесь\n",
    "data['education'] = data['education'].str.lower()"
   ]
  },
  {
   "cell_type": "markdown",
   "id": "f2462d4f",
   "metadata": {
    "deletable": false,
    "editable": false,
    "id": "dc587695",
    "tags": [
     "start_task"
    ]
   },
   "source": [
    "**Задание 15. Выведите на экран количество строк-дубликатов в данных. Если такие строки присутствуют, удалите их.**"
   ]
  },
  {
   "cell_type": "code",
   "execution_count": 16,
   "id": "e9bee135",
   "metadata": {
    "id": "3ee445e4"
   },
   "outputs": [
    {
     "data": {
      "text/plain": [
       "71"
      ]
     },
     "execution_count": 16,
     "metadata": {},
     "output_type": "execute_result"
    }
   ],
   "source": [
    "# посчитайте дубликаты\n",
    "data.duplicated().sum()"
   ]
  },
  {
   "cell_type": "code",
   "execution_count": 17,
   "id": "8a2d690f",
   "metadata": {
    "id": "8575fe05"
   },
   "outputs": [],
   "source": [
    "# удалите дубликаты\n",
    "data = data.drop_duplicates().reset_index(drop=True)"
   ]
  },
  {
   "cell_type": "markdown",
   "id": "e8a4f77c",
   "metadata": {
    "deletable": false,
    "editable": false,
    "id": "9904cf55"
   },
   "source": [
    "### Категоризация данных"
   ]
  },
  {
   "cell_type": "markdown",
   "id": "7649c38c",
   "metadata": {
    "deletable": false,
    "editable": false,
    "id": "72fcc8a2",
    "tags": [
     "start_task"
    ]
   },
   "source": [
    "**Задание 16. На основании диапазонов, указанных ниже, создайте в датафрейме `data` столбец `total_income_category` с категориями:**\n",
    "\n",
    "- 0–30000 — `'E'`;\n",
    "- 30001–50000 — `'D'`;\n",
    "- 50001–200000 — `'C'`;\n",
    "- 200001–1000000 — `'B'`;\n",
    "- 1000001 и выше — `'A'`.\n",
    "\n",
    "\n",
    "**Например, кредитополучателю с доходом 25000 нужно назначить категорию `'E'`, а клиенту, получающему 235000, — `'B'`. Используйте собственную функцию с именем `categorize_income()` и метод `apply()`.**"
   ]
  },
  {
   "cell_type": "code",
   "execution_count": 27,
   "id": "66d51178",
   "metadata": {
    "id": "e1771346"
   },
   "outputs": [],
   "source": [
    "# создайте функцию categorize_income()\n",
    "def categorize_income (category):\n",
    "    if category <= 30000:\n",
    "        return 'E'\n",
    "    elif category <= 50000:\n",
    "        return 'D'\n",
    "    elif category <= 200000:\n",
    "        return 'C'\n",
    "    elif category <= 1000000 :\n",
    "        return 'B'\n",
    "    else:\n",
    "        return 'A'"
   ]
  },
  {
   "cell_type": "code",
   "execution_count": 28,
   "id": "efa2828a",
   "metadata": {
    "id": "d5f3586d"
   },
   "outputs": [],
   "source": [
    "# примените функцию методом apply()\n",
    "data['total_income_category'] = data['total_income'].apply(categorize_income)"
   ]
  },
  {
   "cell_type": "markdown",
   "id": "bfa7e597",
   "metadata": {
    "deletable": false,
    "editable": false,
    "id": "dde49b5c",
    "tags": [
     "start_task"
    ]
   },
   "source": [
    "**Задание 17. Выведите на экран перечень уникальных целей взятия кредита из столбца `purpose`.**"
   ]
  },
  {
   "cell_type": "code",
   "execution_count": 30,
   "id": "9fe44cab",
   "metadata": {
    "id": "f67ce9b3"
   },
   "outputs": [
    {
     "data": {
      "text/plain": [
       "array(['покупка жилья', 'приобретение автомобиля',\n",
       "       'дополнительное образование', 'сыграть свадьбу',\n",
       "       'операции с жильем', 'образование', 'на проведение свадьбы',\n",
       "       'покупка жилья для семьи', 'покупка недвижимости',\n",
       "       'покупка коммерческой недвижимости', 'покупка жилой недвижимости',\n",
       "       'строительство собственной недвижимости', 'недвижимость',\n",
       "       'строительство недвижимости', 'на покупку подержанного автомобиля',\n",
       "       'на покупку своего автомобиля',\n",
       "       'операции с коммерческой недвижимостью',\n",
       "       'строительство жилой недвижимости', 'жилье',\n",
       "       'операции со своей недвижимостью', 'автомобили',\n",
       "       'заняться образованием', 'сделка с подержанным автомобилем',\n",
       "       'получение образования', 'автомобиль', 'свадьба',\n",
       "       'получение дополнительного образования', 'покупка своего жилья',\n",
       "       'операции с недвижимостью', 'получение высшего образования',\n",
       "       'свой автомобиль', 'сделка с автомобилем',\n",
       "       'профильное образование', 'высшее образование',\n",
       "       'покупка жилья для сдачи', 'на покупку автомобиля', 'ремонт жилью',\n",
       "       'заняться высшим образованием'], dtype=object)"
      ]
     },
     "execution_count": 30,
     "metadata": {},
     "output_type": "execute_result"
    }
   ],
   "source": [
    "# ваш код здесь\n",
    "data['purpose'].unique()"
   ]
  },
  {
   "cell_type": "markdown",
   "id": "4e5b683f",
   "metadata": {
    "deletable": false,
    "editable": false,
    "id": "85d0aef0",
    "tags": [
     "start_task"
    ]
   },
   "source": [
    "**Задание 18. Создайте функцию, которая на основании данных из столбца `purpose` сформирует новый столбец `purpose_category`, в который войдут следующие категории:**\n",
    "\n",
    "- `'операции с автомобилем'`,\n",
    "- `'операции с недвижимостью'`,\n",
    "- `'проведение свадьбы'`,\n",
    "- `'получение образования'`.\n",
    "\n",
    "**Например, если в столбце `purpose` находится подстрока `'на покупку автомобиля'`, то в столбце `purpose_category` должна появиться строка `'операции с автомобилем'`.**\n",
    "\n",
    "**Используйте собственную функцию с именем `categorize_purpose()` и метод `apply()`. Изучите данные в столбце `purpose` и определите, какие подстроки помогут вам правильно определить категорию.**"
   ]
  },
  {
   "cell_type": "code",
   "execution_count": 50,
   "id": "e0ef818c",
   "metadata": {
    "id": "e149fab4"
   },
   "outputs": [],
   "source": [
    "# создайте функцию categorize_purpose()\n",
    "def categorize_purpose (purpose):\n",
    "    if 'авто' in purpose:\n",
    "        return 'операции с автомобилем'\n",
    "    elif ('жиль' in purpose) or ('недвиж' in purpose):\n",
    "        return 'операции с недвижимостью'\n",
    "    elif 'свадь' in purpose:\n",
    "        return 'проведение свадьбы'\n",
    "    elif 'образ' in purpose:\n",
    "        return 'получение образования'\n",
    "    #else:\n",
    "        #return purpose"
   ]
  },
  {
   "cell_type": "code",
   "execution_count": 51,
   "id": "b0d415d7",
   "metadata": {
    "id": "bf36e69b"
   },
   "outputs": [],
   "source": [
    "# примените функцию методом apply()\n",
    "data['purpose_category'] = data['purpose'].apply(categorize_purpose)\n",
    "#data['purpose_category'].unique()"
   ]
  }
 ],
 "metadata": {
  "ExecuteTimeLog": [
   {
    "duration": 407,
    "start_time": "2022-08-11T07:36:36.925Z"
   },
   {
    "duration": 138,
    "start_time": "2022-08-11T07:37:02.767Z"
   },
   {
    "duration": 28,
    "start_time": "2022-08-11T08:33:27.498Z"
   },
   {
    "duration": 17,
    "start_time": "2022-08-11T08:33:49.831Z"
   },
   {
    "duration": 11,
    "start_time": "2022-08-11T11:01:12.466Z"
   },
   {
    "duration": 5,
    "start_time": "2022-08-11T11:38:56.444Z"
   },
   {
    "duration": 84,
    "start_time": "2022-08-11T12:04:07.507Z"
   },
   {
    "duration": 17,
    "start_time": "2022-08-11T12:04:38.527Z"
   },
   {
    "duration": 17,
    "start_time": "2022-08-11T12:05:57.400Z"
   },
   {
    "duration": 10,
    "start_time": "2022-08-11T12:13:41.750Z"
   },
   {
    "duration": 9,
    "start_time": "2022-08-11T12:17:27.422Z"
   },
   {
    "duration": 20,
    "start_time": "2022-08-11T12:17:46.258Z"
   },
   {
    "duration": 7,
    "start_time": "2022-08-11T12:18:41.003Z"
   },
   {
    "duration": 3,
    "start_time": "2022-08-11T12:48:07.409Z"
   },
   {
    "duration": 12,
    "start_time": "2022-08-11T12:49:50.670Z"
   },
   {
    "duration": 10,
    "start_time": "2022-08-11T12:50:14.943Z"
   },
   {
    "duration": 11,
    "start_time": "2022-08-11T12:50:39.383Z"
   },
   {
    "duration": 10,
    "start_time": "2022-08-11T12:50:53.933Z"
   },
   {
    "duration": 10,
    "start_time": "2022-08-11T12:51:31.805Z"
   },
   {
    "duration": 10,
    "start_time": "2022-08-11T12:53:33.290Z"
   },
   {
    "duration": 4,
    "start_time": "2022-08-11T12:54:41.609Z"
   },
   {
    "duration": 7,
    "start_time": "2022-08-11T12:55:29.032Z"
   },
   {
    "duration": 6,
    "start_time": "2022-08-11T12:56:32.415Z"
   },
   {
    "duration": 5,
    "start_time": "2022-08-11T12:56:41.727Z"
   },
   {
    "duration": 9,
    "start_time": "2022-08-11T12:57:47.342Z"
   },
   {
    "duration": 8,
    "start_time": "2022-08-11T12:59:40.027Z"
   },
   {
    "duration": 7,
    "start_time": "2022-08-11T12:59:56.372Z"
   },
   {
    "duration": 7,
    "start_time": "2022-08-11T13:01:05.787Z"
   },
   {
    "duration": 18,
    "start_time": "2022-08-11T13:02:02.105Z"
   },
   {
    "duration": 12,
    "start_time": "2022-08-11T13:02:29.881Z"
   },
   {
    "duration": 11,
    "start_time": "2022-08-11T13:02:44.691Z"
   },
   {
    "duration": 7,
    "start_time": "2022-08-11T13:09:12.202Z"
   },
   {
    "duration": 70,
    "start_time": "2022-08-11T13:09:19.945Z"
   },
   {
    "duration": 160,
    "start_time": "2022-08-11T13:13:34.771Z"
   },
   {
    "duration": 11,
    "start_time": "2022-08-11T13:13:45.629Z"
   },
   {
    "duration": 10,
    "start_time": "2022-08-11T13:16:39.879Z"
   },
   {
    "duration": 4,
    "start_time": "2022-08-11T13:17:46.535Z"
   },
   {
    "duration": 10,
    "start_time": "2022-08-11T13:18:05.773Z"
   },
   {
    "duration": 12,
    "start_time": "2022-08-11T13:18:20.030Z"
   },
   {
    "duration": 11,
    "start_time": "2022-08-11T13:22:22.697Z"
   },
   {
    "duration": 12,
    "start_time": "2022-08-11T13:26:55.108Z"
   },
   {
    "duration": 17,
    "start_time": "2022-08-11T13:27:18.347Z"
   },
   {
    "duration": 17,
    "start_time": "2022-08-11T13:27:38.539Z"
   },
   {
    "duration": 19,
    "start_time": "2022-08-11T13:28:14.810Z"
   },
   {
    "duration": 12,
    "start_time": "2022-08-11T13:28:33.122Z"
   },
   {
    "duration": 8,
    "start_time": "2022-08-11T13:30:13.344Z"
   },
   {
    "duration": 47,
    "start_time": "2022-08-11T13:30:36.711Z"
   },
   {
    "duration": 23,
    "start_time": "2022-08-11T13:31:13.678Z"
   },
   {
    "duration": 21,
    "start_time": "2022-08-11T13:31:27.846Z"
   },
   {
    "duration": 22,
    "start_time": "2022-08-11T13:32:27.316Z"
   },
   {
    "duration": 22,
    "start_time": "2022-08-11T13:33:44.237Z"
   },
   {
    "duration": 21,
    "start_time": "2022-08-11T13:33:55.548Z"
   },
   {
    "duration": 20,
    "start_time": "2022-08-11T13:34:19.821Z"
   },
   {
    "duration": 86,
    "start_time": "2022-08-11T13:40:25.716Z"
   },
   {
    "duration": 1649,
    "start_time": "2022-08-11T13:40:32.516Z"
   },
   {
    "duration": 20,
    "start_time": "2022-08-11T13:41:53.450Z"
   },
   {
    "duration": 21,
    "start_time": "2022-08-11T13:42:28.852Z"
   },
   {
    "duration": 19,
    "start_time": "2022-08-11T13:43:22.249Z"
   },
   {
    "duration": 20,
    "start_time": "2022-08-11T13:49:29.482Z"
   },
   {
    "duration": 51,
    "start_time": "2022-08-11T13:50:06.442Z"
   },
   {
    "duration": 374,
    "start_time": "2022-08-11T13:50:13.250Z"
   },
   {
    "duration": 83,
    "start_time": "2022-08-11T13:50:18.736Z"
   },
   {
    "duration": 32,
    "start_time": "2022-08-11T13:50:20.473Z"
   },
   {
    "duration": 17,
    "start_time": "2022-08-11T13:50:22.978Z"
   },
   {
    "duration": 11,
    "start_time": "2022-08-11T13:50:24.665Z"
   },
   {
    "duration": 7,
    "start_time": "2022-08-11T13:50:26.689Z"
   },
   {
    "duration": 3,
    "start_time": "2022-08-11T13:50:28.025Z"
   },
   {
    "duration": 9,
    "start_time": "2022-08-11T13:50:29.145Z"
   },
   {
    "duration": 5,
    "start_time": "2022-08-11T13:50:31.369Z"
   },
   {
    "duration": 18,
    "start_time": "2022-08-11T13:50:33.249Z"
   },
   {
    "duration": 5,
    "start_time": "2022-08-11T13:51:24.729Z"
   },
   {
    "duration": 17,
    "start_time": "2022-08-11T13:51:30.089Z"
   },
   {
    "duration": 5,
    "start_time": "2022-08-11T13:51:31.889Z"
   },
   {
    "duration": 97,
    "start_time": "2022-08-11T13:52:02.450Z"
   },
   {
    "duration": 5,
    "start_time": "2022-08-11T13:52:04.788Z"
   },
   {
    "duration": 119,
    "start_time": "2022-08-11T13:52:24.128Z"
   },
   {
    "duration": 98,
    "start_time": "2022-08-11T13:52:56.399Z"
   },
   {
    "duration": 5,
    "start_time": "2022-08-11T13:52:59.390Z"
   },
   {
    "duration": 6,
    "start_time": "2022-08-11T13:53:10.825Z"
   },
   {
    "duration": 4,
    "start_time": "2022-08-11T13:53:13.231Z"
   },
   {
    "duration": 7,
    "start_time": "2022-08-11T13:53:35.806Z"
   },
   {
    "duration": 4,
    "start_time": "2022-08-11T13:53:38.575Z"
   },
   {
    "duration": 7,
    "start_time": "2022-08-11T13:54:02.624Z"
   },
   {
    "duration": 7,
    "start_time": "2022-08-11T13:54:43.749Z"
   },
   {
    "duration": 4,
    "start_time": "2022-08-11T13:54:46.429Z"
   },
   {
    "duration": 6,
    "start_time": "2022-08-11T13:55:23.044Z"
   },
   {
    "duration": 4,
    "start_time": "2022-08-11T13:55:25.668Z"
   },
   {
    "duration": 6,
    "start_time": "2022-08-11T13:55:46.148Z"
   },
   {
    "duration": 7,
    "start_time": "2022-08-11T13:55:53.964Z"
   },
   {
    "duration": 7,
    "start_time": "2022-08-11T13:56:01.059Z"
   },
   {
    "duration": 7,
    "start_time": "2022-08-11T13:56:10.875Z"
   },
   {
    "duration": 36,
    "start_time": "2022-08-11T13:56:22.707Z"
   },
   {
    "duration": 128,
    "start_time": "2022-08-11T13:56:35.733Z"
   },
   {
    "duration": 6,
    "start_time": "2022-08-11T13:56:44.563Z"
   },
   {
    "duration": 8,
    "start_time": "2022-08-11T14:03:03.795Z"
   },
   {
    "duration": 6,
    "start_time": "2022-08-11T14:03:08.356Z"
   },
   {
    "duration": 5,
    "start_time": "2022-08-11T14:03:14.531Z"
   },
   {
    "duration": 387,
    "start_time": "2022-08-11T14:03:28.237Z"
   },
   {
    "duration": 89,
    "start_time": "2022-08-11T14:03:29.783Z"
   },
   {
    "duration": 27,
    "start_time": "2022-08-11T14:03:31.487Z"
   },
   {
    "duration": 16,
    "start_time": "2022-08-11T14:03:33.597Z"
   },
   {
    "duration": 10,
    "start_time": "2022-08-11T14:03:35.445Z"
   },
   {
    "duration": 7,
    "start_time": "2022-08-11T14:03:37.165Z"
   },
   {
    "duration": 4,
    "start_time": "2022-08-11T14:03:39.126Z"
   },
   {
    "duration": 11,
    "start_time": "2022-08-11T14:03:40.357Z"
   },
   {
    "duration": 6,
    "start_time": "2022-08-11T14:03:42.078Z"
   },
   {
    "duration": 19,
    "start_time": "2022-08-11T14:03:44.189Z"
   },
   {
    "duration": 5,
    "start_time": "2022-08-11T14:03:45.669Z"
   },
   {
    "duration": 15,
    "start_time": "2022-08-11T14:04:03.414Z"
   },
   {
    "duration": 5,
    "start_time": "2022-08-11T14:04:36.252Z"
   },
   {
    "duration": 4,
    "start_time": "2022-08-11T14:04:40.580Z"
   },
   {
    "duration": 17,
    "start_time": "2022-08-11T14:05:41.483Z"
   },
   {
    "duration": 5,
    "start_time": "2022-08-11T14:05:43.763Z"
   },
   {
    "duration": 2,
    "start_time": "2022-08-11T14:06:33.139Z"
   },
   {
    "duration": 76,
    "start_time": "2022-08-11T14:06:35.450Z"
   },
   {
    "duration": 463,
    "start_time": "2022-08-11T14:06:41.367Z"
   },
   {
    "duration": 81,
    "start_time": "2022-08-11T14:06:42.628Z"
   },
   {
    "duration": 24,
    "start_time": "2022-08-11T14:06:44.104Z"
   },
   {
    "duration": 16,
    "start_time": "2022-08-11T14:06:46.727Z"
   },
   {
    "duration": 11,
    "start_time": "2022-08-11T14:06:48.759Z"
   },
   {
    "duration": 6,
    "start_time": "2022-08-11T14:06:50.441Z"
   },
   {
    "duration": 5,
    "start_time": "2022-08-11T14:06:52.111Z"
   },
   {
    "duration": 12,
    "start_time": "2022-08-11T14:06:53.353Z"
   },
   {
    "duration": 5,
    "start_time": "2022-08-11T14:06:55.471Z"
   },
   {
    "duration": 21,
    "start_time": "2022-08-11T14:06:57.199Z"
   },
   {
    "duration": 4,
    "start_time": "2022-08-11T14:06:58.879Z"
   },
   {
    "duration": 26,
    "start_time": "2022-08-11T14:07:30.087Z"
   },
   {
    "duration": 438,
    "start_time": "2022-08-11T14:09:03.789Z"
   },
   {
    "duration": 83,
    "start_time": "2022-08-11T14:09:04.709Z"
   },
   {
    "duration": 25,
    "start_time": "2022-08-11T14:09:05.677Z"
   },
   {
    "duration": 17,
    "start_time": "2022-08-11T14:09:08.061Z"
   },
   {
    "duration": 12,
    "start_time": "2022-08-11T14:09:10.188Z"
   },
   {
    "duration": 9,
    "start_time": "2022-08-11T14:09:11.861Z"
   },
   {
    "duration": 4,
    "start_time": "2022-08-11T14:09:13.644Z"
   },
   {
    "duration": 9,
    "start_time": "2022-08-11T14:09:15.076Z"
   },
   {
    "duration": 4,
    "start_time": "2022-08-11T14:09:17.076Z"
   },
   {
    "duration": 77,
    "start_time": "2022-08-11T14:09:19.492Z"
   },
   {
    "duration": 11,
    "start_time": "2022-08-11T14:10:11.283Z"
   },
   {
    "duration": 9,
    "start_time": "2022-08-11T14:10:24.612Z"
   },
   {
    "duration": 485,
    "start_time": "2022-08-11T14:11:21.557Z"
   },
   {
    "duration": 82,
    "start_time": "2022-08-11T14:11:22.827Z"
   },
   {
    "duration": 23,
    "start_time": "2022-08-11T14:11:23.814Z"
   },
   {
    "duration": 20,
    "start_time": "2022-08-11T14:11:40.278Z"
   },
   {
    "duration": 12,
    "start_time": "2022-08-11T14:11:45.276Z"
   },
   {
    "duration": 7,
    "start_time": "2022-08-11T14:11:48.332Z"
   },
   {
    "duration": 3,
    "start_time": "2022-08-11T14:11:49.869Z"
   },
   {
    "duration": 8,
    "start_time": "2022-08-11T14:11:51.027Z"
   },
   {
    "duration": 4,
    "start_time": "2022-08-11T14:11:52.927Z"
   },
   {
    "duration": 83,
    "start_time": "2022-08-11T14:11:54.405Z"
   },
   {
    "duration": 16,
    "start_time": "2022-08-11T14:12:29.413Z"
   },
   {
    "duration": 5,
    "start_time": "2022-08-11T14:12:57.517Z"
   },
   {
    "duration": 19,
    "start_time": "2022-08-11T14:14:31.690Z"
   },
   {
    "duration": 17,
    "start_time": "2022-08-11T14:14:45.755Z"
   },
   {
    "duration": 21,
    "start_time": "2022-08-11T14:15:19.947Z"
   },
   {
    "duration": 15,
    "start_time": "2022-08-11T14:15:31.233Z"
   },
   {
    "duration": 5,
    "start_time": "2022-08-11T14:15:33.377Z"
   },
   {
    "duration": 11,
    "start_time": "2022-08-11T14:15:56.784Z"
   },
   {
    "duration": 5,
    "start_time": "2022-08-11T14:15:58.561Z"
   },
   {
    "duration": 457,
    "start_time": "2022-08-11T14:16:46.197Z"
   },
   {
    "duration": 88,
    "start_time": "2022-08-11T14:16:47.332Z"
   },
   {
    "duration": 31,
    "start_time": "2022-08-11T14:16:52.691Z"
   },
   {
    "duration": 18,
    "start_time": "2022-08-11T14:16:56.347Z"
   },
   {
    "duration": 11,
    "start_time": "2022-08-11T14:16:58.379Z"
   },
   {
    "duration": 7,
    "start_time": "2022-08-11T14:16:59.828Z"
   },
   {
    "duration": 4,
    "start_time": "2022-08-11T14:17:01.308Z"
   },
   {
    "duration": 9,
    "start_time": "2022-08-11T14:17:02.267Z"
   },
   {
    "duration": 4,
    "start_time": "2022-08-11T14:17:03.668Z"
   },
   {
    "duration": 16,
    "start_time": "2022-08-11T14:17:07.027Z"
   },
   {
    "duration": 6,
    "start_time": "2022-08-11T14:17:10.987Z"
   },
   {
    "duration": 5,
    "start_time": "2022-08-11T14:17:23.283Z"
   },
   {
    "duration": 14,
    "start_time": "2022-08-11T14:17:25.956Z"
   },
   {
    "duration": 5,
    "start_time": "2022-08-11T14:17:28.228Z"
   },
   {
    "duration": 8,
    "start_time": "2022-08-11T14:18:35.394Z"
   },
   {
    "duration": 12,
    "start_time": "2022-08-11T14:19:02.114Z"
   },
   {
    "duration": 4,
    "start_time": "2022-08-11T14:20:11.555Z"
   },
   {
    "duration": 22,
    "start_time": "2022-08-11T14:23:56.676Z"
   },
   {
    "duration": 13,
    "start_time": "2022-08-11T14:25:47.856Z"
   },
   {
    "duration": 4,
    "start_time": "2022-08-11T14:26:53.536Z"
   },
   {
    "duration": 419,
    "start_time": "2022-08-11T14:27:25.213Z"
   },
   {
    "duration": 82,
    "start_time": "2022-08-11T14:27:25.634Z"
   },
   {
    "duration": 24,
    "start_time": "2022-08-11T14:27:25.717Z"
   },
   {
    "duration": 23,
    "start_time": "2022-08-11T14:27:25.743Z"
   },
   {
    "duration": 11,
    "start_time": "2022-08-11T14:27:25.768Z"
   },
   {
    "duration": 8,
    "start_time": "2022-08-11T14:27:25.795Z"
   },
   {
    "duration": 7,
    "start_time": "2022-08-11T14:27:25.805Z"
   },
   {
    "duration": 18,
    "start_time": "2022-08-11T14:27:25.814Z"
   },
   {
    "duration": 5,
    "start_time": "2022-08-11T14:27:25.834Z"
   },
   {
    "duration": 21,
    "start_time": "2022-08-11T14:27:25.842Z"
   },
   {
    "duration": 6,
    "start_time": "2022-08-11T14:27:25.864Z"
   },
   {
    "duration": 9,
    "start_time": "2022-08-11T14:27:25.892Z"
   },
   {
    "duration": 21,
    "start_time": "2022-08-11T14:27:25.903Z"
   },
   {
    "duration": 4,
    "start_time": "2022-08-11T14:27:25.926Z"
   },
   {
    "duration": 20,
    "start_time": "2022-08-11T14:27:25.932Z"
   },
   {
    "duration": 7,
    "start_time": "2022-08-11T14:27:25.954Z"
   },
   {
    "duration": 3,
    "start_time": "2022-08-11T14:27:25.993Z"
   },
   {
    "duration": 11,
    "start_time": "2022-08-11T14:27:25.998Z"
   },
   {
    "duration": 10,
    "start_time": "2022-08-11T14:27:26.011Z"
   },
   {
    "duration": 8,
    "start_time": "2022-08-11T14:27:26.023Z"
   },
   {
    "duration": 8,
    "start_time": "2022-08-11T14:27:26.033Z"
   },
   {
    "duration": 5,
    "start_time": "2022-08-11T14:27:26.043Z"
   },
   {
    "duration": 72,
    "start_time": "2022-08-11T14:28:32.290Z"
   },
   {
    "duration": 20,
    "start_time": "2022-08-11T14:28:48.532Z"
   },
   {
    "duration": 22,
    "start_time": "2022-08-11T14:29:29.857Z"
   },
   {
    "duration": 425,
    "start_time": "2022-08-11T18:21:44.295Z"
   },
   {
    "duration": 101,
    "start_time": "2022-08-11T18:21:44.723Z"
   },
   {
    "duration": 25,
    "start_time": "2022-08-11T18:21:44.826Z"
   },
   {
    "duration": 39,
    "start_time": "2022-08-11T18:21:44.853Z"
   },
   {
    "duration": 12,
    "start_time": "2022-08-11T18:21:44.894Z"
   },
   {
    "duration": 8,
    "start_time": "2022-08-11T18:21:44.908Z"
   },
   {
    "duration": 5,
    "start_time": "2022-08-11T18:21:44.918Z"
   },
   {
    "duration": 12,
    "start_time": "2022-08-11T18:21:44.925Z"
   },
   {
    "duration": 5,
    "start_time": "2022-08-11T18:21:44.939Z"
   },
   {
    "duration": 19,
    "start_time": "2022-08-11T18:21:44.995Z"
   },
   {
    "duration": 37,
    "start_time": "2022-08-11T18:21:45.016Z"
   },
   {
    "duration": 51,
    "start_time": "2022-08-11T18:21:45.055Z"
   },
   {
    "duration": 27,
    "start_time": "2022-08-11T18:21:45.108Z"
   },
   {
    "duration": 14,
    "start_time": "2022-08-11T18:21:45.138Z"
   },
   {
    "duration": 39,
    "start_time": "2022-08-11T18:21:45.155Z"
   },
   {
    "duration": 28,
    "start_time": "2022-08-11T18:21:45.199Z"
   },
   {
    "duration": 24,
    "start_time": "2022-08-11T18:21:45.229Z"
   },
   {
    "duration": 3,
    "start_time": "2022-08-11T18:21:45.255Z"
   },
   {
    "duration": 35,
    "start_time": "2022-08-11T18:21:45.261Z"
   },
   {
    "duration": 10,
    "start_time": "2022-08-11T18:21:45.298Z"
   },
   {
    "duration": 7,
    "start_time": "2022-08-11T18:21:45.310Z"
   },
   {
    "duration": 8,
    "start_time": "2022-08-11T18:21:45.320Z"
   },
   {
    "duration": 74,
    "start_time": "2022-08-11T18:26:21.780Z"
   },
   {
    "duration": 4,
    "start_time": "2022-08-11T18:26:27.193Z"
   },
   {
    "duration": 359,
    "start_time": "2022-08-11T18:26:31.322Z"
   },
   {
    "duration": 517,
    "start_time": "2022-08-11T18:26:49.841Z"
   },
   {
    "duration": 4,
    "start_time": "2022-08-11T18:27:00.761Z"
   },
   {
    "duration": 9,
    "start_time": "2022-08-11T18:27:02.656Z"
   },
   {
    "duration": 10,
    "start_time": "2022-08-11T18:27:39.704Z"
   },
   {
    "duration": 6,
    "start_time": "2022-08-11T18:27:50.800Z"
   },
   {
    "duration": 5,
    "start_time": "2022-08-11T18:33:02.484Z"
   },
   {
    "duration": 3,
    "start_time": "2022-08-11T18:33:12.324Z"
   },
   {
    "duration": 338,
    "start_time": "2022-08-11T18:33:15.267Z"
   },
   {
    "duration": 340,
    "start_time": "2022-08-11T18:33:31.908Z"
   },
   {
    "duration": 3,
    "start_time": "2022-08-11T18:33:35.699Z"
   },
   {
    "duration": 8,
    "start_time": "2022-08-11T18:33:37.458Z"
   },
   {
    "duration": 12,
    "start_time": "2022-08-11T18:34:16.939Z"
   },
   {
    "duration": 3,
    "start_time": "2022-08-11T18:34:35.594Z"
   },
   {
    "duration": 11,
    "start_time": "2022-08-11T18:34:37.923Z"
   },
   {
    "duration": 3,
    "start_time": "2022-08-11T18:35:08.402Z"
   },
   {
    "duration": 13,
    "start_time": "2022-08-11T18:35:10.729Z"
   },
   {
    "duration": 3,
    "start_time": "2022-08-11T18:35:36.132Z"
   },
   {
    "duration": 11,
    "start_time": "2022-08-11T18:35:37.553Z"
   },
   {
    "duration": 4,
    "start_time": "2022-08-11T18:36:25.432Z"
   },
   {
    "duration": 13,
    "start_time": "2022-08-11T18:36:27.223Z"
   },
   {
    "duration": 3,
    "start_time": "2022-08-11T18:36:35.400Z"
   },
   {
    "duration": 5,
    "start_time": "2022-08-11T18:36:48.863Z"
   },
   {
    "duration": 12,
    "start_time": "2022-08-11T18:36:50.200Z"
   },
   {
    "duration": 4,
    "start_time": "2022-08-11T18:37:01.095Z"
   },
   {
    "duration": 8,
    "start_time": "2022-08-11T18:37:03.207Z"
   }
  ],
  "colab": {
   "name": "dpp_template_part1.ipynb",
   "provenance": []
  },
  "kernelspec": {
   "display_name": "Python 3 (ipykernel)",
   "language": "python",
   "name": "python3"
  },
  "language_info": {
   "codemirror_mode": {
    "name": "ipython",
    "version": 3
   },
   "file_extension": ".py",
   "mimetype": "text/x-python",
   "name": "python",
   "nbconvert_exporter": "python",
   "pygments_lexer": "ipython3",
   "version": "3.9.5"
  },
  "toc": {
   "base_numbering": 1,
   "nav_menu": {},
   "number_sections": true,
   "sideBar": true,
   "skip_h1_title": true,
   "title_cell": "Table of Contents",
   "title_sidebar": "Contents",
   "toc_cell": false,
   "toc_position": {},
   "toc_section_display": true,
   "toc_window_display": false
  }
 },
 "nbformat": 4,
 "nbformat_minor": 5
}
