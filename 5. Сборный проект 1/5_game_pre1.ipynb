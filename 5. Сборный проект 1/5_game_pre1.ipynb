{
 "cells": [
  {
   "cell_type": "markdown",
   "metadata": {
    "id": "6dcf0pqtRogN"
   },
   "source": [
    "### Описание проекта"
   ]
  },
  {
   "cell_type": "markdown",
   "metadata": {
    "id": "zBtwZAMKTGSb"
   },
   "source": [
    "Цель исследования — Из открытых источников доступны исторические данные о продажах игр, оценки пользователей и экспертов, жанры и платформы (например, Xbox или PlayStation), нужно выявить определяющие успешность игры закономерности. Это позволит сделать ставку на потенциально популярный продукт и спланировать рекламные кампании.\n",
    "\n",
    "Исследование пройдёт по следующим этапам:\n",
    "\n",
    "Изучить общую информацию. Подготовить данные. Провести исследовательский анализ данных. Составить портрет пользователя каждого региона. Проверить гипотезы."
   ]
  },
  {
   "cell_type": "markdown",
   "metadata": {
    "id": "sgStwztcV4_l"
   },
   "source": [
    "### Описание столбцов"
   ]
  },
  {
   "cell_type": "markdown",
   "metadata": {
    "id": "PV5uR4jpV6AW"
   },
   "source": [
    "`Name` — название игры\n",
    "\n",
    "`Platform` — платформа\n",
    "\n",
    "`Year_of_Release` — год выпуска\n",
    "\n",
    "`Genre` — жанр игры\n",
    "\n",
    "`NA_sales` — продажи в Северной Америке (миллионы проданных копий)\n",
    "\n",
    "`EU_sales` — продажи в Европе (миллионы проданных копий)\n",
    "\n",
    "`JP_sales` — продажи в Японии (миллионы проданных копий)\n",
    "\n",
    "`Other_sales` — продажи в других странах (миллионы проданных копий)\n",
    "\n",
    "`Critic_Score` — оценка критиков (максимум 100)\n",
    "\n",
    "`User_Score` — оценка пользователей (максимум 10)\n",
    "\n",
    "`Rating` — рейтинг от организации ESRB (англ. Entertainment Software Rating Board)."
   ]
  },
  {
   "cell_type": "markdown",
   "metadata": {
    "id": "9Nr0kw_QXChb"
   },
   "source": [
    "### Шаг 1. Открытие файла с данными и изучение общей информации"
   ]
  },
  {
   "cell_type": "markdown",
   "metadata": {
    "id": "yR_JWrpgNAnW"
   },
   "source": [
    "#### Открытие данных"
   ]
  },
  {
   "cell_type": "code",
   "execution_count": 1,
   "metadata": {
    "id": "x-6p_DunXNvT"
   },
   "outputs": [],
   "source": [
    "# импорт библиотек\n",
    "import pandas as pd\n",
    "import matplotlib.pyplot as plt\n",
    "import seaborn as sns\n",
    "import numpy as np\n",
    "import warnings\n",
    "from scipy import stats as st\n",
    "warnings.filterwarnings('ignore') # отключаем предупреждения"
   ]
  },
  {
   "cell_type": "code",
   "execution_count": 2,
   "metadata": {
    "id": "QYyCYX_nXBq7"
   },
   "outputs": [],
   "source": [
    "# Создание Data Frame\n",
    "df = pd.read_csv('https://code.s3.yandex.net/datasets/games.csv')"
   ]
  },
  {
   "cell_type": "markdown",
   "metadata": {
    "id": "y_IWY9fzWhJM"
   },
   "source": [
    "#### Изучение общей информации"
   ]
  },
  {
   "cell_type": "code",
   "execution_count": 3,
   "metadata": {
    "colab": {
     "base_uri": "https://localhost:8080/"
    },
    "id": "iNpMSZdHW86D",
    "outputId": "a11943f7-9167-423f-9cc9-b8cdc49c0ef1"
   },
   "outputs": [
    {
     "name": "stdout",
     "output_type": "stream",
     "text": [
      "<class 'pandas.core.frame.DataFrame'>\n",
      "RangeIndex: 16715 entries, 0 to 16714\n",
      "Data columns (total 11 columns):\n",
      " #   Column           Non-Null Count  Dtype  \n",
      "---  ------           --------------  -----  \n",
      " 0   Name             16713 non-null  object \n",
      " 1   Platform         16715 non-null  object \n",
      " 2   Year_of_Release  16446 non-null  float64\n",
      " 3   Genre            16713 non-null  object \n",
      " 4   NA_sales         16715 non-null  float64\n",
      " 5   EU_sales         16715 non-null  float64\n",
      " 6   JP_sales         16715 non-null  float64\n",
      " 7   Other_sales      16715 non-null  float64\n",
      " 8   Critic_Score     8137 non-null   float64\n",
      " 9   User_Score       10014 non-null  object \n",
      " 10  Rating           9949 non-null   object \n",
      "dtypes: float64(6), object(5)\n",
      "memory usage: 1.4+ MB\n"
     ]
    }
   ],
   "source": [
    "df.info()"
   ]
  },
  {
   "cell_type": "code",
   "execution_count": 4,
   "metadata": {
    "colab": {
     "base_uri": "https://localhost:8080/",
     "height": 363
    },
    "id": "ZcUC7NqeZFlB",
    "outputId": "d644005a-4e1c-4c7f-a834-ee0caa822ecd"
   },
   "outputs": [
    {
     "data": {
      "text/html": [
       "<div>\n",
       "<style scoped>\n",
       "    .dataframe tbody tr th:only-of-type {\n",
       "        vertical-align: middle;\n",
       "    }\n",
       "\n",
       "    .dataframe tbody tr th {\n",
       "        vertical-align: top;\n",
       "    }\n",
       "\n",
       "    .dataframe thead th {\n",
       "        text-align: right;\n",
       "    }\n",
       "</style>\n",
       "<table border=\"1\" class=\"dataframe\">\n",
       "  <thead>\n",
       "    <tr style=\"text-align: right;\">\n",
       "      <th></th>\n",
       "      <th>Name</th>\n",
       "      <th>Platform</th>\n",
       "      <th>Year_of_Release</th>\n",
       "      <th>Genre</th>\n",
       "      <th>NA_sales</th>\n",
       "      <th>EU_sales</th>\n",
       "      <th>JP_sales</th>\n",
       "      <th>Other_sales</th>\n",
       "      <th>Critic_Score</th>\n",
       "      <th>User_Score</th>\n",
       "      <th>Rating</th>\n",
       "    </tr>\n",
       "  </thead>\n",
       "  <tbody>\n",
       "    <tr>\n",
       "      <th>0</th>\n",
       "      <td>Wii Sports</td>\n",
       "      <td>Wii</td>\n",
       "      <td>2006.0</td>\n",
       "      <td>Sports</td>\n",
       "      <td>41.36</td>\n",
       "      <td>28.96</td>\n",
       "      <td>3.77</td>\n",
       "      <td>8.45</td>\n",
       "      <td>76.0</td>\n",
       "      <td>8</td>\n",
       "      <td>E</td>\n",
       "    </tr>\n",
       "    <tr>\n",
       "      <th>1</th>\n",
       "      <td>Super Mario Bros.</td>\n",
       "      <td>NES</td>\n",
       "      <td>1985.0</td>\n",
       "      <td>Platform</td>\n",
       "      <td>29.08</td>\n",
       "      <td>3.58</td>\n",
       "      <td>6.81</td>\n",
       "      <td>0.77</td>\n",
       "      <td>NaN</td>\n",
       "      <td>NaN</td>\n",
       "      <td>NaN</td>\n",
       "    </tr>\n",
       "    <tr>\n",
       "      <th>2</th>\n",
       "      <td>Mario Kart Wii</td>\n",
       "      <td>Wii</td>\n",
       "      <td>2008.0</td>\n",
       "      <td>Racing</td>\n",
       "      <td>15.68</td>\n",
       "      <td>12.76</td>\n",
       "      <td>3.79</td>\n",
       "      <td>3.29</td>\n",
       "      <td>82.0</td>\n",
       "      <td>8.3</td>\n",
       "      <td>E</td>\n",
       "    </tr>\n",
       "    <tr>\n",
       "      <th>3</th>\n",
       "      <td>Wii Sports Resort</td>\n",
       "      <td>Wii</td>\n",
       "      <td>2009.0</td>\n",
       "      <td>Sports</td>\n",
       "      <td>15.61</td>\n",
       "      <td>10.93</td>\n",
       "      <td>3.28</td>\n",
       "      <td>2.95</td>\n",
       "      <td>80.0</td>\n",
       "      <td>8</td>\n",
       "      <td>E</td>\n",
       "    </tr>\n",
       "    <tr>\n",
       "      <th>4</th>\n",
       "      <td>Pokemon Red/Pokemon Blue</td>\n",
       "      <td>GB</td>\n",
       "      <td>1996.0</td>\n",
       "      <td>Role-Playing</td>\n",
       "      <td>11.27</td>\n",
       "      <td>8.89</td>\n",
       "      <td>10.22</td>\n",
       "      <td>1.00</td>\n",
       "      <td>NaN</td>\n",
       "      <td>NaN</td>\n",
       "      <td>NaN</td>\n",
       "    </tr>\n",
       "    <tr>\n",
       "      <th>5</th>\n",
       "      <td>Tetris</td>\n",
       "      <td>GB</td>\n",
       "      <td>1989.0</td>\n",
       "      <td>Puzzle</td>\n",
       "      <td>23.20</td>\n",
       "      <td>2.26</td>\n",
       "      <td>4.22</td>\n",
       "      <td>0.58</td>\n",
       "      <td>NaN</td>\n",
       "      <td>NaN</td>\n",
       "      <td>NaN</td>\n",
       "    </tr>\n",
       "    <tr>\n",
       "      <th>6</th>\n",
       "      <td>New Super Mario Bros.</td>\n",
       "      <td>DS</td>\n",
       "      <td>2006.0</td>\n",
       "      <td>Platform</td>\n",
       "      <td>11.28</td>\n",
       "      <td>9.14</td>\n",
       "      <td>6.50</td>\n",
       "      <td>2.88</td>\n",
       "      <td>89.0</td>\n",
       "      <td>8.5</td>\n",
       "      <td>E</td>\n",
       "    </tr>\n",
       "    <tr>\n",
       "      <th>7</th>\n",
       "      <td>Wii Play</td>\n",
       "      <td>Wii</td>\n",
       "      <td>2006.0</td>\n",
       "      <td>Misc</td>\n",
       "      <td>13.96</td>\n",
       "      <td>9.18</td>\n",
       "      <td>2.93</td>\n",
       "      <td>2.84</td>\n",
       "      <td>58.0</td>\n",
       "      <td>6.6</td>\n",
       "      <td>E</td>\n",
       "    </tr>\n",
       "    <tr>\n",
       "      <th>8</th>\n",
       "      <td>New Super Mario Bros. Wii</td>\n",
       "      <td>Wii</td>\n",
       "      <td>2009.0</td>\n",
       "      <td>Platform</td>\n",
       "      <td>14.44</td>\n",
       "      <td>6.94</td>\n",
       "      <td>4.70</td>\n",
       "      <td>2.24</td>\n",
       "      <td>87.0</td>\n",
       "      <td>8.4</td>\n",
       "      <td>E</td>\n",
       "    </tr>\n",
       "    <tr>\n",
       "      <th>9</th>\n",
       "      <td>Duck Hunt</td>\n",
       "      <td>NES</td>\n",
       "      <td>1984.0</td>\n",
       "      <td>Shooter</td>\n",
       "      <td>26.93</td>\n",
       "      <td>0.63</td>\n",
       "      <td>0.28</td>\n",
       "      <td>0.47</td>\n",
       "      <td>NaN</td>\n",
       "      <td>NaN</td>\n",
       "      <td>NaN</td>\n",
       "    </tr>\n",
       "  </tbody>\n",
       "</table>\n",
       "</div>"
      ],
      "text/plain": [
       "                        Name Platform  Year_of_Release         Genre  \\\n",
       "0                 Wii Sports      Wii           2006.0        Sports   \n",
       "1          Super Mario Bros.      NES           1985.0      Platform   \n",
       "2             Mario Kart Wii      Wii           2008.0        Racing   \n",
       "3          Wii Sports Resort      Wii           2009.0        Sports   \n",
       "4   Pokemon Red/Pokemon Blue       GB           1996.0  Role-Playing   \n",
       "5                     Tetris       GB           1989.0        Puzzle   \n",
       "6      New Super Mario Bros.       DS           2006.0      Platform   \n",
       "7                   Wii Play      Wii           2006.0          Misc   \n",
       "8  New Super Mario Bros. Wii      Wii           2009.0      Platform   \n",
       "9                  Duck Hunt      NES           1984.0       Shooter   \n",
       "\n",
       "   NA_sales  EU_sales  JP_sales  Other_sales  Critic_Score User_Score Rating  \n",
       "0     41.36     28.96      3.77         8.45          76.0          8      E  \n",
       "1     29.08      3.58      6.81         0.77           NaN        NaN    NaN  \n",
       "2     15.68     12.76      3.79         3.29          82.0        8.3      E  \n",
       "3     15.61     10.93      3.28         2.95          80.0          8      E  \n",
       "4     11.27      8.89     10.22         1.00           NaN        NaN    NaN  \n",
       "5     23.20      2.26      4.22         0.58           NaN        NaN    NaN  \n",
       "6     11.28      9.14      6.50         2.88          89.0        8.5      E  \n",
       "7     13.96      9.18      2.93         2.84          58.0        6.6      E  \n",
       "8     14.44      6.94      4.70         2.24          87.0        8.4      E  \n",
       "9     26.93      0.63      0.28         0.47           NaN        NaN    NaN  "
      ]
     },
     "execution_count": 4,
     "metadata": {},
     "output_type": "execute_result"
    }
   ],
   "source": [
    "# Первые десять строк\n",
    "df.head(10)"
   ]
  },
  {
   "cell_type": "code",
   "execution_count": 5,
   "metadata": {
    "colab": {
     "base_uri": "https://localhost:8080/",
     "height": 363
    },
    "id": "V_9-nhbAOzbj",
    "outputId": "0e2d1e47-b2a1-4a86-9de3-209e41cd8753"
   },
   "outputs": [
    {
     "data": {
      "text/html": [
       "<div>\n",
       "<style scoped>\n",
       "    .dataframe tbody tr th:only-of-type {\n",
       "        vertical-align: middle;\n",
       "    }\n",
       "\n",
       "    .dataframe tbody tr th {\n",
       "        vertical-align: top;\n",
       "    }\n",
       "\n",
       "    .dataframe thead th {\n",
       "        text-align: right;\n",
       "    }\n",
       "</style>\n",
       "<table border=\"1\" class=\"dataframe\">\n",
       "  <thead>\n",
       "    <tr style=\"text-align: right;\">\n",
       "      <th></th>\n",
       "      <th>Name</th>\n",
       "      <th>Platform</th>\n",
       "      <th>Year_of_Release</th>\n",
       "      <th>Genre</th>\n",
       "      <th>NA_sales</th>\n",
       "      <th>EU_sales</th>\n",
       "      <th>JP_sales</th>\n",
       "      <th>Other_sales</th>\n",
       "      <th>Critic_Score</th>\n",
       "      <th>User_Score</th>\n",
       "      <th>Rating</th>\n",
       "    </tr>\n",
       "  </thead>\n",
       "  <tbody>\n",
       "    <tr>\n",
       "      <th>16705</th>\n",
       "      <td>15 Days</td>\n",
       "      <td>PC</td>\n",
       "      <td>2009.0</td>\n",
       "      <td>Adventure</td>\n",
       "      <td>0.00</td>\n",
       "      <td>0.01</td>\n",
       "      <td>0.00</td>\n",
       "      <td>0.0</td>\n",
       "      <td>63.0</td>\n",
       "      <td>5.8</td>\n",
       "      <td>NaN</td>\n",
       "    </tr>\n",
       "    <tr>\n",
       "      <th>16706</th>\n",
       "      <td>Men in Black II: Alien Escape</td>\n",
       "      <td>GC</td>\n",
       "      <td>2003.0</td>\n",
       "      <td>Shooter</td>\n",
       "      <td>0.01</td>\n",
       "      <td>0.00</td>\n",
       "      <td>0.00</td>\n",
       "      <td>0.0</td>\n",
       "      <td>NaN</td>\n",
       "      <td>tbd</td>\n",
       "      <td>T</td>\n",
       "    </tr>\n",
       "    <tr>\n",
       "      <th>16707</th>\n",
       "      <td>Aiyoku no Eustia</td>\n",
       "      <td>PSV</td>\n",
       "      <td>2014.0</td>\n",
       "      <td>Misc</td>\n",
       "      <td>0.00</td>\n",
       "      <td>0.00</td>\n",
       "      <td>0.01</td>\n",
       "      <td>0.0</td>\n",
       "      <td>NaN</td>\n",
       "      <td>NaN</td>\n",
       "      <td>NaN</td>\n",
       "    </tr>\n",
       "    <tr>\n",
       "      <th>16708</th>\n",
       "      <td>Woody Woodpecker in Crazy Castle 5</td>\n",
       "      <td>GBA</td>\n",
       "      <td>2002.0</td>\n",
       "      <td>Platform</td>\n",
       "      <td>0.01</td>\n",
       "      <td>0.00</td>\n",
       "      <td>0.00</td>\n",
       "      <td>0.0</td>\n",
       "      <td>NaN</td>\n",
       "      <td>NaN</td>\n",
       "      <td>NaN</td>\n",
       "    </tr>\n",
       "    <tr>\n",
       "      <th>16709</th>\n",
       "      <td>SCORE International Baja 1000: The Official Game</td>\n",
       "      <td>PS2</td>\n",
       "      <td>2008.0</td>\n",
       "      <td>Racing</td>\n",
       "      <td>0.00</td>\n",
       "      <td>0.00</td>\n",
       "      <td>0.00</td>\n",
       "      <td>0.0</td>\n",
       "      <td>NaN</td>\n",
       "      <td>NaN</td>\n",
       "      <td>NaN</td>\n",
       "    </tr>\n",
       "    <tr>\n",
       "      <th>16710</th>\n",
       "      <td>Samurai Warriors: Sanada Maru</td>\n",
       "      <td>PS3</td>\n",
       "      <td>2016.0</td>\n",
       "      <td>Action</td>\n",
       "      <td>0.00</td>\n",
       "      <td>0.00</td>\n",
       "      <td>0.01</td>\n",
       "      <td>0.0</td>\n",
       "      <td>NaN</td>\n",
       "      <td>NaN</td>\n",
       "      <td>NaN</td>\n",
       "    </tr>\n",
       "    <tr>\n",
       "      <th>16711</th>\n",
       "      <td>LMA Manager 2007</td>\n",
       "      <td>X360</td>\n",
       "      <td>2006.0</td>\n",
       "      <td>Sports</td>\n",
       "      <td>0.00</td>\n",
       "      <td>0.01</td>\n",
       "      <td>0.00</td>\n",
       "      <td>0.0</td>\n",
       "      <td>NaN</td>\n",
       "      <td>NaN</td>\n",
       "      <td>NaN</td>\n",
       "    </tr>\n",
       "    <tr>\n",
       "      <th>16712</th>\n",
       "      <td>Haitaka no Psychedelica</td>\n",
       "      <td>PSV</td>\n",
       "      <td>2016.0</td>\n",
       "      <td>Adventure</td>\n",
       "      <td>0.00</td>\n",
       "      <td>0.00</td>\n",
       "      <td>0.01</td>\n",
       "      <td>0.0</td>\n",
       "      <td>NaN</td>\n",
       "      <td>NaN</td>\n",
       "      <td>NaN</td>\n",
       "    </tr>\n",
       "    <tr>\n",
       "      <th>16713</th>\n",
       "      <td>Spirits &amp; Spells</td>\n",
       "      <td>GBA</td>\n",
       "      <td>2003.0</td>\n",
       "      <td>Platform</td>\n",
       "      <td>0.01</td>\n",
       "      <td>0.00</td>\n",
       "      <td>0.00</td>\n",
       "      <td>0.0</td>\n",
       "      <td>NaN</td>\n",
       "      <td>NaN</td>\n",
       "      <td>NaN</td>\n",
       "    </tr>\n",
       "    <tr>\n",
       "      <th>16714</th>\n",
       "      <td>Winning Post 8 2016</td>\n",
       "      <td>PSV</td>\n",
       "      <td>2016.0</td>\n",
       "      <td>Simulation</td>\n",
       "      <td>0.00</td>\n",
       "      <td>0.00</td>\n",
       "      <td>0.01</td>\n",
       "      <td>0.0</td>\n",
       "      <td>NaN</td>\n",
       "      <td>NaN</td>\n",
       "      <td>NaN</td>\n",
       "    </tr>\n",
       "  </tbody>\n",
       "</table>\n",
       "</div>"
      ],
      "text/plain": [
       "                                                   Name Platform  \\\n",
       "16705                                           15 Days       PC   \n",
       "16706                     Men in Black II: Alien Escape       GC   \n",
       "16707                                  Aiyoku no Eustia      PSV   \n",
       "16708                Woody Woodpecker in Crazy Castle 5      GBA   \n",
       "16709  SCORE International Baja 1000: The Official Game      PS2   \n",
       "16710                     Samurai Warriors: Sanada Maru      PS3   \n",
       "16711                                  LMA Manager 2007     X360   \n",
       "16712                           Haitaka no Psychedelica      PSV   \n",
       "16713                                  Spirits & Spells      GBA   \n",
       "16714                               Winning Post 8 2016      PSV   \n",
       "\n",
       "       Year_of_Release       Genre  NA_sales  EU_sales  JP_sales  Other_sales  \\\n",
       "16705           2009.0   Adventure      0.00      0.01      0.00          0.0   \n",
       "16706           2003.0     Shooter      0.01      0.00      0.00          0.0   \n",
       "16707           2014.0        Misc      0.00      0.00      0.01          0.0   \n",
       "16708           2002.0    Platform      0.01      0.00      0.00          0.0   \n",
       "16709           2008.0      Racing      0.00      0.00      0.00          0.0   \n",
       "16710           2016.0      Action      0.00      0.00      0.01          0.0   \n",
       "16711           2006.0      Sports      0.00      0.01      0.00          0.0   \n",
       "16712           2016.0   Adventure      0.00      0.00      0.01          0.0   \n",
       "16713           2003.0    Platform      0.01      0.00      0.00          0.0   \n",
       "16714           2016.0  Simulation      0.00      0.00      0.01          0.0   \n",
       "\n",
       "       Critic_Score User_Score Rating  \n",
       "16705          63.0        5.8    NaN  \n",
       "16706           NaN        tbd      T  \n",
       "16707           NaN        NaN    NaN  \n",
       "16708           NaN        NaN    NaN  \n",
       "16709           NaN        NaN    NaN  \n",
       "16710           NaN        NaN    NaN  \n",
       "16711           NaN        NaN    NaN  \n",
       "16712           NaN        NaN    NaN  \n",
       "16713           NaN        NaN    NaN  \n",
       "16714           NaN        NaN    NaN  "
      ]
     },
     "execution_count": 5,
     "metadata": {},
     "output_type": "execute_result"
    }
   ],
   "source": [
    "# Последние десять строк\n",
    "df.tail(10)"
   ]
  },
  {
   "cell_type": "markdown",
   "metadata": {
    "id": "3H222aeeN3d4"
   },
   "source": [
    "#### Вывод"
   ]
  },
  {
   "cell_type": "markdown",
   "metadata": {
    "id": "AAdskbXnN6sk"
   },
   "source": [
    "Привести к нижнему регистру название столбцов.\n",
    "\n",
    "Преобразовать столбец столбец `year_of_release` тип данных на целочисленный.\n",
    "\n",
    "Так же следует преобразовать `user_score`, там содержатся числовые значения об оценках.\n",
    "\n",
    "В стобце `user_score` оценки распределены по 10-ти бальной шкале\n",
    "\n",
    "В столбце `critic_score` оценки распределены по 100-бальной шкале\n",
    "\n",
    "В данных есть пропущенные значения."
   ]
  },
  {
   "cell_type": "markdown",
   "metadata": {
    "id": "8venid3-Rtx1"
   },
   "source": [
    "### Шаг 2. Подготовка данных"
   ]
  },
  {
   "cell_type": "markdown",
   "metadata": {
    "id": "NH6NUTUmR2DF"
   },
   "source": [
    "#### Изменение название столбцов"
   ]
  },
  {
   "cell_type": "code",
   "execution_count": 6,
   "metadata": {
    "id": "F1BOUOqHSpKM"
   },
   "outputs": [],
   "source": [
    "# Приведение к нижнему регистру\n",
    "df.columns = df.columns.str.lower()"
   ]
  },
  {
   "cell_type": "code",
   "execution_count": 7,
   "metadata": {
    "id": "k1jawoP1S2Nj"
   },
   "outputs": [],
   "source": [
    "#df.info()"
   ]
  },
  {
   "cell_type": "markdown",
   "metadata": {
    "id": "POzkDtqoTTx6"
   },
   "source": [
    "#### Обработка пропусков"
   ]
  },
  {
   "cell_type": "markdown",
   "metadata": {
    "id": "4Yqi6bP9TY-F"
   },
   "source": [
    "Поиск соотношения пропущенных значений в столбце"
   ]
  },
  {
   "cell_type": "code",
   "execution_count": 8,
   "metadata": {
    "colab": {
     "base_uri": "https://localhost:8080/",
     "height": 394
    },
    "id": "FbDaDpeqTq4-",
    "outputId": "964b6716-ad54-49ba-a509-7ab70137e050"
   },
   "outputs": [
    {
     "data": {
      "text/html": [
       "<style  type=\"text/css\" >\n",
       "#T_0c121_row0_col0,#T_0c121_row1_col0,#T_0c121_row3_col0,#T_0c121_row4_col0,#T_0c121_row5_col0,#T_0c121_row6_col0,#T_0c121_row7_col0{\n",
       "            background-color:  #fff5f0;\n",
       "            color:  #000000;\n",
       "        }#T_0c121_row2_col0{\n",
       "            background-color:  #fff0e8;\n",
       "            color:  #000000;\n",
       "        }#T_0c121_row8_col0{\n",
       "            background-color:  #67000d;\n",
       "            color:  #f1f1f1;\n",
       "        }#T_0c121_row9_col0{\n",
       "            background-color:  #c2161b;\n",
       "            color:  #f1f1f1;\n",
       "        }#T_0c121_row10_col0{\n",
       "            background-color:  #bf151b;\n",
       "            color:  #f1f1f1;\n",
       "        }</style><table id=\"T_0c121_\" ><thead>    <tr>        <th class=\"blank level0\" ></th>        <th class=\"col_heading level0 col0\" >0</th>    </tr></thead><tbody>\n",
       "                <tr>\n",
       "                        <th id=\"T_0c121_level0_row0\" class=\"row_heading level0 row0\" >name</th>\n",
       "                        <td id=\"T_0c121_row0_col0\" class=\"data row0 col0\" >0.01%</td>\n",
       "            </tr>\n",
       "            <tr>\n",
       "                        <th id=\"T_0c121_level0_row1\" class=\"row_heading level0 row1\" >platform</th>\n",
       "                        <td id=\"T_0c121_row1_col0\" class=\"data row1 col0\" >0.00%</td>\n",
       "            </tr>\n",
       "            <tr>\n",
       "                        <th id=\"T_0c121_level0_row2\" class=\"row_heading level0 row2\" >year_of_release</th>\n",
       "                        <td id=\"T_0c121_row2_col0\" class=\"data row2 col0\" >1.61%</td>\n",
       "            </tr>\n",
       "            <tr>\n",
       "                        <th id=\"T_0c121_level0_row3\" class=\"row_heading level0 row3\" >genre</th>\n",
       "                        <td id=\"T_0c121_row3_col0\" class=\"data row3 col0\" >0.01%</td>\n",
       "            </tr>\n",
       "            <tr>\n",
       "                        <th id=\"T_0c121_level0_row4\" class=\"row_heading level0 row4\" >na_sales</th>\n",
       "                        <td id=\"T_0c121_row4_col0\" class=\"data row4 col0\" >0.00%</td>\n",
       "            </tr>\n",
       "            <tr>\n",
       "                        <th id=\"T_0c121_level0_row5\" class=\"row_heading level0 row5\" >eu_sales</th>\n",
       "                        <td id=\"T_0c121_row5_col0\" class=\"data row5 col0\" >0.00%</td>\n",
       "            </tr>\n",
       "            <tr>\n",
       "                        <th id=\"T_0c121_level0_row6\" class=\"row_heading level0 row6\" >jp_sales</th>\n",
       "                        <td id=\"T_0c121_row6_col0\" class=\"data row6 col0\" >0.00%</td>\n",
       "            </tr>\n",
       "            <tr>\n",
       "                        <th id=\"T_0c121_level0_row7\" class=\"row_heading level0 row7\" >other_sales</th>\n",
       "                        <td id=\"T_0c121_row7_col0\" class=\"data row7 col0\" >0.00%</td>\n",
       "            </tr>\n",
       "            <tr>\n",
       "                        <th id=\"T_0c121_level0_row8\" class=\"row_heading level0 row8\" >critic_score</th>\n",
       "                        <td id=\"T_0c121_row8_col0\" class=\"data row8 col0\" >51.32%</td>\n",
       "            </tr>\n",
       "            <tr>\n",
       "                        <th id=\"T_0c121_level0_row9\" class=\"row_heading level0 row9\" >user_score</th>\n",
       "                        <td id=\"T_0c121_row9_col0\" class=\"data row9 col0\" >40.09%</td>\n",
       "            </tr>\n",
       "            <tr>\n",
       "                        <th id=\"T_0c121_level0_row10\" class=\"row_heading level0 row10\" >rating</th>\n",
       "                        <td id=\"T_0c121_row10_col0\" class=\"data row10 col0\" >40.48%</td>\n",
       "            </tr>\n",
       "    </tbody></table>"
      ],
      "text/plain": [
       "<pandas.io.formats.style.Styler at 0x7fedabd29610>"
      ]
     },
     "execution_count": 8,
     "metadata": {},
     "output_type": "execute_result"
    }
   ],
   "source": [
    "pd.DataFrame(df.isna().mean()).style.background_gradient('Reds').format({0:'{:.2%}'})"
   ]
  },
  {
   "cell_type": "markdown",
   "metadata": {
    "id": "HbHOuA_KUeo4"
   },
   "source": [
    "В столбцах `name`, `year_of_release` и `genre` маленькое значение пропусков, их можно удалить."
   ]
  },
  {
   "cell_type": "code",
   "execution_count": 9,
   "metadata": {
    "id": "Z-baMmLwUtmJ"
   },
   "outputs": [],
   "source": [
    "# Удаление пропусков в name и year_of_release\n",
    "df = df.dropna(subset = ['name', 'year_of_release', 'genre']).reset_index(drop=True)"
   ]
  },
  {
   "cell_type": "markdown",
   "metadata": {
    "id": "jFfDf65nU_Dq"
   },
   "source": [
    "Очень много пропущенных занечений в столбцах `critic_score`, `user_score` и `rating`. Заполнение столбцов не предстовляется возможным, так как влиять на данный параметр мы не можеим."
   ]
  },
  {
   "cell_type": "markdown",
   "metadata": {
    "id": "fTQz_79QcBNJ"
   },
   "source": [
    "В столбцах `user_score`, `critic_score` появились пропущенные значения, так как игры непопулярные и не получили оценки и присвоения какого - либо рейтинга. Так же возможно игры появились до появления асоциации ESRB оценивающие игры. \n",
    "\n",
    "Заменим пропущенные значения в колонке `rating` на значение `undefined`"
   ]
  },
  {
   "cell_type": "code",
   "execution_count": 10,
   "metadata": {},
   "outputs": [],
   "source": [
    "df['rating'] = df['rating'].fillna('undefined')"
   ]
  },
  {
   "cell_type": "markdown",
   "metadata": {
    "id": "wrFJi49jZ1w-"
   },
   "source": [
    "В столбце `user_score` встречается аббревиатура \"tbd\", что означает: \"подлежит уточнению\". Скорей всего из-за этого тип данных не числовой. \n",
    "\n",
    "Заменим аббревиатура \"tbd\" на NaN"
   ]
  },
  {
   "cell_type": "code",
   "execution_count": 11,
   "metadata": {
    "id": "YMF5-8iLahzm"
   },
   "outputs": [],
   "source": [
    "df.loc[df['user_score'] == 'tbd', 'user_score'] = np.nan"
   ]
  },
  {
   "cell_type": "markdown",
   "metadata": {
    "id": "eQXgcBexS_gf"
   },
   "source": [
    "#### Изменение типов данных"
   ]
  },
  {
   "cell_type": "code",
   "execution_count": 12,
   "metadata": {
    "id": "2yxlVc3yS-uL"
   },
   "outputs": [],
   "source": [
    "# Изменение тип данных в year_of_release\n",
    "df['year_of_release'] = df['year_of_release'].astype(int)"
   ]
  },
  {
   "cell_type": "code",
   "execution_count": 13,
   "metadata": {
    "id": "r8SP4hxGa3rc"
   },
   "outputs": [],
   "source": [
    "# Изменение тип данных в user_score\n",
    "df['user_score'] = df['user_score'].astype(float)"
   ]
  },
  {
   "cell_type": "code",
   "execution_count": 14,
   "metadata": {
    "id": "X4hCaAcLbCyr"
   },
   "outputs": [],
   "source": [
    "#df.info()"
   ]
  },
  {
   "cell_type": "markdown",
   "metadata": {
    "id": "Qel1wrs4b3YK"
   },
   "source": [
    "Столбец `year_of_release` содержит одно целочисленное число, преобразуем тим в `int`.\n",
    "\n",
    "Столбец `user_score` содержит цисло с десятичной дробью, преобразуем в `float`."
   ]
  },
  {
   "cell_type": "markdown",
   "metadata": {
    "id": "5RnuIkIHeF8d"
   },
   "source": [
    "#### Суммарные продажи во всех регионах"
   ]
  },
  {
   "cell_type": "code",
   "execution_count": 15,
   "metadata": {
    "id": "bfy6tDh7eLlB"
   },
   "outputs": [],
   "source": [
    "# Добавление столбца total_sales\n",
    "df['total_sales'] = df['na_sales'] + df['eu_sales'] + df['jp_sales'] + df['other_sales']"
   ]
  },
  {
   "cell_type": "markdown",
   "metadata": {
    "id": "szmlA_X-nkW0"
   },
   "source": [
    "#### Удаления явных дубликатов"
   ]
  },
  {
   "cell_type": "code",
   "execution_count": 16,
   "metadata": {},
   "outputs": [
    {
     "data": {
      "text/plain": [
       "(16444, 12)"
      ]
     },
     "execution_count": 16,
     "metadata": {},
     "output_type": "execute_result"
    }
   ],
   "source": [
    "#Количество строк\n",
    "df.shape"
   ]
  },
  {
   "cell_type": "code",
   "execution_count": 17,
   "metadata": {
    "id": "UWCqmeswnj5m"
   },
   "outputs": [],
   "source": [
    "# Удаления явных дубликатов\n",
    "df = df.drop_duplicates().reset_index(drop=True)"
   ]
  },
  {
   "cell_type": "code",
   "execution_count": 18,
   "metadata": {},
   "outputs": [
    {
     "data": {
      "text/plain": [
       "(16444, 12)"
      ]
     },
     "execution_count": 18,
     "metadata": {},
     "output_type": "execute_result"
    }
   ],
   "source": [
    "#Количество строк\n",
    "df.shape"
   ]
  },
  {
   "cell_type": "markdown",
   "metadata": {},
   "source": [
    "Явных дупликатов не оказалось"
   ]
  },
  {
   "cell_type": "markdown",
   "metadata": {
    "id": "WP1eg-GSmQQR"
   },
   "source": [
    "#### Вывод"
   ]
  },
  {
   "cell_type": "markdown",
   "metadata": {
    "id": "PfKQ0tmsmTkF"
   },
   "source": [
    "Первым делом поменяли название в столбцах, привели все к однообразному виду.\n",
    "\n",
    "Проверили данные на пустые значения. Нашлось достаточно много в нескольких столбцах. В столбцах, где минимальное значение пропусков, строки удалили.\n",
    "\n",
    "Изменили тип данных для удобного чтения.\n",
    "\n",
    "Добавили столбец Сумму продаж во всех регионах."
   ]
  },
  {
   "cell_type": "markdown",
   "metadata": {
    "id": "UwjIYAaYe4os"
   },
   "source": [
    "### Шаг 3. Исследовательский анализ данных"
   ]
  },
  {
   "cell_type": "markdown",
   "metadata": {
    "id": "jmNj6s25fAfT"
   },
   "source": [
    "#### Сколько игр выпускалось в разные годы"
   ]
  },
  {
   "cell_type": "code",
   "execution_count": 19,
   "metadata": {
    "colab": {
     "base_uri": "https://localhost:8080/",
     "height": 1000
    },
    "id": "ukbkZMmAfKFW",
    "outputId": "1654a715-49f0-4d6f-c9ca-6d6339d8fef6"
   },
   "outputs": [
    {
     "data": {
      "image/png": "[encoded data removed]",
      "text/plain": [
       "<Figure size 1080x720 with 1 Axes>"
      ]
     },
     "metadata": {
      "needs_background": "light"
     },
     "output_type": "display_data"
    }
   ],
   "source": [
    "#df.groupby('year_of_release').agg({'name':'count'}).style.bar()\n",
    "\n",
    "games_on_period = df.pivot_table(index='year_of_release', values='name', aggfunc='count')\n",
    "plt.figure(figsize=(15,10))\n",
    "sns.lineplot(data=games_on_period)\n",
    "plt.title(\"Количество игр выпускаемые в разные года\")\n",
    "plt.xlabel(\"Год выпуска\")\n",
    "plt.ylabel(\"Количество выпущенных игр\")\n",
    "plt.legend().set_visible(False)\n",
    "plt.show()"
   ]
  },
  {
   "cell_type": "markdown",
   "metadata": {
    "id": "x1daSIdOaNS4"
   },
   "source": [
    "Количество игр начало расти с большой скоростью в середине 90х годов.\n",
    "\n",
    "Года с самым большим выпуском игр 2008 и 2009, было выпущенно 1427 и 1426 соотвественно.\n",
    "\n",
    "После 2012 года наблюдается спад выпуска игр.\n",
    "\n",
    "Не все данные выжны, так как есть года с маленьким количеством выпуска игр."
   ]
  },
  {
   "cell_type": "markdown",
   "metadata": {
    "id": "NXyg9qkHbphk"
   },
   "source": [
    "#### Продажи по платформам. Платформы с наибольшими суммарными продажами."
   ]
  },
  {
   "cell_type": "code",
   "execution_count": 20,
   "metadata": {
    "colab": {
     "base_uri": "https://localhost:8080/",
     "height": 394
    },
    "id": "l8fkkJYjn6EU",
    "outputId": "e6056d7a-02a1-4238-abf1-861d47e00205"
   },
   "outputs": [
    {
     "data": {
      "image/png": "[encoded data removed]",
      "text/plain": [
       "<Figure size 1080x720 with 1 Axes>"
      ]
     },
     "metadata": {
      "needs_background": "light"
     },
     "output_type": "display_data"
    }
   ],
   "source": [
    "# Сумма проданных копий игр в миллонах\n",
    "# 10 лучших платформ по количеству проданных копий за все время\n",
    "#df.groupby('platform').agg({'total_sales':'sum'}).sort_values(by='total_sales', ascending=False).head(10).style.bar().format({'total_sales':'{:.2f}'})\n",
    "\n",
    "platform_on_sales = df.pivot_table(index='platform', values='total_sales', aggfunc='sum').sort_values(by='total_sales', ascending=False).head(10)\n",
    "plt.figure(figsize=(15,10))\n",
    "sns.barplot(x=platform_on_sales.index,y=platform_on_sales['total_sales'])\n",
    "plt.title(\"Продажи по платформам за весь период\")\n",
    "plt.xlabel(\"Название платформы\")\n",
    "plt.ylabel(\"Количество продаж\")\n",
    "plt.show()"
   ]
  },
  {
   "cell_type": "markdown",
   "metadata": {},
   "source": [
    "По графику видно, что самые популярные игровые платформы за весь период это PS2, X360, PS3, WII, DS"
   ]
  },
  {
   "cell_type": "code",
   "execution_count": 21,
   "metadata": {
    "colab": {
     "base_uri": "https://localhost:8080/",
     "height": 457
    },
    "id": "9-cICHvFhFUy",
    "outputId": "00ad3f3e-bdbf-4c3a-ee7e-32033b03d546"
   },
   "outputs": [
    {
     "data": {
      "text/html": [
       "<style  type=\"text/css\" >\n",
       "#T_efe40_row0_col0{\n",
       "            width:  10em;\n",
       "             height:  80%;\n",
       "            background:  linear-gradient(90deg,#d65f5f 18.3%, transparent 18.3%);\n",
       "        }#T_efe40_row1_col0{\n",
       "            width:  10em;\n",
       "             height:  80%;\n",
       "            background:  linear-gradient(90deg,#d65f5f 78.5%, transparent 78.5%);\n",
       "        }#T_efe40_row2_col0{\n",
       "            width:  10em;\n",
       "             height:  80%;\n",
       "            background:  linear-gradient(90deg,#d65f5f 97.0%, transparent 97.0%);\n",
       "        }#T_efe40_row3_col0{\n",
       "            width:  10em;\n",
       "             height:  80%;\n",
       "            background:  linear-gradient(90deg,#d65f5f 87.0%, transparent 87.0%);\n",
       "        }#T_efe40_row4_col0{\n",
       "            width:  10em;\n",
       "             height:  80%;\n",
       "            background:  linear-gradient(90deg,#d65f5f 100.0%, transparent 100.0%);\n",
       "        }#T_efe40_row5_col0{\n",
       "            width:  10em;\n",
       "             height:  80%;\n",
       "            background:  linear-gradient(90deg,#d65f5f 75.8%, transparent 75.8%);\n",
       "        }#T_efe40_row6_col0{\n",
       "            width:  10em;\n",
       "             height:  80%;\n",
       "            background:  linear-gradient(90deg,#d65f5f 48.7%, transparent 48.7%);\n",
       "        }#T_efe40_row7_col0{\n",
       "            width:  10em;\n",
       "             height:  80%;\n",
       "            background:  linear-gradient(90deg,#d65f5f 35.7%, transparent 35.7%);\n",
       "        }#T_efe40_row8_col0{\n",
       "            width:  10em;\n",
       "             height:  80%;\n",
       "            background:  linear-gradient(90deg,#d65f5f 25.3%, transparent 25.3%);\n",
       "        }#T_efe40_row9_col0{\n",
       "            width:  10em;\n",
       "             height:  80%;\n",
       "            background:  linear-gradient(90deg,#d65f5f 12.3%, transparent 12.3%);\n",
       "        }#T_efe40_row10_col0{\n",
       "            width:  10em;\n",
       "             height:  80%;\n",
       "            background:  linear-gradient(90deg,#d65f5f 2.5%, transparent 2.5%);\n",
       "        }#T_efe40_row11_col0{\n",
       "            width:  10em;\n",
       "             height:  80%;\n",
       "        }</style><table id=\"T_efe40_\" ><thead>    <tr>        <th class=\"blank level0\" ></th>        <th class=\"col_heading level0 col0\" >total_sales</th>    </tr>    <tr>        <th class=\"index_name level0\" >year_of_release</th>        <th class=\"blank\" ></th>    </tr></thead><tbody>\n",
       "                <tr>\n",
       "                        <th id=\"T_efe40_level0_row0\" class=\"row_heading level0 row0\" >2000</th>\n",
       "                        <td id=\"T_efe40_row0_col0\" class=\"data row0 col0\" >39.17</td>\n",
       "            </tr>\n",
       "            <tr>\n",
       "                        <th id=\"T_efe40_level0_row1\" class=\"row_heading level0 row1\" >2001</th>\n",
       "                        <td id=\"T_efe40_row1_col0\" class=\"data row1 col0\" >166.43</td>\n",
       "            </tr>\n",
       "            <tr>\n",
       "                        <th id=\"T_efe40_level0_row2\" class=\"row_heading level0 row2\" >2002</th>\n",
       "                        <td id=\"T_efe40_row2_col0\" class=\"data row2 col0\" >205.38</td>\n",
       "            </tr>\n",
       "            <tr>\n",
       "                        <th id=\"T_efe40_level0_row3\" class=\"row_heading level0 row3\" >2003</th>\n",
       "                        <td id=\"T_efe40_row3_col0\" class=\"data row3 col0\" >184.31</td>\n",
       "            </tr>\n",
       "            <tr>\n",
       "                        <th id=\"T_efe40_level0_row4\" class=\"row_heading level0 row4\" >2004</th>\n",
       "                        <td id=\"T_efe40_row4_col0\" class=\"data row4 col0\" >211.81</td>\n",
       "            </tr>\n",
       "            <tr>\n",
       "                        <th id=\"T_efe40_level0_row5\" class=\"row_heading level0 row5\" >2005</th>\n",
       "                        <td id=\"T_efe40_row5_col0\" class=\"data row5 col0\" >160.66</td>\n",
       "            </tr>\n",
       "            <tr>\n",
       "                        <th id=\"T_efe40_level0_row6\" class=\"row_heading level0 row6\" >2006</th>\n",
       "                        <td id=\"T_efe40_row6_col0\" class=\"data row6 col0\" >103.42</td>\n",
       "            </tr>\n",
       "            <tr>\n",
       "                        <th id=\"T_efe40_level0_row7\" class=\"row_heading level0 row7\" >2007</th>\n",
       "                        <td id=\"T_efe40_row7_col0\" class=\"data row7 col0\" >75.99</td>\n",
       "            </tr>\n",
       "            <tr>\n",
       "                        <th id=\"T_efe40_level0_row8\" class=\"row_heading level0 row8\" >2008</th>\n",
       "                        <td id=\"T_efe40_row8_col0\" class=\"data row8 col0\" >53.90</td>\n",
       "            </tr>\n",
       "            <tr>\n",
       "                        <th id=\"T_efe40_level0_row9\" class=\"row_heading level0 row9\" >2009</th>\n",
       "                        <td id=\"T_efe40_row9_col0\" class=\"data row9 col0\" >26.40</td>\n",
       "            </tr>\n",
       "            <tr>\n",
       "                        <th id=\"T_efe40_level0_row10\" class=\"row_heading level0 row10\" >2010</th>\n",
       "                        <td id=\"T_efe40_row10_col0\" class=\"data row10 col0\" >5.64</td>\n",
       "            </tr>\n",
       "            <tr>\n",
       "                        <th id=\"T_efe40_level0_row11\" class=\"row_heading level0 row11\" >2011</th>\n",
       "                        <td id=\"T_efe40_row11_col0\" class=\"data row11 col0\" >0.45</td>\n",
       "            </tr>\n",
       "    </tbody></table>"
      ],
      "text/plain": [
       "<pandas.io.formats.style.Styler at 0x7feda3acdb50>"
      ]
     },
     "execution_count": 21,
     "metadata": {},
     "output_type": "execute_result"
    }
   ],
   "source": [
    "# Сумма проданных копий игр в миллонах для платформы PS2\n",
    "df.loc[df['platform'] == 'PS2'].groupby('year_of_release').agg({'total_sales':'sum'}).style.bar().format({'total_sales':'{:.2f}'})"
   ]
  },
  {
   "cell_type": "code",
   "execution_count": 22,
   "metadata": {
    "colab": {
     "base_uri": "https://localhost:8080/",
     "height": 457
    },
    "id": "4zrUn5dSmDzL",
    "outputId": "b89f9d29-ac33-409f-92bb-c215a5af8477"
   },
   "outputs": [
    {
     "data": {
      "text/html": [
       "<style  type=\"text/css\" >\n",
       "#T_36d26_row0_col0{\n",
       "            width:  10em;\n",
       "             height:  80%;\n",
       "            background:  linear-gradient(90deg,#d65f5f 4.0%, transparent 4.0%);\n",
       "        }#T_36d26_row1_col0{\n",
       "            width:  10em;\n",
       "             height:  80%;\n",
       "            background:  linear-gradient(90deg,#d65f5f 29.7%, transparent 29.7%);\n",
       "        }#T_36d26_row2_col0{\n",
       "            width:  10em;\n",
       "             height:  80%;\n",
       "            background:  linear-gradient(90deg,#d65f5f 55.7%, transparent 55.7%);\n",
       "        }#T_36d26_row3_col0{\n",
       "            width:  10em;\n",
       "             height:  80%;\n",
       "            background:  linear-gradient(90deg,#d65f5f 79.4%, transparent 79.4%);\n",
       "        }#T_36d26_row4_col0{\n",
       "            width:  10em;\n",
       "             height:  80%;\n",
       "            background:  linear-gradient(90deg,#d65f5f 70.5%, transparent 70.5%);\n",
       "        }#T_36d26_row5_col0{\n",
       "            width:  10em;\n",
       "             height:  80%;\n",
       "            background:  linear-gradient(90deg,#d65f5f 100.0%, transparent 100.0%);\n",
       "        }#T_36d26_row6_col0{\n",
       "            width:  10em;\n",
       "             height:  80%;\n",
       "            background:  linear-gradient(90deg,#d65f5f 84.5%, transparent 84.5%);\n",
       "        }#T_36d26_row7_col0{\n",
       "            width:  10em;\n",
       "             height:  80%;\n",
       "            background:  linear-gradient(90deg,#d65f5f 58.3%, transparent 58.3%);\n",
       "        }#T_36d26_row8_col0{\n",
       "            width:  10em;\n",
       "             height:  80%;\n",
       "            background:  linear-gradient(90deg,#d65f5f 51.7%, transparent 51.7%);\n",
       "        }#T_36d26_row9_col0{\n",
       "            width:  10em;\n",
       "             height:  80%;\n",
       "            background:  linear-gradient(90deg,#d65f5f 19.7%, transparent 19.7%);\n",
       "        }#T_36d26_row10_col0{\n",
       "            width:  10em;\n",
       "             height:  80%;\n",
       "            background:  linear-gradient(90deg,#d65f5f 6.2%, transparent 6.2%);\n",
       "        }#T_36d26_row11_col0{\n",
       "            width:  10em;\n",
       "             height:  80%;\n",
       "        }</style><table id=\"T_36d26_\" ><thead>    <tr>        <th class=\"blank level0\" ></th>        <th class=\"col_heading level0 col0\" >total_sales</th>    </tr>    <tr>        <th class=\"index_name level0\" >year_of_release</th>        <th class=\"blank\" ></th>    </tr></thead><tbody>\n",
       "                <tr>\n",
       "                        <th id=\"T_36d26_level0_row0\" class=\"row_heading level0 row0\" >2005</th>\n",
       "                        <td id=\"T_36d26_row0_col0\" class=\"data row0 col0\" >8.25</td>\n",
       "            </tr>\n",
       "            <tr>\n",
       "                        <th id=\"T_36d26_level0_row1\" class=\"row_heading level0 row1\" >2006</th>\n",
       "                        <td id=\"T_36d26_row1_col0\" class=\"data row1 col0\" >51.62</td>\n",
       "            </tr>\n",
       "            <tr>\n",
       "                        <th id=\"T_36d26_level0_row2\" class=\"row_heading level0 row2\" >2007</th>\n",
       "                        <td id=\"T_36d26_row2_col0\" class=\"data row2 col0\" >95.41</td>\n",
       "            </tr>\n",
       "            <tr>\n",
       "                        <th id=\"T_36d26_level0_row3\" class=\"row_heading level0 row3\" >2008</th>\n",
       "                        <td id=\"T_36d26_row3_col0\" class=\"data row3 col0\" >135.26</td>\n",
       "            </tr>\n",
       "            <tr>\n",
       "                        <th id=\"T_36d26_level0_row4\" class=\"row_heading level0 row4\" >2009</th>\n",
       "                        <td id=\"T_36d26_row4_col0\" class=\"data row4 col0\" >120.29</td>\n",
       "            </tr>\n",
       "            <tr>\n",
       "                        <th id=\"T_36d26_level0_row5\" class=\"row_heading level0 row5\" >2010</th>\n",
       "                        <td id=\"T_36d26_row5_col0\" class=\"data row5 col0\" >170.03</td>\n",
       "            </tr>\n",
       "            <tr>\n",
       "                        <th id=\"T_36d26_level0_row6\" class=\"row_heading level0 row6\" >2011</th>\n",
       "                        <td id=\"T_36d26_row6_col0\" class=\"data row6 col0\" >143.84</td>\n",
       "            </tr>\n",
       "            <tr>\n",
       "                        <th id=\"T_36d26_level0_row7\" class=\"row_heading level0 row7\" >2012</th>\n",
       "                        <td id=\"T_36d26_row7_col0\" class=\"data row7 col0\" >99.74</td>\n",
       "            </tr>\n",
       "            <tr>\n",
       "                        <th id=\"T_36d26_level0_row8\" class=\"row_heading level0 row8\" >2013</th>\n",
       "                        <td id=\"T_36d26_row8_col0\" class=\"data row8 col0\" >88.58</td>\n",
       "            </tr>\n",
       "            <tr>\n",
       "                        <th id=\"T_36d26_level0_row9\" class=\"row_heading level0 row9\" >2014</th>\n",
       "                        <td id=\"T_36d26_row9_col0\" class=\"data row9 col0\" >34.74</td>\n",
       "            </tr>\n",
       "            <tr>\n",
       "                        <th id=\"T_36d26_level0_row10\" class=\"row_heading level0 row10\" >2015</th>\n",
       "                        <td id=\"T_36d26_row10_col0\" class=\"data row10 col0\" >11.96</td>\n",
       "            </tr>\n",
       "            <tr>\n",
       "                        <th id=\"T_36d26_level0_row11\" class=\"row_heading level0 row11\" >2016</th>\n",
       "                        <td id=\"T_36d26_row11_col0\" class=\"data row11 col0\" >1.52</td>\n",
       "            </tr>\n",
       "    </tbody></table>"
      ],
      "text/plain": [
       "<pandas.io.formats.style.Styler at 0x7fedabb67040>"
      ]
     },
     "execution_count": 22,
     "metadata": {},
     "output_type": "execute_result"
    }
   ],
   "source": [
    "# Сумма проданных копий игр в миллонах для платформы X360\n",
    "df.loc[df['platform'] == 'X360'].groupby('year_of_release').agg({'total_sales':'sum'}).style.bar().format({'total_sales':'{:.2f}'})"
   ]
  },
  {
   "cell_type": "code",
   "execution_count": 23,
   "metadata": {
    "colab": {
     "base_uri": "https://localhost:8080/",
     "height": 426
    },
    "id": "ZL8Hz59VmKLz",
    "outputId": "a6edd784-60b0-4c5e-bb29-9384442064ee"
   },
   "outputs": [
    {
     "data": {
      "text/html": [
       "<style  type=\"text/css\" >\n",
       "#T_25722_row0_col0{\n",
       "            width:  10em;\n",
       "             height:  80%;\n",
       "            background:  linear-gradient(90deg,#d65f5f 11.3%, transparent 11.3%);\n",
       "        }#T_25722_row1_col0{\n",
       "            width:  10em;\n",
       "             height:  80%;\n",
       "            background:  linear-gradient(90deg,#d65f5f 45.4%, transparent 45.4%);\n",
       "        }#T_25722_row2_col0{\n",
       "            width:  10em;\n",
       "             height:  80%;\n",
       "            background:  linear-gradient(90deg,#d65f5f 75.0%, transparent 75.0%);\n",
       "        }#T_25722_row3_col0{\n",
       "            width:  10em;\n",
       "             height:  80%;\n",
       "            background:  linear-gradient(90deg,#d65f5f 83.1%, transparent 83.1%);\n",
       "        }#T_25722_row4_col0{\n",
       "            width:  10em;\n",
       "             height:  80%;\n",
       "            background:  linear-gradient(90deg,#d65f5f 90.5%, transparent 90.5%);\n",
       "        }#T_25722_row5_col0{\n",
       "            width:  10em;\n",
       "             height:  80%;\n",
       "            background:  linear-gradient(90deg,#d65f5f 100.0%, transparent 100.0%);\n",
       "        }#T_25722_row6_col0{\n",
       "            width:  10em;\n",
       "             height:  80%;\n",
       "            background:  linear-gradient(90deg,#d65f5f 67.7%, transparent 67.7%);\n",
       "        }#T_25722_row7_col0{\n",
       "            width:  10em;\n",
       "             height:  80%;\n",
       "            background:  linear-gradient(90deg,#d65f5f 71.6%, transparent 71.6%);\n",
       "        }#T_25722_row8_col0{\n",
       "            width:  10em;\n",
       "             height:  80%;\n",
       "            background:  linear-gradient(90deg,#d65f5f 28.8%, transparent 28.8%);\n",
       "        }#T_25722_row9_col0{\n",
       "            width:  10em;\n",
       "             height:  80%;\n",
       "            background:  linear-gradient(90deg,#d65f5f 8.6%, transparent 8.6%);\n",
       "        }#T_25722_row10_col0{\n",
       "            width:  10em;\n",
       "             height:  80%;\n",
       "        }</style><table id=\"T_25722_\" ><thead>    <tr>        <th class=\"blank level0\" ></th>        <th class=\"col_heading level0 col0\" >total_sales</th>    </tr>    <tr>        <th class=\"index_name level0\" >year_of_release</th>        <th class=\"blank\" ></th>    </tr></thead><tbody>\n",
       "                <tr>\n",
       "                        <th id=\"T_25722_level0_row0\" class=\"row_heading level0 row0\" >2006</th>\n",
       "                        <td id=\"T_25722_row0_col0\" class=\"data row0 col0\" >20.96</td>\n",
       "            </tr>\n",
       "            <tr>\n",
       "                        <th id=\"T_25722_level0_row1\" class=\"row_heading level0 row1\" >2007</th>\n",
       "                        <td id=\"T_25722_row1_col0\" class=\"data row1 col0\" >73.19</td>\n",
       "            </tr>\n",
       "            <tr>\n",
       "                        <th id=\"T_25722_level0_row2\" class=\"row_heading level0 row2\" >2008</th>\n",
       "                        <td id=\"T_25722_row2_col0\" class=\"data row2 col0\" >118.52</td>\n",
       "            </tr>\n",
       "            <tr>\n",
       "                        <th id=\"T_25722_level0_row3\" class=\"row_heading level0 row3\" >2009</th>\n",
       "                        <td id=\"T_25722_row3_col0\" class=\"data row3 col0\" >130.93</td>\n",
       "            </tr>\n",
       "            <tr>\n",
       "                        <th id=\"T_25722_level0_row4\" class=\"row_heading level0 row4\" >2010</th>\n",
       "                        <td id=\"T_25722_row4_col0\" class=\"data row4 col0\" >142.17</td>\n",
       "            </tr>\n",
       "            <tr>\n",
       "                        <th id=\"T_25722_level0_row5\" class=\"row_heading level0 row5\" >2011</th>\n",
       "                        <td id=\"T_25722_row5_col0\" class=\"data row5 col0\" >156.78</td>\n",
       "            </tr>\n",
       "            <tr>\n",
       "                        <th id=\"T_25722_level0_row6\" class=\"row_heading level0 row6\" >2012</th>\n",
       "                        <td id=\"T_25722_row6_col0\" class=\"data row6 col0\" >107.36</td>\n",
       "            </tr>\n",
       "            <tr>\n",
       "                        <th id=\"T_25722_level0_row7\" class=\"row_heading level0 row7\" >2013</th>\n",
       "                        <td id=\"T_25722_row7_col0\" class=\"data row7 col0\" >113.25</td>\n",
       "            </tr>\n",
       "            <tr>\n",
       "                        <th id=\"T_25722_level0_row8\" class=\"row_heading level0 row8\" >2014</th>\n",
       "                        <td id=\"T_25722_row8_col0\" class=\"data row8 col0\" >47.76</td>\n",
       "            </tr>\n",
       "            <tr>\n",
       "                        <th id=\"T_25722_level0_row9\" class=\"row_heading level0 row9\" >2015</th>\n",
       "                        <td id=\"T_25722_row9_col0\" class=\"data row9 col0\" >16.82</td>\n",
       "            </tr>\n",
       "            <tr>\n",
       "                        <th id=\"T_25722_level0_row10\" class=\"row_heading level0 row10\" >2016</th>\n",
       "                        <td id=\"T_25722_row10_col0\" class=\"data row10 col0\" >3.60</td>\n",
       "            </tr>\n",
       "    </tbody></table>"
      ],
      "text/plain": [
       "<pandas.io.formats.style.Styler at 0x7feda3a2a850>"
      ]
     },
     "execution_count": 23,
     "metadata": {},
     "output_type": "execute_result"
    }
   ],
   "source": [
    "# Сумма проданных копий игр в миллонах для платформы PS3\n",
    "df.loc[df['platform'] == 'PS3'].groupby('year_of_release').agg({'total_sales':'sum'}).style.bar().format({'total_sales':'{:.2f}'})"
   ]
  },
  {
   "cell_type": "code",
   "execution_count": 24,
   "metadata": {
    "colab": {
     "base_uri": "https://localhost:8080/",
     "height": 426
    },
    "id": "u0Pz2ycNmYwR",
    "outputId": "5f81f28a-adb8-42f3-f02d-8b31569570cc"
   },
   "outputs": [
    {
     "data": {
      "text/html": [
       "<style  type=\"text/css\" >\n",
       "#T_e63a4_row0_col0{\n",
       "            width:  10em;\n",
       "             height:  80%;\n",
       "            background:  linear-gradient(90deg,#d65f5f 66.2%, transparent 66.2%);\n",
       "        }#T_e63a4_row1_col0{\n",
       "            width:  10em;\n",
       "             height:  80%;\n",
       "            background:  linear-gradient(90deg,#d65f5f 73.8%, transparent 73.8%);\n",
       "        }#T_e63a4_row2_col0{\n",
       "            width:  10em;\n",
       "             height:  80%;\n",
       "            background:  linear-gradient(90deg,#d65f5f 82.8%, transparent 82.8%);\n",
       "        }#T_e63a4_row3_col0{\n",
       "            width:  10em;\n",
       "             height:  80%;\n",
       "            background:  linear-gradient(90deg,#d65f5f 100.0%, transparent 100.0%);\n",
       "        }#T_e63a4_row4_col0{\n",
       "            width:  10em;\n",
       "             height:  80%;\n",
       "            background:  linear-gradient(90deg,#d65f5f 61.8%, transparent 61.8%);\n",
       "        }#T_e63a4_row5_col0{\n",
       "            width:  10em;\n",
       "             height:  80%;\n",
       "            background:  linear-gradient(90deg,#d65f5f 28.8%, transparent 28.8%);\n",
       "        }#T_e63a4_row6_col0{\n",
       "            width:  10em;\n",
       "             height:  80%;\n",
       "            background:  linear-gradient(90deg,#d65f5f 10.4%, transparent 10.4%);\n",
       "        }#T_e63a4_row7_col0{\n",
       "            width:  10em;\n",
       "             height:  80%;\n",
       "            background:  linear-gradient(90deg,#d65f5f 4.1%, transparent 4.1%);\n",
       "        }#T_e63a4_row8_col0{\n",
       "            width:  10em;\n",
       "             height:  80%;\n",
       "            background:  linear-gradient(90deg,#d65f5f 1.7%, transparent 1.7%);\n",
       "        }#T_e63a4_row9_col0{\n",
       "            width:  10em;\n",
       "             height:  80%;\n",
       "            background:  linear-gradient(90deg,#d65f5f 0.5%, transparent 0.5%);\n",
       "        }#T_e63a4_row10_col0{\n",
       "            width:  10em;\n",
       "             height:  80%;\n",
       "        }</style><table id=\"T_e63a4_\" ><thead>    <tr>        <th class=\"blank level0\" ></th>        <th class=\"col_heading level0 col0\" >total_sales</th>    </tr>    <tr>        <th class=\"index_name level0\" >year_of_release</th>        <th class=\"blank\" ></th>    </tr></thead><tbody>\n",
       "                <tr>\n",
       "                        <th id=\"T_e63a4_level0_row0\" class=\"row_heading level0 row0\" >2006</th>\n",
       "                        <td id=\"T_e63a4_row0_col0\" class=\"data row0 col0\" >137.15</td>\n",
       "            </tr>\n",
       "            <tr>\n",
       "                        <th id=\"T_e63a4_level0_row1\" class=\"row_heading level0 row1\" >2007</th>\n",
       "                        <td id=\"T_e63a4_row1_col0\" class=\"data row1 col0\" >152.77</td>\n",
       "            </tr>\n",
       "            <tr>\n",
       "                        <th id=\"T_e63a4_level0_row2\" class=\"row_heading level0 row2\" >2008</th>\n",
       "                        <td id=\"T_e63a4_row2_col0\" class=\"data row2 col0\" >171.32</td>\n",
       "            </tr>\n",
       "            <tr>\n",
       "                        <th id=\"T_e63a4_level0_row3\" class=\"row_heading level0 row3\" >2009</th>\n",
       "                        <td id=\"T_e63a4_row3_col0\" class=\"data row3 col0\" >206.97</td>\n",
       "            </tr>\n",
       "            <tr>\n",
       "                        <th id=\"T_e63a4_level0_row4\" class=\"row_heading level0 row4\" >2010</th>\n",
       "                        <td id=\"T_e63a4_row4_col0\" class=\"data row4 col0\" >127.95</td>\n",
       "            </tr>\n",
       "            <tr>\n",
       "                        <th id=\"T_e63a4_level0_row5\" class=\"row_heading level0 row5\" >2011</th>\n",
       "                        <td id=\"T_e63a4_row5_col0\" class=\"data row5 col0\" >59.65</td>\n",
       "            </tr>\n",
       "            <tr>\n",
       "                        <th id=\"T_e63a4_level0_row6\" class=\"row_heading level0 row6\" >2012</th>\n",
       "                        <td id=\"T_e63a4_row6_col0\" class=\"data row6 col0\" >21.71</td>\n",
       "            </tr>\n",
       "            <tr>\n",
       "                        <th id=\"T_e63a4_level0_row7\" class=\"row_heading level0 row7\" >2013</th>\n",
       "                        <td id=\"T_e63a4_row7_col0\" class=\"data row7 col0\" >8.59</td>\n",
       "            </tr>\n",
       "            <tr>\n",
       "                        <th id=\"T_e63a4_level0_row8\" class=\"row_heading level0 row8\" >2014</th>\n",
       "                        <td id=\"T_e63a4_row8_col0\" class=\"data row8 col0\" >3.75</td>\n",
       "            </tr>\n",
       "            <tr>\n",
       "                        <th id=\"T_e63a4_level0_row9\" class=\"row_heading level0 row9\" >2015</th>\n",
       "                        <td id=\"T_e63a4_row9_col0\" class=\"data row9 col0\" >1.14</td>\n",
       "            </tr>\n",
       "            <tr>\n",
       "                        <th id=\"T_e63a4_level0_row10\" class=\"row_heading level0 row10\" >2016</th>\n",
       "                        <td id=\"T_e63a4_row10_col0\" class=\"data row10 col0\" >0.18</td>\n",
       "            </tr>\n",
       "    </tbody></table>"
      ],
      "text/plain": [
       "<pandas.io.formats.style.Styler at 0x7feda33805e0>"
      ]
     },
     "execution_count": 24,
     "metadata": {},
     "output_type": "execute_result"
    }
   ],
   "source": [
    "# Сумма проданных копий игр в миллонах для платформы Wii\n",
    "df.loc[df['platform'] == 'Wii'].groupby('year_of_release').agg({'total_sales':'sum'}).style.bar().format({'total_sales':'{:.2f}'})"
   ]
  },
  {
   "cell_type": "code",
   "execution_count": 25,
   "metadata": {
    "colab": {
     "base_uri": "https://localhost:8080/",
     "height": 426
    },
    "id": "J3z_bpG3miRq",
    "outputId": "c5c59158-c300-4aaa-ece0-fa9ccf66d21a"
   },
   "outputs": [
    {
     "data": {
      "text/html": [
       "<style  type=\"text/css\" >\n",
       "#T_15b1e_row0_col0{\n",
       "            width:  10em;\n",
       "             height:  80%;\n",
       "        }#T_15b1e_row1_col0{\n",
       "            width:  10em;\n",
       "             height:  80%;\n",
       "            background:  linear-gradient(90deg,#d65f5f 11.7%, transparent 11.7%);\n",
       "        }#T_15b1e_row2_col0{\n",
       "            width:  10em;\n",
       "             height:  80%;\n",
       "            background:  linear-gradient(90deg,#d65f5f 88.6%, transparent 88.6%);\n",
       "        }#T_15b1e_row3_col0{\n",
       "            width:  10em;\n",
       "             height:  80%;\n",
       "            background:  linear-gradient(90deg,#d65f5f 81.5%, transparent 81.5%);\n",
       "        }#T_15b1e_row4_col0{\n",
       "            width:  10em;\n",
       "             height:  80%;\n",
       "            background:  linear-gradient(90deg,#d65f5f 100.0%, transparent 100.0%);\n",
       "        }#T_15b1e_row5_col0{\n",
       "            width:  10em;\n",
       "             height:  80%;\n",
       "            background:  linear-gradient(90deg,#d65f5f 98.9%, transparent 98.9%);\n",
       "        }#T_15b1e_row6_col0{\n",
       "            width:  10em;\n",
       "             height:  80%;\n",
       "            background:  linear-gradient(90deg,#d65f5f 81.4%, transparent 81.4%);\n",
       "        }#T_15b1e_row7_col0{\n",
       "            width:  10em;\n",
       "             height:  80%;\n",
       "            background:  linear-gradient(90deg,#d65f5f 57.9%, transparent 57.9%);\n",
       "        }#T_15b1e_row8_col0{\n",
       "            width:  10em;\n",
       "             height:  80%;\n",
       "            background:  linear-gradient(90deg,#d65f5f 17.8%, transparent 17.8%);\n",
       "        }#T_15b1e_row9_col0{\n",
       "            width:  10em;\n",
       "             height:  80%;\n",
       "            background:  linear-gradient(90deg,#d65f5f 7.5%, transparent 7.5%);\n",
       "        }#T_15b1e_row10_col0{\n",
       "            width:  10em;\n",
       "             height:  80%;\n",
       "            background:  linear-gradient(90deg,#d65f5f 1.0%, transparent 1.0%);\n",
       "        }</style><table id=\"T_15b1e_\" ><thead>    <tr>        <th class=\"blank level0\" ></th>        <th class=\"col_heading level0 col0\" >total_sales</th>    </tr>    <tr>        <th class=\"index_name level0\" >year_of_release</th>        <th class=\"blank\" ></th>    </tr></thead><tbody>\n",
       "                <tr>\n",
       "                        <th id=\"T_15b1e_level0_row0\" class=\"row_heading level0 row0\" >1985</th>\n",
       "                        <td id=\"T_15b1e_row0_col0\" class=\"data row0 col0\" >0.02</td>\n",
       "            </tr>\n",
       "            <tr>\n",
       "                        <th id=\"T_15b1e_level0_row1\" class=\"row_heading level0 row1\" >2004</th>\n",
       "                        <td id=\"T_15b1e_row1_col0\" class=\"data row1 col0\" >17.27</td>\n",
       "            </tr>\n",
       "            <tr>\n",
       "                        <th id=\"T_15b1e_level0_row2\" class=\"row_heading level0 row2\" >2005</th>\n",
       "                        <td id=\"T_15b1e_row2_col0\" class=\"data row2 col0\" >130.14</td>\n",
       "            </tr>\n",
       "            <tr>\n",
       "                        <th id=\"T_15b1e_level0_row3\" class=\"row_heading level0 row3\" >2006</th>\n",
       "                        <td id=\"T_15b1e_row3_col0\" class=\"data row3 col0\" >119.81</td>\n",
       "            </tr>\n",
       "            <tr>\n",
       "                        <th id=\"T_15b1e_level0_row4\" class=\"row_heading level0 row4\" >2007</th>\n",
       "                        <td id=\"T_15b1e_row4_col0\" class=\"data row4 col0\" >146.94</td>\n",
       "            </tr>\n",
       "            <tr>\n",
       "                        <th id=\"T_15b1e_level0_row5\" class=\"row_heading level0 row5\" >2008</th>\n",
       "                        <td id=\"T_15b1e_row5_col0\" class=\"data row5 col0\" >145.31</td>\n",
       "            </tr>\n",
       "            <tr>\n",
       "                        <th id=\"T_15b1e_level0_row6\" class=\"row_heading level0 row6\" >2009</th>\n",
       "                        <td id=\"T_15b1e_row6_col0\" class=\"data row6 col0\" >119.54</td>\n",
       "            </tr>\n",
       "            <tr>\n",
       "                        <th id=\"T_15b1e_level0_row7\" class=\"row_heading level0 row7\" >2010</th>\n",
       "                        <td id=\"T_15b1e_row7_col0\" class=\"data row7 col0\" >85.02</td>\n",
       "            </tr>\n",
       "            <tr>\n",
       "                        <th id=\"T_15b1e_level0_row8\" class=\"row_heading level0 row8\" >2011</th>\n",
       "                        <td id=\"T_15b1e_row8_col0\" class=\"data row8 col0\" >26.18</td>\n",
       "            </tr>\n",
       "            <tr>\n",
       "                        <th id=\"T_15b1e_level0_row9\" class=\"row_heading level0 row9\" >2012</th>\n",
       "                        <td id=\"T_15b1e_row9_col0\" class=\"data row9 col0\" >11.01</td>\n",
       "            </tr>\n",
       "            <tr>\n",
       "                        <th id=\"T_15b1e_level0_row10\" class=\"row_heading level0 row10\" >2013</th>\n",
       "                        <td id=\"T_15b1e_row10_col0\" class=\"data row10 col0\" >1.54</td>\n",
       "            </tr>\n",
       "    </tbody></table>"
      ],
      "text/plain": [
       "<pandas.io.formats.style.Styler at 0x7feda3a2ac70>"
      ]
     },
     "execution_count": 25,
     "metadata": {},
     "output_type": "execute_result"
    }
   ],
   "source": [
    "# Сумма проданных копий игр в миллонах для платформы DS\n",
    "df.loc[df['platform'] == 'DS'].groupby('year_of_release').agg({'total_sales':'sum'}).style.bar().format({'total_sales':'{:.2f}'})"
   ]
  },
  {
   "cell_type": "code",
   "execution_count": 26,
   "metadata": {
    "id": "G7oGhQXr5uYT"
   },
   "outputs": [
    {
     "data": {
      "image/png": "[encoded data removed]",
      "text/plain": [
       "<Figure size 1080x576 with 1 Axes>"
      ]
     },
     "metadata": {
      "needs_background": "light"
     },
     "output_type": "display_data"
    }
   ],
   "source": [
    "#Функцию, которая возвращет нужную сводную таблицу и выводит данные с 2000 года\n",
    "def year_total_sale(name, data):\n",
    "    total = df[(data['platform'] == name) & (data['year_of_release'] > 2000)].pivot_table(index='year_of_release', values='total_sales', aggfunc='sum').sort_values('year_of_release', ascending=False)\n",
    "    return total\n",
    "\n",
    "top_5 = df.pivot_table(index='platform', values='total_sales', aggfunc='sum').sort_values(by='total_sales', ascending=False).head(5)\n",
    "top_5 = top_5.reset_index().rename_axis(None, axis=1)\n",
    "\n",
    "plt.figure(figsize=(15,8))\n",
    "plt.title('Количество продаж популярных игровых платформ')\n",
    "plt.xlabel('Годы игровых релизов')\n",
    "plt.ylabel('Продажи')\n",
    "\n",
    "for i in list(top_5['platform']):\n",
    "    sns.lineplot(data=year_total_sale(i,df)['total_sales'], label=i)\n",
    "    plt.legend()"
   ]
  },
  {
   "cell_type": "markdown",
   "metadata": {
    "id": "W6SDb2JPmxYz"
   },
   "source": [
    "Платформа живёт около 10 лет, так как продажи игр очень сильно падают на 11 год после выхода платформы.\n",
    "\n",
    "Активность продаж игр по платформе набирает пик к 4-6 лет жизни, потом начинает падать."
   ]
  },
  {
   "cell_type": "code",
   "execution_count": 27,
   "metadata": {
    "colab": {
     "base_uri": "https://localhost:8080/"
    },
    "id": "2NtuoMmx5ofc",
    "outputId": "f09fea8d-bd95-46d9-9424-0f0504100caa"
   },
   "outputs": [
    {
     "data": {
      "text/plain": [
       "1.064516129032258"
      ]
     },
     "execution_count": 27,
     "metadata": {},
     "output_type": "execute_result"
    }
   ],
   "source": [
    "#Будем считать самый ранний год выпуска игр для платформы годом выпуска этой платформы. Найдем разницу между годами выпуска платформ и поделем на количество платформ.\n",
    "\n",
    "#df.pivot_table(index='platform', values='year_of_release', aggfunc='min').sort_values(by='year_of_release', ascending=True)\n",
    "new_platform = df.pivot_table(index='platform', values='year_of_release', aggfunc='min').sort_values(by='year_of_release', ascending=True)\n",
    "\n",
    "sum_diff = 0\n",
    "amount_patform = len(df['platform'].unique())\n",
    "for i in range(len(new_platform['year_of_release']) - 1):\n",
    "  sum_diff += new_platform['year_of_release'][i+1] - new_platform['year_of_release'][i]\n",
    "sum_diff/amount_patform"
   ]
  },
  {
   "cell_type": "markdown",
   "metadata": {
    "id": "5svmAOPu8wLm"
   },
   "source": [
    "Новые платформы, появлялись в среднем почти раз в один год."
   ]
  },
  {
   "cell_type": "markdown",
   "metadata": {
    "id": "Ip5Cme_7rcMJ"
   },
   "source": [
    "#### Данные за соответствующий актуальный период"
   ]
  },
  {
   "cell_type": "markdown",
   "metadata": {
    "id": "Ovu93D-s-Kbi"
   },
   "source": [
    " Платформа живёт около 10 лет, а активность продаж игр по платформе набирает пик к 4-6 лет жизни платформы.\n",
    "\n",
    "Первый год жизни платформ можно не учитывать, так как игры выпускают достаточно мало.\n",
    "\n",
    "Последнее актуальные две платформы из популярной серии PS4 и XOne выпущены в 2013 году.\n",
    "\n",
    "**Для прогноза на 2017 год необходимо взять данные начиная с 2014 года, которые будут соотвествовать последним 3 годам актуальных платформ.**\n",
    " \n"
   ]
  },
  {
   "cell_type": "markdown",
   "metadata": {
    "id": "AmiwmSVlDsvp"
   },
   "source": [
    "#### Не учитывайте в работе данные за предыдущие годы"
   ]
  },
  {
   "cell_type": "code",
   "execution_count": 28,
   "metadata": {
    "id": "eDjwzZFNDgaq"
   },
   "outputs": [],
   "source": [
    "good_df = df[df['year_of_release'] >= 2014]"
   ]
  },
  {
   "cell_type": "markdown",
   "metadata": {
    "id": "ksHOUkw2DyjR"
   },
   "source": [
    "#### Потенциально прибыльные платформ."
   ]
  },
  {
   "cell_type": "code",
   "execution_count": 29,
   "metadata": {
    "colab": {
     "base_uri": "https://localhost:8080/",
     "height": 606
    },
    "id": "5aC0ZWXeD3sR",
    "outputId": "ddd77729-d243-48bc-d1fc-83cf48cdaadc"
   },
   "outputs": [
    {
     "data": {
      "image/png": "[encoded data removed]",
      "text/plain": [
       "<Figure size 1080x720 with 1 Axes>"
      ]
     },
     "metadata": {
      "needs_background": "light"
     },
     "output_type": "display_data"
    }
   ],
   "source": [
    "fig, ax = plt.subplots(figsize=(15,10))\n",
    "sns.barplot(data = good_df.groupby(['year_of_release', 'platform'], as_index=False).agg({'total_sales':'sum'}), ax=ax, x = \"year_of_release\", y = \"total_sales\", hue = \"platform\")\n",
    "plt.xlabel('платформа')\n",
    "plt.ylabel('Суммарная выручка (млн.)')\n",
    "plt.title('Актуальный период')\n",
    "plt.show()"
   ]
  },
  {
   "cell_type": "markdown",
   "metadata": {
    "id": "DwX-xr8MLsNc"
   },
   "source": [
    "С 2014 года продажа игр на старые платформы занчительно уменьшается. Актуальные платформы впереди по продажам. Так же идет общий спад продаж игр по всем платформам.\n",
    "\n",
    "Последнее актуальные платформы из популярной серии PS4, 3DS и XOne выпущены в 2013 году, похожи на потенциально прибыльные."
   ]
  },
  {
   "cell_type": "markdown",
   "metadata": {
    "id": "3LTTuggsLtBU"
   },
   "source": [
    "#### График «ящик с усами» по глобальным продажам игр в разбивке по платформам"
   ]
  },
  {
   "cell_type": "code",
   "execution_count": 30,
   "metadata": {
    "colab": {
     "base_uri": "https://localhost:8080/",
     "height": 610
    },
    "id": "4atIh-PXLwqG",
    "outputId": "c7cf04bb-0217-474b-b9ab-7ec24747c531"
   },
   "outputs": [
    {
     "data": {
      "image/png": "[encoded data removed]",
      "text/plain": [
       "<Figure size 1080x720 with 1 Axes>"
      ]
     },
     "metadata": {
      "needs_background": "light"
     },
     "output_type": "display_data"
    }
   ],
   "source": [
    "plt.figure(figsize=(15,10))\n",
    "sns.boxplot(data=good_df, x='platform', y='total_sales')\n",
    "plt.xlabel('платформа')\n",
    "plt.ylabel('Суммарная выручка (млн.)')\n",
    "plt.title('Актуальный период')\n",
    "plt.ylim([0, 2])\n",
    "plt.show()"
   ]
  },
  {
   "cell_type": "code",
   "execution_count": 31,
   "metadata": {},
   "outputs": [
    {
     "data": {
      "image/png": "[encoded data removed]",
      "text/plain": [
       "<Figure size 1080x720 with 1 Axes>"
      ]
     },
     "metadata": {
      "needs_background": "light"
     },
     "output_type": "display_data"
    }
   ],
   "source": [
    "plt.figure(figsize=(15,10))\n",
    "sns.boxplot(data=good_df, x='platform', y='total_sales')\n",
    "plt.xlabel('платформа')\n",
    "plt.ylabel('Суммарная выручка (млн.)')\n",
    "plt.title('Актуальный период')\n",
    "plt.show()"
   ]
  },
  {
   "cell_type": "markdown",
   "metadata": {
    "id": "jsdHHTzmNmdY"
   },
   "source": [
    "Исходя из графиков видно, что медиана протекает у всех по разному.\n",
    "Больше всех продаж у PS4, затем XOne.\n",
    "\n",
    "\n",
    "У платформ PS4, 3DS и XOne есть не мало игр с большим количеством проданных копий, а чем свидетельствуют выбросы на графике."
   ]
  },
  {
   "cell_type": "markdown",
   "metadata": {
    "id": "52DLxBYTPm4u"
   },
   "source": [
    "#### Влияние на продажи внутри одной популярной платформы отзывов пользователей и критиков."
   ]
  },
  {
   "cell_type": "markdown",
   "metadata": {
    "id": "nmY05eBGP1o0"
   },
   "source": [
    "\n",
    "Возьмем платформу PS4, как самую популярную платформу."
   ]
  },
  {
   "cell_type": "code",
   "execution_count": 32,
   "metadata": {
    "colab": {
     "base_uri": "https://localhost:8080/",
     "height": 949
    },
    "id": "aFOavAFiP0uf",
    "outputId": "66b06491-3c3f-4535-a100-2316280962f7"
   },
   "outputs": [
    {
     "data": {
      "image/png": "[encoded data removed]",
      "text/plain": [
       "<Figure size 576x576 with 1 Axes>"
      ]
     },
     "metadata": {
      "needs_background": "light"
     },
     "output_type": "display_data"
    },
    {
     "data": {
      "image/png": "[encoded data removed]",
      "text/plain": [
       "<Figure size 576x576 with 1 Axes>"
      ]
     },
     "metadata": {
      "needs_background": "light"
     },
     "output_type": "display_data"
    }
   ],
   "source": [
    "# Данные с одной платформаой PS4\n",
    "PS4 = good_df[good_df['platform']=='PS4']\n",
    "# Исключениене не заполненых значений в столбцах user_score и critic_score\n",
    "PS4 = PS4[PS4['user_score'].isnull() == False] \n",
    "PS4 = PS4[PS4['critic_score'].isnull() == False]\n",
    "\n",
    "x = PS4['user_score']   \n",
    "y = PS4['total_sales']   \n",
    "fig, ax = plt.subplots()\n",
    "ax.scatter(x, y) \n",
    "fig.set_figwidth(8)     \n",
    "fig.set_figheight(8)    \n",
    "plt.show()\n",
    "\n",
    "x = PS4['critic_score']    \n",
    "y = PS4['total_sales']   \n",
    "fig, ax = plt.subplots()\n",
    "ax.scatter(x, y) \n",
    "fig.set_figwidth(8)     \n",
    "fig.set_figheight(8)    \n",
    "plt.show()"
   ]
  },
  {
   "cell_type": "code",
   "execution_count": 33,
   "metadata": {
    "colab": {
     "base_uri": "https://localhost:8080/",
     "height": 538
    },
    "id": "sG31L6XUvYW_",
    "outputId": "4440d1ef-8abb-4aa1-daba-d1b8e9f4313d"
   },
   "outputs": [
    {
     "data": {
      "image/png": "[encoded data removed]",
      "text/plain": [
       "<Figure size 640x640 with 2 Axes>"
      ]
     },
     "metadata": {
      "needs_background": "light"
     },
     "output_type": "display_data"
    }
   ],
   "source": [
    "PS4 = PS4[['platform', 'user_score', 'critic_score', 'total_sales']]\n",
    "plt.figure(figsize=(8,8), dpi= 80)\n",
    "sns.heatmap(PS4.corr(), xticklabels=PS4.corr().columns, yticklabels=PS4.corr().columns, cmap='RdYlGn', center=0, annot=True)\n",
    "plt.title('Взаимосвязь между общими продажами и оценками')\n",
    "plt.show()"
   ]
  },
  {
   "cell_type": "markdown",
   "metadata": {
    "id": "6eOCzQQxxMgf"
   },
   "source": [
    "Оценки пользователей никак не влияют на продажи игр. \n",
    "\n",
    "Оценки критиков имеют небольшой влияние.\n"
   ]
  },
  {
   "cell_type": "markdown",
   "metadata": {
    "id": "qRa-whLJxf-a"
   },
   "source": [
    "#### Выводы с продажами игр на других платформах"
   ]
  },
  {
   "cell_type": "code",
   "execution_count": 34,
   "metadata": {
    "id": "9eDXhRltxlly"
   },
   "outputs": [
    {
     "data": {
      "image/png": "[encoded data removed]",
      "text/plain": [
       "<Figure size 640x640 with 2 Axes>"
      ]
     },
     "metadata": {
      "needs_background": "light"
     },
     "output_type": "display_data"
    }
   ],
   "source": [
    "# Данные с одной платформаой PS4\n",
    "DS3 = good_df[good_df['platform']=='3DS']\n",
    "# Исключениене не заполненых значений в столбцах user_score и critic_score\n",
    "DS3 = DS3[DS3['user_score'].isnull() == False] \n",
    "DS3 = DS3[DS3['critic_score'].isnull() == False]\n",
    "\n",
    "\n",
    "DS3 = DS3[['platform', 'user_score', 'critic_score', 'total_sales']]\n",
    "plt.figure(figsize=(8,8), dpi= 80)\n",
    "sns.heatmap(DS3.corr(), xticklabels=DS3.corr().columns, yticklabels=DS3.corr().columns, cmap='RdYlGn', center=0, annot=True)\n",
    "plt.title('Взаимосвязь между общими продажами и оценками')\n",
    "plt.show()"
   ]
  },
  {
   "cell_type": "code",
   "execution_count": 35,
   "metadata": {},
   "outputs": [
    {
     "data": {
      "image/png": "[encoded data removed]",
      "text/plain": [
       "<Figure size 640x640 with 2 Axes>"
      ]
     },
     "metadata": {
      "needs_background": "light"
     },
     "output_type": "display_data"
    }
   ],
   "source": [
    "# Данные с одной платформаой PS4\n",
    "XOne = good_df[good_df['platform']=='XOne']\n",
    "# Исключениене не заполненых значений в столбцах user_score и critic_score\n",
    "XOne = XOne[XOne['user_score'].isnull() == False] \n",
    "XOne = XOne[XOne['critic_score'].isnull() == False]\n",
    "\n",
    "\n",
    "XOne = XOne[['platform', 'user_score', 'critic_score', 'total_sales']]\n",
    "plt.figure(figsize=(8,8), dpi= 80)\n",
    "sns.heatmap(XOne.corr(), xticklabels=XOne.corr().columns, yticklabels=XOne.corr().columns, cmap='RdYlGn', center=0, annot=True)\n",
    "plt.title('Взаимосвязь между общими продажами и оценками')\n",
    "plt.show()"
   ]
  },
  {
   "cell_type": "markdown",
   "metadata": {
    "id": "hnSn92ElycLB"
   },
   "source": [
    "Ситуация аналогичная, оценки пользователей особой роли не играют, но вот оценки критиков всё же имеют нембольшое значение.\n",
    "\n",
    "Покупатели прислушиваются больше к критикам чем к оценкам других пользователей"
   ]
  },
  {
   "cell_type": "markdown",
   "metadata": {
    "id": "l4HWFf9SzJ9y"
   },
   "source": [
    "#### Общее распределение игр по жанрам"
   ]
  },
  {
   "cell_type": "code",
   "execution_count": 36,
   "metadata": {
    "colab": {
     "base_uri": "https://localhost:8080/",
     "height": 457
    },
    "id": "6Oyc2to40l8W",
    "outputId": "ee7abf6a-2c51-4200-dc88-bfd01bb61201"
   },
   "outputs": [
    {
     "data": {
      "image/png": "[encoded data removed]",
      "text/plain": [
       "<Figure size 1080x720 with 1 Axes>"
      ]
     },
     "metadata": {
      "needs_background": "light"
     },
     "output_type": "display_data"
    }
   ],
   "source": [
    "#good_df.groupby('genre').agg({'total_sales':'sum'}).sort_values('total_sales', ascending=False).style.bar().format({'total_sales':'{:.2f}'})\n",
    "\n",
    "genre = df.pivot_table(index='genre', values='total_sales', aggfunc='sum').sort_values(by='total_sales', ascending=False).head(10)\n",
    "plt.figure(figsize=(15,10))\n",
    "sns.barplot(x=genre.index,y=genre['total_sales'])\n",
    "plt.title(\"Продажи по платформам за весь период\")\n",
    "plt.xlabel(\"Название платформы\")\n",
    "plt.ylabel(\"Количество продаж\")\n",
    "plt.show()"
   ]
  },
  {
   "cell_type": "code",
   "execution_count": 37,
   "metadata": {},
   "outputs": [
    {
     "data": {
      "image/png": "[encoded data removed]",
      "text/plain": [
       "<Figure size 1080x720 with 1 Axes>"
      ]
     },
     "metadata": {
      "needs_background": "light"
     },
     "output_type": "display_data"
    }
   ],
   "source": [
    "plt.figure(figsize=(15,10))\n",
    "sns.boxplot(data=good_df, x='genre', y='total_sales')\n",
    "plt.xlabel('платформа')\n",
    "plt.ylabel('Суммарная выручка (млн.)')\n",
    "plt.title('Актуальный период')\n",
    "plt.ylim([0, 2])\n",
    "plt.show()"
   ]
  },
  {
   "cell_type": "markdown",
   "metadata": {
    "id": "owLWA1DGz09l"
   },
   "source": [
    "Action самый продаваемый, но при этом жанр Shooter лидирует по средним продажам в сравнении с остальными жанрами, что нельзя сказать про Action. Стратегии и пазлы держутся на последнем месте."
   ]
  },
  {
   "cell_type": "markdown",
   "metadata": {
    "id": "lwywBXkf1WRb"
   },
   "source": [
    "#### Вывод"
   ]
  },
  {
   "cell_type": "markdown",
   "metadata": {
    "id": "0fuC05JZ1Z4L"
   },
   "source": [
    "Количество игр начало расти с большой скоростью в середине 90х годов.\n",
    "Года с самым большим выпуском игр 2008 и 2009, было выпущенно 1427 и 1426 соотвественно.\n",
    "После 2012 года наблюдается спад выпуска игр.\n",
    "\n",
    "Платформа живёт около 10 лет, а активность продаж игр по платформе набирает пик к 4-6 лет жизни платформы.\n",
    "Последнее актуальные две платформы из популярной серии PS4 и XOne выпущены в 2013 году.\n",
    "\n",
    "С 2014 года продажа игр на старые платформы занчительно уменьшается. Актуальные платформы впереди по продажам. Так же идет общий спад продаж игр по всем платформам. Больше всех продаж у PS4, затем XOne.\n",
    "\n",
    "Оценки пользователей особой роли не играют, но вот оценки критиков всё же имеют нембольшое значение.\n",
    "Покупатели прислушиваются больше к критикам чем к оценкам других пользователей\n",
    "\n",
    "Action самый продаваемый, но при этом жанр Shooter лидирует по средним продажам в сравнении с остальными жанрами. Стратегии и пазлы держутся на последнем месте.\n"
   ]
  },
  {
   "cell_type": "markdown",
   "metadata": {
    "id": "G-76Thlx2JGC"
   },
   "source": [
    "### Шаг 4. Портрет пользователя каждого региона"
   ]
  },
  {
   "cell_type": "code",
   "execution_count": 38,
   "metadata": {
    "id": "sMsbAiOq5hM0"
   },
   "outputs": [],
   "source": [
    "# Функция поределение Топ-5 для заданных параметров по актуальному периоду\n",
    "def current_region(group, region):\n",
    "    good_df['ratio'] = good_df[region] / good_df[region].sum()\n",
    "    return good_df.groupby(group).agg({'ratio':'sum'}).sort_values('ratio', ascending=False).head(5)\n",
    "\n",
    "\n",
    "data1 = current_region('platform', 'na_sales')\n",
    "data2 = current_region('platform', 'eu_sales')\n",
    "data3 = current_region('platform', 'jp_sales')"
   ]
  },
  {
   "cell_type": "markdown",
   "metadata": {
    "id": "Lju5sFmA2ie5"
   },
   "source": [
    "#### Самые популярные платформы (топ-5)."
   ]
  },
  {
   "cell_type": "code",
   "execution_count": 39,
   "metadata": {},
   "outputs": [
    {
     "data": {
      "image/png": "[encoded data removed]",
      "text/plain": [
       "<Figure size 432x288 with 1 Axes>"
      ]
     },
     "metadata": {},
     "output_type": "display_data"
    },
    {
     "data": {
      "image/png": "[encoded data removed]",
      "text/plain": [
       "<Figure size 432x288 with 1 Axes>"
      ]
     },
     "metadata": {},
     "output_type": "display_data"
    },
    {
     "data": {
      "image/png": "[encoded data removed]",
      "text/plain": [
       "<Figure size 432x288 with 1 Axes>"
      ]
     },
     "metadata": {},
     "output_type": "display_data"
    }
   ],
   "source": [
    "data1['ratio'].plot(kind=\"pie\", autopct='%1.1f%%', legend=True, title='Самые популярные платформы в Северной Америке', ylabel='', labeldistance=None).legend( title='Платформы', loc='upper left', bbox_to_anchor=(1, 0, 0.5, 1))\n",
    "plt.show()\n",
    "data2['ratio'].plot(kind=\"pie\", autopct='%1.1f%%', legend=True, title='Самые популярные платформы в Европе', ylabel='', labeldistance=None).legend( title='Платформы', loc='upper left', bbox_to_anchor=(1, 0, 0.5, 1))\n",
    "plt.show()              \n",
    "data3['ratio'].plot(kind=\"pie\", autopct='%1.1f%%', legend=True, title='Самые популярные платформы в Японии', ylabel='', labeldistance=None).legend( title='Платформы', loc='upper left', bbox_to_anchor=(1, 0, 0.5, 1))\n",
    "plt.show()"
   ]
  },
  {
   "cell_type": "markdown",
   "metadata": {
    "id": "9v5QI69781d3"
   },
   "source": [
    "Самые популярные платформы в Сервеной Америке PS4 и XOne\n",
    "\n",
    "Самые популярные платформы в Европе PS4 и XOne\n",
    "\n",
    "Самые популярная платформа с большым отрывом в Японии это 3DS.\n",
    "Все самые популярные платформы в Японии от японских производителей."
   ]
  },
  {
   "cell_type": "markdown",
   "metadata": {
    "id": "ZBjy8Dm1-MwF"
   },
   "source": [
    "Самые популярная платформа с большым отрывом в Японии это 3DS. \n",
    "\n",
    "Все самые популярные платформы в Японии от японских производителей."
   ]
  },
  {
   "cell_type": "markdown",
   "metadata": {
    "id": "CYKU5RROC4ZF"
   },
   "source": [
    "#### Самые популярные жанры (топ-5)"
   ]
  },
  {
   "cell_type": "code",
   "execution_count": 40,
   "metadata": {},
   "outputs": [
    {
     "data": {
      "image/png": "[encoded data removed]",
      "text/plain": [
       "<Figure size 432x288 with 1 Axes>"
      ]
     },
     "metadata": {},
     "output_type": "display_data"
    },
    {
     "data": {
      "image/png": "[encoded data removed]",
      "text/plain": [
       "<Figure size 432x288 with 1 Axes>"
      ]
     },
     "metadata": {},
     "output_type": "display_data"
    },
    {
     "data": {
      "image/png": "[encoded data removed]",
      "text/plain": [
       "<Figure size 432x288 with 1 Axes>"
      ]
     },
     "metadata": {},
     "output_type": "display_data"
    }
   ],
   "source": [
    "data1 = current_region('genre', 'na_sales')\n",
    "data2 = current_region('genre', 'eu_sales')\n",
    "data3 = current_region('genre', 'jp_sales')\n",
    "\n",
    "data1['ratio'].plot(kind=\"pie\", autopct='%1.1f%%', legend=True, title='Самые популярные жанры в Северной Америке', ylabel='', labeldistance=None).legend( title='Платформы', loc='upper left', bbox_to_anchor=(1, 0, 0.5, 1))\n",
    "plt.show()\n",
    "data2['ratio'].plot(kind=\"pie\", autopct='%1.1f%%', legend=True, title='Самые популярные жанры в Европе', ylabel='', labeldistance=None).legend( title='Платформы', loc='upper left', bbox_to_anchor=(1, 0, 0.5, 1))\n",
    "plt.show()              \n",
    "data3['ratio'].plot(kind=\"pie\", autopct='%1.1f%%', legend=True, title='Самые популярные жанры в Японии', ylabel='', labeldistance=None).legend( title='Платформы', loc='upper left', bbox_to_anchor=(1, 0, 0.5, 1))\n",
    "plt.show()"
   ]
  },
  {
   "cell_type": "markdown",
   "metadata": {
    "id": "MnDPUPQnDVGi"
   },
   "source": [
    "Популярные жанры в Северной Америке Shooter и Action"
   ]
  },
  {
   "cell_type": "markdown",
   "metadata": {
    "id": "DXQfFOjSDlQz"
   },
   "source": [
    "Популярные жанры в Европе Action и Shooter"
   ]
  },
  {
   "cell_type": "markdown",
   "metadata": {
    "id": "zGcO6YvfD2U5"
   },
   "source": [
    "В Японии самые популярные жанры Role-Playing и Action.\n",
    "\n",
    "В Японии очень много игры в стлие JRPG (Japanese Role-Playing Game), в используемых данных это жанр Role-Playing."
   ]
  },
  {
   "cell_type": "markdown",
   "metadata": {
    "id": "d7qszk9CFXiB"
   },
   "source": [
    "#### Влияет ли рейтинг ESRB на продажи в отдельном регионе?"
   ]
  },
  {
   "cell_type": "code",
   "execution_count": 41,
   "metadata": {},
   "outputs": [
    {
     "data": {
      "image/png": "[encoded data removed]",
      "text/plain": [
       "<Figure size 432x288 with 1 Axes>"
      ]
     },
     "metadata": {},
     "output_type": "display_data"
    },
    {
     "data": {
      "image/png": "[encoded data removed]",
      "text/plain": [
       "<Figure size 432x288 with 1 Axes>"
      ]
     },
     "metadata": {},
     "output_type": "display_data"
    },
    {
     "data": {
      "image/png": "[encoded data removed]",
      "text/plain": [
       "<Figure size 432x288 with 1 Axes>"
      ]
     },
     "metadata": {},
     "output_type": "display_data"
    }
   ],
   "source": [
    "data1 = current_region('rating', 'na_sales')\n",
    "data2 = current_region('rating', 'eu_sales')\n",
    "data3 = current_region('rating', 'jp_sales')\n",
    "\n",
    "data1['ratio'].plot(kind=\"pie\", autopct='%1.1f%%', legend=True, title='Самые популярные жанры в Северной Америке', ylabel='', labeldistance=None).legend( title='Платформы', loc='upper left', bbox_to_anchor=(1, 0, 0.5, 1))\n",
    "plt.show()\n",
    "data2['ratio'].plot(kind=\"pie\", autopct='%1.1f%%', legend=True, title='Самые популярные жанры в Европе', ylabel='', labeldistance=None).legend( title='Платформы', loc='upper left', bbox_to_anchor=(1, 0, 0.5, 1))\n",
    "plt.show()              \n",
    "data3['ratio'].plot(kind=\"pie\", autopct='%1.1f%%', legend=True, title='Самые популярные жанры в Японии', ylabel='', labeldistance=None).legend( title='Платформы', loc='upper left', bbox_to_anchor=(1, 0, 0.5, 1))\n",
    "plt.show()"
   ]
  },
  {
   "cell_type": "markdown",
   "metadata": {
    "id": "AGDUQCFNG9i8"
   },
   "source": [
    "В Северной Америке и Европе предпочитают делать игры для более зврослого населения от 17 лет, а так же игр Без рейтинга и для всех возрастов.\n",
    "\n",
    "В Японии выделяются игры Без рейтинга."
   ]
  },
  {
   "cell_type": "markdown",
   "metadata": {
    "id": "UNKfQEkgH3Q6"
   },
   "source": [
    "#### Вывод"
   ]
  },
  {
   "cell_type": "markdown",
   "metadata": {
    "id": "dejY1QKoH6Mj"
   },
   "source": [
    "После проведения исследовательского анализа можем составить портрет каждого региона:\n",
    "\n",
    "Северная Америка:\n",
    "\n",
    "Самые популярные игровые платформы в Северной Америке: PS4, XOne, X360, 3DS, PS3\n",
    "Самые популярные жанры в Северной Америке: Shooter, Action, Sports, Role-Playing, Misc\n",
    "Самый предпочитаемый рейтинг в Северной Америке: игры от 17 лет, Без рейтинга, игры для всех, игры от 13 лет, от 10 лет.\n",
    "\n",
    "Европа:\n",
    "\n",
    "Самые популярные игровые платформы Европе: PS4, XOne, PS3, PC, 3DS\n",
    "Самые популярные жанры в Европе: Action, Shooter, Sports, Role-Playing, Racing\n",
    "Самый предпочитаемый рейтинг в Европе: игры от 17 лет, Без рейтинга, игры для всех, игры от 13 лет, от 10 лет.\n",
    "\n",
    "Япония:\n",
    "\n",
    "Самые популярные игровые платформы в Японии - японские платформы: 3DS, PS4, PSV, PS3, WiiU\n",
    "Самые популярные жанры в Японии: Role-Playing, Action, Fighting, Misc, Shooter\n",
    "Самый предпочитаемый рейтинг в Японии: Без рейтинга, игры от 13 лет, игры для всех, игры от 17 лет, игры от 10 лет."
   ]
  },
  {
   "cell_type": "markdown",
   "metadata": {
    "id": "VLt1wLXoJO8a"
   },
   "source": [
    "### Проверка гипотез"
   ]
  },
  {
   "cell_type": "markdown",
   "metadata": {
    "id": "PeriNOXXJU8Q"
   },
   "source": [
    "#### Средние пользовательские рейтинги платформ Xbox One и PC одинаковые"
   ]
  },
  {
   "cell_type": "markdown",
   "metadata": {
    "id": "AtQmYKjWO2Ml"
   },
   "source": [
    "Нулевая гипотеза H0: Средние пользовательские рейтинги платформ Xbox One и PC одинаковые;\n",
    "\n",
    "Альтернативная гипотеза H1: Средние пользовательские рейтинги платформ Xbox One и PC различаются\n",
    "\n",
    "Для гипотезы о равенстве средних двух лучше всех подходит метод sttest_ind"
   ]
  },
  {
   "cell_type": "code",
   "execution_count": 42,
   "metadata": {
    "colab": {
     "base_uri": "https://localhost:8080/"
    },
    "id": "pZIsyRMDO_1l",
    "outputId": "189ea9d9-7d9d-4aff-bc61-e80cba75e82d"
   },
   "outputs": [
    {
     "name": "stdout",
     "output_type": "stream",
     "text": [
      "0.11601398086668832\n",
      "Не получилось отвергнуть нулевую гипотезу\n",
      "6.594545454545456\n",
      "6.298360655737705\n"
     ]
    }
   ],
   "source": [
    "XOne = good_df[good_df['platform'] == 'XOne']\n",
    "XOne = XOne[XOne['user_score'].isnull() == False] \n",
    "PC = good_df[good_df['platform'] == 'PC']\n",
    "PC = PC[PC['user_score'].isnull() == False]\n",
    "\n",
    "alpha = 0.05 \n",
    "\n",
    "results = st.ttest_ind(XOne['user_score'], PC['user_score'], equal_var=False)\n",
    "\n",
    "print(results.pvalue)\n",
    "\n",
    "if results.pvalue < alpha:\n",
    "    print('Отвергаем нулевую гипотезу')\n",
    "else:\n",
    "    print('Не получилось отвергнуть нулевую гипотезу')\n",
    "    \n",
    "    \n",
    "    \n",
    "print(XOne['user_score'].mean())\n",
    "print(PC['user_score'].mean())"
   ]
  },
  {
   "cell_type": "markdown",
   "metadata": {
    "id": "C8c1JC2jW3Wo"
   },
   "source": [
    "У нас нет оснований утверждать, что средние пользовательские рейтинги платформ Xbox One и PC значимо различаются."
   ]
  },
  {
   "cell_type": "markdown",
   "metadata": {
    "id": "EpaILJQdXGSO"
   },
   "source": [
    "#### Средние пользовательские рейтинги жанров Action и Sports разные."
   ]
  },
  {
   "cell_type": "markdown",
   "metadata": {
    "id": "3gETKGFAXMhO"
   },
   "source": [
    "Нулевая гипотеза H0: Средние пользовательские рейтинги жанров Action и Sports одинаковые\n",
    "\n",
    "Альтернативная гипотеза H1: Средние пользовательские рейтинги жанров Action и Sports различаются\n",
    "\n",
    "Для гипотезы о равенстве средних двух лучше всех подходит метод sttest_ind"
   ]
  },
  {
   "cell_type": "code",
   "execution_count": 43,
   "metadata": {
    "colab": {
     "base_uri": "https://localhost:8080/"
    },
    "id": "MR2PNxoJW2s3",
    "outputId": "d874835a-0965-4c41-b762-0d416d67c282"
   },
   "outputs": [
    {
     "name": "stdout",
     "output_type": "stream",
     "text": [
      "1.1825550382644557e-14\n",
      "Отвергаем нулевую гипотезу\n",
      "6.760606060606061\n",
      "5.2251968503937\n"
     ]
    }
   ],
   "source": [
    "Action = good_df[good_df['genre'] == 'Action']\n",
    "Action = Action[Action['user_score'].isnull() == False] \n",
    "Sports = good_df[good_df['genre'] == 'Sports']\n",
    "Sports = Sports[Sports['user_score'].isnull() == False]\n",
    "\n",
    "alpha = 0.05 \n",
    "\n",
    "results = st.ttest_ind(Action['user_score'], Sports['user_score'], equal_var=False)\n",
    "\n",
    "print(results.pvalue)\n",
    "\n",
    "if results.pvalue < alpha:\n",
    "    print('Отвергаем нулевую гипотезу')\n",
    "else:\n",
    "    print('Не получилось отвергнуть нулевую гипотезу')\n",
    "    \n",
    "    \n",
    "print(Action['user_score'].mean())\n",
    "print(Sports['user_score'].mean())"
   ]
  },
  {
   "cell_type": "markdown",
   "metadata": {
    "id": "KGkcEFMpX6S0"
   },
   "source": [
    "У нас есть оснований утверждать, что средние пользовательские рейтинги жанров Action и Sports значимо различаются."
   ]
  },
  {
   "cell_type": "markdown",
   "metadata": {
    "id": "lY3vnwOyZzSB"
   },
   "source": [
    "#### Вывод"
   ]
  },
  {
   "cell_type": "markdown",
   "metadata": {
    "id": "ZVO9TNSYZ1ro"
   },
   "source": [
    "После проведения статистического анализа:\n",
    "\n",
    "Средние пользовательские рейтинги платформ Xbox one и PC одинаковые\n",
    "\n",
    "Средние пользовательские рейтинги жанров Action и Sports разные"
   ]
  },
  {
   "cell_type": "markdown",
   "metadata": {
    "id": "0an94om5YFpc"
   },
   "source": [
    "### Общий вывод"
   ]
  },
  {
   "cell_type": "markdown",
   "metadata": {
    "id": "pnC_UWI-YKyz"
   },
   "source": [
    "Расмотрели из открытых источников доступны исторические данные о продажах игр, оценки пользователей и экспертов, жанры и платформы.\n",
    "\n",
    "Перед анализом данных, мы подготовили наши данные, привели к правильным данным столбцы, привели к нижнему регистру таблицы и сами названия колонок и привели к правильным типам данных необходимые столбцы.\n",
    "\n",
    "Проведя анализ, мы выявили, что количество игр на игровые приставки и компьютеры начало расти с большой скоростью с 90х до 2008 года.\n",
    "\n",
    "Объём рынка по продажам игр упал в 2012 году и стабильно держится.\n",
    "Больше всего люди покупают игры на консоли семейства Xbox или Playstation.\n",
    "В среднем платформа живёт около 10 лет.\n",
    "Пик продаж происходит на 4-5 год поколения.\n",
    "\n",
    "Оценки пользователей особой роли не играют, но вот оценки критиков всё же имеют нембольшое значение. Покупатели прислушиваются больше к критикам чем к оценкам других пользователей.\n",
    "\n",
    "Большинство людей предпочитает экшн или шутер.\n",
    "\n",
    "Так же мы составили предпочтения по регионам:\n",
    "\n",
    "Северная Америка:\n",
    "\n",
    "Самые популярные игровые платформы в Северной Америке: PS4, XOne, X360, 3DS, PS3\n",
    "Самые популярные жанры в Северной Америке: Shooter, Action, Sports, Role-Playing, Misc\n",
    "Самый предпочитаемый рейтинг в Северной Америке: игры от 17 лет, Без рейтинга, игры для всех, игры от 13 лет, от 10 лет.\n",
    "\n",
    "Европа:\n",
    "\n",
    "Самые популярные игровые платформы Европе: PS4, XOne, PS3, PC, 3DS\n",
    "Самые популярные жанры в Европе: Action, Shooter, Sports, Role-Playing, Racing\n",
    "Самый предпочитаемый рейтинг в Европе: игры от 17 лет, Без рейтинга, игры для всех, игры от 13 лет, от 10 лет.\n",
    "\n",
    "Япония:\n",
    "\n",
    "Самые популярные игровые платформы в Японии - японские платформы: 3DS, PS4, PSV, PS3, WiiU\n",
    "Самые популярные жанры в Японии: Role-Playing, Action, Fighting, Misc, Shooter\n",
    "Самый предпочитаемый рейтинг в Японии: Без рейтинга, игры от 13 лет, игры для всех, игры от 17 лет, игры от 10 лет.\n",
    "\n",
    "Рекомендации\n",
    "\n",
    "Лучше всего продавать игры для приставки PS4.\n",
    "Среди жанров лучше выбрать на Action и Shooter.\n",
    "Игры с рейтингом M (17 и старше).\n",
    "Разместить в информации об игре рейтинг критиков. \n",
    "\n"
   ]
  }
 ],
 "metadata": {
  "ExecuteTimeLog": [
   {
    "duration": 1245,
    "start_time": "2022-09-24T22:31:42.738Z"
   },
   {
    "duration": 179,
    "start_time": "2022-09-24T22:31:43.985Z"
   },
   {
    "duration": 16,
    "start_time": "2022-09-24T22:31:44.166Z"
   },
   {
    "duration": 30,
    "start_time": "2022-09-24T22:31:44.184Z"
   },
   {
    "duration": 22,
    "start_time": "2022-09-24T22:31:44.216Z"
   },
   {
    "duration": 3,
    "start_time": "2022-09-24T22:31:44.240Z"
   },
   {
    "duration": 9,
    "start_time": "2022-09-24T22:31:44.245Z"
   },
   {
    "duration": 49,
    "start_time": "2022-09-24T22:31:44.255Z"
   },
   {
    "duration": 14,
    "start_time": "2022-09-24T22:31:44.307Z"
   },
   {
    "duration": 5,
    "start_time": "2022-09-24T22:31:44.323Z"
   },
   {
    "duration": 6,
    "start_time": "2022-09-24T22:31:44.329Z"
   },
   {
    "duration": 6,
    "start_time": "2022-09-24T22:31:44.337Z"
   },
   {
    "duration": 4,
    "start_time": "2022-09-24T22:31:44.344Z"
   },
   {
    "duration": 5,
    "start_time": "2022-09-24T22:31:44.350Z"
   },
   {
    "duration": 15,
    "start_time": "2022-09-24T22:31:44.357Z"
   },
   {
    "duration": 33,
    "start_time": "2022-09-24T22:31:44.374Z"
   },
   {
    "duration": 29,
    "start_time": "2022-09-24T22:31:44.409Z"
   },
   {
    "duration": 15,
    "start_time": "2022-09-24T22:31:44.440Z"
   },
   {
    "duration": 27,
    "start_time": "2022-09-24T22:31:44.456Z"
   },
   {
    "duration": 20,
    "start_time": "2022-09-24T22:31:44.485Z"
   },
   {
    "duration": 16,
    "start_time": "2022-09-24T22:31:44.507Z"
   },
   {
    "duration": 26,
    "start_time": "2022-09-24T22:31:44.524Z"
   },
   {
    "duration": 16,
    "start_time": "2022-09-24T22:31:44.552Z"
   },
   {
    "duration": 11,
    "start_time": "2022-09-24T22:31:44.570Z"
   },
   {
    "duration": 348,
    "start_time": "2022-09-24T22:31:44.583Z"
   },
   {
    "duration": 281,
    "start_time": "2022-09-24T22:31:44.932Z"
   },
   {
    "duration": 271,
    "start_time": "2022-09-24T22:31:45.216Z"
   },
   {
    "duration": 200,
    "start_time": "2022-09-24T22:31:45.491Z"
   },
   {
    "duration": 15,
    "start_time": "2022-09-24T22:31:45.693Z"
   },
   {
    "duration": 241,
    "start_time": "2022-09-24T22:31:45.716Z"
   },
   {
    "duration": 13,
    "start_time": "2022-09-24T22:31:45.958Z"
   },
   {
    "duration": 7,
    "start_time": "2022-09-24T22:31:45.973Z"
   },
   {
    "duration": 35,
    "start_time": "2022-09-24T22:31:45.981Z"
   },
   {
    "duration": 12,
    "start_time": "2022-09-24T22:31:46.017Z"
   },
   {
    "duration": 14,
    "start_time": "2022-09-24T22:31:46.031Z"
   },
   {
    "duration": 12,
    "start_time": "2022-09-24T22:31:46.046Z"
   },
   {
    "duration": 13,
    "start_time": "2022-09-24T22:31:46.059Z"
   },
   {
    "duration": 17,
    "start_time": "2022-09-24T22:31:46.073Z"
   },
   {
    "duration": 29,
    "start_time": "2022-09-24T22:31:46.091Z"
   },
   {
    "duration": 11,
    "start_time": "2022-09-24T22:31:46.121Z"
   },
   {
    "duration": 10,
    "start_time": "2022-09-24T22:31:46.133Z"
   },
   {
    "duration": 8,
    "start_time": "2022-09-24T22:31:46.145Z"
   },
   {
    "duration": 9,
    "start_time": "2022-09-24T22:31:46.155Z"
   },
   {
    "duration": 1340,
    "start_time": "2022-09-25T18:37:17.806Z"
   },
   {
    "duration": 112,
    "start_time": "2022-09-25T18:37:33.377Z"
   },
   {
    "duration": 16,
    "start_time": "2022-09-25T18:37:36.761Z"
   },
   {
    "duration": 18,
    "start_time": "2022-09-25T18:37:37.458Z"
   },
   {
    "duration": 15,
    "start_time": "2022-09-25T18:37:39.828Z"
   },
   {
    "duration": 3,
    "start_time": "2022-09-25T18:38:30.289Z"
   },
   {
    "duration": 2,
    "start_time": "2022-09-25T18:38:32.264Z"
   },
   {
    "duration": 50,
    "start_time": "2022-09-25T18:38:36.944Z"
   },
   {
    "duration": 11,
    "start_time": "2022-09-25T18:38:44.336Z"
   },
   {
    "duration": 5,
    "start_time": "2022-09-25T18:44:58.597Z"
   },
   {
    "duration": 5,
    "start_time": "2022-09-25T18:45:44.970Z"
   },
   {
    "duration": 4,
    "start_time": "2022-09-25T18:45:46.681Z"
   },
   {
    "duration": 4,
    "start_time": "2022-09-25T18:45:47.625Z"
   },
   {
    "duration": 2,
    "start_time": "2022-09-25T18:45:48.106Z"
   },
   {
    "duration": 5,
    "start_time": "2022-09-25T18:45:50.401Z"
   },
   {
    "duration": 4,
    "start_time": "2022-09-25T18:47:27.650Z"
   },
   {
    "duration": 4,
    "start_time": "2022-09-25T18:51:17.302Z"
   },
   {
    "duration": 22,
    "start_time": "2022-09-25T18:51:37.229Z"
   },
   {
    "duration": 4,
    "start_time": "2022-09-25T18:51:44.501Z"
   },
   {
    "duration": 17,
    "start_time": "2022-09-25T18:53:06.261Z"
   },
   {
    "duration": 3,
    "start_time": "2022-09-25T18:53:06.724Z"
   },
   {
    "duration": 184,
    "start_time": "2022-09-25T18:54:31.884Z"
   },
   {
    "duration": 180,
    "start_time": "2022-09-25T18:54:52.979Z"
   },
   {
    "duration": 209,
    "start_time": "2022-09-25T18:55:22.129Z"
   },
   {
    "duration": 200,
    "start_time": "2022-09-25T18:58:03.600Z"
   },
   {
    "duration": 194,
    "start_time": "2022-09-25T18:58:10.231Z"
   },
   {
    "duration": 304,
    "start_time": "2022-09-25T18:58:46.703Z"
   },
   {
    "duration": 282,
    "start_time": "2022-09-25T18:59:28.988Z"
   },
   {
    "duration": 206,
    "start_time": "2022-09-25T19:00:27.366Z"
   },
   {
    "duration": 15,
    "start_time": "2022-09-25T19:06:52.041Z"
   },
   {
    "duration": 13,
    "start_time": "2022-09-25T19:08:23.854Z"
   },
   {
    "duration": 305,
    "start_time": "2022-09-25T19:23:05.082Z"
   },
   {
    "duration": 184,
    "start_time": "2022-09-25T19:23:25.368Z"
   },
   {
    "duration": 200,
    "start_time": "2022-09-25T19:23:44.129Z"
   },
   {
    "duration": 191,
    "start_time": "2022-09-25T19:23:56.401Z"
   },
   {
    "duration": 197,
    "start_time": "2022-09-25T19:24:03.839Z"
   },
   {
    "duration": 13,
    "start_time": "2022-09-25T19:28:25.306Z"
   },
   {
    "duration": 15,
    "start_time": "2022-09-25T19:30:13.890Z"
   },
   {
    "duration": 14,
    "start_time": "2022-09-25T19:30:14.777Z"
   },
   {
    "duration": 14,
    "start_time": "2022-09-25T19:30:15.266Z"
   },
   {
    "duration": 13,
    "start_time": "2022-09-25T19:30:15.729Z"
   },
   {
    "duration": 20,
    "start_time": "2022-09-25T19:30:16.249Z"
   },
   {
    "duration": 150,
    "start_time": "2022-09-25T19:30:16.777Z"
   },
   {
    "duration": 292,
    "start_time": "2022-09-25T19:30:43.281Z"
   },
   {
    "duration": 426,
    "start_time": "2022-09-25T19:31:26.185Z"
   },
   {
    "duration": 323,
    "start_time": "2022-09-25T19:32:07.224Z"
   },
   {
    "duration": 291,
    "start_time": "2022-09-25T19:32:47.704Z"
   },
   {
    "duration": 295,
    "start_time": "2022-09-25T19:33:44.583Z"
   },
   {
    "duration": 291,
    "start_time": "2022-09-25T19:34:17.126Z"
   },
   {
    "duration": 303,
    "start_time": "2022-09-25T19:35:32.365Z"
   },
   {
    "duration": 811,
    "start_time": "2022-09-25T19:36:52.925Z"
   },
   {
    "duration": 9,
    "start_time": "2022-09-25T19:37:03.884Z"
   },
   {
    "duration": 4,
    "start_time": "2022-09-25T19:38:29.618Z"
   },
   {
    "duration": 4,
    "start_time": "2022-09-25T19:38:32.833Z"
   },
   {
    "duration": 6,
    "start_time": "2022-09-25T19:38:49.833Z"
   },
   {
    "duration": 18,
    "start_time": "2022-09-25T19:39:45.633Z"
   },
   {
    "duration": 13,
    "start_time": "2022-09-25T19:39:53.297Z"
   },
   {
    "duration": 308,
    "start_time": "2022-09-25T19:42:48.174Z"
   },
   {
    "duration": 5,
    "start_time": "2022-09-25T19:43:21.701Z"
   },
   {
    "duration": 393,
    "start_time": "2022-09-25T19:43:53.469Z"
   },
   {
    "duration": 194,
    "start_time": "2022-09-25T19:45:02.468Z"
   },
   {
    "duration": 200,
    "start_time": "2022-09-25T19:45:10.260Z"
   },
   {
    "duration": 256,
    "start_time": "2022-09-25T19:47:30.970Z"
   },
   {
    "duration": 323,
    "start_time": "2022-09-25T19:47:56.097Z"
   },
   {
    "duration": 252,
    "start_time": "2022-09-25T19:48:26.939Z"
   },
   {
    "duration": 259,
    "start_time": "2022-09-25T20:03:34.706Z"
   },
   {
    "duration": 261,
    "start_time": "2022-09-25T20:03:35.840Z"
   },
   {
    "duration": 49,
    "start_time": "2022-09-25T20:07:43.240Z"
   },
   {
    "duration": 50,
    "start_time": "2022-09-25T20:08:04.919Z"
   },
   {
    "duration": 179,
    "start_time": "2022-09-25T20:08:14.471Z"
   },
   {
    "duration": 10,
    "start_time": "2022-09-25T20:08:44.398Z"
   },
   {
    "duration": 178,
    "start_time": "2022-09-25T20:09:26.501Z"
   },
   {
    "duration": 177,
    "start_time": "2022-09-25T20:10:08.941Z"
   },
   {
    "duration": 176,
    "start_time": "2022-09-25T20:10:25.318Z"
   },
   {
    "duration": 189,
    "start_time": "2022-09-25T20:10:51.196Z"
   },
   {
    "duration": 201,
    "start_time": "2022-09-25T20:10:55.556Z"
   },
   {
    "duration": 133,
    "start_time": "2022-09-25T20:17:50.175Z"
   },
   {
    "duration": 130,
    "start_time": "2022-09-25T20:18:25.293Z"
   },
   {
    "duration": 146,
    "start_time": "2022-09-25T20:19:49.132Z"
   },
   {
    "duration": 143,
    "start_time": "2022-09-25T20:19:59.083Z"
   },
   {
    "duration": 218,
    "start_time": "2022-09-25T20:20:29.339Z"
   },
   {
    "duration": 135,
    "start_time": "2022-09-25T20:20:38.955Z"
   },
   {
    "duration": 215,
    "start_time": "2022-09-25T20:22:26.042Z"
   },
   {
    "duration": 205,
    "start_time": "2022-09-25T20:22:45.841Z"
   },
   {
    "duration": 284,
    "start_time": "2022-09-25T20:23:27.544Z"
   },
   {
    "duration": 3,
    "start_time": "2022-09-25T20:28:16.827Z"
   },
   {
    "duration": 13,
    "start_time": "2022-09-25T20:28:18.882Z"
   },
   {
    "duration": 311,
    "start_time": "2022-09-25T20:31:32.824Z"
   },
   {
    "duration": 339,
    "start_time": "2022-09-25T20:32:06.672Z"
   },
   {
    "duration": 441,
    "start_time": "2022-09-25T20:33:11.576Z"
   },
   {
    "duration": 297,
    "start_time": "2022-09-25T20:33:21.662Z"
   },
   {
    "duration": 689,
    "start_time": "2022-09-25T20:34:06.790Z"
   },
   {
    "duration": 3,
    "start_time": "2022-09-25T20:35:40.229Z"
   },
   {
    "duration": 312,
    "start_time": "2022-09-25T20:35:41.765Z"
   },
   {
    "duration": 304,
    "start_time": "2022-09-25T20:35:47.685Z"
   },
   {
    "duration": 322,
    "start_time": "2022-09-25T20:36:59.516Z"
   },
   {
    "duration": 416,
    "start_time": "2022-09-25T20:37:38.827Z"
   },
   {
    "duration": 312,
    "start_time": "2022-09-25T20:38:05.042Z"
   },
   {
    "duration": 308,
    "start_time": "2022-09-25T20:38:53.322Z"
   },
   {
    "duration": 304,
    "start_time": "2022-09-25T20:39:07.650Z"
   },
   {
    "duration": 334,
    "start_time": "2022-09-25T20:40:50.416Z"
   },
   {
    "duration": 462,
    "start_time": "2022-09-25T20:41:07.336Z"
   },
   {
    "duration": 14,
    "start_time": "2022-09-25T20:41:45.935Z"
   },
   {
    "duration": 11,
    "start_time": "2022-09-25T20:45:36.780Z"
   },
   {
    "duration": 19,
    "start_time": "2022-09-25T20:45:54.219Z"
   },
   {
    "duration": 77,
    "start_time": "2022-09-25T20:47:39.754Z"
   },
   {
    "duration": 16,
    "start_time": "2022-09-25T20:47:54.976Z"
   },
   {
    "duration": 16,
    "start_time": "2022-09-25T20:48:41.481Z"
   },
   {
    "duration": 18,
    "start_time": "2022-09-25T20:48:49.745Z"
   },
   {
    "duration": 3,
    "start_time": "2022-09-25T20:48:54.312Z"
   },
   {
    "duration": 17,
    "start_time": "2022-09-25T20:48:57.080Z"
   },
   {
    "duration": 4,
    "start_time": "2022-09-25T20:49:19.240Z"
   },
   {
    "duration": 13,
    "start_time": "2022-09-25T20:49:21.256Z"
   },
   {
    "duration": 14,
    "start_time": "2022-09-25T20:49:32.943Z"
   },
   {
    "duration": 3,
    "start_time": "2022-09-25T20:49:40.679Z"
   },
   {
    "duration": 13,
    "start_time": "2022-09-25T20:49:42.463Z"
   },
   {
    "duration": 12,
    "start_time": "2022-09-25T20:49:49.055Z"
   },
   {
    "duration": 3,
    "start_time": "2022-09-25T20:50:02.391Z"
   },
   {
    "duration": 16,
    "start_time": "2022-09-25T20:50:04.311Z"
   },
   {
    "duration": 18,
    "start_time": "2022-09-25T20:50:11.792Z"
   },
   {
    "duration": 4,
    "start_time": "2022-09-25T20:50:49.686Z"
   },
   {
    "duration": 17,
    "start_time": "2022-09-25T20:50:50.806Z"
   },
   {
    "duration": 3,
    "start_time": "2022-09-25T20:50:57.005Z"
   },
   {
    "duration": 80,
    "start_time": "2022-09-25T20:50:58.855Z"
   },
   {
    "duration": 344,
    "start_time": "2022-09-25T20:51:49.583Z"
   },
   {
    "duration": 460,
    "start_time": "2022-09-25T20:52:40.540Z"
   },
   {
    "duration": 326,
    "start_time": "2022-09-25T20:54:03.804Z"
   },
   {
    "duration": 3,
    "start_time": "2022-09-25T20:54:12.715Z"
   },
   {
    "duration": 333,
    "start_time": "2022-09-25T20:54:15.604Z"
   },
   {
    "duration": 3,
    "start_time": "2022-09-25T20:54:19.075Z"
   },
   {
    "duration": 423,
    "start_time": "2022-09-25T20:54:20.578Z"
   },
   {
    "duration": 3,
    "start_time": "2022-09-25T20:54:37.266Z"
   },
   {
    "duration": 322,
    "start_time": "2022-09-25T20:54:37.922Z"
   },
   {
    "duration": 4,
    "start_time": "2022-09-25T20:54:48.794Z"
   },
   {
    "duration": 318,
    "start_time": "2022-09-25T20:54:50.162Z"
   },
   {
    "duration": 286,
    "start_time": "2022-09-25T20:55:32.122Z"
   },
   {
    "duration": 311,
    "start_time": "2022-09-25T20:56:45.593Z"
   },
   {
    "duration": 448,
    "start_time": "2022-09-25T20:57:11.128Z"
   },
   {
    "duration": 292,
    "start_time": "2022-09-25T20:57:24.721Z"
   },
   {
    "duration": 379,
    "start_time": "2022-09-25T20:57:30.704Z"
   },
   {
    "duration": 325,
    "start_time": "2022-09-25T20:57:55.504Z"
   },
   {
    "duration": 312,
    "start_time": "2022-09-25T20:58:08.321Z"
   },
   {
    "duration": 322,
    "start_time": "2022-09-25T21:00:02.464Z"
   },
   {
    "duration": 433,
    "start_time": "2022-09-25T21:01:58.318Z"
   },
   {
    "duration": 322,
    "start_time": "2022-09-25T21:02:22.356Z"
   },
   {
    "duration": 325,
    "start_time": "2022-09-25T21:02:30.140Z"
   },
   {
    "duration": 332,
    "start_time": "2022-09-25T21:02:47.708Z"
   },
   {
    "duration": 3,
    "start_time": "2022-09-25T21:03:01.107Z"
   },
   {
    "duration": 453,
    "start_time": "2022-09-25T21:03:01.860Z"
   },
   {
    "duration": 563,
    "start_time": "2022-09-25T21:03:29.242Z"
   },
   {
    "duration": 479,
    "start_time": "2022-09-25T21:07:10.519Z"
   },
   {
    "duration": 3,
    "start_time": "2022-09-25T21:07:26.159Z"
   },
   {
    "duration": 425,
    "start_time": "2022-09-25T21:07:26.881Z"
   },
   {
    "duration": 3,
    "start_time": "2022-09-25T21:07:33.887Z"
   },
   {
    "duration": 396,
    "start_time": "2022-09-25T21:07:36.471Z"
   },
   {
    "duration": 502,
    "start_time": "2022-09-25T21:12:05.315Z"
   },
   {
    "duration": 533,
    "start_time": "2022-09-25T21:12:31.003Z"
   },
   {
    "duration": 518,
    "start_time": "2022-09-25T21:12:35.659Z"
   },
   {
    "duration": 386,
    "start_time": "2022-09-25T21:12:47.770Z"
   },
   {
    "duration": 3,
    "start_time": "2022-09-25T21:14:47.656Z"
   },
   {
    "duration": 321,
    "start_time": "2022-09-25T21:14:48.376Z"
   },
   {
    "duration": 3,
    "start_time": "2022-09-25T21:15:15.680Z"
   },
   {
    "duration": 353,
    "start_time": "2022-09-25T21:15:17.967Z"
   },
   {
    "duration": 3,
    "start_time": "2022-09-25T21:15:25.247Z"
   },
   {
    "duration": 366,
    "start_time": "2022-09-25T21:15:27.208Z"
   },
   {
    "duration": 281,
    "start_time": "2022-09-25T21:15:56.535Z"
   },
   {
    "duration": 358,
    "start_time": "2022-09-25T21:16:07.559Z"
   },
   {
    "duration": 303,
    "start_time": "2022-09-25T21:16:14.606Z"
   },
   {
    "duration": 329,
    "start_time": "2022-09-25T21:16:25.327Z"
   },
   {
    "duration": 496,
    "start_time": "2022-09-25T21:17:18.206Z"
   },
   {
    "duration": 534,
    "start_time": "2022-09-25T21:18:00.806Z"
   },
   {
    "duration": 622,
    "start_time": "2022-09-25T21:18:14.398Z"
   },
   {
    "duration": 520,
    "start_time": "2022-09-25T21:18:28.349Z"
   },
   {
    "duration": 51,
    "start_time": "2022-09-25T21:18:56.620Z"
   },
   {
    "duration": 579,
    "start_time": "2022-09-25T21:19:13.412Z"
   },
   {
    "duration": 596,
    "start_time": "2022-09-25T21:19:29.259Z"
   },
   {
    "duration": 716,
    "start_time": "2022-09-25T21:19:51.100Z"
   },
   {
    "duration": 717,
    "start_time": "2022-09-25T21:20:14.754Z"
   },
   {
    "duration": 671,
    "start_time": "2022-09-25T21:20:49.380Z"
   },
   {
    "duration": 759,
    "start_time": "2022-09-25T21:21:09.787Z"
   },
   {
    "duration": 501,
    "start_time": "2022-09-25T21:21:17.986Z"
   },
   {
    "duration": 504,
    "start_time": "2022-09-25T21:21:51.331Z"
   },
   {
    "duration": 639,
    "start_time": "2022-09-25T21:22:14.137Z"
   },
   {
    "duration": 816,
    "start_time": "2022-09-25T21:27:23.605Z"
   },
   {
    "duration": 487,
    "start_time": "2022-09-25T21:27:39.765Z"
   },
   {
    "duration": 690,
    "start_time": "2022-09-25T21:27:57.260Z"
   },
   {
    "duration": 647,
    "start_time": "2022-09-25T21:28:12.566Z"
   },
   {
    "duration": 705,
    "start_time": "2022-09-25T21:28:29.955Z"
   },
   {
    "duration": 1672,
    "start_time": "2022-09-25T21:30:03.219Z"
   },
   {
    "duration": 1683,
    "start_time": "2022-09-25T21:31:02.130Z"
   },
   {
    "duration": 1566,
    "start_time": "2022-09-25T21:31:36.408Z"
   },
   {
    "duration": 62,
    "start_time": "2022-09-25T21:32:36.744Z"
   },
   {
    "duration": 1604,
    "start_time": "2022-09-25T21:32:44.071Z"
   },
   {
    "duration": 1592,
    "start_time": "2022-09-25T21:33:16.919Z"
   },
   {
    "duration": 1581,
    "start_time": "2022-09-25T21:34:34.326Z"
   },
   {
    "duration": 1436,
    "start_time": "2022-09-25T21:34:52.534Z"
   },
   {
    "duration": 513,
    "start_time": "2022-09-25T21:35:03.942Z"
   },
   {
    "duration": 440,
    "start_time": "2022-09-25T21:35:28.734Z"
   },
   {
    "duration": 396,
    "start_time": "2022-09-25T21:35:59.517Z"
   },
   {
    "duration": 399,
    "start_time": "2022-09-25T21:36:15.564Z"
   },
   {
    "duration": 389,
    "start_time": "2022-09-25T21:36:31.204Z"
   },
   {
    "duration": 407,
    "start_time": "2022-09-25T21:36:41.547Z"
   },
   {
    "duration": 399,
    "start_time": "2022-09-25T21:36:55.323Z"
   },
   {
    "duration": 515,
    "start_time": "2022-09-25T21:37:39.147Z"
   },
   {
    "duration": 409,
    "start_time": "2022-09-25T21:37:46.707Z"
   },
   {
    "duration": 427,
    "start_time": "2022-09-25T21:37:55.845Z"
   },
   {
    "duration": 395,
    "start_time": "2022-09-25T21:38:04.099Z"
   },
   {
    "duration": 424,
    "start_time": "2022-09-25T21:38:09.578Z"
   },
   {
    "duration": 510,
    "start_time": "2022-09-25T21:38:54.546Z"
   },
   {
    "duration": 402,
    "start_time": "2022-09-25T21:39:00.858Z"
   },
   {
    "duration": 368,
    "start_time": "2022-09-25T21:39:14.674Z"
   },
   {
    "duration": 385,
    "start_time": "2022-09-25T21:39:25.593Z"
   },
   {
    "duration": 384,
    "start_time": "2022-09-25T21:39:38.425Z"
   },
   {
    "duration": 412,
    "start_time": "2022-09-25T21:39:59.481Z"
   },
   {
    "duration": 499,
    "start_time": "2022-09-25T21:40:04.394Z"
   },
   {
    "duration": 3,
    "start_time": "2022-09-25T21:40:09.752Z"
   },
   {
    "duration": 392,
    "start_time": "2022-09-25T21:40:12.175Z"
   },
   {
    "duration": 397,
    "start_time": "2022-09-25T21:43:16.431Z"
   },
   {
    "duration": 209,
    "start_time": "2022-09-25T21:43:35.797Z"
   },
   {
    "duration": 360,
    "start_time": "2022-09-25T21:43:50.902Z"
   },
   {
    "duration": 363,
    "start_time": "2022-09-25T21:43:56.821Z"
   },
   {
    "duration": 15,
    "start_time": "2022-09-25T21:45:51.060Z"
   },
   {
    "duration": 15,
    "start_time": "2022-09-25T21:45:54.275Z"
   },
   {
    "duration": 15,
    "start_time": "2022-09-25T21:46:19.612Z"
   },
   {
    "duration": 12,
    "start_time": "2022-09-25T21:46:20.923Z"
   },
   {
    "duration": 492,
    "start_time": "2022-09-25T21:46:29.691Z"
   },
   {
    "duration": 364,
    "start_time": "2022-09-25T21:46:40.202Z"
   },
   {
    "duration": 309,
    "start_time": "2022-09-25T21:46:47.084Z"
   },
   {
    "duration": 357,
    "start_time": "2022-09-25T21:46:54.187Z"
   },
   {
    "duration": 548,
    "start_time": "2022-09-25T21:47:02.842Z"
   },
   {
    "duration": 44,
    "start_time": "2022-09-25T21:48:02.243Z"
   },
   {
    "duration": 630,
    "start_time": "2022-09-25T21:48:22.016Z"
   },
   {
    "duration": 442,
    "start_time": "2022-09-25T21:49:24.577Z"
   },
   {
    "duration": 373,
    "start_time": "2022-09-25T21:49:47.535Z"
   },
   {
    "duration": 481,
    "start_time": "2022-09-25T21:49:55.400Z"
   },
   {
    "duration": 3,
    "start_time": "2022-09-25T21:50:48.006Z"
   },
   {
    "duration": 419,
    "start_time": "2022-09-25T21:50:49.934Z"
   },
   {
    "duration": 431,
    "start_time": "2022-09-25T21:51:01.518Z"
   },
   {
    "duration": 554,
    "start_time": "2022-09-25T21:52:09.773Z"
   },
   {
    "duration": 389,
    "start_time": "2022-09-25T21:52:31.302Z"
   },
   {
    "duration": 502,
    "start_time": "2022-09-25T21:52:47.941Z"
   },
   {
    "duration": 520,
    "start_time": "2022-09-25T21:54:36.395Z"
   },
   {
    "duration": 317,
    "start_time": "2022-09-25T21:55:03.875Z"
   },
   {
    "duration": 460,
    "start_time": "2022-09-25T21:55:15.162Z"
   },
   {
    "duration": 316,
    "start_time": "2022-09-25T21:55:28.602Z"
   },
   {
    "duration": 351,
    "start_time": "2022-09-25T21:55:38.033Z"
   },
   {
    "duration": 320,
    "start_time": "2022-09-25T21:55:42.418Z"
   },
   {
    "duration": 522,
    "start_time": "2022-09-25T21:56:00.483Z"
   },
   {
    "duration": 19,
    "start_time": "2022-09-25T21:57:00.945Z"
   },
   {
    "duration": 179,
    "start_time": "2022-09-25T21:57:16.216Z"
   },
   {
    "duration": 163,
    "start_time": "2022-09-25T21:57:21.377Z"
   },
   {
    "duration": 328,
    "start_time": "2022-09-25T21:57:35.153Z"
   },
   {
    "duration": 452,
    "start_time": "2022-09-25T21:57:51.617Z"
   },
   {
    "duration": 493,
    "start_time": "2022-09-25T21:58:13.696Z"
   },
   {
    "duration": 786,
    "start_time": "2022-09-25T21:58:22.160Z"
   },
   {
    "duration": 604,
    "start_time": "2022-09-25T21:58:33.743Z"
   },
   {
    "duration": 738,
    "start_time": "2022-09-25T21:58:55.423Z"
   },
   {
    "duration": 301,
    "start_time": "2022-09-25T21:59:16.863Z"
   },
   {
    "duration": 485,
    "start_time": "2022-09-25T22:00:05.030Z"
   },
   {
    "duration": 487,
    "start_time": "2022-09-25T22:00:27.870Z"
   },
   {
    "duration": 482,
    "start_time": "2022-09-25T22:00:57.541Z"
   },
   {
    "duration": 458,
    "start_time": "2022-09-25T22:01:26.972Z"
   },
   {
    "duration": 465,
    "start_time": "2022-09-25T22:01:31.596Z"
   },
   {
    "duration": 470,
    "start_time": "2022-09-25T22:02:18.811Z"
   },
   {
    "duration": 475,
    "start_time": "2022-09-25T22:02:34.963Z"
   },
   {
    "duration": 1109,
    "start_time": "2022-09-25T22:03:33.818Z"
   },
   {
    "duration": 119,
    "start_time": "2022-09-25T22:03:34.929Z"
   },
   {
    "duration": 15,
    "start_time": "2022-09-25T22:03:35.049Z"
   },
   {
    "duration": 19,
    "start_time": "2022-09-25T22:03:35.066Z"
   },
   {
    "duration": 15,
    "start_time": "2022-09-25T22:03:35.086Z"
   },
   {
    "duration": 4,
    "start_time": "2022-09-25T22:03:35.103Z"
   },
   {
    "duration": 24,
    "start_time": "2022-09-25T22:03:35.109Z"
   },
   {
    "duration": 50,
    "start_time": "2022-09-25T22:03:35.135Z"
   },
   {
    "duration": 10,
    "start_time": "2022-09-25T22:03:35.187Z"
   },
   {
    "duration": 6,
    "start_time": "2022-09-25T22:03:35.199Z"
   },
   {
    "duration": 7,
    "start_time": "2022-09-25T22:03:35.206Z"
   },
   {
    "duration": 7,
    "start_time": "2022-09-25T22:03:35.214Z"
   },
   {
    "duration": 4,
    "start_time": "2022-09-25T22:03:35.234Z"
   },
   {
    "duration": 13,
    "start_time": "2022-09-25T22:03:35.239Z"
   },
   {
    "duration": 7,
    "start_time": "2022-09-25T22:03:35.254Z"
   },
   {
    "duration": 25,
    "start_time": "2022-09-25T22:03:35.263Z"
   },
   {
    "duration": 25,
    "start_time": "2022-09-25T22:03:35.290Z"
   },
   {
    "duration": 4,
    "start_time": "2022-09-25T22:03:35.316Z"
   },
   {
    "duration": 230,
    "start_time": "2022-09-25T22:03:35.321Z"
   },
   {
    "duration": 191,
    "start_time": "2022-09-25T22:03:35.552Z"
   },
   {
    "duration": 14,
    "start_time": "2022-09-25T22:03:35.745Z"
   },
   {
    "duration": 13,
    "start_time": "2022-09-25T22:03:35.760Z"
   },
   {
    "duration": 14,
    "start_time": "2022-09-25T22:03:35.774Z"
   },
   {
    "duration": 43,
    "start_time": "2022-09-25T22:03:35.790Z"
   },
   {
    "duration": 16,
    "start_time": "2022-09-25T22:03:35.835Z"
   },
   {
    "duration": 349,
    "start_time": "2022-09-25T22:03:35.852Z"
   },
   {
    "duration": 18,
    "start_time": "2022-09-25T22:03:36.203Z"
   },
   {
    "duration": 6,
    "start_time": "2022-09-25T22:03:36.225Z"
   },
   {
    "duration": 334,
    "start_time": "2022-09-25T22:03:36.233Z"
   },
   {
    "duration": 320,
    "start_time": "2022-09-25T22:03:36.569Z"
   },
   {
    "duration": 257,
    "start_time": "2022-09-25T22:03:36.890Z"
   },
   {
    "duration": 253,
    "start_time": "2022-09-25T22:03:37.148Z"
   },
   {
    "duration": 179,
    "start_time": "2022-09-25T22:03:37.402Z"
   },
   {
    "duration": 192,
    "start_time": "2022-09-25T22:03:37.583Z"
   },
   {
    "duration": 181,
    "start_time": "2022-09-25T22:03:37.777Z"
   },
   {
    "duration": 207,
    "start_time": "2022-09-25T22:03:37.959Z"
   },
   {
    "duration": 294,
    "start_time": "2022-09-25T22:03:38.168Z"
   },
   {
    "duration": 3,
    "start_time": "2022-09-25T22:03:38.464Z"
   },
   {
    "duration": 574,
    "start_time": "2022-09-25T22:03:38.468Z"
   },
   {
    "duration": 312,
    "start_time": "2022-09-25T22:03:39.044Z"
   },
   {
    "duration": 9,
    "start_time": "2022-09-25T22:03:39.358Z"
   },
   {
    "duration": 12,
    "start_time": "2022-09-25T22:03:39.369Z"
   },
   {
    "duration": 8,
    "start_time": "2022-09-25T22:03:39.382Z"
   },
   {
    "duration": 9,
    "start_time": "2022-09-25T22:03:39.391Z"
   },
   {
    "duration": 33,
    "start_time": "2022-09-25T22:03:39.402Z"
   },
   {
    "duration": 10,
    "start_time": "2022-09-25T22:03:39.436Z"
   },
   {
    "duration": 9,
    "start_time": "2022-09-25T22:03:39.448Z"
   },
   {
    "duration": 9,
    "start_time": "2022-09-25T22:03:39.458Z"
   },
   {
    "duration": 13,
    "start_time": "2022-09-25T22:03:39.468Z"
   },
   {
    "duration": 10,
    "start_time": "2022-09-25T22:03:39.482Z"
   },
   {
    "duration": 8,
    "start_time": "2022-09-25T22:03:39.494Z"
   },
   {
    "duration": 551,
    "start_time": "2022-09-25T22:04:16.164Z"
   },
   {
    "duration": 457,
    "start_time": "2022-09-25T22:04:54.347Z"
   },
   {
    "duration": 554,
    "start_time": "2022-09-25T22:05:22.810Z"
   },
   {
    "duration": 500,
    "start_time": "2022-09-25T22:05:50.938Z"
   },
   {
    "duration": 322,
    "start_time": "2022-09-25T22:06:03.889Z"
   },
   {
    "duration": 319,
    "start_time": "2022-09-25T22:06:09.449Z"
   },
   {
    "duration": 297,
    "start_time": "2022-09-25T22:06:17.657Z"
   },
   {
    "duration": 389,
    "start_time": "2022-09-25T22:06:33.201Z"
   },
   {
    "duration": 302,
    "start_time": "2022-09-25T22:06:40.952Z"
   },
   {
    "duration": 308,
    "start_time": "2022-09-25T22:07:30.447Z"
   },
   {
    "duration": 100,
    "start_time": "2022-09-25T22:09:09.727Z"
   },
   {
    "duration": 51,
    "start_time": "2022-09-25T22:11:14.556Z"
   },
   {
    "duration": 239,
    "start_time": "2022-09-25T22:11:30.460Z"
   },
   {
    "duration": 248,
    "start_time": "2022-09-25T22:11:47.388Z"
   },
   {
    "duration": 20,
    "start_time": "2022-09-25T22:12:00.425Z"
   },
   {
    "duration": 20,
    "start_time": "2022-09-25T22:12:11.891Z"
   },
   {
    "duration": 380,
    "start_time": "2022-09-25T22:12:18.723Z"
   },
   {
    "duration": 252,
    "start_time": "2022-09-25T22:12:35.131Z"
   },
   {
    "duration": 369,
    "start_time": "2022-09-25T22:12:53.971Z"
   },
   {
    "duration": 425,
    "start_time": "2022-09-25T22:13:08.603Z"
   },
   {
    "duration": 432,
    "start_time": "2022-09-25T22:14:10.882Z"
   },
   {
    "duration": 252,
    "start_time": "2022-09-25T22:14:40.025Z"
   },
   {
    "duration": 338,
    "start_time": "2022-09-25T22:14:48.481Z"
   },
   {
    "duration": 246,
    "start_time": "2022-09-25T22:14:57.449Z"
   },
   {
    "duration": 14,
    "start_time": "2022-09-25T22:16:00.767Z"
   },
   {
    "duration": 408,
    "start_time": "2022-09-25T22:16:02.224Z"
   },
   {
    "duration": 412,
    "start_time": "2022-09-25T22:16:10.928Z"
   },
   {
    "duration": 421,
    "start_time": "2022-09-25T22:17:16.439Z"
   },
   {
    "duration": 516,
    "start_time": "2022-09-25T22:17:25.543Z"
   },
   {
    "duration": 401,
    "start_time": "2022-09-25T22:18:02.646Z"
   },
   {
    "duration": 241,
    "start_time": "2022-09-25T22:18:36.712Z"
   },
   {
    "duration": 241,
    "start_time": "2022-09-25T22:18:52.462Z"
   },
   {
    "duration": 369,
    "start_time": "2022-09-25T22:19:52.868Z"
   },
   {
    "duration": 356,
    "start_time": "2022-09-25T22:20:17.132Z"
   },
   {
    "duration": 446,
    "start_time": "2022-09-25T22:20:42.348Z"
   },
   {
    "duration": 187,
    "start_time": "2022-09-25T22:21:10.779Z"
   },
   {
    "duration": 186,
    "start_time": "2022-09-25T22:21:20.019Z"
   },
   {
    "duration": 345,
    "start_time": "2022-09-25T22:21:37.579Z"
   },
   {
    "duration": 305,
    "start_time": "2022-09-25T22:22:13.829Z"
   },
   {
    "duration": 293,
    "start_time": "2022-09-25T22:22:33.619Z"
   },
   {
    "duration": 451,
    "start_time": "2022-09-25T22:23:47.400Z"
   },
   {
    "duration": 11,
    "start_time": "2022-09-25T22:23:49.112Z"
   },
   {
    "duration": 11,
    "start_time": "2022-09-25T22:24:00.735Z"
   },
   {
    "duration": 10,
    "start_time": "2022-09-25T22:24:02.071Z"
   },
   {
    "duration": 11,
    "start_time": "2022-09-25T22:24:05.278Z"
   },
   {
    "duration": 10,
    "start_time": "2022-09-25T22:24:10.231Z"
   },
   {
    "duration": 10,
    "start_time": "2022-09-25T22:24:15.079Z"
   },
   {
    "duration": 11,
    "start_time": "2022-09-25T22:24:20.574Z"
   },
   {
    "duration": 9,
    "start_time": "2022-09-25T22:24:23.928Z"
   },
   {
    "duration": 10,
    "start_time": "2022-09-25T22:24:25.198Z"
   },
   {
    "duration": 44,
    "start_time": "2022-09-25T22:25:41.582Z"
   },
   {
    "duration": 295,
    "start_time": "2022-09-25T22:25:54.919Z"
   },
   {
    "duration": 494,
    "start_time": "2022-09-25T22:26:35.541Z"
   },
   {
    "duration": 408,
    "start_time": "2022-09-25T22:27:07.830Z"
   },
   {
    "duration": 405,
    "start_time": "2022-09-25T22:27:26.852Z"
   },
   {
    "duration": 464,
    "start_time": "2022-09-25T22:27:51.372Z"
   },
   {
    "duration": 346,
    "start_time": "2022-09-25T22:28:03.244Z"
   },
   {
    "duration": 113,
    "start_time": "2022-09-25T22:28:24.607Z"
   },
   {
    "duration": 65,
    "start_time": "2022-09-25T22:29:29.787Z"
   },
   {
    "duration": 374,
    "start_time": "2022-09-25T22:29:56.660Z"
   },
   {
    "duration": 317,
    "start_time": "2022-09-25T22:32:02.016Z"
   },
   {
    "duration": 436,
    "start_time": "2022-09-25T22:32:37.817Z"
   },
   {
    "duration": 351,
    "start_time": "2022-09-25T22:32:48.160Z"
   },
   {
    "duration": 332,
    "start_time": "2022-09-25T22:32:54.784Z"
   },
   {
    "duration": 349,
    "start_time": "2022-09-25T22:32:59.424Z"
   },
   {
    "duration": 335,
    "start_time": "2022-09-25T22:33:03.504Z"
   },
   {
    "duration": 395,
    "start_time": "2022-09-25T22:34:42.246Z"
   },
   {
    "duration": 321,
    "start_time": "2022-09-25T22:34:47.278Z"
   },
   {
    "duration": 281,
    "start_time": "2022-09-25T22:35:54.509Z"
   },
   {
    "duration": 353,
    "start_time": "2022-09-25T22:36:18.813Z"
   },
   {
    "duration": 295,
    "start_time": "2022-09-25T22:37:14.036Z"
   },
   {
    "duration": 281,
    "start_time": "2022-09-25T22:37:27.260Z"
   },
   {
    "duration": 474,
    "start_time": "2022-09-25T22:37:35.819Z"
   },
   {
    "duration": 335,
    "start_time": "2022-09-25T22:39:15.298Z"
   },
   {
    "duration": 368,
    "start_time": "2022-09-25T22:44:06.309Z"
   },
   {
    "duration": 353,
    "start_time": "2022-09-25T22:45:02.053Z"
   },
   {
    "duration": 12,
    "start_time": "2022-09-25T22:57:44.593Z"
   },
   {
    "duration": 51,
    "start_time": "2022-09-25T22:57:58.800Z"
   },
   {
    "duration": 11,
    "start_time": "2022-09-25T22:58:08.305Z"
   },
   {
    "duration": 11,
    "start_time": "2022-09-25T22:58:32.840Z"
   },
   {
    "duration": 75,
    "start_time": "2022-09-25T22:59:13.095Z"
   },
   {
    "duration": 10,
    "start_time": "2022-09-25T22:59:57.239Z"
   },
   {
    "duration": 16,
    "start_time": "2022-09-25T23:00:05.574Z"
   },
   {
    "duration": 11,
    "start_time": "2022-09-25T23:00:17.126Z"
   },
   {
    "duration": 10,
    "start_time": "2022-09-25T23:00:25.542Z"
   },
   {
    "duration": 10,
    "start_time": "2022-09-25T23:00:37.190Z"
   },
   {
    "duration": 9,
    "start_time": "2022-09-25T23:00:47.005Z"
   },
   {
    "duration": 12,
    "start_time": "2022-09-25T23:02:11.251Z"
   },
   {
    "duration": 11,
    "start_time": "2022-09-25T23:02:18.627Z"
   },
   {
    "duration": 10,
    "start_time": "2022-09-25T23:02:28.211Z"
   },
   {
    "duration": 10,
    "start_time": "2022-09-25T23:02:33.508Z"
   },
   {
    "duration": 12,
    "start_time": "2022-09-25T23:03:08.771Z"
   },
   {
    "duration": 10,
    "start_time": "2022-09-25T23:03:31.178Z"
   },
   {
    "duration": 10,
    "start_time": "2022-09-25T23:03:43.314Z"
   },
   {
    "duration": 9,
    "start_time": "2022-09-25T23:04:32.481Z"
   },
   {
    "duration": 10,
    "start_time": "2022-09-25T23:04:39.441Z"
   },
   {
    "duration": 11,
    "start_time": "2022-09-25T23:05:02.865Z"
   },
   {
    "duration": 10,
    "start_time": "2022-09-25T23:05:19.297Z"
   },
   {
    "duration": 9,
    "start_time": "2022-09-25T23:05:32.657Z"
   },
   {
    "duration": 9,
    "start_time": "2022-09-25T23:05:46.536Z"
   },
   {
    "duration": 10,
    "start_time": "2022-09-25T23:06:00.816Z"
   },
   {
    "duration": 10,
    "start_time": "2022-09-25T23:06:20.408Z"
   },
   {
    "duration": 1042,
    "start_time": "2022-09-25T23:13:41.376Z"
   },
   {
    "duration": 152,
    "start_time": "2022-09-25T23:13:42.420Z"
   },
   {
    "duration": 14,
    "start_time": "2022-09-25T23:13:42.573Z"
   },
   {
    "duration": 17,
    "start_time": "2022-09-25T23:13:42.589Z"
   },
   {
    "duration": 18,
    "start_time": "2022-09-25T23:13:42.608Z"
   },
   {
    "duration": 6,
    "start_time": "2022-09-25T23:13:42.633Z"
   },
   {
    "duration": 18,
    "start_time": "2022-09-25T23:13:42.640Z"
   },
   {
    "duration": 53,
    "start_time": "2022-09-25T23:13:42.659Z"
   },
   {
    "duration": 10,
    "start_time": "2022-09-25T23:13:42.713Z"
   },
   {
    "duration": 3,
    "start_time": "2022-09-25T23:13:42.726Z"
   },
   {
    "duration": 7,
    "start_time": "2022-09-25T23:13:42.730Z"
   },
   {
    "duration": 6,
    "start_time": "2022-09-25T23:13:42.739Z"
   },
   {
    "duration": 12,
    "start_time": "2022-09-25T23:13:42.746Z"
   },
   {
    "duration": 10,
    "start_time": "2022-09-25T23:13:42.759Z"
   },
   {
    "duration": 10,
    "start_time": "2022-09-25T23:13:42.770Z"
   },
   {
    "duration": 11,
    "start_time": "2022-09-25T23:13:42.782Z"
   },
   {
    "duration": 22,
    "start_time": "2022-09-25T23:13:42.794Z"
   },
   {
    "duration": 3,
    "start_time": "2022-09-25T23:13:42.817Z"
   },
   {
    "duration": 212,
    "start_time": "2022-09-25T23:13:42.822Z"
   },
   {
    "duration": 189,
    "start_time": "2022-09-25T23:13:43.036Z"
   },
   {
    "duration": 16,
    "start_time": "2022-09-25T23:13:43.227Z"
   },
   {
    "duration": 13,
    "start_time": "2022-09-25T23:13:43.244Z"
   },
   {
    "duration": 12,
    "start_time": "2022-09-25T23:13:43.258Z"
   },
   {
    "duration": 13,
    "start_time": "2022-09-25T23:13:43.271Z"
   },
   {
    "duration": 18,
    "start_time": "2022-09-25T23:13:43.285Z"
   },
   {
    "duration": 337,
    "start_time": "2022-09-25T23:13:43.304Z"
   },
   {
    "duration": 14,
    "start_time": "2022-09-25T23:13:43.642Z"
   },
   {
    "duration": 14,
    "start_time": "2022-09-25T23:13:43.659Z"
   },
   {
    "duration": 311,
    "start_time": "2022-09-25T23:13:43.675Z"
   },
   {
    "duration": 319,
    "start_time": "2022-09-25T23:13:43.987Z"
   },
   {
    "duration": 246,
    "start_time": "2022-09-25T23:13:44.307Z"
   },
   {
    "duration": 252,
    "start_time": "2022-09-25T23:13:44.554Z"
   },
   {
    "duration": 182,
    "start_time": "2022-09-25T23:13:44.807Z"
   },
   {
    "duration": 197,
    "start_time": "2022-09-25T23:13:44.990Z"
   },
   {
    "duration": 190,
    "start_time": "2022-09-25T23:13:45.189Z"
   },
   {
    "duration": 205,
    "start_time": "2022-09-25T23:13:45.381Z"
   },
   {
    "duration": 305,
    "start_time": "2022-09-25T23:13:45.587Z"
   },
   {
    "duration": 13,
    "start_time": "2022-09-25T23:13:45.894Z"
   },
   {
    "duration": 494,
    "start_time": "2022-09-25T23:13:45.909Z"
   },
   {
    "duration": 309,
    "start_time": "2022-09-25T23:13:46.404Z"
   },
   {
    "duration": 360,
    "start_time": "2022-09-25T23:13:46.714Z"
   },
   {
    "duration": 349,
    "start_time": "2022-09-25T23:13:47.076Z"
   },
   {
    "duration": 427,
    "start_time": "2022-09-25T23:13:47.426Z"
   },
   {
    "duration": 10,
    "start_time": "2022-09-25T23:13:47.854Z"
   },
   {
    "duration": 13,
    "start_time": "2022-09-25T23:13:47.865Z"
   },
   {
    "duration": 48,
    "start_time": "2022-09-26T13:32:13.720Z"
   },
   {
    "duration": 1254,
    "start_time": "2022-09-26T13:32:24.052Z"
   },
   {
    "duration": 219,
    "start_time": "2022-09-26T13:32:25.308Z"
   },
   {
    "duration": 13,
    "start_time": "2022-09-26T13:32:25.528Z"
   },
   {
    "duration": 17,
    "start_time": "2022-09-26T13:32:25.543Z"
   },
   {
    "duration": 13,
    "start_time": "2022-09-26T13:32:25.561Z"
   },
   {
    "duration": 5,
    "start_time": "2022-09-26T13:32:25.575Z"
   },
   {
    "duration": 5,
    "start_time": "2022-09-26T13:32:25.581Z"
   },
   {
    "duration": 51,
    "start_time": "2022-09-26T13:32:25.605Z"
   },
   {
    "duration": 10,
    "start_time": "2022-09-26T13:32:25.657Z"
   },
   {
    "duration": 5,
    "start_time": "2022-09-26T13:32:25.669Z"
   },
   {
    "duration": 7,
    "start_time": "2022-09-26T13:32:25.676Z"
   },
   {
    "duration": 21,
    "start_time": "2022-09-26T13:32:25.684Z"
   },
   {
    "duration": 5,
    "start_time": "2022-09-26T13:32:25.707Z"
   },
   {
    "duration": 9,
    "start_time": "2022-09-26T13:32:25.713Z"
   },
   {
    "duration": 8,
    "start_time": "2022-09-26T13:32:25.723Z"
   },
   {
    "duration": 4,
    "start_time": "2022-09-26T13:32:25.732Z"
   },
   {
    "duration": 20,
    "start_time": "2022-09-26T13:32:25.737Z"
   },
   {
    "duration": 3,
    "start_time": "2022-09-26T13:32:25.759Z"
   },
   {
    "duration": 237,
    "start_time": "2022-09-26T13:32:25.763Z"
   },
   {
    "duration": 191,
    "start_time": "2022-09-26T13:32:26.001Z"
   },
   {
    "duration": 23,
    "start_time": "2022-09-26T13:32:26.193Z"
   },
   {
    "duration": 15,
    "start_time": "2022-09-26T13:32:26.218Z"
   },
   {
    "duration": 13,
    "start_time": "2022-09-26T13:32:26.235Z"
   },
   {
    "duration": 19,
    "start_time": "2022-09-26T13:32:26.250Z"
   },
   {
    "duration": 37,
    "start_time": "2022-09-26T13:32:26.271Z"
   },
   {
    "duration": 335,
    "start_time": "2022-09-26T13:32:26.309Z"
   },
   {
    "duration": 13,
    "start_time": "2022-09-26T13:32:26.645Z"
   },
   {
    "duration": 4,
    "start_time": "2022-09-26T13:32:26.661Z"
   },
   {
    "duration": 303,
    "start_time": "2022-09-26T13:32:26.666Z"
   },
   {
    "duration": 330,
    "start_time": "2022-09-26T13:32:26.971Z"
   },
   {
    "duration": 301,
    "start_time": "2022-09-26T13:32:27.304Z"
   },
   {
    "duration": 289,
    "start_time": "2022-09-26T13:32:27.607Z"
   },
   {
    "duration": 235,
    "start_time": "2022-09-26T13:32:27.904Z"
   },
   {
    "duration": 214,
    "start_time": "2022-09-26T13:32:28.141Z"
   },
   {
    "duration": 205,
    "start_time": "2022-09-26T13:32:28.357Z"
   },
   {
    "duration": 215,
    "start_time": "2022-09-26T13:32:28.563Z"
   },
   {
    "duration": 333,
    "start_time": "2022-09-26T13:32:28.779Z"
   },
   {
    "duration": 14,
    "start_time": "2022-09-26T13:32:29.114Z"
   },
   {
    "duration": 489,
    "start_time": "2022-09-26T13:32:29.130Z"
   },
   {
    "duration": 347,
    "start_time": "2022-09-26T13:32:29.621Z"
   },
   {
    "duration": 388,
    "start_time": "2022-09-26T13:32:29.969Z"
   },
   {
    "duration": 389,
    "start_time": "2022-09-26T13:32:30.359Z"
   },
   {
    "duration": 474,
    "start_time": "2022-09-26T13:32:30.750Z"
   },
   {
    "duration": 10,
    "start_time": "2022-09-26T13:32:31.226Z"
   },
   {
    "duration": 39,
    "start_time": "2022-09-26T13:32:31.238Z"
   },
   {
    "duration": 572,
    "start_time": "2022-09-26T13:33:08.943Z"
   },
   {
    "duration": 482,
    "start_time": "2022-09-26T13:33:15.805Z"
   },
   {
    "duration": 434,
    "start_time": "2022-09-26T13:33:34.946Z"
   },
   {
    "duration": 95,
    "start_time": "2022-09-26T13:34:45.033Z"
   },
   {
    "duration": 20,
    "start_time": "2022-09-26T13:34:57.486Z"
   },
   {
    "duration": 16,
    "start_time": "2022-09-26T13:35:03.720Z"
   },
   {
    "duration": 15,
    "start_time": "2022-09-26T13:35:12.632Z"
   },
   {
    "duration": 229,
    "start_time": "2022-09-26T13:35:24.366Z"
   },
   {
    "duration": 124,
    "start_time": "2022-09-26T13:35:40.319Z"
   },
   {
    "duration": 158,
    "start_time": "2022-09-26T13:35:52.536Z"
   },
   {
    "duration": 228,
    "start_time": "2022-09-26T13:35:56.936Z"
   },
   {
    "duration": 158,
    "start_time": "2022-09-26T13:36:05.188Z"
   },
   {
    "duration": 252,
    "start_time": "2022-09-26T13:36:11.309Z"
   },
   {
    "duration": 160,
    "start_time": "2022-09-26T13:36:15.617Z"
   },
   {
    "duration": 257,
    "start_time": "2022-09-26T13:36:19.990Z"
   },
   {
    "duration": 141,
    "start_time": "2022-09-26T13:36:26.426Z"
   },
   {
    "duration": 534,
    "start_time": "2022-09-26T13:37:49.583Z"
   },
   {
    "duration": 152,
    "start_time": "2022-09-26T13:38:22.716Z"
   },
   {
    "duration": 557,
    "start_time": "2022-09-26T13:38:27.638Z"
   },
   {
    "duration": 386,
    "start_time": "2022-09-26T13:38:54.707Z"
   },
   {
    "duration": 332,
    "start_time": "2022-09-26T13:39:12.181Z"
   },
   {
    "duration": 446,
    "start_time": "2022-09-26T13:40:14.135Z"
   },
   {
    "duration": 361,
    "start_time": "2022-09-26T13:40:29.486Z"
   },
   {
    "duration": 12,
    "start_time": "2022-09-26T13:40:33.339Z"
   },
   {
    "duration": 326,
    "start_time": "2022-09-26T13:40:36.979Z"
   },
   {
    "duration": 359,
    "start_time": "2022-09-26T13:40:54.537Z"
   },
   {
    "duration": 1086,
    "start_time": "2023-06-08T08:58:04.657Z"
   },
   {
    "duration": 198,
    "start_time": "2023-06-08T08:58:05.745Z"
   },
   {
    "duration": 15,
    "start_time": "2023-06-08T08:58:05.944Z"
   },
   {
    "duration": 21,
    "start_time": "2023-06-08T08:58:05.961Z"
   },
   {
    "duration": 20,
    "start_time": "2023-06-08T08:58:05.984Z"
   },
   {
    "duration": 7,
    "start_time": "2023-06-08T08:58:06.005Z"
   },
   {
    "duration": 9,
    "start_time": "2023-06-08T08:58:06.014Z"
   },
   {
    "duration": 66,
    "start_time": "2023-06-08T08:58:06.025Z"
   },
   {
    "duration": 10,
    "start_time": "2023-06-08T08:58:06.092Z"
   },
   {
    "duration": 6,
    "start_time": "2023-06-08T08:58:06.104Z"
   },
   {
    "duration": 8,
    "start_time": "2023-06-08T08:58:06.111Z"
   },
   {
    "duration": 9,
    "start_time": "2023-06-08T08:58:06.120Z"
   },
   {
    "duration": 20,
    "start_time": "2023-06-08T08:58:06.131Z"
   },
   {
    "duration": 8,
    "start_time": "2023-06-08T08:58:06.152Z"
   },
   {
    "duration": 12,
    "start_time": "2023-06-08T08:58:06.162Z"
   },
   {
    "duration": 6,
    "start_time": "2023-06-08T08:58:06.175Z"
   },
   {
    "duration": 27,
    "start_time": "2023-06-08T08:58:06.182Z"
   },
   {
    "duration": 4,
    "start_time": "2023-06-08T08:58:06.211Z"
   },
   {
    "duration": 244,
    "start_time": "2023-06-08T08:58:06.217Z"
   },
   {
    "duration": 231,
    "start_time": "2023-06-08T08:58:06.462Z"
   },
   {
    "duration": 16,
    "start_time": "2023-06-08T08:58:06.695Z"
   },
   {
    "duration": 14,
    "start_time": "2023-06-08T08:58:06.713Z"
   },
   {
    "duration": 14,
    "start_time": "2023-06-08T08:58:06.750Z"
   },
   {
    "duration": 16,
    "start_time": "2023-06-08T08:58:06.766Z"
   },
   {
    "duration": 14,
    "start_time": "2023-06-08T08:58:06.783Z"
   },
   {
    "duration": 355,
    "start_time": "2023-06-08T08:58:06.799Z"
   },
   {
    "duration": 15,
    "start_time": "2023-06-08T08:58:07.155Z"
   },
   {
    "duration": 4,
    "start_time": "2023-06-08T08:58:07.173Z"
   },
   {
    "duration": 352,
    "start_time": "2023-06-08T08:58:07.178Z"
   },
   {
    "duration": 341,
    "start_time": "2023-06-08T08:58:07.532Z"
   },
   {
    "duration": 276,
    "start_time": "2023-06-08T08:58:07.874Z"
   },
   {
    "duration": 298,
    "start_time": "2023-06-08T08:58:08.152Z"
   },
   {
    "duration": 211,
    "start_time": "2023-06-08T08:58:08.452Z"
   },
   {
    "duration": 222,
    "start_time": "2023-06-08T08:58:08.665Z"
   },
   {
    "duration": 209,
    "start_time": "2023-06-08T08:58:08.888Z"
   },
   {
    "duration": 222,
    "start_time": "2023-06-08T08:58:09.099Z"
   },
   {
    "duration": 355,
    "start_time": "2023-06-08T08:58:09.322Z"
   },
   {
    "duration": 15,
    "start_time": "2023-06-08T08:58:09.680Z"
   },
   {
    "duration": 478,
    "start_time": "2023-06-08T08:58:09.697Z"
   },
   {
    "duration": 425,
    "start_time": "2023-06-08T08:58:10.177Z"
   },
   {
    "duration": 399,
    "start_time": "2023-06-08T08:58:10.604Z"
   },
   {
    "duration": 10,
    "start_time": "2023-06-08T08:58:11.005Z"
   },
   {
    "duration": 31,
    "start_time": "2023-06-08T08:58:11.017Z"
   },
   {
    "duration": 1128,
    "start_time": "2023-06-08T13:34:35.384Z"
   },
   {
    "duration": 300,
    "start_time": "2023-06-08T13:34:36.514Z"
   },
   {
    "duration": 15,
    "start_time": "2023-06-08T13:34:36.816Z"
   },
   {
    "duration": 19,
    "start_time": "2023-06-08T13:34:36.833Z"
   },
   {
    "duration": 14,
    "start_time": "2023-06-08T13:34:36.854Z"
   },
   {
    "duration": 23,
    "start_time": "2023-06-08T13:34:36.870Z"
   },
   {
    "duration": 13,
    "start_time": "2023-06-08T13:34:36.895Z"
   },
   {
    "duration": 65,
    "start_time": "2023-06-08T13:34:36.910Z"
   },
   {
    "duration": 12,
    "start_time": "2023-06-08T13:34:36.976Z"
   },
   {
    "duration": 9,
    "start_time": "2023-06-08T13:34:36.990Z"
   },
   {
    "duration": 8,
    "start_time": "2023-06-08T13:34:37.001Z"
   },
   {
    "duration": 6,
    "start_time": "2023-06-08T13:34:37.011Z"
   },
   {
    "duration": 6,
    "start_time": "2023-06-08T13:34:37.019Z"
   },
   {
    "duration": 23,
    "start_time": "2023-06-08T13:34:37.028Z"
   },
   {
    "duration": 6,
    "start_time": "2023-06-08T13:34:37.054Z"
   },
   {
    "duration": 6,
    "start_time": "2023-06-08T13:34:37.061Z"
   },
   {
    "duration": 18,
    "start_time": "2023-06-08T13:34:37.069Z"
   },
   {
    "duration": 4,
    "start_time": "2023-06-08T13:34:37.089Z"
   },
   {
    "duration": 265,
    "start_time": "2023-06-08T13:34:37.095Z"
   },
   {
    "duration": 219,
    "start_time": "2023-06-08T13:34:37.362Z"
   },
   {
    "duration": 15,
    "start_time": "2023-06-08T13:34:37.583Z"
   },
   {
    "duration": 15,
    "start_time": "2023-06-08T13:34:37.599Z"
   },
   {
    "duration": 14,
    "start_time": "2023-06-08T13:34:37.615Z"
   },
   {
    "duration": 15,
    "start_time": "2023-06-08T13:34:37.650Z"
   },
   {
    "duration": 14,
    "start_time": "2023-06-08T13:34:37.666Z"
   },
   {
    "duration": 383,
    "start_time": "2023-06-08T13:34:37.681Z"
   },
   {
    "duration": 15,
    "start_time": "2023-06-08T13:34:38.065Z"
   },
   {
    "duration": 14,
    "start_time": "2023-06-08T13:34:38.082Z"
   },
   {
    "duration": 372,
    "start_time": "2023-06-08T13:34:38.097Z"
   },
   {
    "duration": 373,
    "start_time": "2023-06-08T13:34:38.471Z"
   },
   {
    "duration": 280,
    "start_time": "2023-06-08T13:34:38.846Z"
   },
   {
    "duration": 282,
    "start_time": "2023-06-08T13:34:39.128Z"
   },
   {
    "duration": 202,
    "start_time": "2023-06-08T13:34:39.412Z"
   },
   {
    "duration": 217,
    "start_time": "2023-06-08T13:34:39.616Z"
   },
   {
    "duration": 211,
    "start_time": "2023-06-08T13:34:39.835Z"
   },
   {
    "duration": 226,
    "start_time": "2023-06-08T13:34:40.047Z"
   },
   {
    "duration": 325,
    "start_time": "2023-06-08T13:34:40.274Z"
   },
   {
    "duration": 14,
    "start_time": "2023-06-08T13:34:40.600Z"
   },
   {
    "duration": 489,
    "start_time": "2023-06-08T13:34:40.615Z"
   },
   {
    "duration": 399,
    "start_time": "2023-06-08T13:34:41.106Z"
   },
   {
    "duration": 387,
    "start_time": "2023-06-08T13:34:41.508Z"
   },
   {
    "duration": 11,
    "start_time": "2023-06-08T13:34:41.897Z"
   },
   {
    "duration": 10,
    "start_time": "2023-06-08T13:34:41.909Z"
   }
  ],
  "colab": {
   "collapsed_sections": [],
   "provenance": [],
   "toc_visible": true
  },
  "kernelspec": {
   "display_name": "Python 3 (ipykernel)",
   "language": "python",
   "name": "python3"
  },
  "language_info": {
   "codemirror_mode": {
    "name": "ipython",
    "version": 3
   },
   "file_extension": ".py",
   "mimetype": "text/x-python",
   "name": "python",
   "nbconvert_exporter": "python",
   "pygments_lexer": "ipython3",
   "version": "3.9.5"
  },
  "toc": {
   "base_numbering": 1,
   "nav_menu": {},
   "number_sections": true,
   "sideBar": true,
   "skip_h1_title": true,
   "title_cell": "Table of Contents",
   "title_sidebar": "Contents",
   "toc_cell": false,
   "toc_position": {
    "height": "491.094px",
    "left": "27px",
    "top": "135.441px",
    "width": "349.406px"
   },
   "toc_section_display": true,
   "toc_window_display": true
  }
 },
 "nbformat": 4,
 "nbformat_minor": 1
}
